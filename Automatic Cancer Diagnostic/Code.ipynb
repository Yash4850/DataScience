{
 "cells": [
  {
   "cell_type": "code",
   "execution_count": 1,
   "metadata": {},
   "outputs": [],
   "source": [
    "# Importing libraries\n",
    "from collections import Counter \n",
    "import random\n",
    "import math\n",
    "from csv import reader\n",
    "import statistics"
   ]
  },
  {
   "cell_type": "code",
   "execution_count": 2,
   "metadata": {},
   "outputs": [],
   "source": [
    "def load_from_csv(file_name):\n",
    "    \"\"\"\n",
    "    The csv module from the standard library is used to easily import the data from the csv file provided.\n",
    "    A context manager is used to handle opening and closing the file.\n",
    "    The values are converted to floating points before they are added to the matrix.\n",
    "    \"\"\"\n",
    "    matrix = []\n",
    "    try:\n",
    "        with open(file_name, \"r\") as csvfile:\n",
    "            csvreader = reader(csvfile, delimiter=\",\")\n",
    "            for row in csvreader:\n",
    "                newline = [float(x) for x in row]\n",
    "                matrix.append(newline)\n",
    "        return matrix\n",
    "    except FileNotFoundError:\n",
    "        import sys\n",
    "        print(\"File not found in current directory\")\n",
    "        sys.exit()"
   ]
  },
  {
   "cell_type": "code",
   "execution_count": 3,
   "metadata": {},
   "outputs": [],
   "source": [
    "def get_distance(a, b):\n",
    "    \"\"\"\n",
    "    The Euclidean distance is used to calculate the distance between two lists, a and b.\n",
    "    The two lists are zipped together to easily access elements from both of them.\n",
    "    \"\"\"\n",
    "    euclidean_distance = 0\n",
    "    euclidean_distance = math.sqrt(sum([(a - b) ** 2 for a, b in zip(a, b)]))\n",
    "    return euclidean_distance"
   ]
  },
  {
   "cell_type": "code",
   "execution_count": 4,
   "metadata": {},
   "outputs": [],
   "source": [
    "def get_column(matrix, col_number):\n",
    "    \"\"\"\n",
    "    Loops over the matrix selects elements of the same column and returns all of them in a list.\n",
    "    \"\"\"\n",
    "    col_list = []\n",
    "    for row in matrix:\n",
    "        col_list.append(row[col_number])\n",
    "    return col_list"
   ]
  },
  {
   "cell_type": "code",
   "execution_count": 5,
   "metadata": {},
   "outputs": [],
   "source": [
    "def get_standard_deviation(matrix, col_number):\n",
    "    \"\"\"\n",
    "    Uses get_column to retrieve a specified column from the matrix and then returns the standard deviation of that column.\n",
    "    \"\"\"\n",
    "    return statistics.stdev(get_column(matrix, col_number))"
   ]
  },
  {
   "cell_type": "code",
   "execution_count": 6,
   "metadata": {},
   "outputs": [],
   "source": [
    "def get_standardised_matrix(matrix):\n",
    "    \"\"\"\n",
    "    The standardisation formula is used to create a new matrix of range scaled data\n",
    "    For reference,\n",
    "    𝑚𝑎𝑡𝑟𝑖𝑥(𝑥, 𝑦) = 𝑚𝑎𝑡𝑟𝑖𝑥(𝑥, 𝑦) − 𝑎𝑣𝑔(𝑚𝑎𝑡𝑟𝑖𝑥(: , 𝑦)) / 𝑠𝑡𝑑(𝑚𝑎𝑡𝑟𝑖𝑥(: , 𝑦))\n",
    "    \"\"\"\n",
    "    standardised_matrix = []\n",
    "    avg_of_col, std_of_col = [], []\n",
    "    cols = range(len(matrix[0]))\n",
    "    for i in cols:\n",
    "        col_list = get_column(matrix, i)\n",
    "        avg_of_col.append(sum(col_list, 0.0) / len(col_list))\n",
    "        std_of_col.append(get_standard_deviation(matrix, i))\n",
    "    for lst in matrix:\n",
    "        standardised_list = []\n",
    "        for i, element in enumerate(lst):\n",
    "            standardised_element = (element - avg_of_col[i]) / std_of_col[i]\n",
    "            standardised_list.append(standardised_element)\n",
    "        standardised_matrix.append(standardised_list)\n",
    "    return standardised_matrix"
   ]
  },
  {
   "cell_type": "code",
   "execution_count": 7,
   "metadata": {},
   "outputs": [],
   "source": [
    "def get_k_nearest_labels(List,Learning_Data,Learning_Data_Labels,k):\n",
    "    \"\"\" Function finds the k rows of the Learning_Data that are the closest to the list passed as a parameter.\n",
    "        It uses the get_distance function to do it. \n",
    "        After finding these k rows, it finds and return the related rows in the Learning_Data_Labels\"\"\"\n",
    "    distances = list()\n",
    "    for row in Learning_Data:\n",
    "        dist = get_distance(List, row)\n",
    "        distances.append((row, dist))\n",
    "    distances.sort(key=lambda lis: lis[1])\n",
    "    indexes = []\n",
    "    for i in range(k): \n",
    "        for index,value in enumerate(Learning_Data):\n",
    "            if (value == distances[i][0]) & (len(indexes)<k):\n",
    "                indexes.append(index)\n",
    "    #Getting Learning_Data_Labels k rows \n",
    "    neighbors = list()\n",
    "    for i in indexes:\n",
    "        neighbors.append(Learning_Data_Labels[i])\n",
    "    return neighbors"
   ]
  },
  {
   "cell_type": "code",
   "execution_count": 8,
   "metadata": {},
   "outputs": [],
   "source": [
    "def flatten(L):\n",
    "    \"\"\"\n",
    "    Flattens the matrix\n",
    "    \"\"\"\n",
    "    Flatten = []\n",
    "    for sublist in L:\n",
    "        for item in sublist:\n",
    "            Flatten.append(item)\n",
    "    return Flatten"
   ]
  },
  {
   "cell_type": "code",
   "execution_count": 9,
   "metadata": {},
   "outputs": [],
   "source": [
    "# takes input from k nearest labels\n",
    "def get_mode(k_nearest_labels):\n",
    "    \"\"\"\n",
    "    the mode of the matrix is returned in this function\n",
    "    \"\"\"\n",
    "    # flattening the matrix\n",
    "    n_num = list(flatten(k_nearest_labels))\n",
    "    n = len(n_num) \n",
    "    data = Counter(n_num) \n",
    "    get_mode = dict(data)\n",
    "    # finding mode\n",
    "    mode = [k for k, v in get_mode.items() if v == max(list(data.values()))] \n",
    "    try:\n",
    "        if len(mode) == 1:\n",
    "            mode_knl = mode\n",
    "        else: \n",
    "            # chooses randomly\n",
    "            mode_knl = random.choice(mode)\n",
    "    except:\n",
    "        print(\"Empty list, cannot find mode\")\n",
    "    return mode_knl"
   ]
  },
  {
   "cell_type": "code",
   "execution_count": 10,
   "metadata": {},
   "outputs": [],
   "source": [
    "def classify(data,Learning_Data,Learning_Data_Labels,k):\n",
    "    \"\"\"\n",
    "    This function follows the algorithm given in the assignment, \n",
    "    classifies the data and gives the matrix_data_labels as output\n",
    "    \"\"\"\n",
    "    matrix_data_labels = list()\n",
    "    for index,row_x in enumerate(data):\n",
    "        # step 2a & 2b\n",
    "        k_nearest_labels = get_k_nearest_labels(row_x,Learning_Data ,Learning_Data_Labels,k)\n",
    "        # step 2c\n",
    "        mode = get_mode(k_nearest_labels)\n",
    "        # step 2d\n",
    "        matrix_data_labels.append(mode)\n",
    "    return matrix_data_labels"
   ]
  },
  {
   "cell_type": "code",
   "execution_count": 11,
   "metadata": {},
   "outputs": [],
   "source": [
    "# matrix_data_labels is output of clf \n",
    "def get_accuracy(Correct_Data_Labels, matrix_Data_Labels):\n",
    "    \"\"\"\n",
    "    This function calculates and returns the percentage of accuracy\n",
    "    \"\"\"\n",
    "    correct = 0\n",
    "    for i in range(len(Correct_Data_Labels)):\n",
    "        if Correct_Data_Labels[i] == matrix_Data_Labels[i]:\n",
    "            correct += 1\n",
    "    return correct / float(len(Correct_Data_Labels)) * 100.0"
   ]
  },
  {
   "cell_type": "code",
   "execution_count": 12,
   "metadata": {},
   "outputs": [],
   "source": [
    "def run_test():\n",
    "    \"\"\"\n",
    "    Running a series of tests of k ranging from 3 to 15\n",
    "    \"\"\"\n",
    "    # Loading csv files\n",
    "    data = load_from_csv('Data.csv')\n",
    "    Learning_Data = load_from_csv('Learning_Data.csv')\n",
    "    Learning_Data_Labels = load_from_csv('Learning_Data_Labels.csv')\n",
    "    Correct_Data_Labels = load_from_csv('Correct_Data_Labels.csv')\n",
    "    # Standardizing the data\n",
    "    standardised_data = get_standardised_matrix(data)\n",
    "    standardised_Learning_Data = get_standardised_matrix(Learning_Data)\n",
    "    for k in range(3, 16, 1):\n",
    "        # Classifying the data\n",
    "        clf = classify(standardised_data,standardised_Learning_Data,Learning_Data_Labels,k)\n",
    "        # Finding accuracy\n",
    "        accuracy = get_accuracy(Correct_Data_Labels, clf)\n",
    "        print('k = ',k,'Accuracy = ',accuracy )  "
   ]
  },
  {
   "cell_type": "code",
   "execution_count": 13,
   "metadata": {},
   "outputs": [
    {
     "name": "stdout",
     "output_type": "stream",
     "text": [
      "k =  3 Accuracy =  95.0\n",
      "k =  4 Accuracy =  93.57142857142857\n",
      "k =  5 Accuracy =  95.71428571428572\n",
      "k =  6 Accuracy =  94.28571428571428\n",
      "k =  7 Accuracy =  94.28571428571428\n",
      "k =  8 Accuracy =  94.28571428571428\n",
      "k =  9 Accuracy =  95.71428571428572\n",
      "k =  10 Accuracy =  95.71428571428572\n",
      "k =  11 Accuracy =  95.71428571428572\n",
      "k =  12 Accuracy =  95.71428571428572\n",
      "k =  13 Accuracy =  95.71428571428572\n",
      "k =  14 Accuracy =  95.0\n",
      "k =  15 Accuracy =  95.0\n",
      "\n",
      "Time taken: 12.1358228\n"
     ]
    }
   ],
   "source": [
    "if __name__ == \"__main__\":\n",
    "    from timeit import default_timer\n",
    "    start = default_timer()\n",
    "    run_test()\n",
    "    end = default_timer()\n",
    "    print(f\"\\nTime taken: {end-start}\")"
   ]
  }
 ],
 "metadata": {
  "kernelspec": {
   "display_name": "Python 3",
   "language": "python",
   "name": "python3"
  },
  "language_info": {
   "codemirror_mode": {
    "name": "ipython",
    "version": 3
   },
   "file_extension": ".py",
   "mimetype": "text/x-python",
   "name": "python",
   "nbconvert_exporter": "python",
   "pygments_lexer": "ipython3",
   "version": "3.8.5"
  }
 },
 "nbformat": 4,
 "nbformat_minor": 4
}
