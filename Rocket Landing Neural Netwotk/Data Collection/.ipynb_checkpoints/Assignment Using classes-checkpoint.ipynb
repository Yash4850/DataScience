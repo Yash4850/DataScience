{
 "cells": [
  {
   "cell_type": "code",
   "execution_count": 1,
   "metadata": {},
   "outputs": [],
   "source": [
    "#Importing the required libraries\n",
    "import pandas as pd   \n",
    "import numpy as np    #for matrix multiplications during forward and backward propagations\n",
    "import matplotlib.pyplot as plt #for plotting the error plot\n",
    "from sklearn.model_selection import train_test_split #for splitting the data into train and test\n",
    "import math #for divisions\n",
    "from sklearn.metrics import mean_squared_error \n",
    "from math import sqrt \n",
    "import seaborn as sns\n",
    "from sklearn.metrics import classification_report,confusion_matrix"
   ]
  },
  {
   "cell_type": "code",
   "execution_count": 2,
   "metadata": {
    "scrolled": true
   },
   "outputs": [
    {
     "name": "stdout",
     "output_type": "stream",
     "text": [
      "           0      1    2     3\n",
      "0  493.34345  287.9  0.0  0.00\n",
      "1  493.34345  287.9 -0.1  0.04\n",
      "2  493.30345  288.0 -0.2  0.00\n",
      "3  493.30345  288.2 -0.3  0.04\n",
      "4  493.26345  288.5 -0.4  0.00\n"
     ]
    }
   ],
   "source": [
    "#reading the data file\n",
    "df = pd.read_csv('ce889_dataCollection.csv',header = None)\n",
    "print(df.head())"
   ]
  },
  {
   "cell_type": "code",
   "execution_count": 3,
   "metadata": {},
   "outputs": [],
   "source": [
    "#for dropping the duplicates\n",
    "df.drop_duplicates(inplace = True) "
   ]
  },
  {
   "cell_type": "code",
   "execution_count": 4,
   "metadata": {},
   "outputs": [
    {
     "data": {
      "text/plain": [
       "0    0\n",
       "1    0\n",
       "2    0\n",
       "3    0\n",
       "dtype: int64"
      ]
     },
     "execution_count": 4,
     "metadata": {},
     "output_type": "execute_result"
    }
   ],
   "source": [
    "#checking for null values\n",
    "df.isnull().sum()"
   ]
  },
  {
   "cell_type": "code",
   "execution_count": 5,
   "metadata": {},
   "outputs": [
    {
     "name": "stdout",
     "output_type": "stream",
     "text": [
      "   X distance to target  Y distance to target  New Vel Y  New Vel X\n",
      "0             493.34345                 287.9        0.0       0.00\n",
      "1             493.34345                 287.9       -0.1       0.04\n",
      "2             493.30345                 288.0       -0.2       0.00\n",
      "3             493.30345                 288.2       -0.3       0.04\n",
      "4             493.26345                 288.5       -0.4       0.00\n"
     ]
    }
   ],
   "source": [
    "## Giving column names\n",
    "df.columns = [\"X distance to target\",\"Y distance to target\",\"New Vel Y\",\"New Vel X\"]\n",
    "print(df.head())"
   ]
  },
  {
   "cell_type": "code",
   "execution_count": 6,
   "metadata": {},
   "outputs": [
    {
     "name": "stdout",
     "output_type": "stream",
     "text": [
      "       X distance to target  Y distance to target     New Vel Y     New Vel X\n",
      "count          17254.000000          17254.000000  17254.000000  17254.000000\n",
      "mean              23.420958            320.133267      0.519114     -0.075602\n",
      "std              155.903781            125.823172      1.874127      1.470016\n",
      "min             -517.892476             65.032241     -4.473943     -6.572680\n",
      "25%               -7.265261            233.460911     -0.835925     -0.036524\n",
      "50%               29.747344            319.199101      0.619805      0.008751\n",
      "75%               69.402732            411.407630      1.915445      0.215738\n",
      "max              515.030469            664.856835      5.741186      4.624146\n"
     ]
    }
   ],
   "source": [
    "print(df.describe())"
   ]
  },
  {
   "cell_type": "code",
   "execution_count": 7,
   "metadata": {},
   "outputs": [
    {
     "data": {
      "text/html": [
       "<div>\n",
       "<style scoped>\n",
       "    .dataframe tbody tr th:only-of-type {\n",
       "        vertical-align: middle;\n",
       "    }\n",
       "\n",
       "    .dataframe tbody tr th {\n",
       "        vertical-align: top;\n",
       "    }\n",
       "\n",
       "    .dataframe thead th {\n",
       "        text-align: right;\n",
       "    }\n",
       "</style>\n",
       "<table border=\"1\" class=\"dataframe\">\n",
       "  <thead>\n",
       "    <tr style=\"text-align: right;\">\n",
       "      <th></th>\n",
       "      <th>New Vel Y</th>\n",
       "      <th>New Vel X</th>\n",
       "    </tr>\n",
       "  </thead>\n",
       "  <tbody>\n",
       "    <tr>\n",
       "      <th>0</th>\n",
       "      <td>0.0</td>\n",
       "      <td>0.00</td>\n",
       "    </tr>\n",
       "    <tr>\n",
       "      <th>1</th>\n",
       "      <td>-0.1</td>\n",
       "      <td>0.04</td>\n",
       "    </tr>\n",
       "    <tr>\n",
       "      <th>2</th>\n",
       "      <td>-0.2</td>\n",
       "      <td>0.00</td>\n",
       "    </tr>\n",
       "    <tr>\n",
       "      <th>3</th>\n",
       "      <td>-0.3</td>\n",
       "      <td>0.04</td>\n",
       "    </tr>\n",
       "    <tr>\n",
       "      <th>4</th>\n",
       "      <td>-0.4</td>\n",
       "      <td>0.00</td>\n",
       "    </tr>\n",
       "  </tbody>\n",
       "</table>\n",
       "</div>"
      ],
      "text/plain": [
       "   New Vel Y  New Vel X\n",
       "0        0.0       0.00\n",
       "1       -0.1       0.04\n",
       "2       -0.2       0.00\n",
       "3       -0.3       0.04\n",
       "4       -0.4       0.00"
      ]
     },
     "execution_count": 7,
     "metadata": {},
     "output_type": "execute_result"
    }
   ],
   "source": [
    "target = df.drop(columns = [\"X distance to target\",\"Y distance to target\"], axis = 1)\n",
    "target.head()"
   ]
  },
  {
   "cell_type": "code",
   "execution_count": 8,
   "metadata": {
    "scrolled": true
   },
   "outputs": [
    {
     "data": {
      "text/html": [
       "<div>\n",
       "<style scoped>\n",
       "    .dataframe tbody tr th:only-of-type {\n",
       "        vertical-align: middle;\n",
       "    }\n",
       "\n",
       "    .dataframe tbody tr th {\n",
       "        vertical-align: top;\n",
       "    }\n",
       "\n",
       "    .dataframe thead th {\n",
       "        text-align: right;\n",
       "    }\n",
       "</style>\n",
       "<table border=\"1\" class=\"dataframe\">\n",
       "  <thead>\n",
       "    <tr style=\"text-align: right;\">\n",
       "      <th></th>\n",
       "      <th>X distance to target</th>\n",
       "      <th>Y distance to target</th>\n",
       "      <th>New Vel Y</th>\n",
       "      <th>New Vel X</th>\n",
       "    </tr>\n",
       "  </thead>\n",
       "  <tbody>\n",
       "    <tr>\n",
       "      <th>0</th>\n",
       "      <td>0.979004</td>\n",
       "      <td>0.371555</td>\n",
       "      <td>0.437972</td>\n",
       "      <td>0.587013</td>\n",
       "    </tr>\n",
       "    <tr>\n",
       "      <th>1</th>\n",
       "      <td>0.979004</td>\n",
       "      <td>0.371555</td>\n",
       "      <td>0.428183</td>\n",
       "      <td>0.590585</td>\n",
       "    </tr>\n",
       "    <tr>\n",
       "      <th>2</th>\n",
       "      <td>0.978965</td>\n",
       "      <td>0.371722</td>\n",
       "      <td>0.418393</td>\n",
       "      <td>0.587013</td>\n",
       "    </tr>\n",
       "    <tr>\n",
       "      <th>3</th>\n",
       "      <td>0.978965</td>\n",
       "      <td>0.372055</td>\n",
       "      <td>0.408604</td>\n",
       "      <td>0.590585</td>\n",
       "    </tr>\n",
       "    <tr>\n",
       "      <th>4</th>\n",
       "      <td>0.978927</td>\n",
       "      <td>0.372555</td>\n",
       "      <td>0.398815</td>\n",
       "      <td>0.587013</td>\n",
       "    </tr>\n",
       "  </tbody>\n",
       "</table>\n",
       "</div>"
      ],
      "text/plain": [
       "   X distance to target  Y distance to target  New Vel Y  New Vel X\n",
       "0              0.979004              0.371555   0.437972   0.587013\n",
       "1              0.979004              0.371555   0.428183   0.590585\n",
       "2              0.978965              0.371722   0.418393   0.587013\n",
       "3              0.978965              0.372055   0.408604   0.590585\n",
       "4              0.978927              0.372555   0.398815   0.587013"
      ]
     },
     "execution_count": 8,
     "metadata": {},
     "output_type": "execute_result"
    }
   ],
   "source": [
    "#normalization\n",
    "data_min = df.min()\n",
    "data_max = df.max()\n",
    "normalizeddata = (df - df.min()) / (df.max() - df.min())\n",
    "normalizeddata.head()"
   ]
  },
  {
   "cell_type": "code",
   "execution_count": 9,
   "metadata": {
    "scrolled": true
   },
   "outputs": [
    {
     "data": {
      "text/html": [
       "<div>\n",
       "<style scoped>\n",
       "    .dataframe tbody tr th:only-of-type {\n",
       "        vertical-align: middle;\n",
       "    }\n",
       "\n",
       "    .dataframe tbody tr th {\n",
       "        vertical-align: top;\n",
       "    }\n",
       "\n",
       "    .dataframe thead th {\n",
       "        text-align: right;\n",
       "    }\n",
       "</style>\n",
       "<table border=\"1\" class=\"dataframe\">\n",
       "  <thead>\n",
       "    <tr style=\"text-align: right;\">\n",
       "      <th></th>\n",
       "      <th>X distance to target</th>\n",
       "      <th>Y distance to target</th>\n",
       "      <th>New Vel Y</th>\n",
       "      <th>New Vel X</th>\n",
       "    </tr>\n",
       "  </thead>\n",
       "  <tbody>\n",
       "    <tr>\n",
       "      <th>count</th>\n",
       "      <td>17254.000000</td>\n",
       "      <td>17254.000000</td>\n",
       "      <td>17254.000000</td>\n",
       "      <td>17254.000000</td>\n",
       "    </tr>\n",
       "    <tr>\n",
       "      <th>mean</th>\n",
       "      <td>0.524060</td>\n",
       "      <td>0.425293</td>\n",
       "      <td>0.488790</td>\n",
       "      <td>0.580261</td>\n",
       "    </tr>\n",
       "    <tr>\n",
       "      <th>std</th>\n",
       "      <td>0.150935</td>\n",
       "      <td>0.209767</td>\n",
       "      <td>0.183466</td>\n",
       "      <td>0.131289</td>\n",
       "    </tr>\n",
       "    <tr>\n",
       "      <th>min</th>\n",
       "      <td>0.000000</td>\n",
       "      <td>0.000000</td>\n",
       "      <td>0.000000</td>\n",
       "      <td>0.000000</td>\n",
       "    </tr>\n",
       "    <tr>\n",
       "      <th>25%</th>\n",
       "      <td>0.494352</td>\n",
       "      <td>0.280797</td>\n",
       "      <td>0.356140</td>\n",
       "      <td>0.583751</td>\n",
       "    </tr>\n",
       "    <tr>\n",
       "      <th>50%</th>\n",
       "      <td>0.530185</td>\n",
       "      <td>0.423735</td>\n",
       "      <td>0.498647</td>\n",
       "      <td>0.587794</td>\n",
       "    </tr>\n",
       "    <tr>\n",
       "      <th>75%</th>\n",
       "      <td>0.568576</td>\n",
       "      <td>0.577461</td>\n",
       "      <td>0.625483</td>\n",
       "      <td>0.606281</td>\n",
       "    </tr>\n",
       "    <tr>\n",
       "      <th>max</th>\n",
       "      <td>1.000000</td>\n",
       "      <td>1.000000</td>\n",
       "      <td>1.000000</td>\n",
       "      <td>1.000000</td>\n",
       "    </tr>\n",
       "  </tbody>\n",
       "</table>\n",
       "</div>"
      ],
      "text/plain": [
       "       X distance to target  Y distance to target     New Vel Y     New Vel X\n",
       "count          17254.000000          17254.000000  17254.000000  17254.000000\n",
       "mean               0.524060              0.425293      0.488790      0.580261\n",
       "std                0.150935              0.209767      0.183466      0.131289\n",
       "min                0.000000              0.000000      0.000000      0.000000\n",
       "25%                0.494352              0.280797      0.356140      0.583751\n",
       "50%                0.530185              0.423735      0.498647      0.587794\n",
       "75%                0.568576              0.577461      0.625483      0.606281\n",
       "max                1.000000              1.000000      1.000000      1.000000"
      ]
     },
     "execution_count": 9,
     "metadata": {},
     "output_type": "execute_result"
    }
   ],
   "source": [
    "normalizeddata.describe()"
   ]
  },
  {
   "cell_type": "code",
   "execution_count": 10,
   "metadata": {},
   "outputs": [
    {
     "name": "stdout",
     "output_type": "stream",
     "text": [
      "(13803, 4)\n",
      "(3451, 4)\n"
     ]
    }
   ],
   "source": [
    "#spliting data\n",
    "training , testing= train_test_split(normalizeddata, test_size = 0.2)\n",
    "print(training.shape)\n",
    "print(testing.shape)"
   ]
  },
  {
   "cell_type": "code",
   "execution_count": 11,
   "metadata": {},
   "outputs": [],
   "source": [
    "#Splitting inputs & outputs for training, validation & testing data\n",
    "x_train_input = np.array(training[[\"X distance to target\",\"Y distance to target\"]]).T\n",
    "y_train_output = np.array(training[[\"New Vel Y\",\"New Vel X\"]]).T\n",
    "\n",
    "x_testing_input = np.array(testing[[\"X distance to target\",\"Y distance to target\"]]).T\n",
    "y_testing_output = np.array(testing[[\"New Vel Y\",\"New Vel X\"]]).T"
   ]
  },
  {
   "cell_type": "code",
   "execution_count": 12,
   "metadata": {},
   "outputs": [
    {
     "name": "stdout",
     "output_type": "stream",
     "text": [
      "Null values 0    0\n",
      "1    0\n",
      "2    0\n",
      "3    0\n",
      "dtype: int64\n",
      "Data    X distance to target  Y distance to target  New Vel Y  New Vel X\n",
      "0             493.34345                 287.9        0.0       0.00\n",
      "1             493.34345                 287.9       -0.1       0.04\n",
      "2             493.30345                 288.0       -0.2       0.00\n",
      "3             493.30345                 288.2       -0.3       0.04\n",
      "4             493.26345                 288.5       -0.4       0.00\n",
      "Data Description        X distance to target  Y distance to target     New Vel Y     New Vel X\n",
      "count          17254.000000          17254.000000  17254.000000  17254.000000\n",
      "mean              23.420958            320.133267      0.519114     -0.075602\n",
      "std              155.903781            125.823172      1.874127      1.470016\n",
      "min             -517.892476             65.032241     -4.473943     -6.572680\n",
      "25%               -7.265261            233.460911     -0.835925     -0.036524\n",
      "50%               29.747344            319.199101      0.619805      0.008751\n",
      "75%               69.402732            411.407630      1.915445      0.215738\n",
      "max              515.030469            664.856835      5.741186      4.624146\n",
      "   New Vel Y  New Vel X\n",
      "0        0.0       0.00\n",
      "1       -0.1       0.04\n",
      "2       -0.2       0.00\n",
      "3       -0.3       0.04\n",
      "4       -0.4       0.00\n",
      "Normalized Data    X distance to target  Y distance to target  New Vel Y  New Vel X\n",
      "0              0.979004              0.371555   0.437972   0.587013\n",
      "1              0.979004              0.371555   0.428183   0.590585\n",
      "2              0.978965              0.371722   0.418393   0.587013\n",
      "3              0.978965              0.372055   0.408604   0.590585\n",
      "4              0.978927              0.372555   0.398815   0.587013\n",
      "Shape of Training Data (13803, 4)\n",
      "Shape of Testing Data (3451, 4)\n"
     ]
    }
   ],
   "source": [
    "class Preprocessing:\n",
    "    df = pd.read_csv('ce889_dataCollection.csv',header = None)\n",
    "    #for dropping the duplicates\n",
    "    df.drop_duplicates(inplace = True)\n",
    "    #checking for null values\n",
    "    print(\"Null values\", df.isnull().sum())\n",
    "    # Giving column names\n",
    "    df.columns = [\"X distance to target\",\"Y distance to target\",\"New Vel Y\",\"New Vel X\"]\n",
    "    print(\"Data\", df.head())\n",
    "    print(\"Data Description\", df.describe())\n",
    "    #Selecting Target columns\n",
    "    target = df.drop(columns = [\"X distance to target\",\"Y distance to target\"], axis = 1)\n",
    "    print(target.head())\n",
    "    #normalization\n",
    "    data_min = df.min()\n",
    "    data_max = df.max()\n",
    "    normalizeddata = (df - df.min()) / (df.max() - df.min())\n",
    "    print(\"Normalized Data\", normalizeddata.head())\n",
    "    #spliting data\n",
    "    training , testing= train_test_split(normalizeddata, test_size = 0.2)\n",
    "    print(\"Shape of Training Data\", training.shape)\n",
    "    print(\"Shape of Testing Data\", testing.shape)\n",
    "    #Splitting inputs & outputs for training, validation & testing data\n",
    "    x_train_input = np.array(training[[\"X distance to target\",\"Y distance to target\"]]).T\n",
    "    y_train_output = np.array(training[[\"New Vel Y\",\"New Vel X\"]]).T\n",
    "\n",
    "    x_testing_input = np.array(testing[[\"X distance to target\",\"Y distance to target\"]]).T\n",
    "    y_testing_output = np.array(testing[[\"New Vel Y\",\"New Vel X\"]]).T"
   ]
  },
  {
   "cell_type": "code",
   "execution_count": 13,
   "metadata": {},
   "outputs": [],
   "source": [
    "#Defining Sigmoid Function\n",
    "class Sig:\n",
    "    def sigmoid(x):  \n",
    "        return 1/(1+np.exp(-x*0.01))\n",
    "    def sigmoid_derivative(x):  \n",
    "        return x*(1-x)"
   ]
  },
  {
   "cell_type": "code",
   "execution_count": 14,
   "metadata": {},
   "outputs": [],
   "source": [
    "#Forward Propagation\n",
    "class FP:\n",
    "    def fwd_propagation(x_fwd_input, model):    \n",
    "        Weight_hidden, bias_hidden, Weight_output, bias_output = model['w1'], model['b1'], model['w2'], model['b2']\n",
    "        z1 = np.dot(Weight_hidden, x_fwd_input) +bias_hidden\n",
    "        a1 = Sig.sigmoid(z1)     #activation layer\n",
    "        z2 = np.dot(Weight_output, a1) + bias_output\n",
    "        a2 = Sig.sigmoid(z2)\n",
    "        return(a2)  "
   ]
  },
  {
   "cell_type": "code",
   "execution_count": 15,
   "metadata": {},
   "outputs": [],
   "source": [
    "#calculating loss\n",
    "class Loss:\n",
    "    def calculate_loss(model, x_trainloss, y_trainloss):\n",
    "       #calling model prediction\n",
    "        Weight_hidden, bias_hidden, Weight_output, bias_output = model['w1'], model['b1'], model['w2'], model['b2']\n",
    "        z1 = np.dot(Weight_hidden, x_trainloss) +bias_hidden\n",
    "        a1 = Sig.sigmoid(z1)  #activation layer\n",
    "        z2 = np.dot(Weight_output, a1) + bias_output\n",
    "        a2 = Sig.sigmoid(z2) \n",
    "        rmserror = np.mean(np.square(y_trainloss - a2))\n",
    "        z2 = np.dot(Weight_output, a1) + bias_output\n",
    "        a2 = Sig.sigmoid(z2)\n",
    "        return rmserror"
   ]
  },
  {
   "cell_type": "code",
   "execution_count": 16,
   "metadata": {},
   "outputs": [],
   "source": [
    "#Backward Propagation\n",
    "class BP:\n",
    "    \n",
    "    def back_propagation(model,x_train_input, a2, error, r_lambda, l_rate, epsilon):\n",
    "        Weight_hidden, bias_hidden, Weight_output, bias_output, dWeight_hidden_old, dWeight_output_old = model['w1'], model['b1'], model['w2'], model['b2'], model['dw1_old'], model['dw2_old']\n",
    "    \n",
    "        delta2 = r_lambda *(error * Sig.sigmoid_derivative(a2))\n",
    "        a1 = Sig.sigmoid(np.dot(Weight_hidden, x_train_input) +bias_hidden)  \n",
    "        delta1 = r_lambda * np.dot(Weight_output.T, delta2)*Sig.sigmoid_derivative(a1)\n",
    "      \n",
    "        dWeight_output = np.dot(delta2, a1.T)\n",
    "        dWeight_hidden = np.dot(delta1, x_train_input.T)\n",
    "        dbias_output = np.sum(delta2, axis=1, keepdims=True)\n",
    "        dbias_hidden = np.sum(delta1, axis=1, keepdims=True)\n",
    "    \n",
    "    \n",
    "        \n",
    "        # update the weights with the derivative (slope) of the loss function\n",
    "        Weight_hidden += l_rate*dWeight_hidden + epsilon * dWeight_hidden_old\n",
    "        Weight_output += l_rate*dWeight_output + epsilon * dWeight_output_old\n",
    "        bias_hidden += l_rate*dbias_hidden\n",
    "        bias_output += l_rate*dbias_output\n",
    "        # Assign new parameters to the model\n",
    "        model = { 'w1': Weight_hidden, 'b1': bias_hidden, 'w2': Weight_output, 'b2': bias_output, \"dw1_old\":dWeight_hidden, \"dw2_old\": dWeight_output}\n",
    "        return model"
   ]
  },
  {
   "cell_type": "code",
   "execution_count": 17,
   "metadata": {},
   "outputs": [],
   "source": [
    "class Build_Model:\n",
    "    \n",
    "    #Building Model\n",
    "    def build_model(x_train_input, y_train_output,n_hidden, r_lambda, l_rate, epsilon, epochs):\n",
    "    \n",
    "        #initialize parameters to random values\n",
    "        Weight_hidden = np.random.rand(n_hidden,2) \n",
    "        bias_hidden = np.zeros((n_hidden,1))\n",
    "        Weight_output = np.random.rand(2,n_hidden) \n",
    "        bias_output = np.zeros((2,1))\n",
    "    \n",
    "        #gradient momentum initilizations\n",
    "        dWeight_hidden_old = np.zeros((n_hidden,2))\n",
    "        dWeight_output_old = np.zeros((2,n_hidden))\n",
    "    \n",
    "        #Declaring dictonary for storing parameters for later use\n",
    "        model = {}\n",
    "    \n",
    "        # Assign new parameters to the model\n",
    "        model = { 'w1': Weight_hidden,'b1': bias_hidden, 'w2': Weight_output, 'b2': bias_output, \"dw1_old\":dWeight_hidden_old, \"dw2_old\": dWeight_output_old}\n",
    "    \n",
    "        training_loss= []\n",
    "\n",
    "        for i in range(0, epochs):\n",
    "        \n",
    "            #forward propagation\n",
    "            a2 = FP.fwd_propagation(x_train_input, model)\n",
    "            error = 2*(y_train_output - a2)\n",
    "        \n",
    "            #backward propagation\n",
    "            model = BP.back_propagation(model,x_train_input, a2, error, r_lambda, l_rate, epsilon)\n",
    "                \n",
    "            rmserror  = Loss.calculate_loss(model, x_train_input, y_train_output)\n",
    "\n",
    "            training_loss.append(rmserror)\n",
    "        \n",
    "        # Optionally print the loss.\n",
    "        # This is expensive because it uses the whole dataset, so we don't want to do it too often.\n",
    "            if i % 300 == 0:\n",
    "                print(\"Loss after iteration %i: training loss = %f  \" %(i,rmserror))\n",
    "     \n",
    "        return model, training_loss"
   ]
  },
  {
   "cell_type": "code",
   "execution_count": null,
   "metadata": {
    "scrolled": true
   },
   "outputs": [
    {
     "name": "stdout",
     "output_type": "stream",
     "text": [
      "Loss after iteration 0: training loss = 0.028312  \n",
      "Loss after iteration 300: training loss = 0.025316  \n",
      "Loss after iteration 600: training loss = 0.025038  \n",
      "Loss after iteration 900: training loss = 0.023318  \n",
      "Loss after iteration 1200: training loss = 0.022470  \n",
      "Loss after iteration 1500: training loss = 0.021909  \n",
      "Loss after iteration 1800: training loss = 0.021567  \n",
      "Loss after iteration 2100: training loss = 0.021324  \n"
     ]
    }
   ],
   "source": [
    "# Giving the hyperparameters, training the model and finding the loss\n",
    "model, training_loss = Build_Model.build_model(x_train_input, y_train_output,n_hidden= 5, epochs = 10001, epsilon=0.1, r_lambda = 0.1, l_rate=0.01)"
   ]
  },
  {
   "cell_type": "code",
   "execution_count": 19,
   "metadata": {
    "scrolled": true
   },
   "outputs": [
    {
     "data": {
      "text/plain": [
       "array([[ 123.12571038,   14.36589191],\n",
       "       [ 185.12220742,  -76.33027604],\n",
       "       [ 230.16434437, -187.95207366],\n",
       "       [  38.40405941,  197.61687394],\n",
       "       [ 216.66416177, -202.75077842]])"
      ]
     },
     "execution_count": 19,
     "metadata": {},
     "output_type": "execute_result"
    }
   ],
   "source": [
    "model[\"w1\"]"
   ]
  },
  {
   "cell_type": "code",
   "execution_count": 20,
   "metadata": {
    "scrolled": true
   },
   "outputs": [
    {
     "data": {
      "text/plain": [
       "array([[-16.73134253,  11.5341488 ,  51.8497008 , -76.69418073,\n",
       "         56.7478143 ],\n",
       "       [  6.5180449 ,  27.71882004,  40.68543857, -21.26400668,\n",
       "         36.84649014]])"
      ]
     },
     "execution_count": 20,
     "metadata": {},
     "output_type": "execute_result"
    }
   ],
   "source": [
    "model[\"w2\"]"
   ]
  },
  {
   "cell_type": "code",
   "execution_count": 21,
   "metadata": {
    "scrolled": true
   },
   "outputs": [
    {
     "data": {
      "text/plain": [
       "array([[ -6.02149487],\n",
       "       [-10.45356018],\n",
       "       [ -9.8608767 ],\n",
       "       [ -5.34909893],\n",
       "       [ -8.85393202]])"
      ]
     },
     "execution_count": 21,
     "metadata": {},
     "output_type": "execute_result"
    }
   ],
   "source": [
    "model[\"b1\"]"
   ]
  },
  {
   "cell_type": "code",
   "execution_count": 22,
   "metadata": {},
   "outputs": [
    {
     "data": {
      "text/plain": [
       "array([[ -5.8350226 ],\n",
       "       [-16.16828926]])"
      ]
     },
     "execution_count": 22,
     "metadata": {},
     "output_type": "execute_result"
    }
   ],
   "source": [
    "model[\"b2\"]"
   ]
  },
  {
   "cell_type": "code",
   "execution_count": null,
   "metadata": {},
   "outputs": [],
   "source": [
    "def plot_erros(training_loss):\n",
    "    plt.plot(training_loss)\n",
    "    plt.xlabel('number of epochs')\n",
    "    plt.ylabel('loss')\n",
    "    plt.title('loss vs number of epochs')\n",
    "    plt.legend(['training'], loc='upper right')\n",
    "    plt.xlim(0, 10000)\n",
    "    plt.show()\n",
    "plot_erros(training_loss)"
   ]
  },
  {
   "cell_type": "code",
   "execution_count": 24,
   "metadata": {},
   "outputs": [
    {
     "data": {
      "text/html": [
       "<div>\n",
       "<style scoped>\n",
       "    .dataframe tbody tr th:only-of-type {\n",
       "        vertical-align: middle;\n",
       "    }\n",
       "\n",
       "    .dataframe tbody tr th {\n",
       "        vertical-align: top;\n",
       "    }\n",
       "\n",
       "    .dataframe thead th {\n",
       "        text-align: right;\n",
       "    }\n",
       "</style>\n",
       "<table border=\"1\" class=\"dataframe\">\n",
       "  <thead>\n",
       "    <tr style=\"text-align: right;\">\n",
       "      <th></th>\n",
       "      <th>New Vel Y</th>\n",
       "      <th>New Vel X</th>\n",
       "    </tr>\n",
       "  </thead>\n",
       "  <tbody>\n",
       "    <tr>\n",
       "      <th>0</th>\n",
       "      <td>0.448856</td>\n",
       "      <td>0.557196</td>\n",
       "    </tr>\n",
       "    <tr>\n",
       "      <th>1</th>\n",
       "      <td>0.526063</td>\n",
       "      <td>0.602890</td>\n",
       "    </tr>\n",
       "    <tr>\n",
       "      <th>2</th>\n",
       "      <td>0.491304</td>\n",
       "      <td>0.581287</td>\n",
       "    </tr>\n",
       "    <tr>\n",
       "      <th>3</th>\n",
       "      <td>0.489997</td>\n",
       "      <td>0.598437</td>\n",
       "    </tr>\n",
       "    <tr>\n",
       "      <th>4</th>\n",
       "      <td>0.444018</td>\n",
       "      <td>0.557503</td>\n",
       "    </tr>\n",
       "  </tbody>\n",
       "</table>\n",
       "</div>"
      ],
      "text/plain": [
       "   New Vel Y  New Vel X\n",
       "0   0.448856   0.557196\n",
       "1   0.526063   0.602890\n",
       "2   0.491304   0.581287\n",
       "3   0.489997   0.598437\n",
       "4   0.444018   0.557503"
      ]
     },
     "execution_count": 24,
     "metadata": {},
     "output_type": "execute_result"
    }
   ],
   "source": [
    "y_prediction = FP.fwd_propagation(x_testing_input, model)\n",
    "y_prediction_df = pd.DataFrame(y_prediction.T,columns=[\"New Vel Y\",\"New Vel X\"])\n",
    "y_prediction_df.head()"
   ]
  },
  {
   "cell_type": "code",
   "execution_count": 25,
   "metadata": {},
   "outputs": [
    {
     "data": {
      "text/plain": [
       "New Vel Y    0.030605\n",
       "New Vel X    0.014799\n",
       "dtype: float64"
      ]
     },
     "execution_count": 25,
     "metadata": {},
     "output_type": "execute_result"
    }
   ],
   "source": [
    "#RMSerror for normalized data\n",
    "rmserror_test = np.mean(np.square( (y_testing_output.T) - y_prediction_df))\n",
    "rmserror_test"
   ]
  },
  {
   "cell_type": "code",
   "execution_count": 26,
   "metadata": {},
   "outputs": [
    {
     "data": {
      "text/plain": [
       "X distance to target   -517.892476\n",
       "Y distance to target     65.032241\n",
       "New Vel Y                -4.473943\n",
       "New Vel X                -6.572680\n",
       "dtype: float64"
      ]
     },
     "execution_count": 26,
     "metadata": {},
     "output_type": "execute_result"
    }
   ],
   "source": [
    "df.min()"
   ]
  },
  {
   "cell_type": "code",
   "execution_count": 27,
   "metadata": {},
   "outputs": [],
   "source": [
    "#denormalize predicted data\n",
    "y_prediction_df['New Vel Y'] = data_min['New Vel Y'] + y_prediction_df['New Vel Y']*(data_max['New Vel Y'] - data_min['New Vel Y']) \n",
    "y_prediction_df['New Vel X'] = data_min['New Vel X'] + y_prediction_df['New Vel X']*(data_max['New Vel X'] - data_min['New Vel X']) "
   ]
  },
  {
   "cell_type": "code",
   "execution_count": 28,
   "metadata": {
    "scrolled": true
   },
   "outputs": [
    {
     "data": {
      "text/html": [
       "<div>\n",
       "<style scoped>\n",
       "    .dataframe tbody tr th:only-of-type {\n",
       "        vertical-align: middle;\n",
       "    }\n",
       "\n",
       "    .dataframe tbody tr th {\n",
       "        vertical-align: top;\n",
       "    }\n",
       "\n",
       "    .dataframe thead th {\n",
       "        text-align: right;\n",
       "    }\n",
       "</style>\n",
       "<table border=\"1\" class=\"dataframe\">\n",
       "  <thead>\n",
       "    <tr style=\"text-align: right;\">\n",
       "      <th></th>\n",
       "      <th>New Vel Y</th>\n",
       "      <th>New Vel X</th>\n",
       "    </tr>\n",
       "  </thead>\n",
       "  <tbody>\n",
       "    <tr>\n",
       "      <th>0</th>\n",
       "      <td>0.111178</td>\n",
       "      <td>-0.333853</td>\n",
       "    </tr>\n",
       "    <tr>\n",
       "      <th>1</th>\n",
       "      <td>0.899855</td>\n",
       "      <td>0.177776</td>\n",
       "    </tr>\n",
       "    <tr>\n",
       "      <th>2</th>\n",
       "      <td>0.544792</td>\n",
       "      <td>-0.064106</td>\n",
       "    </tr>\n",
       "    <tr>\n",
       "      <th>3</th>\n",
       "      <td>0.531439</td>\n",
       "      <td>0.127912</td>\n",
       "    </tr>\n",
       "    <tr>\n",
       "      <th>4</th>\n",
       "      <td>0.061759</td>\n",
       "      <td>-0.330417</td>\n",
       "    </tr>\n",
       "  </tbody>\n",
       "</table>\n",
       "</div>"
      ],
      "text/plain": [
       "   New Vel Y  New Vel X\n",
       "0   0.111178  -0.333853\n",
       "1   0.899855   0.177776\n",
       "2   0.544792  -0.064106\n",
       "3   0.531439   0.127912\n",
       "4   0.061759  -0.330417"
      ]
     },
     "execution_count": 28,
     "metadata": {},
     "output_type": "execute_result"
    }
   ],
   "source": [
    "y_prediction_df.head()\n"
   ]
  },
  {
   "cell_type": "code",
   "execution_count": 29,
   "metadata": {},
   "outputs": [
    {
     "data": {
      "text/html": [
       "<div>\n",
       "<style scoped>\n",
       "    .dataframe tbody tr th:only-of-type {\n",
       "        vertical-align: middle;\n",
       "    }\n",
       "\n",
       "    .dataframe tbody tr th {\n",
       "        vertical-align: top;\n",
       "    }\n",
       "\n",
       "    .dataframe thead th {\n",
       "        text-align: right;\n",
       "    }\n",
       "</style>\n",
       "<table border=\"1\" class=\"dataframe\">\n",
       "  <thead>\n",
       "    <tr style=\"text-align: right;\">\n",
       "      <th></th>\n",
       "      <th>New Vel Y</th>\n",
       "      <th>New Vel X</th>\n",
       "    </tr>\n",
       "  </thead>\n",
       "  <tbody>\n",
       "    <tr>\n",
       "      <th>count</th>\n",
       "      <td>3451.000000</td>\n",
       "      <td>3451.000000</td>\n",
       "    </tr>\n",
       "    <tr>\n",
       "      <th>mean</th>\n",
       "      <td>0.525253</td>\n",
       "      <td>-0.048349</td>\n",
       "    </tr>\n",
       "    <tr>\n",
       "      <th>std</th>\n",
       "      <td>0.463540</td>\n",
       "      <td>0.337906</td>\n",
       "    </tr>\n",
       "    <tr>\n",
       "      <th>min</th>\n",
       "      <td>-0.596907</td>\n",
       "      <td>-0.988049</td>\n",
       "    </tr>\n",
       "    <tr>\n",
       "      <th>25%</th>\n",
       "      <td>0.166803</td>\n",
       "      <td>-0.281883</td>\n",
       "    </tr>\n",
       "    <tr>\n",
       "      <th>50%</th>\n",
       "      <td>0.525461</td>\n",
       "      <td>-0.016587</td>\n",
       "    </tr>\n",
       "    <tr>\n",
       "      <th>75%</th>\n",
       "      <td>0.880591</td>\n",
       "      <td>0.220148</td>\n",
       "    </tr>\n",
       "    <tr>\n",
       "      <th>max</th>\n",
       "      <td>1.442814</td>\n",
       "      <td>0.638407</td>\n",
       "    </tr>\n",
       "  </tbody>\n",
       "</table>\n",
       "</div>"
      ],
      "text/plain": [
       "         New Vel Y    New Vel X\n",
       "count  3451.000000  3451.000000\n",
       "mean      0.525253    -0.048349\n",
       "std       0.463540     0.337906\n",
       "min      -0.596907    -0.988049\n",
       "25%       0.166803    -0.281883\n",
       "50%       0.525461    -0.016587\n",
       "75%       0.880591     0.220148\n",
       "max       1.442814     0.638407"
      ]
     },
     "execution_count": 29,
     "metadata": {},
     "output_type": "execute_result"
    }
   ],
   "source": [
    "y_prediction_df.describe()"
   ]
  }
 ],
 "metadata": {
  "kernelspec": {
   "display_name": "Python 3",
   "language": "python",
   "name": "python3"
  },
  "language_info": {
   "codemirror_mode": {
    "name": "ipython",
    "version": 3
   },
   "file_extension": ".py",
   "mimetype": "text/x-python",
   "name": "python",
   "nbconvert_exporter": "python",
   "pygments_lexer": "ipython3",
   "version": "3.8.3"
  }
 },
 "nbformat": 4,
 "nbformat_minor": 4
}
