{
 "cells": [
  {
   "cell_type": "code",
   "execution_count": 1,
   "metadata": {},
   "outputs": [],
   "source": [
    "#Importing the required libraries\n",
    "import pandas as pd   \n",
    "import numpy as np    #for matrix multiplications during forward and backward propagations\n",
    "import matplotlib.pyplot as plt #for plotting the error plot\n",
    "from sklearn.model_selection import train_test_split #for splitting the data into train and test\n",
    "from math import sqrt "
   ]
  },
  {
   "cell_type": "code",
   "execution_count": 2,
   "metadata": {
    "scrolled": true
   },
   "outputs": [
    {
     "data": {
      "text/html": [
       "<div>\n",
       "<style scoped>\n",
       "    .dataframe tbody tr th:only-of-type {\n",
       "        vertical-align: middle;\n",
       "    }\n",
       "\n",
       "    .dataframe tbody tr th {\n",
       "        vertical-align: top;\n",
       "    }\n",
       "\n",
       "    .dataframe thead th {\n",
       "        text-align: right;\n",
       "    }\n",
       "</style>\n",
       "<table border=\"1\" class=\"dataframe\">\n",
       "  <thead>\n",
       "    <tr style=\"text-align: right;\">\n",
       "      <th></th>\n",
       "      <th>0</th>\n",
       "      <th>1</th>\n",
       "      <th>2</th>\n",
       "      <th>3</th>\n",
       "    </tr>\n",
       "  </thead>\n",
       "  <tbody>\n",
       "    <tr>\n",
       "      <th>0</th>\n",
       "      <td>-468.835802</td>\n",
       "      <td>287.900000</td>\n",
       "      <td>0.000000</td>\n",
       "      <td>0.000000</td>\n",
       "    </tr>\n",
       "    <tr>\n",
       "      <th>1</th>\n",
       "      <td>-468.835802</td>\n",
       "      <td>287.900000</td>\n",
       "      <td>-0.100000</td>\n",
       "      <td>0.040000</td>\n",
       "    </tr>\n",
       "    <tr>\n",
       "      <th>2</th>\n",
       "      <td>-468.875802</td>\n",
       "      <td>288.000000</td>\n",
       "      <td>-0.199878</td>\n",
       "      <td>-0.006980</td>\n",
       "    </tr>\n",
       "    <tr>\n",
       "      <th>3</th>\n",
       "      <td>-468.868822</td>\n",
       "      <td>288.199878</td>\n",
       "      <td>-0.299391</td>\n",
       "      <td>0.019069</td>\n",
       "    </tr>\n",
       "    <tr>\n",
       "      <th>4</th>\n",
       "      <td>-468.887890</td>\n",
       "      <td>288.499269</td>\n",
       "      <td>-0.398295</td>\n",
       "      <td>-0.041837</td>\n",
       "    </tr>\n",
       "  </tbody>\n",
       "</table>\n",
       "</div>"
      ],
      "text/plain": [
       "            0           1         2         3\n",
       "0 -468.835802  287.900000  0.000000  0.000000\n",
       "1 -468.835802  287.900000 -0.100000  0.040000\n",
       "2 -468.875802  288.000000 -0.199878 -0.006980\n",
       "3 -468.868822  288.199878 -0.299391  0.019069\n",
       "4 -468.887890  288.499269 -0.398295 -0.041837"
      ]
     },
     "execution_count": 2,
     "metadata": {},
     "output_type": "execute_result"
    }
   ],
   "source": [
    "#reading the data file\n",
    "df = pd.read_csv('ce889_dataCollection.csv',header = None)\n",
    "df.head()"
   ]
  },
  {
   "cell_type": "code",
   "execution_count": 3,
   "metadata": {},
   "outputs": [],
   "source": [
    "#for dropping the duplicates\n",
    "df.drop_duplicates(inplace = True) "
   ]
  },
  {
   "cell_type": "code",
   "execution_count": 4,
   "metadata": {},
   "outputs": [
    {
     "data": {
      "text/plain": [
       "0    0\n",
       "1    0\n",
       "2    0\n",
       "3    0\n",
       "dtype: int64"
      ]
     },
     "execution_count": 4,
     "metadata": {},
     "output_type": "execute_result"
    }
   ],
   "source": [
    "#checking for null values\n",
    "df.isnull().sum()"
   ]
  },
  {
   "cell_type": "code",
   "execution_count": 5,
   "metadata": {},
   "outputs": [
    {
     "data": {
      "text/html": [
       "<div>\n",
       "<style scoped>\n",
       "    .dataframe tbody tr th:only-of-type {\n",
       "        vertical-align: middle;\n",
       "    }\n",
       "\n",
       "    .dataframe tbody tr th {\n",
       "        vertical-align: top;\n",
       "    }\n",
       "\n",
       "    .dataframe thead th {\n",
       "        text-align: right;\n",
       "    }\n",
       "</style>\n",
       "<table border=\"1\" class=\"dataframe\">\n",
       "  <thead>\n",
       "    <tr style=\"text-align: right;\">\n",
       "      <th></th>\n",
       "      <th>X distance to target</th>\n",
       "      <th>Y distance to target</th>\n",
       "      <th>New Vel Y</th>\n",
       "      <th>New Vel X</th>\n",
       "    </tr>\n",
       "  </thead>\n",
       "  <tbody>\n",
       "    <tr>\n",
       "      <th>0</th>\n",
       "      <td>-468.835802</td>\n",
       "      <td>287.900000</td>\n",
       "      <td>0.000000</td>\n",
       "      <td>0.000000</td>\n",
       "    </tr>\n",
       "    <tr>\n",
       "      <th>1</th>\n",
       "      <td>-468.835802</td>\n",
       "      <td>287.900000</td>\n",
       "      <td>-0.100000</td>\n",
       "      <td>0.040000</td>\n",
       "    </tr>\n",
       "    <tr>\n",
       "      <th>2</th>\n",
       "      <td>-468.875802</td>\n",
       "      <td>288.000000</td>\n",
       "      <td>-0.199878</td>\n",
       "      <td>-0.006980</td>\n",
       "    </tr>\n",
       "    <tr>\n",
       "      <th>3</th>\n",
       "      <td>-468.868822</td>\n",
       "      <td>288.199878</td>\n",
       "      <td>-0.299391</td>\n",
       "      <td>0.019069</td>\n",
       "    </tr>\n",
       "    <tr>\n",
       "      <th>4</th>\n",
       "      <td>-468.887890</td>\n",
       "      <td>288.499269</td>\n",
       "      <td>-0.398295</td>\n",
       "      <td>-0.041837</td>\n",
       "    </tr>\n",
       "  </tbody>\n",
       "</table>\n",
       "</div>"
      ],
      "text/plain": [
       "   X distance to target  Y distance to target  New Vel Y  New Vel X\n",
       "0           -468.835802            287.900000   0.000000   0.000000\n",
       "1           -468.835802            287.900000  -0.100000   0.040000\n",
       "2           -468.875802            288.000000  -0.199878  -0.006980\n",
       "3           -468.868822            288.199878  -0.299391   0.019069\n",
       "4           -468.887890            288.499269  -0.398295  -0.041837"
      ]
     },
     "execution_count": 5,
     "metadata": {},
     "output_type": "execute_result"
    }
   ],
   "source": [
    "## Giving column names\n",
    "df.columns = [\"X distance to target\",\"Y distance to target\",\"New Vel Y\",\"New Vel X\"]\n",
    "df.head()"
   ]
  },
  {
   "cell_type": "code",
   "execution_count": 6,
   "metadata": {},
   "outputs": [
    {
     "data": {
      "text/html": [
       "<div>\n",
       "<style scoped>\n",
       "    .dataframe tbody tr th:only-of-type {\n",
       "        vertical-align: middle;\n",
       "    }\n",
       "\n",
       "    .dataframe tbody tr th {\n",
       "        vertical-align: top;\n",
       "    }\n",
       "\n",
       "    .dataframe thead th {\n",
       "        text-align: right;\n",
       "    }\n",
       "</style>\n",
       "<table border=\"1\" class=\"dataframe\">\n",
       "  <thead>\n",
       "    <tr style=\"text-align: right;\">\n",
       "      <th></th>\n",
       "      <th>X distance to target</th>\n",
       "      <th>Y distance to target</th>\n",
       "      <th>New Vel Y</th>\n",
       "      <th>New Vel X</th>\n",
       "    </tr>\n",
       "  </thead>\n",
       "  <tbody>\n",
       "    <tr>\n",
       "      <th>count</th>\n",
       "      <td>102092.000000</td>\n",
       "      <td>102092.000000</td>\n",
       "      <td>102092.000000</td>\n",
       "      <td>102092.000000</td>\n",
       "    </tr>\n",
       "    <tr>\n",
       "      <th>mean</th>\n",
       "      <td>9.079919</td>\n",
       "      <td>350.282303</td>\n",
       "      <td>1.031652</td>\n",
       "      <td>-0.070643</td>\n",
       "    </tr>\n",
       "    <tr>\n",
       "      <th>std</th>\n",
       "      <td>178.654076</td>\n",
       "      <td>115.968694</td>\n",
       "      <td>3.163262</td>\n",
       "      <td>1.818328</td>\n",
       "    </tr>\n",
       "    <tr>\n",
       "      <th>min</th>\n",
       "      <td>-525.585888</td>\n",
       "      <td>65.005663</td>\n",
       "      <td>-6.066123</td>\n",
       "      <td>-6.813809</td>\n",
       "    </tr>\n",
       "    <tr>\n",
       "      <th>25%</th>\n",
       "      <td>-47.531574</td>\n",
       "      <td>288.893913</td>\n",
       "      <td>-1.607110</td>\n",
       "      <td>-0.941173</td>\n",
       "    </tr>\n",
       "    <tr>\n",
       "      <th>50%</th>\n",
       "      <td>13.687630</td>\n",
       "      <td>351.187331</td>\n",
       "      <td>0.529838</td>\n",
       "      <td>-0.000041</td>\n",
       "    </tr>\n",
       "    <tr>\n",
       "      <th>75%</th>\n",
       "      <td>68.868338</td>\n",
       "      <td>430.352385</td>\n",
       "      <td>3.345605</td>\n",
       "      <td>0.698076</td>\n",
       "    </tr>\n",
       "    <tr>\n",
       "      <th>max</th>\n",
       "      <td>522.986208</td>\n",
       "      <td>701.773228</td>\n",
       "      <td>7.999890</td>\n",
       "      <td>6.598221</td>\n",
       "    </tr>\n",
       "  </tbody>\n",
       "</table>\n",
       "</div>"
      ],
      "text/plain": [
       "       X distance to target  Y distance to target      New Vel Y  \\\n",
       "count         102092.000000         102092.000000  102092.000000   \n",
       "mean               9.079919            350.282303       1.031652   \n",
       "std              178.654076            115.968694       3.163262   \n",
       "min             -525.585888             65.005663      -6.066123   \n",
       "25%              -47.531574            288.893913      -1.607110   \n",
       "50%               13.687630            351.187331       0.529838   \n",
       "75%               68.868338            430.352385       3.345605   \n",
       "max              522.986208            701.773228       7.999890   \n",
       "\n",
       "           New Vel X  \n",
       "count  102092.000000  \n",
       "mean       -0.070643  \n",
       "std         1.818328  \n",
       "min        -6.813809  \n",
       "25%        -0.941173  \n",
       "50%        -0.000041  \n",
       "75%         0.698076  \n",
       "max         6.598221  "
      ]
     },
     "execution_count": 6,
     "metadata": {},
     "output_type": "execute_result"
    }
   ],
   "source": [
    "df.describe()"
   ]
  },
  {
   "cell_type": "code",
   "execution_count": 7,
   "metadata": {},
   "outputs": [],
   "source": [
    "#index_names_p = df[(df[\"X distance to target\"]>35)].index"
   ]
  },
  {
   "cell_type": "code",
   "execution_count": 8,
   "metadata": {},
   "outputs": [],
   "source": [
    "#df.drop(index_names_n, inplace = True) "
   ]
  },
  {
   "cell_type": "code",
   "execution_count": 9,
   "metadata": {},
   "outputs": [
    {
     "data": {
      "text/html": [
       "<div>\n",
       "<style scoped>\n",
       "    .dataframe tbody tr th:only-of-type {\n",
       "        vertical-align: middle;\n",
       "    }\n",
       "\n",
       "    .dataframe tbody tr th {\n",
       "        vertical-align: top;\n",
       "    }\n",
       "\n",
       "    .dataframe thead th {\n",
       "        text-align: right;\n",
       "    }\n",
       "</style>\n",
       "<table border=\"1\" class=\"dataframe\">\n",
       "  <thead>\n",
       "    <tr style=\"text-align: right;\">\n",
       "      <th></th>\n",
       "      <th>X distance to target</th>\n",
       "      <th>Y distance to target</th>\n",
       "      <th>New Vel Y</th>\n",
       "      <th>New Vel X</th>\n",
       "    </tr>\n",
       "  </thead>\n",
       "  <tbody>\n",
       "    <tr>\n",
       "      <th>count</th>\n",
       "      <td>102092.000000</td>\n",
       "      <td>102092.000000</td>\n",
       "      <td>102092.000000</td>\n",
       "      <td>102092.000000</td>\n",
       "    </tr>\n",
       "    <tr>\n",
       "      <th>mean</th>\n",
       "      <td>9.079919</td>\n",
       "      <td>350.282303</td>\n",
       "      <td>1.031652</td>\n",
       "      <td>-0.070643</td>\n",
       "    </tr>\n",
       "    <tr>\n",
       "      <th>std</th>\n",
       "      <td>178.654076</td>\n",
       "      <td>115.968694</td>\n",
       "      <td>3.163262</td>\n",
       "      <td>1.818328</td>\n",
       "    </tr>\n",
       "    <tr>\n",
       "      <th>min</th>\n",
       "      <td>-525.585888</td>\n",
       "      <td>65.005663</td>\n",
       "      <td>-6.066123</td>\n",
       "      <td>-6.813809</td>\n",
       "    </tr>\n",
       "    <tr>\n",
       "      <th>25%</th>\n",
       "      <td>-47.531574</td>\n",
       "      <td>288.893913</td>\n",
       "      <td>-1.607110</td>\n",
       "      <td>-0.941173</td>\n",
       "    </tr>\n",
       "    <tr>\n",
       "      <th>50%</th>\n",
       "      <td>13.687630</td>\n",
       "      <td>351.187331</td>\n",
       "      <td>0.529838</td>\n",
       "      <td>-0.000041</td>\n",
       "    </tr>\n",
       "    <tr>\n",
       "      <th>75%</th>\n",
       "      <td>68.868338</td>\n",
       "      <td>430.352385</td>\n",
       "      <td>3.345605</td>\n",
       "      <td>0.698076</td>\n",
       "    </tr>\n",
       "    <tr>\n",
       "      <th>max</th>\n",
       "      <td>522.986208</td>\n",
       "      <td>701.773228</td>\n",
       "      <td>7.999890</td>\n",
       "      <td>6.598221</td>\n",
       "    </tr>\n",
       "  </tbody>\n",
       "</table>\n",
       "</div>"
      ],
      "text/plain": [
       "       X distance to target  Y distance to target      New Vel Y  \\\n",
       "count         102092.000000         102092.000000  102092.000000   \n",
       "mean               9.079919            350.282303       1.031652   \n",
       "std              178.654076            115.968694       3.163262   \n",
       "min             -525.585888             65.005663      -6.066123   \n",
       "25%              -47.531574            288.893913      -1.607110   \n",
       "50%               13.687630            351.187331       0.529838   \n",
       "75%               68.868338            430.352385       3.345605   \n",
       "max              522.986208            701.773228       7.999890   \n",
       "\n",
       "           New Vel X  \n",
       "count  102092.000000  \n",
       "mean       -0.070643  \n",
       "std         1.818328  \n",
       "min        -6.813809  \n",
       "25%        -0.941173  \n",
       "50%        -0.000041  \n",
       "75%         0.698076  \n",
       "max         6.598221  "
      ]
     },
     "execution_count": 9,
     "metadata": {},
     "output_type": "execute_result"
    }
   ],
   "source": [
    "df.describe()"
   ]
  },
  {
   "cell_type": "code",
   "execution_count": 10,
   "metadata": {
    "scrolled": true
   },
   "outputs": [
    {
     "data": {
      "text/html": [
       "<div>\n",
       "<style scoped>\n",
       "    .dataframe tbody tr th:only-of-type {\n",
       "        vertical-align: middle;\n",
       "    }\n",
       "\n",
       "    .dataframe tbody tr th {\n",
       "        vertical-align: top;\n",
       "    }\n",
       "\n",
       "    .dataframe thead th {\n",
       "        text-align: right;\n",
       "    }\n",
       "</style>\n",
       "<table border=\"1\" class=\"dataframe\">\n",
       "  <thead>\n",
       "    <tr style=\"text-align: right;\">\n",
       "      <th></th>\n",
       "      <th>X distance to target</th>\n",
       "      <th>Y distance to target</th>\n",
       "      <th>New Vel Y</th>\n",
       "      <th>New Vel X</th>\n",
       "    </tr>\n",
       "  </thead>\n",
       "  <tbody>\n",
       "    <tr>\n",
       "      <th>0</th>\n",
       "      <td>0.054121</td>\n",
       "      <td>0.350040</td>\n",
       "      <td>0.431261</td>\n",
       "      <td>0.508037</td>\n",
       "    </tr>\n",
       "    <tr>\n",
       "      <th>1</th>\n",
       "      <td>0.054121</td>\n",
       "      <td>0.350040</td>\n",
       "      <td>0.424152</td>\n",
       "      <td>0.511020</td>\n",
       "    </tr>\n",
       "    <tr>\n",
       "      <th>2</th>\n",
       "      <td>0.054083</td>\n",
       "      <td>0.350197</td>\n",
       "      <td>0.417051</td>\n",
       "      <td>0.507517</td>\n",
       "    </tr>\n",
       "    <tr>\n",
       "      <th>3</th>\n",
       "      <td>0.054090</td>\n",
       "      <td>0.350511</td>\n",
       "      <td>0.409976</td>\n",
       "      <td>0.509459</td>\n",
       "    </tr>\n",
       "    <tr>\n",
       "      <th>4</th>\n",
       "      <td>0.054072</td>\n",
       "      <td>0.350981</td>\n",
       "      <td>0.402945</td>\n",
       "      <td>0.504918</td>\n",
       "    </tr>\n",
       "  </tbody>\n",
       "</table>\n",
       "</div>"
      ],
      "text/plain": [
       "   X distance to target  Y distance to target  New Vel Y  New Vel X\n",
       "0              0.054121              0.350040   0.431261   0.508037\n",
       "1              0.054121              0.350040   0.424152   0.511020\n",
       "2              0.054083              0.350197   0.417051   0.507517\n",
       "3              0.054090              0.350511   0.409976   0.509459\n",
       "4              0.054072              0.350981   0.402945   0.504918"
      ]
     },
     "execution_count": 10,
     "metadata": {},
     "output_type": "execute_result"
    }
   ],
   "source": [
    "#normalization\n",
    "data_min = df.min()\n",
    "data_max = df.max()\n",
    "normalizeddata = (df - df.min()) / (df.max() - df.min())\n",
    "normalizeddata.head()"
   ]
  },
  {
   "cell_type": "code",
   "execution_count": 11,
   "metadata": {},
   "outputs": [
    {
     "data": {
      "text/html": [
       "<div>\n",
       "<style scoped>\n",
       "    .dataframe tbody tr th:only-of-type {\n",
       "        vertical-align: middle;\n",
       "    }\n",
       "\n",
       "    .dataframe tbody tr th {\n",
       "        vertical-align: top;\n",
       "    }\n",
       "\n",
       "    .dataframe thead th {\n",
       "        text-align: right;\n",
       "    }\n",
       "</style>\n",
       "<table border=\"1\" class=\"dataframe\">\n",
       "  <thead>\n",
       "    <tr style=\"text-align: right;\">\n",
       "      <th></th>\n",
       "      <th>X distance to target</th>\n",
       "      <th>Y distance to target</th>\n",
       "      <th>New Vel Y</th>\n",
       "      <th>New Vel X</th>\n",
       "    </tr>\n",
       "  </thead>\n",
       "  <tbody>\n",
       "    <tr>\n",
       "      <th>count</th>\n",
       "      <td>102092.000000</td>\n",
       "      <td>102092.000000</td>\n",
       "      <td>102092.000000</td>\n",
       "      <td>102092.000000</td>\n",
       "    </tr>\n",
       "    <tr>\n",
       "      <th>mean</th>\n",
       "      <td>0.509899</td>\n",
       "      <td>0.448007</td>\n",
       "      <td>0.504605</td>\n",
       "      <td>0.502770</td>\n",
       "    </tr>\n",
       "    <tr>\n",
       "      <th>std</th>\n",
       "      <td>0.170378</td>\n",
       "      <td>0.182121</td>\n",
       "      <td>0.224887</td>\n",
       "      <td>0.135574</td>\n",
       "    </tr>\n",
       "    <tr>\n",
       "      <th>min</th>\n",
       "      <td>0.000000</td>\n",
       "      <td>0.000000</td>\n",
       "      <td>0.000000</td>\n",
       "      <td>0.000000</td>\n",
       "    </tr>\n",
       "    <tr>\n",
       "      <th>25%</th>\n",
       "      <td>0.455910</td>\n",
       "      <td>0.351601</td>\n",
       "      <td>0.317006</td>\n",
       "      <td>0.437863</td>\n",
       "    </tr>\n",
       "    <tr>\n",
       "      <th>50%</th>\n",
       "      <td>0.514293</td>\n",
       "      <td>0.449429</td>\n",
       "      <td>0.468929</td>\n",
       "      <td>0.508034</td>\n",
       "    </tr>\n",
       "    <tr>\n",
       "      <th>75%</th>\n",
       "      <td>0.566918</td>\n",
       "      <td>0.573752</td>\n",
       "      <td>0.669111</td>\n",
       "      <td>0.560086</td>\n",
       "    </tr>\n",
       "    <tr>\n",
       "      <th>max</th>\n",
       "      <td>1.000000</td>\n",
       "      <td>1.000000</td>\n",
       "      <td>1.000000</td>\n",
       "      <td>1.000000</td>\n",
       "    </tr>\n",
       "  </tbody>\n",
       "</table>\n",
       "</div>"
      ],
      "text/plain": [
       "       X distance to target  Y distance to target      New Vel Y  \\\n",
       "count         102092.000000         102092.000000  102092.000000   \n",
       "mean               0.509899              0.448007       0.504605   \n",
       "std                0.170378              0.182121       0.224887   \n",
       "min                0.000000              0.000000       0.000000   \n",
       "25%                0.455910              0.351601       0.317006   \n",
       "50%                0.514293              0.449429       0.468929   \n",
       "75%                0.566918              0.573752       0.669111   \n",
       "max                1.000000              1.000000       1.000000   \n",
       "\n",
       "           New Vel X  \n",
       "count  102092.000000  \n",
       "mean        0.502770  \n",
       "std         0.135574  \n",
       "min         0.000000  \n",
       "25%         0.437863  \n",
       "50%         0.508034  \n",
       "75%         0.560086  \n",
       "max         1.000000  "
      ]
     },
     "execution_count": 11,
     "metadata": {},
     "output_type": "execute_result"
    }
   ],
   "source": [
    "normalizeddata.describe()"
   ]
  },
  {
   "cell_type": "code",
   "execution_count": 12,
   "metadata": {},
   "outputs": [
    {
     "name": "stdout",
     "output_type": "stream",
     "text": [
      "(81673, 4)\n",
      "(20419, 4)\n"
     ]
    }
   ],
   "source": [
    "#spliting data\n",
    "training , testing= train_test_split(normalizeddata, test_size = 0.2)\n",
    "print(training.shape)\n",
    "print(testing.shape)"
   ]
  },
  {
   "cell_type": "code",
   "execution_count": 13,
   "metadata": {},
   "outputs": [
    {
     "name": "stderr",
     "output_type": "stream",
     "text": [
      "C:\\Users\\yaswa\\anaconda3\\lib\\site-packages\\seaborn\\_decorators.py:36: FutureWarning: Pass the following variable as a keyword arg: x. From version 0.12, the only valid positional argument will be `data`, and passing other arguments without an explicit keyword will result in an error or misinterpretation.\n",
      "  warnings.warn(\n"
     ]
    },
    {
     "data": {
      "text/plain": [
       "<AxesSubplot:xlabel='X distance to target'>"
      ]
     },
     "execution_count": 13,
     "metadata": {},
     "output_type": "execute_result"
    },
    {
     "data": {
      "image/png": "[encoded data removed]",
      "text/plain": [
       "<Figure size 432x288 with 1 Axes>"
      ]
     },
     "metadata": {
      "needs_background": "light"
     },
     "output_type": "display_data"
    }
   ],
   "source": [
    "sns.boxplot(training['X distance to target'])"
   ]
  },
  {
   "cell_type": "code",
   "execution_count": 14,
   "metadata": {},
   "outputs": [
    {
     "name": "stderr",
     "output_type": "stream",
     "text": [
      "C:\\Users\\yaswa\\anaconda3\\lib\\site-packages\\seaborn\\_decorators.py:36: FutureWarning: Pass the following variable as a keyword arg: x. From version 0.12, the only valid positional argument will be `data`, and passing other arguments without an explicit keyword will result in an error or misinterpretation.\n",
      "  warnings.warn(\n"
     ]
    },
    {
     "data": {
      "text/plain": [
       "<AxesSubplot:xlabel='Y distance to target'>"
      ]
     },
     "execution_count": 14,
     "metadata": {},
     "output_type": "execute_result"
    },
    {
     "data": {
      "image/png": "[encoded data removed]",
      "text/plain": [
       "<Figure size 432x288 with 1 Axes>"
      ]
     },
     "metadata": {
      "needs_background": "light"
     },
     "output_type": "display_data"
    }
   ],
   "source": [
    "sns.boxplot(training['Y distance to target'])"
   ]
  },
  {
   "cell_type": "code",
   "execution_count": 15,
   "metadata": {},
   "outputs": [
    {
     "name": "stderr",
     "output_type": "stream",
     "text": [
      "C:\\Users\\yaswa\\anaconda3\\lib\\site-packages\\seaborn\\_decorators.py:36: FutureWarning: Pass the following variable as a keyword arg: x. From version 0.12, the only valid positional argument will be `data`, and passing other arguments without an explicit keyword will result in an error or misinterpretation.\n",
      "  warnings.warn(\n"
     ]
    },
    {
     "data": {
      "text/plain": [
       "<AxesSubplot:xlabel='New Vel Y'>"
      ]
     },
     "execution_count": 15,
     "metadata": {},
     "output_type": "execute_result"
    },
    {
     "data": {
      "image/png": "[encoded data removed]",
      "text/plain": [
       "<Figure size 432x288 with 1 Axes>"
      ]
     },
     "metadata": {
      "needs_background": "light"
     },
     "output_type": "display_data"
    }
   ],
   "source": [
    "sns.boxplot(training['New Vel Y'])"
   ]
  },
  {
   "cell_type": "code",
   "execution_count": 16,
   "metadata": {},
   "outputs": [
    {
     "name": "stderr",
     "output_type": "stream",
     "text": [
      "C:\\Users\\yaswa\\anaconda3\\lib\\site-packages\\seaborn\\_decorators.py:36: FutureWarning: Pass the following variable as a keyword arg: x. From version 0.12, the only valid positional argument will be `data`, and passing other arguments without an explicit keyword will result in an error or misinterpretation.\n",
      "  warnings.warn(\n"
     ]
    },
    {
     "data": {
      "text/plain": [
       "<AxesSubplot:xlabel='New Vel X'>"
      ]
     },
     "execution_count": 16,
     "metadata": {},
     "output_type": "execute_result"
    },
    {
     "data": {
      "image/png": "[encoded data removed]",
      "text/plain": [
       "<Figure size 432x288 with 1 Axes>"
      ]
     },
     "metadata": {
      "needs_background": "light"
     },
     "output_type": "display_data"
    }
   ],
   "source": [
    "sns.boxplot(training['New Vel X'])"
   ]
  },
  {
   "cell_type": "code",
   "execution_count": 17,
   "metadata": {},
   "outputs": [],
   "source": [
    "#Splitting inputs & outputs for training, validation & testing data\n",
    "x_train_input = np.array(training[[\"X distance to target\",\"Y distance to target\"]]).T\n",
    "y_train_output = np.array(training[[\"New Vel Y\",\"New Vel X\"]]).T\n",
    "\n",
    "x_testing_input = np.array(testing[[\"X distance to target\",\"Y distance to target\"]]).T\n",
    "y_testing_output = np.array(testing[[\"New Vel Y\",\"New Vel X\"]]).T"
   ]
  },
  {
   "cell_type": "code",
   "execution_count": 18,
   "metadata": {},
   "outputs": [],
   "source": [
    "#Defining Sigmoid Function\n",
    "def sigmoid(x):  \n",
    "    return 1/(1+np.exp(-x*0.01))\n",
    "def sigmoid_derivative(x):  \n",
    "    return x*(1-x)"
   ]
  },
  {
   "cell_type": "code",
   "execution_count": 19,
   "metadata": {},
   "outputs": [],
   "source": [
    "#Forward Propagation\n",
    "def fwd_propagation(x_fwd_input, model):    \n",
    "    Weight_hidden, bias_hidden, Weight_output, bias_output = model['w1'], model['b1'], model['w2'], model['b2']\n",
    "    z1 = np.dot(Weight_hidden, x_fwd_input) +bias_hidden\n",
    "    a1 = sigmoid(z1)     #activation layer\n",
    "    z2 = np.dot(Weight_output, a1) + bias_output\n",
    "    a2 = sigmoid(z2)\n",
    "    return(a2)   "
   ]
  },
  {
   "cell_type": "code",
   "execution_count": 20,
   "metadata": {},
   "outputs": [],
   "source": [
    "#Backward Propagation\n",
    "def back_propagation(model,x_train_input, a2, error, r_lambda, l_rate, epsilon):\n",
    "    Weight_hidden, bias_hidden, Weight_output, bias_output, dWeight_hidden_old, dWeight_output_old = model['w1'], model['b1'], model['w2'], model['b2'], model['dw1_old'], model['dw2_old']\n",
    "    \n",
    "    delta2 = r_lambda *(error * sigmoid_derivative(a2))\n",
    "    a1 = sigmoid(np.dot(Weight_hidden, x_train_input) +bias_hidden)  \n",
    "    delta1 = r_lambda * np.dot(Weight_output.T, delta2)*sigmoid_derivative(a1)\n",
    "      \n",
    "    dWeight_output = np.dot(delta2, a1.T)\n",
    "    dWeight_hidden = np.dot(delta1, x_train_input.T)\n",
    "    dbias_output = np.sum(delta2, axis=1, keepdims=True)\n",
    "    dbias_hidden = np.sum(delta1, axis=1, keepdims=True)\n",
    "    \n",
    "    # update the weights with the derivative (slope) of the loss function\n",
    "    Weight_hidden += l_rate*dWeight_hidden + epsilon * dWeight_hidden_old\n",
    "    Weight_output += l_rate*dWeight_output + epsilon * dWeight_output_old\n",
    "    bias_hidden += l_rate*dbias_hidden\n",
    "    bias_output += l_rate*dbias_output\n",
    "    # Assign new parameters to the model\n",
    "    model = { 'w1': Weight_hidden, 'b1': bias_hidden, 'w2': Weight_output, 'b2': bias_output, \"dw1_old\":dWeight_hidden, \"dw2_old\": dWeight_output}\n",
    "    return model"
   ]
  },
  {
   "cell_type": "code",
   "execution_count": 21,
   "metadata": {},
   "outputs": [],
   "source": [
    "def build_model(x_train_input, y_train_output,n_hidden, r_lambda, l_rate, epsilon, epochs):\n",
    "    \n",
    "    #initialize parameters to random values\n",
    "    Weight_hidden = np.random.rand(n_hidden,2) \n",
    "    bias_hidden = np.zeros((n_hidden,1))\n",
    "    Weight_output = np.random.rand(2,n_hidden) \n",
    "    bias_output = np.zeros((2,1))\n",
    "    \n",
    "    #gradient momentum initilizations\n",
    "    dWeight_hidden_old = np.zeros((n_hidden,2))\n",
    "    dWeight_output_old = np.zeros((2,n_hidden))\n",
    "    \n",
    "    #Declaring dictonary for storing parameters for later use\n",
    "    model = {}\n",
    "    \n",
    "    # Assign new parameters to the model\n",
    "    model = { 'w1': Weight_hidden,'b1': bias_hidden, 'w2': Weight_output, 'b2': bias_output, \"dw1_old\":dWeight_hidden_old, \"dw2_old\": dWeight_output_old}\n",
    "    \n",
    "    training_loss= []\n",
    "\n",
    "    for i in range(0, epochs):\n",
    "        \n",
    "        #forward propagation\n",
    "        a2 = fwd_propagation(x_train_input, model)\n",
    "        error = 2*(y_train_output - a2)\n",
    "        \n",
    "        #backward propagation\n",
    "        model = back_propagation(model,x_train_input, a2, error, r_lambda, l_rate, epsilon)\n",
    "                \n",
    "        rmserror  = calculate_loss(model, x_train_input, y_train_output)\n",
    "\n",
    "        training_loss.append(rmserror)\n",
    "        \n",
    "        # Optionally print the loss.\n",
    "        # This is expensive because it uses the whole dataset, so we don't want to do it too often.\n",
    "        if i % 100 == 0:\n",
    "            print(\"Loss after iteration %i: training loss = %f  \" %(i,rmserror))\n",
    "     \n",
    "    return model, training_loss"
   ]
  },
  {
   "cell_type": "code",
   "execution_count": 22,
   "metadata": {},
   "outputs": [],
   "source": [
    "#calculating loss\n",
    "def calculate_loss(model, x_trainloss, y_trainloss):\n",
    "    #calling model prediction\n",
    "    Weight_hidden, bias_hidden, Weight_output, bias_output = model['w1'], model['b1'], model['w2'], model['b2']\n",
    "    z1 = np.dot(Weight_hidden, x_trainloss) +bias_hidden\n",
    "    a1 = sigmoid(z1)  #activation layer\n",
    "    z2 = np.dot(Weight_output, a1) + bias_output\n",
    "    a2 = sigmoid(z2) \n",
    "    rmserror = np.mean(np.square(y_trainloss - a2))\n",
    "    z2 = np.dot(Weight_output, a1) + bias_output\n",
    "    a2 = sigmoid(z2)\n",
    "    return rmserror"
   ]
  },
  {
   "cell_type": "code",
   "execution_count": null,
   "metadata": {
    "scrolled": true
   },
   "outputs": [
    {
     "name": "stdout",
     "output_type": "stream",
     "text": [
      "Loss after iteration 0: training loss = 0.034432  \n",
      "Loss after iteration 100: training loss = 0.028811  \n"
     ]
    }
   ],
   "source": [
    "# Giving the hyperparameters, training the model and finding the loss\n",
    "model, training_loss = build_model(x_train_input, y_train_output,n_hidden= 5, epochs = 501, epsilon=0.1, r_lambda = 0.1, l_rate=0.01)"
   ]
  },
  {
   "cell_type": "code",
   "execution_count": null,
   "metadata": {},
   "outputs": [],
   "source": [
    "print(\"self.Weight_hidden =\", repr(model[\"w1\"]), \"\\nself.Weight_output = \",repr(model[\"w2\"]), \"\\nself.bias_hidden = \",repr(model[\"b1\"]),\"\\nself.bias_output = \",repr(model[\"b2\"]))"
   ]
  },
  {
   "cell_type": "code",
   "execution_count": null,
   "metadata": {},
   "outputs": [],
   "source": [
    "def plot_erros(training_loss):\n",
    "    plt.plot(training_loss)\n",
    "    plt.xlabel('number of epochs')\n",
    "    plt.ylabel('loss')\n",
    "    plt.title('loss vs number of epochs')\n",
    "    plt.legend(['training'], loc='upper right')\n",
    "    plt.xlim(0, 1000)\n",
    "    plt.show()\n",
    "plot_erros(training_loss)"
   ]
  },
  {
   "cell_type": "code",
   "execution_count": null,
   "metadata": {},
   "outputs": [],
   "source": [
    "y_prediction = fwd_propagation(x_testing_input, model)\n",
    "y_prediction_df = pd.DataFrame(y_prediction.T,columns=[\"New Vel Y\",\"New Vel X\"])\n",
    "y_prediction_df.head()"
   ]
  },
  {
   "cell_type": "code",
   "execution_count": null,
   "metadata": {},
   "outputs": [],
   "source": [
    "#RMSerror for normalized data\n",
    "rmserror_test = np.mean(np.square( (y_testing_output.T) - y_prediction_df))\n",
    "rmserror_test"
   ]
  },
  {
   "cell_type": "code",
   "execution_count": null,
   "metadata": {},
   "outputs": [],
   "source": [
    "#denormalize predicted data\n",
    "y_prediction_df['New Vel Y'] = data_min['New Vel Y'] + y_prediction_df['New Vel Y']*(data_max['New Vel Y'] - data_min['New Vel Y']) \n",
    "y_prediction_df['New Vel X'] = data_min['New Vel X'] + y_prediction_df['New Vel X']*(data_max['New Vel X'] - data_min['New Vel X']) "
   ]
  },
  {
   "cell_type": "code",
   "execution_count": null,
   "metadata": {
    "scrolled": true
   },
   "outputs": [],
   "source": [
    "y_prediction_df.describe()"
   ]
  }
 ],
 "metadata": {
  "kernelspec": {
   "display_name": "Python 3",
   "language": "python",
   "name": "python3"
  },
  "language_info": {
   "codemirror_mode": {
    "name": "ipython",
    "version": 3
   },
   "file_extension": ".py",
   "mimetype": "text/x-python",
   "name": "python",
   "nbconvert_exporter": "python",
   "pygments_lexer": "ipython3",
   "version": "3.8.5"
  }
 },
 "nbformat": 4,
 "nbformat_minor": 4
}
