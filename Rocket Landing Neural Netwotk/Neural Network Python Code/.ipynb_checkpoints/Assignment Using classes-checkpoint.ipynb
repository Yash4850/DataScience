{
 "cells": [
  {
   "cell_type": "code",
   "execution_count": 2,
   "metadata": {},
   "outputs": [],
   "source": [
    "#Importing the required libraries\n",
    "import pandas as pd   \n",
    "import numpy as np    #for matrix multiplications during forward and backward propagations\n",
    "import matplotlib.pyplot as plt #for plotting the error plot\n",
    "from sklearn.model_selection import train_test_split #for splitting the data into train and test\n",
    "import math #for divisions\n",
    "from sklearn.metrics import mean_squared_error \n",
    "from math import sqrt \n",
    "import seaborn as sns\n",
    "from sklearn.metrics import classification_report,confusion_matrix"
   ]
  },
  {
   "cell_type": "code",
   "execution_count": 3,
   "metadata": {
    "scrolled": true
   },
   "outputs": [
    {
     "name": "stdout",
     "output_type": "stream",
     "text": [
      "           0      1    2     3\n",
      "0  493.34345  287.9  0.0  0.00\n",
      "1  493.34345  287.9 -0.1  0.04\n",
      "2  493.30345  288.0 -0.2  0.00\n",
      "3  493.30345  288.2 -0.3  0.04\n",
      "4  493.26345  288.5 -0.4  0.00\n"
     ]
    }
   ],
   "source": [
    "#reading the data file\n",
    "df = pd.read_csv('ce889_dataCollection.csv',header = None)\n",
    "print(df.head())"
   ]
  },
  {
   "cell_type": "code",
   "execution_count": null,
   "metadata": {},
   "outputs": [],
   "source": [
    "#for dropping the duplicates\n",
    "df.drop_duplicates(inplace = True) "
   ]
  },
  {
   "cell_type": "code",
   "execution_count": null,
   "metadata": {},
   "outputs": [],
   "source": [
    "#checking for null values\n",
    "df.isnull().sum()"
   ]
  },
  {
   "cell_type": "code",
   "execution_count": 4,
   "metadata": {},
   "outputs": [
    {
     "name": "stdout",
     "output_type": "stream",
     "text": [
      "   X distance to target  Y distance to target  New Vel Y  New Vel X\n",
      "0             493.34345                 287.9        0.0       0.00\n",
      "1             493.34345                 287.9       -0.1       0.04\n",
      "2             493.30345                 288.0       -0.2       0.00\n",
      "3             493.30345                 288.2       -0.3       0.04\n",
      "4             493.26345                 288.5       -0.4       0.00\n"
     ]
    }
   ],
   "source": [
    "## Giving column names\n",
    "df.columns = [\"X distance to target\",\"Y distance to target\",\"New Vel Y\",\"New Vel X\"]\n",
    "print(df.head())"
   ]
  },
  {
   "cell_type": "code",
   "execution_count": null,
   "metadata": {},
   "outputs": [],
   "source": [
    "df.describe()"
   ]
  },
  {
   "cell_type": "code",
   "execution_count": 7,
   "metadata": {},
   "outputs": [
    {
     "data": {
      "text/html": [
       "<div>\n",
       "<style scoped>\n",
       "    .dataframe tbody tr th:only-of-type {\n",
       "        vertical-align: middle;\n",
       "    }\n",
       "\n",
       "    .dataframe tbody tr th {\n",
       "        vertical-align: top;\n",
       "    }\n",
       "\n",
       "    .dataframe thead th {\n",
       "        text-align: right;\n",
       "    }\n",
       "</style>\n",
       "<table border=\"1\" class=\"dataframe\">\n",
       "  <thead>\n",
       "    <tr style=\"text-align: right;\">\n",
       "      <th></th>\n",
       "      <th>New Vel Y</th>\n",
       "      <th>New Vel X</th>\n",
       "    </tr>\n",
       "  </thead>\n",
       "  <tbody>\n",
       "    <tr>\n",
       "      <th>0</th>\n",
       "      <td>0.0</td>\n",
       "      <td>0.00</td>\n",
       "    </tr>\n",
       "    <tr>\n",
       "      <th>1</th>\n",
       "      <td>-0.1</td>\n",
       "      <td>0.04</td>\n",
       "    </tr>\n",
       "    <tr>\n",
       "      <th>2</th>\n",
       "      <td>-0.2</td>\n",
       "      <td>0.00</td>\n",
       "    </tr>\n",
       "    <tr>\n",
       "      <th>3</th>\n",
       "      <td>-0.3</td>\n",
       "      <td>0.04</td>\n",
       "    </tr>\n",
       "    <tr>\n",
       "      <th>4</th>\n",
       "      <td>-0.4</td>\n",
       "      <td>0.00</td>\n",
       "    </tr>\n",
       "  </tbody>\n",
       "</table>\n",
       "</div>"
      ],
      "text/plain": [
       "   New Vel Y  New Vel X\n",
       "0        0.0       0.00\n",
       "1       -0.1       0.04\n",
       "2       -0.2       0.00\n",
       "3       -0.3       0.04\n",
       "4       -0.4       0.00"
      ]
     },
     "execution_count": 7,
     "metadata": {},
     "output_type": "execute_result"
    }
   ],
   "source": [
    "target = df.drop(columns = [\"X distance to target\",\"Y distance to target\"], axis = 1)\n",
    "target.head()"
   ]
  },
  {
   "cell_type": "code",
   "execution_count": 8,
   "metadata": {
    "scrolled": true
   },
   "outputs": [
    {
     "data": {
      "text/html": [
       "<div>\n",
       "<style scoped>\n",
       "    .dataframe tbody tr th:only-of-type {\n",
       "        vertical-align: middle;\n",
       "    }\n",
       "\n",
       "    .dataframe tbody tr th {\n",
       "        vertical-align: top;\n",
       "    }\n",
       "\n",
       "    .dataframe thead th {\n",
       "        text-align: right;\n",
       "    }\n",
       "</style>\n",
       "<table border=\"1\" class=\"dataframe\">\n",
       "  <thead>\n",
       "    <tr style=\"text-align: right;\">\n",
       "      <th></th>\n",
       "      <th>X distance to target</th>\n",
       "      <th>Y distance to target</th>\n",
       "      <th>New Vel Y</th>\n",
       "      <th>New Vel X</th>\n",
       "    </tr>\n",
       "  </thead>\n",
       "  <tbody>\n",
       "    <tr>\n",
       "      <th>0</th>\n",
       "      <td>0.979004</td>\n",
       "      <td>0.371555</td>\n",
       "      <td>0.437972</td>\n",
       "      <td>0.587013</td>\n",
       "    </tr>\n",
       "    <tr>\n",
       "      <th>1</th>\n",
       "      <td>0.979004</td>\n",
       "      <td>0.371555</td>\n",
       "      <td>0.428183</td>\n",
       "      <td>0.590585</td>\n",
       "    </tr>\n",
       "    <tr>\n",
       "      <th>2</th>\n",
       "      <td>0.978965</td>\n",
       "      <td>0.371722</td>\n",
       "      <td>0.418393</td>\n",
       "      <td>0.587013</td>\n",
       "    </tr>\n",
       "    <tr>\n",
       "      <th>3</th>\n",
       "      <td>0.978965</td>\n",
       "      <td>0.372055</td>\n",
       "      <td>0.408604</td>\n",
       "      <td>0.590585</td>\n",
       "    </tr>\n",
       "    <tr>\n",
       "      <th>4</th>\n",
       "      <td>0.978927</td>\n",
       "      <td>0.372555</td>\n",
       "      <td>0.398815</td>\n",
       "      <td>0.587013</td>\n",
       "    </tr>\n",
       "  </tbody>\n",
       "</table>\n",
       "</div>"
      ],
      "text/plain": [
       "   X distance to target  Y distance to target  New Vel Y  New Vel X\n",
       "0              0.979004              0.371555   0.437972   0.587013\n",
       "1              0.979004              0.371555   0.428183   0.590585\n",
       "2              0.978965              0.371722   0.418393   0.587013\n",
       "3              0.978965              0.372055   0.408604   0.590585\n",
       "4              0.978927              0.372555   0.398815   0.587013"
      ]
     },
     "execution_count": 8,
     "metadata": {},
     "output_type": "execute_result"
    }
   ],
   "source": [
    "#normalization\n",
    "data_min = df.min()\n",
    "data_max = df.max()\n",
    "normalizeddata = (df - df.min()) / (df.max() - df.min())\n",
    "normalizeddata.head()"
   ]
  },
  {
   "cell_type": "code",
   "execution_count": 9,
   "metadata": {
    "scrolled": true
   },
   "outputs": [
    {
     "data": {
      "text/html": [
       "<div>\n",
       "<style scoped>\n",
       "    .dataframe tbody tr th:only-of-type {\n",
       "        vertical-align: middle;\n",
       "    }\n",
       "\n",
       "    .dataframe tbody tr th {\n",
       "        vertical-align: top;\n",
       "    }\n",
       "\n",
       "    .dataframe thead th {\n",
       "        text-align: right;\n",
       "    }\n",
       "</style>\n",
       "<table border=\"1\" class=\"dataframe\">\n",
       "  <thead>\n",
       "    <tr style=\"text-align: right;\">\n",
       "      <th></th>\n",
       "      <th>X distance to target</th>\n",
       "      <th>Y distance to target</th>\n",
       "      <th>New Vel Y</th>\n",
       "      <th>New Vel X</th>\n",
       "    </tr>\n",
       "  </thead>\n",
       "  <tbody>\n",
       "    <tr>\n",
       "      <th>count</th>\n",
       "      <td>17254.000000</td>\n",
       "      <td>17254.000000</td>\n",
       "      <td>17254.000000</td>\n",
       "      <td>17254.000000</td>\n",
       "    </tr>\n",
       "    <tr>\n",
       "      <th>mean</th>\n",
       "      <td>0.524060</td>\n",
       "      <td>0.425293</td>\n",
       "      <td>0.488790</td>\n",
       "      <td>0.580261</td>\n",
       "    </tr>\n",
       "    <tr>\n",
       "      <th>std</th>\n",
       "      <td>0.150935</td>\n",
       "      <td>0.209767</td>\n",
       "      <td>0.183466</td>\n",
       "      <td>0.131289</td>\n",
       "    </tr>\n",
       "    <tr>\n",
       "      <th>min</th>\n",
       "      <td>0.000000</td>\n",
       "      <td>0.000000</td>\n",
       "      <td>0.000000</td>\n",
       "      <td>0.000000</td>\n",
       "    </tr>\n",
       "    <tr>\n",
       "      <th>25%</th>\n",
       "      <td>0.494352</td>\n",
       "      <td>0.280797</td>\n",
       "      <td>0.356140</td>\n",
       "      <td>0.583751</td>\n",
       "    </tr>\n",
       "    <tr>\n",
       "      <th>50%</th>\n",
       "      <td>0.530185</td>\n",
       "      <td>0.423735</td>\n",
       "      <td>0.498647</td>\n",
       "      <td>0.587794</td>\n",
       "    </tr>\n",
       "    <tr>\n",
       "      <th>75%</th>\n",
       "      <td>0.568576</td>\n",
       "      <td>0.577461</td>\n",
       "      <td>0.625483</td>\n",
       "      <td>0.606281</td>\n",
       "    </tr>\n",
       "    <tr>\n",
       "      <th>max</th>\n",
       "      <td>1.000000</td>\n",
       "      <td>1.000000</td>\n",
       "      <td>1.000000</td>\n",
       "      <td>1.000000</td>\n",
       "    </tr>\n",
       "  </tbody>\n",
       "</table>\n",
       "</div>"
      ],
      "text/plain": [
       "       X distance to target  Y distance to target     New Vel Y     New Vel X\n",
       "count          17254.000000          17254.000000  17254.000000  17254.000000\n",
       "mean               0.524060              0.425293      0.488790      0.580261\n",
       "std                0.150935              0.209767      0.183466      0.131289\n",
       "min                0.000000              0.000000      0.000000      0.000000\n",
       "25%                0.494352              0.280797      0.356140      0.583751\n",
       "50%                0.530185              0.423735      0.498647      0.587794\n",
       "75%                0.568576              0.577461      0.625483      0.606281\n",
       "max                1.000000              1.000000      1.000000      1.000000"
      ]
     },
     "execution_count": 9,
     "metadata": {},
     "output_type": "execute_result"
    }
   ],
   "source": [
    "normalizeddata.describe()"
   ]
  },
  {
   "cell_type": "code",
   "execution_count": 10,
   "metadata": {},
   "outputs": [
    {
     "name": "stdout",
     "output_type": "stream",
     "text": [
      "(13803, 4)\n",
      "(3451, 4)\n"
     ]
    }
   ],
   "source": [
    "#spliting data\n",
    "training , testing= train_test_split(normalizeddata, test_size = 0.2)\n",
    "print(training.shape)\n",
    "print(testing.shape)"
   ]
  },
  {
   "cell_type": "code",
   "execution_count": 11,
   "metadata": {},
   "outputs": [],
   "source": [
    "#Splitting inputs & outputs for training, validation & testing data\n",
    "x_train_input = np.array(training[[\"X distance to target\",\"Y distance to target\"]]).T\n",
    "y_train_output = np.array(training[[\"New Vel Y\",\"New Vel X\"]]).T\n",
    "\n",
    "x_testing_input = np.array(testing[[\"X distance to target\",\"Y distance to target\"]]).T\n",
    "y_testing_output = np.array(testing[[\"New Vel Y\",\"New Vel X\"]]).T"
   ]
  },
  {
   "cell_type": "code",
   "execution_count": 20,
   "metadata": {},
   "outputs": [],
   "source": [
    "#Defining Sigmoid Function\n",
    "class Sig:\n",
    "    def sigmoid(x):  \n",
    "        return 1/(1+np.exp(-x*0.01))\n",
    "    def sigmoid_derivative(x):  \n",
    "        return x*(1-x)"
   ]
  },
  {
   "cell_type": "code",
   "execution_count": 14,
   "metadata": {},
   "outputs": [],
   "source": [
    " #Forward Propagation\n",
    "class FP:\n",
    "    def fwd_propagation(x_fwd_input, model):    \n",
    "        Weight_hidden, bias_hidden, Weight_output, bias_output = model['w1'], model['b1'], model['w2'], model['b2']\n",
    "        z1 = np.dot(Weight_hidden, x_fwd_input) +bias_hidden\n",
    "        a1 = Sig.sigmoid(z1)     #activation layer\n",
    "        z2 = np.dot(Weight_output, a1) + bias_output\n",
    "        a2 = Sig.sigmoid(z2)\n",
    "        return(a2)  "
   ]
  },
  {
   "cell_type": "code",
   "execution_count": 15,
   "metadata": {},
   "outputs": [],
   "source": [
    "#calculating loss\n",
    "class Loss:\n",
    "    def calculate_loss(model, x_trainloss, y_trainloss):\n",
    "       #calling model prediction\n",
    "        Weight_hidden, bias_hidden, Weight_output, bias_output = model['w1'], model['b1'], model['w2'], model['b2']\n",
    "        z1 = np.dot(Weight_hidden, x_trainloss) +bias_hidden\n",
    "        a1 = Sig.(z1)  #activation layer\n",
    "        z2 = np.dot(Weight_output, a1) + bias_output\n",
    "        a2 = Sig.sigmoid(z2) \n",
    "        rmserror = np.mean(np.square(y_trainloss - a2))\n",
    "        z2 = np.dot(Weight_output, a1) + bias_output\n",
    "        a2 = Sig.sigmoid(z2)\n",
    "        return rmserror"
   ]
  },
  {
   "cell_type": "code",
   "execution_count": 16,
   "metadata": {},
   "outputs": [],
   "source": [
    "#Backward Propagation\n",
    "class BP:\n",
    "    \n",
    "    def back_propagation(model,x_train_input, a2, error, r_lambda, l_rate, epsilon):\n",
    "        Weight_hidden, bias_hidden, Weight_output, bias_output, dWeight_hidden_old, dWeight_output_old = model['w1'], model['b1'], model['w2'], model['b2'], model['dw1_old'], model['dw2_old']\n",
    "    \n",
    "        delta2 = r_lambda *(error * Sig.sigmoid_derivative(a2))\n",
    "        a1 = Sig.sigmoid(np.dot(Weight_hidden, x_train_input) +bias_hidden)  \n",
    "        delta1 = r_lambda * np.dot(Weight_output.T, delta2)*Sig.sigmoid_derivative(a1)\n",
    "      \n",
    "        dWeight_output = np.dot(delta2, a1.T)\n",
    "        dWeight_hidden = np.dot(delta1, x_train_input.T)\n",
    "        dbias_output = np.sum(delta2, axis=1, keepdims=True)\n",
    "        dbias_hidden = np.sum(delta1, axis=1, keepdims=True)\n",
    "    \n",
    "    \n",
    "        \n",
    "        # update the weights with the derivative (slope) of the loss function\n",
    "        Weight_hidden += l_rate*dWeight_hidden + epsilon * dWeight_hidden_old\n",
    "        Weight_output += l_rate*dWeight_output + epsilon * dWeight_output_old\n",
    "        bias_hidden += l_rate*dbias_hidden\n",
    "        bias_output += l_rate*dbias_output\n",
    "        # Assign new parameters to the model\n",
    "        model = { 'w1': Weight_hidden, 'b1': bias_hidden, 'w2': Weight_output, 'b2': bias_output, \"dw1_old\":dWeight_hidden, \"dw2_old\": dWeight_output}\n",
    "        return model"
   ]
  },
  {
   "cell_type": "code",
   "execution_count": 18,
   "metadata": {},
   "outputs": [],
   "source": [
    "class Build_Model:\n",
    "    \n",
    "    #Building Model\n",
    "    def build_model(x_train_input, y_train_output,n_hidden, r_lambda, l_rate, epsilon, epochs):\n",
    "    \n",
    "        #initialize parameters to random values\n",
    "        Weight_hidden = np.random.rand(n_hidden,2) \n",
    "        bias_hidden = np.zeros((n_hidden,1))\n",
    "        Weight_output = np.random.rand(2,n_hidden) \n",
    "        bias_output = np.zeros((2,1))\n",
    "    \n",
    "        #gradient momentum initilizations\n",
    "        dWeight_hidden_old = np.zeros((n_hidden,2))\n",
    "        dWeight_output_old = np.zeros((2,n_hidden))\n",
    "    \n",
    "        #Declaring dictonary for storing parameters for later use\n",
    "        model = {}\n",
    "    \n",
    "        # Assign new parameters to the model\n",
    "        model = { 'w1': Weight_hidden,'b1': bias_hidden, 'w2': Weight_output, 'b2': bias_output, \"dw1_old\":dWeight_hidden_old, \"dw2_old\": dWeight_output_old}\n",
    "    \n",
    "        training_loss= []\n",
    "\n",
    "        for i in range(0, epochs):\n",
    "        \n",
    "            #forward propagation\n",
    "            a2 = FP.fwd_propagation(x_train_input, model)\n",
    "            error = 2*(y_train_output - a2)\n",
    "        \n",
    "            #backward propagation\n",
    "            model = BP.back_propagation(model,x_train_input, a2, error, r_lambda, l_rate, epsilon)\n",
    "                \n",
    "            rmserror  = Loss.calculate_loss(model, x_train_input, y_train_output)\n",
    "\n",
    "            training_loss.append(rmserror)\n",
    "        \n",
    "        # Optionally print the loss.\n",
    "        # This is expensive because it uses the whole dataset, so we don't want to do it too often.\n",
    "            if i % 300 == 0:\n",
    "                print(\"Loss after iteration %i: training loss = %f  \" %(i,rmserror))\n",
    "     \n",
    "        return model, training_loss"
   ]
  },
  {
   "cell_type": "code",
   "execution_count": 19,
   "metadata": {
    "scrolled": true
   },
   "outputs": [
    {
     "name": "stdout",
     "output_type": "stream",
     "text": [
      "Loss after iteration 0: training loss = 0.028317  \n",
      "Loss after iteration 300: training loss = 0.025427  \n",
      "Loss after iteration 600: training loss = 0.024946  \n",
      "Loss after iteration 900: training loss = 0.023034  \n"
     ]
    }
   ],
   "source": [
    "# Giving the hyperparameters, training the model and finding the loss\n",
    "model, training_loss = Build_Model.build_model(x_train_input, y_train_output,n_hidden= 5, epochs = 1001, epsilon=0.1, r_lambda = 0.1, l_rate=0.01)"
   ]
  },
  {
   "cell_type": "code",
   "execution_count": null,
   "metadata": {
    "scrolled": true
   },
   "outputs": [],
   "source": [
    "model[\"w1\"]"
   ]
  },
  {
   "cell_type": "code",
   "execution_count": null,
   "metadata": {
    "scrolled": true
   },
   "outputs": [],
   "source": [
    "model[\"w2\"]"
   ]
  },
  {
   "cell_type": "code",
   "execution_count": null,
   "metadata": {
    "scrolled": true
   },
   "outputs": [],
   "source": [
    "model[\"b1\"]"
   ]
  },
  {
   "cell_type": "code",
   "execution_count": null,
   "metadata": {},
   "outputs": [],
   "source": [
    "model[\"b2\"]"
   ]
  },
  {
   "cell_type": "code",
   "execution_count": null,
   "metadata": {},
   "outputs": [],
   "source": [
    "def plot_erros(training_loss):\n",
    "    plt.plot(training_loss)\n",
    "    plt.xlabel('number of epochs')\n",
    "    plt.ylabel('loss')\n",
    "    plt.title('loss vs number of epochs')\n",
    "    plt.legend(['training'], loc='upper right')\n",
    "    plt.xlim(0, 10000)\n",
    "    plt.show()\n",
    "plot_erros(training_loss)"
   ]
  },
  {
   "cell_type": "code",
   "execution_count": null,
   "metadata": {},
   "outputs": [],
   "source": [
    "y_prediction = fwd_propagation(x_testing_input, model)\n",
    "y_prediction_df = pd.DataFrame(y_prediction.T,columns=[\"New Vel Y\",\"New Vel X\"])\n",
    "y_prediction_df.head()"
   ]
  },
  {
   "cell_type": "code",
   "execution_count": null,
   "metadata": {},
   "outputs": [],
   "source": [
    "#RMSerror for normalized data\n",
    "rmserror_test = np.mean(np.square( (y_testing_output.T) - y_prediction_df))\n",
    "rmserror_test"
   ]
  },
  {
   "cell_type": "code",
   "execution_count": null,
   "metadata": {},
   "outputs": [],
   "source": [
    "#denormalize predicted data\n",
    "y_prediction_df['New Vel Y'] = data_min['New Vel Y'] + y_prediction_df['New Vel Y']*(data_max['New Vel Y'] - data_min['New Vel Y']) \n",
    "y_prediction_df['New Vel X'] = data_min['New Vel X'] + y_prediction_df['New Vel X']*(data_max['New Vel X'] - data_min['New Vel X']) "
   ]
  },
  {
   "cell_type": "code",
   "execution_count": null,
   "metadata": {
    "scrolled": true
   },
   "outputs": [],
   "source": [
    "y_prediction_df.describe()"
   ]
  }
 ],
 "metadata": {
  "kernelspec": {
   "display_name": "Python 3",
   "language": "python",
   "name": "python3"
  },
  "language_info": {
   "codemirror_mode": {
    "name": "ipython",
    "version": 3
   },
   "file_extension": ".py",
   "mimetype": "text/x-python",
   "name": "python",
   "nbconvert_exporter": "python",
   "pygments_lexer": "ipython3",
   "version": "3.8.3"
  }
 },
 "nbformat": 4,
 "nbformat_minor": 4
}
