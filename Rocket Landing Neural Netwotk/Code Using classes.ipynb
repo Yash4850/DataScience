{
 "cells": [
  {
   "cell_type": "code",
   "execution_count": 1,
   "metadata": {},
   "outputs": [],
   "source": [
    "#Importing the required libraries\n",
    "import pandas as pd   # for reading the csv files \n",
    "import numpy as np    # for matrix multiplications during forward and backward propagations\n",
    "import matplotlib.pyplot as plt # for plotting the error plot\n",
    "from sklearn.model_selection import train_test_split # for splitting the data into train and test"
   ]
  },
  {
   "cell_type": "code",
   "execution_count": 2,
   "metadata": {},
   "outputs": [
    {
     "name": "stdout",
     "output_type": "stream",
     "text": [
      "Checking For Null values 0    0\n",
      "1    0\n",
      "2    0\n",
      "3    0\n",
      "dtype: int64\n",
      "Shape of Training Data (33961, 4)\n",
      "Shape of Testing Data (8491, 4)\n"
     ]
    }
   ],
   "source": [
    "class Preprocessing:\n",
    "    df = pd.read_csv('ce889_dataCollection.csv',header = None)\n",
    "    # for dropping the duplicates\n",
    "    df.drop_duplicates(inplace = True)\n",
    "    # checking for null values\n",
    "    print(\"Checking For Null values\", df.isnull().sum())\n",
    "    # Giving column names\n",
    "    df.columns = [\"X distance to target\",\"Y distance to target\",\"New Vel Y\",\"New Vel X\"]\n",
    "    # normalization\n",
    "    data_min = df.min()\n",
    "    data_max = df.max()\n",
    "    normalizeddata = (df - df.min()) / (df.max() - df.min())\n",
    "    # spliting data\n",
    "    training , testing= train_test_split(normalizeddata, test_size = 0.2)\n",
    "    print(\"Shape of Training Data\", training.shape)\n",
    "    print(\"Shape of Testing Data\", testing.shape)\n",
    "    # Splitting inputs & outputs for training, validation & testing data\n",
    "    x_train_input = np.array(training[[\"X distance to target\",\"Y distance to target\"]]).T\n",
    "    y_train_output = np.array(training[[\"New Vel Y\",\"New Vel X\"]]).T\n",
    "\n",
    "    x_testing_input = np.array(testing[[\"X distance to target\",\"Y distance to target\"]]).T\n",
    "    y_testing_output = np.array(testing[[\"New Vel Y\",\"New Vel X\"]]).T"
   ]
  },
  {
   "cell_type": "code",
   "execution_count": 3,
   "metadata": {},
   "outputs": [],
   "source": [
    "#Defining Sigmoid Function\n",
    "class Sig:\n",
    "    def sigmoid(x):  \n",
    "        return 1/(1+np.exp(-x*0.01))\n",
    "    def sigmoid_derivative(x):  \n",
    "        return x*(1-x)"
   ]
  },
  {
   "cell_type": "code",
   "execution_count": 4,
   "metadata": {},
   "outputs": [],
   "source": [
    "#Forward Propagation\n",
    "class FP:\n",
    "    def fwd_propagation(x_fwd_input, model):    \n",
    "        Weight_hidden, bias_hidden, Weight_output, bias_output = model['w1'], model['b1'], model['w2'], model['b2']\n",
    "        z1 = np.dot(Weight_hidden, x_fwd_input) +bias_hidden\n",
    "        a1 = Sig.sigmoid(z1)     #activation layer\n",
    "        z2 = np.dot(Weight_output, a1) + bias_output\n",
    "        a2 = Sig.sigmoid(z2)\n",
    "        return(a2)  "
   ]
  },
  {
   "cell_type": "code",
   "execution_count": 5,
   "metadata": {},
   "outputs": [],
   "source": [
    "#calculating loss\n",
    "class Loss:\n",
    "    def calculate_loss(model, x_trainloss, y_trainloss):\n",
    "       #calling model prediction\n",
    "        Weight_hidden, bias_hidden, Weight_output, bias_output = model['w1'], model['b1'], model['w2'], model['b2']\n",
    "        z1 = np.dot(Weight_hidden, x_trainloss) +bias_hidden\n",
    "        a1 = Sig.sigmoid(z1)  #activation layer\n",
    "        z2 = np.dot(Weight_output, a1) + bias_output\n",
    "        a2 = Sig.sigmoid(z2) \n",
    "        rmserror = np.mean(np.square(y_trainloss - a2))\n",
    "        z2 = np.dot(Weight_output, a1) + bias_output\n",
    "        a2 = Sig.sigmoid(z2)\n",
    "        return rmserror"
   ]
  },
  {
   "cell_type": "code",
   "execution_count": 6,
   "metadata": {},
   "outputs": [],
   "source": [
    "#Backward Propagation\n",
    "class BP:\n",
    "    \n",
    "    def back_propagation(model,x_train_input, a2, error, r_lambda, l_rate, epsilon):\n",
    "        Weight_hidden, bias_hidden, Weight_output, bias_output, dWeight_hidden_old, dWeight_output_old = model['w1'], model['b1'], model['w2'], model['b2'], model['dw1_old'], model['dw2_old']\n",
    "    \n",
    "        delta2 = r_lambda *(error * Sig.sigmoid_derivative(a2))\n",
    "        a1 = Sig.sigmoid(np.dot(Weight_hidden, x_train_input) +bias_hidden)  \n",
    "        delta1 = r_lambda * np.dot(Weight_output.T, delta2)*Sig.sigmoid_derivative(a1)\n",
    "      \n",
    "        dWeight_output = np.dot(delta2, a1.T)\n",
    "        dWeight_hidden = np.dot(delta1, x_train_input.T)\n",
    "        dbias_output = np.sum(delta2, axis=1, keepdims=True)\n",
    "        dbias_hidden = np.sum(delta1, axis=1, keepdims=True)\n",
    "        \n",
    "        # update the weights with the derivative (slope) of the loss function\n",
    "        Weight_hidden += l_rate*dWeight_hidden + epsilon * dWeight_hidden_old\n",
    "        Weight_output += l_rate*dWeight_output + epsilon * dWeight_output_old\n",
    "        bias_hidden += l_rate*dbias_hidden\n",
    "        bias_output += l_rate*dbias_output\n",
    "        # Assign new parameters to the model\n",
    "        model = { 'w1': Weight_hidden, 'b1': bias_hidden, 'w2': Weight_output, 'b2': bias_output, \"dw1_old\":dWeight_hidden, \"dw2_old\": dWeight_output}\n",
    "        return model"
   ]
  },
  {
   "cell_type": "code",
   "execution_count": 7,
   "metadata": {},
   "outputs": [],
   "source": [
    "class Build_Model:\n",
    "    \n",
    "    #Building Model\n",
    "    def build_model(x_train_input, y_train_output,n_hidden, r_lambda, l_rate, epsilon, epochs):\n",
    "    \n",
    "        #initialize parameters to random values\n",
    "        Weight_hidden = np.random.rand(n_hidden,2) \n",
    "        bias_hidden = np.zeros((n_hidden,1))\n",
    "        Weight_output = np.random.rand(2,n_hidden) \n",
    "        bias_output = np.zeros((2,1))\n",
    "    \n",
    "        #gradient momentum initilizations\n",
    "        dWeight_hidden_old = np.zeros((n_hidden,2))\n",
    "        dWeight_output_old = np.zeros((2,n_hidden))\n",
    "    \n",
    "        #Declaring dictonary for storing parameters for later use\n",
    "        model = {}\n",
    "    \n",
    "        # Assign new parameters to the model\n",
    "        model = { 'w1': Weight_hidden,'b1': bias_hidden, 'w2': Weight_output, 'b2': bias_output, \"dw1_old\":dWeight_hidden_old, \"dw2_old\": dWeight_output_old}\n",
    "    \n",
    "        training_loss= []\n",
    "\n",
    "        for i in range(0, epochs):\n",
    "        \n",
    "            #forward propagation\n",
    "            a2 = FP.fwd_propagation(x_train_input, model)\n",
    "            error = 2*(y_train_output - a2)\n",
    "        \n",
    "            #backward propagation\n",
    "            model = BP.back_propagation(model,x_train_input, a2, error, r_lambda, l_rate, epsilon)\n",
    "                \n",
    "            rmserror  = Loss.calculate_loss(model, x_train_input, y_train_output)\n",
    "\n",
    "            training_loss.append(rmserror)\n",
    "        \n",
    "        # Optionally print the loss.\n",
    "        # This is expensive because it uses the whole dataset, so we don't want to do it too often.\n",
    "            if i % 100 == 0:\n",
    "                print(\"Loss after iteration %i: training loss = %f  \" %(i,rmserror))\n",
    "     \n",
    "        return model, training_loss"
   ]
  },
  {
   "cell_type": "code",
   "execution_count": 8,
   "metadata": {},
   "outputs": [
    {
     "name": "stdout",
     "output_type": "stream",
     "text": [
      "Loss after iteration 0: training loss = 0.040193  \n",
      "Loss after iteration 100: training loss = 0.038479  \n",
      "Loss after iteration 200: training loss = 0.032149  \n",
      "Loss after iteration 300: training loss = 0.027539  \n",
      "Loss after iteration 400: training loss = 0.024128  \n",
      "Loss after iteration 500: training loss = 0.022651  \n"
     ]
    }
   ],
   "source": [
    "# Giving the hyperparameters, training the model and finding the loss\n",
    "# Here epsilon is momentum, l_rate is learning rate, r_lambda is the lambda in activation function (sigmoid)\n",
    "# Tried r_lambda, epsilon and l_rate from 0.01 to 0.1, found the below values as best\n",
    "model, training_loss = Build_Model.build_model(Preprocessing.x_train_input, Preprocessing.y_train_output,n_hidden= 8, epochs = 501, epsilon=0.1, r_lambda = 0.1, l_rate=0.01)"
   ]
  },
  {
   "cell_type": "code",
   "execution_count": 9,
   "metadata": {
    "scrolled": true
   },
   "outputs": [
    {
     "name": "stdout",
     "output_type": "stream",
     "text": [
      "self.Weight_hidden = array([[ 107.92395786,   51.15501611],\n",
      "       [ -54.41248247,  615.23629485],\n",
      "       [-174.03811475,   64.46754042],\n",
      "       [ -17.24787116, -482.22247519],\n",
      "       [ -85.59283823, -194.17978103],\n",
      "       [-747.3972612 ,  276.67374327],\n",
      "       [-488.54208272,  154.99632605],\n",
      "       [-243.40722771,  120.71325718]]) \n",
      "self.Weight_output =  array([[  35.20662579, -150.42031193,   69.82113102,  171.07020954,\n",
      "         104.93964661, -153.22644207,  -62.74477503,   66.55586463],\n",
      "       [  51.46762414,   61.49604124,  -59.18365321,   -8.76118952,\n",
      "         -17.01102988, -125.89896749,  -89.50138307, -102.32016877]]) \n",
      "self.bias_hidden =  array([[  6.59686353],\n",
      "       [-55.49602423],\n",
      "       [ 17.73738336],\n",
      "       [ 32.92665458],\n",
      "       [ 17.34968893],\n",
      "       [ -5.69817708],\n",
      "       [-24.20287629],\n",
      "       [ 29.30519396]]) \n",
      "self.bias_output =  array([[22.17138921],\n",
      "       [ 6.370429  ]])\n"
     ]
    }
   ],
   "source": [
    "# hidden weights\n",
    "print(\"self.Weight_hidden =\", repr(model[\"w1\"]), \"\\nself.Weight_output = \",repr(model[\"w2\"]), \"\\nself.bias_hidden = \",repr(model[\"b1\"]),\"\\nself.bias_output = \",repr(model[\"b2\"]))"
   ]
  },
  {
   "cell_type": "code",
   "execution_count": 10,
   "metadata": {},
   "outputs": [
    {
     "data": {
      "image/png": "[encoded data removed]",
      "text/plain": [
       "<Figure size 432x288 with 1 Axes>"
      ]
     },
     "metadata": {
      "needs_background": "light"
     },
     "output_type": "display_data"
    }
   ],
   "source": [
    "def plot_erros(training_loss):\n",
    "    plt.plot(training_loss)\n",
    "    plt.xlabel('number of epochs')\n",
    "    plt.ylabel('loss')\n",
    "    plt.title('loss vs number of epochs')\n",
    "    plt.legend(['training'], loc='upper right')\n",
    "    plt.xlim(0, 500)\n",
    "    plt.show()\n",
    "plot_erros(training_loss)"
   ]
  }
 ],
 "metadata": {
  "kernelspec": {
   "display_name": "Python 3",
   "language": "python",
   "name": "python3"
  },
  "language_info": {
   "codemirror_mode": {
    "name": "ipython",
    "version": 3
   },
   "file_extension": ".py",
   "mimetype": "text/x-python",
   "name": "python",
   "nbconvert_exporter": "python",
   "pygments_lexer": "ipython3",
   "version": "3.8.5"
  }
 },
 "nbformat": 4,
 "nbformat_minor": 4
}
