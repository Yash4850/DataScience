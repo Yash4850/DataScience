{
 "cells": [
  {
   "cell_type": "code",
   "execution_count": 1,
   "metadata": {},
   "outputs": [],
   "source": [
    "#Importing the required libraries\n",
    "import pandas as pd \n",
    "import seaborn as sns\n",
    "import numpy as np    #for matrix multiplications during forward and backward propagations\n",
    "import matplotlib.pyplot as plt #for plotting the error plot\n",
    "from sklearn.model_selection import train_test_split #for splitting the data into train and test\n",
    "from math import sqrt "
   ]
  },
  {
   "cell_type": "code",
   "execution_count": 2,
   "metadata": {
    "scrolled": true
   },
   "outputs": [
    {
     "data": {
      "text/html": [
       "<div>\n",
       "<style scoped>\n",
       "    .dataframe tbody tr th:only-of-type {\n",
       "        vertical-align: middle;\n",
       "    }\n",
       "\n",
       "    .dataframe tbody tr th {\n",
       "        vertical-align: top;\n",
       "    }\n",
       "\n",
       "    .dataframe thead th {\n",
       "        text-align: right;\n",
       "    }\n",
       "</style>\n",
       "<table border=\"1\" class=\"dataframe\">\n",
       "  <thead>\n",
       "    <tr style=\"text-align: right;\">\n",
       "      <th></th>\n",
       "      <th>0</th>\n",
       "      <th>1</th>\n",
       "      <th>2</th>\n",
       "      <th>3</th>\n",
       "    </tr>\n",
       "  </thead>\n",
       "  <tbody>\n",
       "    <tr>\n",
       "      <th>0</th>\n",
       "      <td>-464.13699</td>\n",
       "      <td>287.900000</td>\n",
       "      <td>0.000000</td>\n",
       "      <td>0.000000</td>\n",
       "    </tr>\n",
       "    <tr>\n",
       "      <th>1</th>\n",
       "      <td>-464.13699</td>\n",
       "      <td>287.900000</td>\n",
       "      <td>-0.100000</td>\n",
       "      <td>0.040000</td>\n",
       "    </tr>\n",
       "    <tr>\n",
       "      <th>2</th>\n",
       "      <td>-464.17699</td>\n",
       "      <td>288.000000</td>\n",
       "      <td>-0.200000</td>\n",
       "      <td>0.000000</td>\n",
       "    </tr>\n",
       "    <tr>\n",
       "      <th>3</th>\n",
       "      <td>-464.17699</td>\n",
       "      <td>288.200000</td>\n",
       "      <td>-0.299878</td>\n",
       "      <td>0.033020</td>\n",
       "    </tr>\n",
       "    <tr>\n",
       "      <th>4</th>\n",
       "      <td>-464.21001</td>\n",
       "      <td>288.499878</td>\n",
       "      <td>-0.399391</td>\n",
       "      <td>-0.020931</td>\n",
       "    </tr>\n",
       "  </tbody>\n",
       "</table>\n",
       "</div>"
      ],
      "text/plain": [
       "           0           1         2         3\n",
       "0 -464.13699  287.900000  0.000000  0.000000\n",
       "1 -464.13699  287.900000 -0.100000  0.040000\n",
       "2 -464.17699  288.000000 -0.200000  0.000000\n",
       "3 -464.17699  288.200000 -0.299878  0.033020\n",
       "4 -464.21001  288.499878 -0.399391 -0.020931"
      ]
     },
     "execution_count": 2,
     "metadata": {},
     "output_type": "execute_result"
    }
   ],
   "source": [
    "#reading the data file\n",
    "df = pd.read_csv('ce889_dataCollection.csv',header = None)\n",
    "df.head()"
   ]
  },
  {
   "cell_type": "code",
   "execution_count": 3,
   "metadata": {},
   "outputs": [],
   "source": [
    "#for dropping the duplicates\n",
    "df.drop_duplicates(inplace = True) "
   ]
  },
  {
   "cell_type": "code",
   "execution_count": 4,
   "metadata": {},
   "outputs": [
    {
     "data": {
      "text/plain": [
       "0    0\n",
       "1    0\n",
       "2    0\n",
       "3    0\n",
       "dtype: int64"
      ]
     },
     "execution_count": 4,
     "metadata": {},
     "output_type": "execute_result"
    }
   ],
   "source": [
    "#checking for null values\n",
    "df.isnull().sum()"
   ]
  },
  {
   "cell_type": "code",
   "execution_count": 5,
   "metadata": {},
   "outputs": [
    {
     "data": {
      "text/html": [
       "<div>\n",
       "<style scoped>\n",
       "    .dataframe tbody tr th:only-of-type {\n",
       "        vertical-align: middle;\n",
       "    }\n",
       "\n",
       "    .dataframe tbody tr th {\n",
       "        vertical-align: top;\n",
       "    }\n",
       "\n",
       "    .dataframe thead th {\n",
       "        text-align: right;\n",
       "    }\n",
       "</style>\n",
       "<table border=\"1\" class=\"dataframe\">\n",
       "  <thead>\n",
       "    <tr style=\"text-align: right;\">\n",
       "      <th></th>\n",
       "      <th>X distance to target</th>\n",
       "      <th>Y distance to target</th>\n",
       "      <th>New Vel Y</th>\n",
       "      <th>New Vel X</th>\n",
       "    </tr>\n",
       "  </thead>\n",
       "  <tbody>\n",
       "    <tr>\n",
       "      <th>0</th>\n",
       "      <td>-464.13699</td>\n",
       "      <td>287.900000</td>\n",
       "      <td>0.000000</td>\n",
       "      <td>0.000000</td>\n",
       "    </tr>\n",
       "    <tr>\n",
       "      <th>1</th>\n",
       "      <td>-464.13699</td>\n",
       "      <td>287.900000</td>\n",
       "      <td>-0.100000</td>\n",
       "      <td>0.040000</td>\n",
       "    </tr>\n",
       "    <tr>\n",
       "      <th>2</th>\n",
       "      <td>-464.17699</td>\n",
       "      <td>288.000000</td>\n",
       "      <td>-0.200000</td>\n",
       "      <td>0.000000</td>\n",
       "    </tr>\n",
       "    <tr>\n",
       "      <th>3</th>\n",
       "      <td>-464.17699</td>\n",
       "      <td>288.200000</td>\n",
       "      <td>-0.299878</td>\n",
       "      <td>0.033020</td>\n",
       "    </tr>\n",
       "    <tr>\n",
       "      <th>4</th>\n",
       "      <td>-464.21001</td>\n",
       "      <td>288.499878</td>\n",
       "      <td>-0.399391</td>\n",
       "      <td>-0.020931</td>\n",
       "    </tr>\n",
       "  </tbody>\n",
       "</table>\n",
       "</div>"
      ],
      "text/plain": [
       "   X distance to target  Y distance to target  New Vel Y  New Vel X\n",
       "0            -464.13699            287.900000   0.000000   0.000000\n",
       "1            -464.13699            287.900000  -0.100000   0.040000\n",
       "2            -464.17699            288.000000  -0.200000   0.000000\n",
       "3            -464.17699            288.200000  -0.299878   0.033020\n",
       "4            -464.21001            288.499878  -0.399391  -0.020931"
      ]
     },
     "execution_count": 5,
     "metadata": {},
     "output_type": "execute_result"
    }
   ],
   "source": [
    "## Giving column names\n",
    "df.columns = [\"X distance to target\",\"Y distance to target\",\"New Vel Y\",\"New Vel X\"]\n",
    "df.head()"
   ]
  },
  {
   "cell_type": "code",
   "execution_count": 6,
   "metadata": {},
   "outputs": [
    {
     "data": {
      "text/html": [
       "<div>\n",
       "<style scoped>\n",
       "    .dataframe tbody tr th:only-of-type {\n",
       "        vertical-align: middle;\n",
       "    }\n",
       "\n",
       "    .dataframe tbody tr th {\n",
       "        vertical-align: top;\n",
       "    }\n",
       "\n",
       "    .dataframe thead th {\n",
       "        text-align: right;\n",
       "    }\n",
       "</style>\n",
       "<table border=\"1\" class=\"dataframe\">\n",
       "  <thead>\n",
       "    <tr style=\"text-align: right;\">\n",
       "      <th></th>\n",
       "      <th>X distance to target</th>\n",
       "      <th>Y distance to target</th>\n",
       "      <th>New Vel Y</th>\n",
       "      <th>New Vel X</th>\n",
       "    </tr>\n",
       "  </thead>\n",
       "  <tbody>\n",
       "    <tr>\n",
       "      <th>count</th>\n",
       "      <td>42452.000000</td>\n",
       "      <td>42452.000000</td>\n",
       "      <td>42452.000000</td>\n",
       "      <td>42452.000000</td>\n",
       "    </tr>\n",
       "    <tr>\n",
       "      <th>mean</th>\n",
       "      <td>-2.714413</td>\n",
       "      <td>375.673574</td>\n",
       "      <td>0.885515</td>\n",
       "      <td>-0.197484</td>\n",
       "    </tr>\n",
       "    <tr>\n",
       "      <th>std</th>\n",
       "      <td>173.753766</td>\n",
       "      <td>118.884806</td>\n",
       "      <td>3.125086</td>\n",
       "      <td>1.553808</td>\n",
       "    </tr>\n",
       "    <tr>\n",
       "      <th>min</th>\n",
       "      <td>-525.059588</td>\n",
       "      <td>65.131400</td>\n",
       "      <td>-5.126444</td>\n",
       "      <td>-5.268303</td>\n",
       "    </tr>\n",
       "    <tr>\n",
       "      <th>25%</th>\n",
       "      <td>-58.897841</td>\n",
       "      <td>297.116498</td>\n",
       "      <td>-1.751738</td>\n",
       "      <td>-0.978456</td>\n",
       "    </tr>\n",
       "    <tr>\n",
       "      <th>50%</th>\n",
       "      <td>11.174910</td>\n",
       "      <td>380.102956</td>\n",
       "      <td>0.366213</td>\n",
       "      <td>-0.015031</td>\n",
       "    </tr>\n",
       "    <tr>\n",
       "      <th>75%</th>\n",
       "      <td>51.223445</td>\n",
       "      <td>464.259652</td>\n",
       "      <td>3.075331</td>\n",
       "      <td>0.351387</td>\n",
       "    </tr>\n",
       "    <tr>\n",
       "      <th>max</th>\n",
       "      <td>522.694462</td>\n",
       "      <td>630.669794</td>\n",
       "      <td>7.999783</td>\n",
       "      <td>5.416439</td>\n",
       "    </tr>\n",
       "  </tbody>\n",
       "</table>\n",
       "</div>"
      ],
      "text/plain": [
       "       X distance to target  Y distance to target     New Vel Y     New Vel X\n",
       "count          42452.000000          42452.000000  42452.000000  42452.000000\n",
       "mean              -2.714413            375.673574      0.885515     -0.197484\n",
       "std              173.753766            118.884806      3.125086      1.553808\n",
       "min             -525.059588             65.131400     -5.126444     -5.268303\n",
       "25%              -58.897841            297.116498     -1.751738     -0.978456\n",
       "50%               11.174910            380.102956      0.366213     -0.015031\n",
       "75%               51.223445            464.259652      3.075331      0.351387\n",
       "max              522.694462            630.669794      7.999783      5.416439"
      ]
     },
     "execution_count": 6,
     "metadata": {},
     "output_type": "execute_result"
    }
   ],
   "source": [
    "df.describe()"
   ]
  },
  {
   "cell_type": "code",
   "execution_count": 7,
   "metadata": {
    "scrolled": true
   },
   "outputs": [
    {
     "data": {
      "text/html": [
       "<div>\n",
       "<style scoped>\n",
       "    .dataframe tbody tr th:only-of-type {\n",
       "        vertical-align: middle;\n",
       "    }\n",
       "\n",
       "    .dataframe tbody tr th {\n",
       "        vertical-align: top;\n",
       "    }\n",
       "\n",
       "    .dataframe thead th {\n",
       "        text-align: right;\n",
       "    }\n",
       "</style>\n",
       "<table border=\"1\" class=\"dataframe\">\n",
       "  <thead>\n",
       "    <tr style=\"text-align: right;\">\n",
       "      <th></th>\n",
       "      <th>X distance to target</th>\n",
       "      <th>Y distance to target</th>\n",
       "      <th>New Vel Y</th>\n",
       "      <th>New Vel X</th>\n",
       "    </tr>\n",
       "  </thead>\n",
       "  <tbody>\n",
       "    <tr>\n",
       "      <th>0</th>\n",
       "      <td>0.058146</td>\n",
       "      <td>0.393905</td>\n",
       "      <td>0.390550</td>\n",
       "      <td>0.493068</td>\n",
       "    </tr>\n",
       "    <tr>\n",
       "      <th>1</th>\n",
       "      <td>0.058146</td>\n",
       "      <td>0.393905</td>\n",
       "      <td>0.382931</td>\n",
       "      <td>0.496812</td>\n",
       "    </tr>\n",
       "    <tr>\n",
       "      <th>2</th>\n",
       "      <td>0.058108</td>\n",
       "      <td>0.394082</td>\n",
       "      <td>0.375313</td>\n",
       "      <td>0.493068</td>\n",
       "    </tr>\n",
       "    <tr>\n",
       "      <th>3</th>\n",
       "      <td>0.058108</td>\n",
       "      <td>0.394436</td>\n",
       "      <td>0.367704</td>\n",
       "      <td>0.496158</td>\n",
       "    </tr>\n",
       "    <tr>\n",
       "      <th>4</th>\n",
       "      <td>0.058076</td>\n",
       "      <td>0.394966</td>\n",
       "      <td>0.360123</td>\n",
       "      <td>0.491109</td>\n",
       "    </tr>\n",
       "  </tbody>\n",
       "</table>\n",
       "</div>"
      ],
      "text/plain": [
       "   X distance to target  Y distance to target  New Vel Y  New Vel X\n",
       "0              0.058146              0.393905   0.390550   0.493068\n",
       "1              0.058146              0.393905   0.382931   0.496812\n",
       "2              0.058108              0.394082   0.375313   0.493068\n",
       "3              0.058108              0.394436   0.367704   0.496158\n",
       "4              0.058076              0.394966   0.360123   0.491109"
      ]
     },
     "execution_count": 7,
     "metadata": {},
     "output_type": "execute_result"
    }
   ],
   "source": [
    "#normalization\n",
    "data_min = df.min()\n",
    "data_max = df.max()\n",
    "normalizeddata = (df - df.min()) / (df.max() - df.min())\n",
    "normalizeddata.head()"
   ]
  },
  {
   "cell_type": "code",
   "execution_count": 8,
   "metadata": {},
   "outputs": [
    {
     "data": {
      "text/html": [
       "<div>\n",
       "<style scoped>\n",
       "    .dataframe tbody tr th:only-of-type {\n",
       "        vertical-align: middle;\n",
       "    }\n",
       "\n",
       "    .dataframe tbody tr th {\n",
       "        vertical-align: top;\n",
       "    }\n",
       "\n",
       "    .dataframe thead th {\n",
       "        text-align: right;\n",
       "    }\n",
       "</style>\n",
       "<table border=\"1\" class=\"dataframe\">\n",
       "  <thead>\n",
       "    <tr style=\"text-align: right;\">\n",
       "      <th></th>\n",
       "      <th>X distance to target</th>\n",
       "      <th>Y distance to target</th>\n",
       "      <th>New Vel Y</th>\n",
       "      <th>New Vel X</th>\n",
       "    </tr>\n",
       "  </thead>\n",
       "  <tbody>\n",
       "    <tr>\n",
       "      <th>count</th>\n",
       "      <td>42452.000000</td>\n",
       "      <td>42452.000000</td>\n",
       "      <td>42452.000000</td>\n",
       "      <td>42452.000000</td>\n",
       "    </tr>\n",
       "    <tr>\n",
       "      <th>mean</th>\n",
       "      <td>0.498538</td>\n",
       "      <td>0.549109</td>\n",
       "      <td>0.458011</td>\n",
       "      <td>0.474585</td>\n",
       "    </tr>\n",
       "    <tr>\n",
       "      <th>std</th>\n",
       "      <td>0.165834</td>\n",
       "      <td>0.210215</td>\n",
       "      <td>0.238080</td>\n",
       "      <td>0.145423</td>\n",
       "    </tr>\n",
       "    <tr>\n",
       "      <th>min</th>\n",
       "      <td>0.000000</td>\n",
       "      <td>0.000000</td>\n",
       "      <td>0.000000</td>\n",
       "      <td>0.000000</td>\n",
       "    </tr>\n",
       "    <tr>\n",
       "      <th>25%</th>\n",
       "      <td>0.444915</td>\n",
       "      <td>0.410202</td>\n",
       "      <td>0.257096</td>\n",
       "      <td>0.401493</td>\n",
       "    </tr>\n",
       "    <tr>\n",
       "      <th>50%</th>\n",
       "      <td>0.511794</td>\n",
       "      <td>0.556941</td>\n",
       "      <td>0.418449</td>\n",
       "      <td>0.491661</td>\n",
       "    </tr>\n",
       "    <tr>\n",
       "      <th>75%</th>\n",
       "      <td>0.550017</td>\n",
       "      <td>0.705749</td>\n",
       "      <td>0.624839</td>\n",
       "      <td>0.525955</td>\n",
       "    </tr>\n",
       "    <tr>\n",
       "      <th>max</th>\n",
       "      <td>1.000000</td>\n",
       "      <td>1.000000</td>\n",
       "      <td>1.000000</td>\n",
       "      <td>1.000000</td>\n",
       "    </tr>\n",
       "  </tbody>\n",
       "</table>\n",
       "</div>"
      ],
      "text/plain": [
       "       X distance to target  Y distance to target     New Vel Y     New Vel X\n",
       "count          42452.000000          42452.000000  42452.000000  42452.000000\n",
       "mean               0.498538              0.549109      0.458011      0.474585\n",
       "std                0.165834              0.210215      0.238080      0.145423\n",
       "min                0.000000              0.000000      0.000000      0.000000\n",
       "25%                0.444915              0.410202      0.257096      0.401493\n",
       "50%                0.511794              0.556941      0.418449      0.491661\n",
       "75%                0.550017              0.705749      0.624839      0.525955\n",
       "max                1.000000              1.000000      1.000000      1.000000"
      ]
     },
     "execution_count": 8,
     "metadata": {},
     "output_type": "execute_result"
    }
   ],
   "source": [
    "normalizeddata.describe()"
   ]
  },
  {
   "cell_type": "code",
   "execution_count": 9,
   "metadata": {},
   "outputs": [
    {
     "name": "stdout",
     "output_type": "stream",
     "text": [
      "(33961, 4)\n",
      "(8491, 4)\n"
     ]
    }
   ],
   "source": [
    "#spliting data\n",
    "training , testing= train_test_split(normalizeddata, test_size = 0.2)\n",
    "print(training.shape)\n",
    "print(testing.shape)"
   ]
  },
  {
   "cell_type": "code",
   "execution_count": 25,
   "metadata": {},
   "outputs": [
    {
     "name": "stderr",
     "output_type": "stream",
     "text": [
      "C:\\Users\\yaswa\\anaconda3\\lib\\site-packages\\seaborn\\_decorators.py:36: FutureWarning: Pass the following variable as a keyword arg: x. From version 0.12, the only valid positional argument will be `data`, and passing other arguments without an explicit keyword will result in an error or misinterpretation.\n",
      "  warnings.warn(\n"
     ]
    },
    {
     "data": {
      "text/plain": [
       "<AxesSubplot:xlabel='Y distance to target'>"
      ]
     },
     "execution_count": 25,
     "metadata": {},
     "output_type": "execute_result"
    },
    {
     "data": {
      "image/png": "[encoded data removed]",
      "text/plain": [
       "<Figure size 432x288 with 1 Axes>"
      ]
     },
     "metadata": {
      "needs_background": "light"
     },
     "output_type": "display_data"
    }
   ],
   "source": [
    "sns.boxplot(training['Y distance to target'])"
   ]
  },
  {
   "cell_type": "code",
   "execution_count": 10,
   "metadata": {},
   "outputs": [
    {
     "name": "stderr",
     "output_type": "stream",
     "text": [
      "C:\\Users\\yaswa\\anaconda3\\lib\\site-packages\\seaborn\\_decorators.py:36: FutureWarning: Pass the following variable as a keyword arg: x. From version 0.12, the only valid positional argument will be `data`, and passing other arguments without an explicit keyword will result in an error or misinterpretation.\n",
      "  warnings.warn(\n"
     ]
    },
    {
     "data": {
      "text/plain": [
       "<AxesSubplot:xlabel='New Vel Y'>"
      ]
     },
     "execution_count": 10,
     "metadata": {},
     "output_type": "execute_result"
    },
    {
     "data": {
      "image/png": "[encoded data removed]",
      "text/plain": [
       "<Figure size 432x288 with 1 Axes>"
      ]
     },
     "metadata": {
      "needs_background": "light"
     },
     "output_type": "display_data"
    }
   ],
   "source": [
    "# no outliers\n",
    "sns.boxplot(training['New Vel Y'])"
   ]
  },
  {
   "cell_type": "code",
   "execution_count": 11,
   "metadata": {},
   "outputs": [],
   "source": [
    "#Splitting inputs & outputs for training, validation & testing data\n",
    "x_train_input = np.array(training[[\"X distance to target\",\"Y distance to target\"]]).T\n",
    "y_train_output = np.array(training[[\"New Vel Y\",\"New Vel X\"]]).T\n",
    "\n",
    "x_testing_input = np.array(testing[[\"X distance to target\",\"Y distance to target\"]]).T\n",
    "y_testing_output = np.array(testing[[\"New Vel Y\",\"New Vel X\"]]).T"
   ]
  },
  {
   "cell_type": "code",
   "execution_count": 12,
   "metadata": {},
   "outputs": [],
   "source": [
    "#Defining Sigmoid Function\n",
    "def sigmoid(x):  \n",
    "    return 1/(1+np.exp(-x*0.01))\n",
    "def sigmoid_derivative(x):  \n",
    "    return x*(1-x)"
   ]
  },
  {
   "cell_type": "code",
   "execution_count": 13,
   "metadata": {},
   "outputs": [],
   "source": [
    "#Forward Propagation\n",
    "def fwd_propagation(x_fwd_input, model):    \n",
    "    Weight_hidden, bias_hidden, Weight_output, bias_output = model['w1'], model['b1'], model['w2'], model['b2']\n",
    "    z1 = np.dot(Weight_hidden, x_fwd_input) +bias_hidden\n",
    "    a1 = sigmoid(z1)     #activation layer\n",
    "    z2 = np.dot(Weight_output, a1) + bias_output\n",
    "    a2 = sigmoid(z2)\n",
    "    return(a2)   "
   ]
  },
  {
   "cell_type": "code",
   "execution_count": 14,
   "metadata": {},
   "outputs": [],
   "source": [
    "#Backward Propagation\n",
    "def back_propagation(model,x_train_input, a2, error, r_lambda, l_rate, epsilon):\n",
    "    Weight_hidden, bias_hidden, Weight_output, bias_output, dWeight_hidden_old, dWeight_output_old = model['w1'], model['b1'], model['w2'], model['b2'], model['dw1_old'], model['dw2_old']\n",
    "    \n",
    "    delta2 = r_lambda *(error * sigmoid_derivative(a2))\n",
    "    a1 = sigmoid(np.dot(Weight_hidden, x_train_input) +bias_hidden)  \n",
    "    delta1 = r_lambda * np.dot(Weight_output.T, delta2)*sigmoid_derivative(a1)\n",
    "      \n",
    "    dWeight_output = np.dot(delta2, a1.T)\n",
    "    dWeight_hidden = np.dot(delta1, x_train_input.T)\n",
    "    dbias_output = np.sum(delta2, axis=1, keepdims=True)\n",
    "    dbias_hidden = np.sum(delta1, axis=1, keepdims=True)\n",
    "    \n",
    "    # update the weights with the derivative (slope) of the loss function\n",
    "    Weight_hidden += l_rate*dWeight_hidden + epsilon * dWeight_hidden_old\n",
    "    Weight_output += l_rate*dWeight_output + epsilon * dWeight_output_old\n",
    "    bias_hidden += l_rate*dbias_hidden\n",
    "    bias_output += l_rate*dbias_output\n",
    "    # Assign new parameters to the model\n",
    "    model = { 'w1': Weight_hidden, 'b1': bias_hidden, 'w2': Weight_output, 'b2': bias_output, \"dw1_old\":dWeight_hidden, \"dw2_old\": dWeight_output}\n",
    "    return model"
   ]
  },
  {
   "cell_type": "code",
   "execution_count": 15,
   "metadata": {},
   "outputs": [],
   "source": [
    "#calculating loss\n",
    "def calculate_loss(model, x_trainloss, y_trainloss):\n",
    "    #calling model prediction\n",
    "    Weight_hidden, bias_hidden, Weight_output, bias_output = model['w1'], model['b1'], model['w2'], model['b2']\n",
    "    z1 = np.dot(Weight_hidden, x_trainloss) +bias_hidden\n",
    "    a1 = sigmoid(z1)  #activation layer\n",
    "    z2 = np.dot(Weight_output, a1) + bias_output\n",
    "    a2 = sigmoid(z2) \n",
    "    rmserror = np.mean(np.square(y_trainloss - a2))\n",
    "    z2 = np.dot(Weight_output, a1) + bias_output\n",
    "    a2 = sigmoid(z2)\n",
    "    return rmserror"
   ]
  },
  {
   "cell_type": "code",
   "execution_count": 16,
   "metadata": {},
   "outputs": [],
   "source": [
    "def build_model(x_train_input, y_train_output,n_hidden, r_lambda, l_rate, epsilon, epochs):\n",
    "    \n",
    "    #initialize parameters to random values\n",
    "    Weight_hidden = np.random.rand(n_hidden,2) \n",
    "    bias_hidden = np.zeros((n_hidden,1))\n",
    "    Weight_output = np.random.rand(2,n_hidden) \n",
    "    bias_output = np.zeros((2,1))\n",
    "    \n",
    "    #gradient momentum initilizations\n",
    "    dWeight_hidden_old = np.zeros((n_hidden,2))\n",
    "    dWeight_output_old = np.zeros((2,n_hidden))\n",
    "    \n",
    "    #Declaring dictonary for storing parameters for later use\n",
    "    model = {}\n",
    "    \n",
    "    # Assign new parameters to the model\n",
    "    model = { 'w1': Weight_hidden,'b1': bias_hidden, 'w2': Weight_output, 'b2': bias_output, \"dw1_old\":dWeight_hidden_old, \"dw2_old\": dWeight_output_old}\n",
    "    \n",
    "    training_loss= []\n",
    "\n",
    "    for i in range(0, epochs):\n",
    "        \n",
    "        #forward propagation\n",
    "        a2 = fwd_propagation(x_train_input, model)\n",
    "        error = 2*(y_train_output - a2)\n",
    "        \n",
    "        #backward propagation\n",
    "        model = back_propagation(model,x_train_input, a2, error, r_lambda, l_rate, epsilon)\n",
    "                \n",
    "        rmserror  = calculate_loss(model, x_train_input, y_train_output)\n",
    "\n",
    "        training_loss.append(rmserror)\n",
    "        \n",
    "        # Optionally print the loss.\n",
    "        # This is expensive because it uses the whole dataset, so we don't want to do it too often.\n",
    "        if i % 100 == 0:\n",
    "            print(\"Loss after iteration %i: training loss = %f  \" %(i,rmserror))\n",
    "     \n",
    "    return model, training_loss"
   ]
  },
  {
   "cell_type": "code",
   "execution_count": 17,
   "metadata": {
    "scrolled": true
   },
   "outputs": [
    {
     "name": "stdout",
     "output_type": "stream",
     "text": [
      "Loss after iteration 0: training loss = 0.040074  \n",
      "Loss after iteration 100: training loss = 0.038183  \n",
      "Loss after iteration 200: training loss = 0.032597  \n",
      "Loss after iteration 300: training loss = 0.029233  \n",
      "Loss after iteration 400: training loss = 0.026127  \n",
      "Loss after iteration 500: training loss = 0.023709  \n"
     ]
    }
   ],
   "source": [
    "# Giving the hyperparameters, training the model and finding the loss\n",
    "model, training_loss = build_model(x_train_input, y_train_output,n_hidden= 5, epochs = 501, epsilon=0.1, r_lambda = 0.1, l_rate=0.01)"
   ]
  },
  {
   "cell_type": "code",
   "execution_count": 18,
   "metadata": {},
   "outputs": [
    {
     "name": "stdout",
     "output_type": "stream",
     "text": [
      "self.Weight_hidden = array([[-677.8657577 ,  293.21609712],\n",
      "       [ 310.85426005,  -33.27075034],\n",
      "       [ -89.35340876,  712.71561139],\n",
      "       [-221.79969804,   68.21609645],\n",
      "       [-487.20843895,  191.74063969]]) \n",
      "self.Weight_output =  array([[ -90.22983468,  131.63325244, -206.01657252,   81.80458632,\n",
      "         -42.21438051],\n",
      "       [-145.8001321 ,   19.17999706,   49.06887314,  -86.18478742,\n",
      "         -86.98333264]]) \n",
      "self.bias_hidden =  array([[ -8.63085542],\n",
      "       [ 63.20364078],\n",
      "       [-98.96167218],\n",
      "       [ 25.29319223],\n",
      "       [-36.46292461]]) \n",
      "self.bias_output =  array([[37.23317632],\n",
      "       [ 6.91630519]])\n"
     ]
    }
   ],
   "source": [
    "print(\"self.Weight_hidden =\", repr(model[\"w1\"]), \"\\nself.Weight_output = \",repr(model[\"w2\"]), \"\\nself.bias_hidden = \",repr(model[\"b1\"]),\"\\nself.bias_output = \",repr(model[\"b2\"]))"
   ]
  },
  {
   "cell_type": "code",
   "execution_count": 19,
   "metadata": {},
   "outputs": [
    {
     "name": "stdout",
     "output_type": "stream",
     "text": [
      "Loss after iteration 0: training loss = 0.040262  \n",
      "Loss after iteration 100: training loss = 0.038824  \n",
      "Loss after iteration 200: training loss = 0.038688  \n",
      "Loss after iteration 300: training loss = 0.038508  \n",
      "Loss after iteration 400: training loss = 0.038251  \n",
      "Loss after iteration 500: training loss = 0.037857  \n"
     ]
    }
   ],
   "source": [
    "model, training_loss = build_model(x_testing_input, y_testing_output,n_hidden= 5, epochs = 501, epsilon=0.1, r_lambda = 0.1, l_rate=0.01)"
   ]
  },
  {
   "cell_type": "code",
   "execution_count": 20,
   "metadata": {},
   "outputs": [
    {
     "data": {
      "image/png": "[encoded data removed]",
      "text/plain": [
       "<Figure size 432x288 with 1 Axes>"
      ]
     },
     "metadata": {
      "needs_background": "light"
     },
     "output_type": "display_data"
    }
   ],
   "source": [
    "def plot_erros(training_loss):\n",
    "    plt.plot(training_loss)\n",
    "    plt.xlabel('number of epochs')\n",
    "    plt.ylabel('loss')\n",
    "    plt.title('loss vs number of epochs')\n",
    "    plt.legend(['training'], loc='upper right')\n",
    "    plt.xlim(0, 500)\n",
    "    plt.show()\n",
    "plot_erros(training_loss)"
   ]
  },
  {
   "cell_type": "code",
   "execution_count": 21,
   "metadata": {},
   "outputs": [
    {
     "data": {
      "text/html": [
       "<div>\n",
       "<style scoped>\n",
       "    .dataframe tbody tr th:only-of-type {\n",
       "        vertical-align: middle;\n",
       "    }\n",
       "\n",
       "    .dataframe tbody tr th {\n",
       "        vertical-align: top;\n",
       "    }\n",
       "\n",
       "    .dataframe thead th {\n",
       "        text-align: right;\n",
       "    }\n",
       "</style>\n",
       "<table border=\"1\" class=\"dataframe\">\n",
       "  <thead>\n",
       "    <tr style=\"text-align: right;\">\n",
       "      <th></th>\n",
       "      <th>New Vel Y</th>\n",
       "      <th>New Vel X</th>\n",
       "    </tr>\n",
       "  </thead>\n",
       "  <tbody>\n",
       "    <tr>\n",
       "      <th>0</th>\n",
       "      <td>0.445183</td>\n",
       "      <td>0.468464</td>\n",
       "    </tr>\n",
       "    <tr>\n",
       "      <th>1</th>\n",
       "      <td>0.453921</td>\n",
       "      <td>0.473395</td>\n",
       "    </tr>\n",
       "    <tr>\n",
       "      <th>2</th>\n",
       "      <td>0.450152</td>\n",
       "      <td>0.471287</td>\n",
       "    </tr>\n",
       "    <tr>\n",
       "      <th>3</th>\n",
       "      <td>0.457798</td>\n",
       "      <td>0.475567</td>\n",
       "    </tr>\n",
       "    <tr>\n",
       "      <th>4</th>\n",
       "      <td>0.446630</td>\n",
       "      <td>0.469373</td>\n",
       "    </tr>\n",
       "  </tbody>\n",
       "</table>\n",
       "</div>"
      ],
      "text/plain": [
       "   New Vel Y  New Vel X\n",
       "0   0.445183   0.468464\n",
       "1   0.453921   0.473395\n",
       "2   0.450152   0.471287\n",
       "3   0.457798   0.475567\n",
       "4   0.446630   0.469373"
      ]
     },
     "execution_count": 21,
     "metadata": {},
     "output_type": "execute_result"
    }
   ],
   "source": [
    "y_prediction = fwd_propagation(x_testing_input, model)\n",
    "y_prediction_df = pd.DataFrame(y_prediction.T,columns=[\"New Vel Y\",\"New Vel X\"])\n",
    "y_prediction_df.head()"
   ]
  },
  {
   "cell_type": "code",
   "execution_count": 22,
   "metadata": {},
   "outputs": [
    {
     "data": {
      "text/plain": [
       "New Vel Y    0.054815\n",
       "New Vel X    0.020899\n",
       "dtype: float64"
      ]
     },
     "execution_count": 22,
     "metadata": {},
     "output_type": "execute_result"
    }
   ],
   "source": [
    "#RMSerror for normalized data\n",
    "rmserror_test = np.mean(np.square( (y_testing_output.T) - y_prediction_df))\n",
    "rmserror_test"
   ]
  },
  {
   "cell_type": "code",
   "execution_count": 23,
   "metadata": {},
   "outputs": [],
   "source": [
    "#denormalize predicted data\n",
    "y_prediction_df['New Vel Y'] = data_min['New Vel Y'] + y_prediction_df['New Vel Y']*(data_max['New Vel Y'] - data_min['New Vel Y']) \n",
    "y_prediction_df['New Vel X'] = data_min['New Vel X'] + y_prediction_df['New Vel X']*(data_max['New Vel X'] - data_min['New Vel X']) "
   ]
  },
  {
   "cell_type": "code",
   "execution_count": 24,
   "metadata": {
    "scrolled": true
   },
   "outputs": [
    {
     "data": {
      "text/html": [
       "<div>\n",
       "<style scoped>\n",
       "    .dataframe tbody tr th:only-of-type {\n",
       "        vertical-align: middle;\n",
       "    }\n",
       "\n",
       "    .dataframe tbody tr th {\n",
       "        vertical-align: top;\n",
       "    }\n",
       "\n",
       "    .dataframe thead th {\n",
       "        text-align: right;\n",
       "    }\n",
       "</style>\n",
       "<table border=\"1\" class=\"dataframe\">\n",
       "  <thead>\n",
       "    <tr style=\"text-align: right;\">\n",
       "      <th></th>\n",
       "      <th>New Vel Y</th>\n",
       "      <th>New Vel X</th>\n",
       "    </tr>\n",
       "  </thead>\n",
       "  <tbody>\n",
       "    <tr>\n",
       "      <th>count</th>\n",
       "      <td>8491.000000</td>\n",
       "      <td>8491.000000</td>\n",
       "    </tr>\n",
       "    <tr>\n",
       "      <th>mean</th>\n",
       "      <td>0.753531</td>\n",
       "      <td>-0.246362</td>\n",
       "    </tr>\n",
       "    <tr>\n",
       "      <th>std</th>\n",
       "      <td>0.111030</td>\n",
       "      <td>0.050299</td>\n",
       "    </tr>\n",
       "    <tr>\n",
       "      <th>min</th>\n",
       "      <td>0.488404</td>\n",
       "      <td>-0.367070</td>\n",
       "    </tr>\n",
       "    <tr>\n",
       "      <th>25%</th>\n",
       "      <td>0.667685</td>\n",
       "      <td>-0.285349</td>\n",
       "    </tr>\n",
       "    <tr>\n",
       "      <th>50%</th>\n",
       "      <td>0.742207</td>\n",
       "      <td>-0.251309</td>\n",
       "    </tr>\n",
       "    <tr>\n",
       "      <th>75%</th>\n",
       "      <td>0.836065</td>\n",
       "      <td>-0.208833</td>\n",
       "    </tr>\n",
       "    <tr>\n",
       "      <th>max</th>\n",
       "      <td>1.011812</td>\n",
       "      <td>-0.130245</td>\n",
       "    </tr>\n",
       "  </tbody>\n",
       "</table>\n",
       "</div>"
      ],
      "text/plain": [
       "         New Vel Y    New Vel X\n",
       "count  8491.000000  8491.000000\n",
       "mean      0.753531    -0.246362\n",
       "std       0.111030     0.050299\n",
       "min       0.488404    -0.367070\n",
       "25%       0.667685    -0.285349\n",
       "50%       0.742207    -0.251309\n",
       "75%       0.836065    -0.208833\n",
       "max       1.011812    -0.130245"
      ]
     },
     "execution_count": 24,
     "metadata": {},
     "output_type": "execute_result"
    }
   ],
   "source": [
    "y_prediction_df.describe()"
   ]
  }
 ],
 "metadata": {
  "kernelspec": {
   "display_name": "Python 3",
   "language": "python",
   "name": "python3"
  },
  "language_info": {
   "codemirror_mode": {
    "name": "ipython",
    "version": 3
   },
   "file_extension": ".py",
   "mimetype": "text/x-python",
   "name": "python",
   "nbconvert_exporter": "python",
   "pygments_lexer": "ipython3",
   "version": "3.8.5"
  }
 },
 "nbformat": 4,
 "nbformat_minor": 4
}
