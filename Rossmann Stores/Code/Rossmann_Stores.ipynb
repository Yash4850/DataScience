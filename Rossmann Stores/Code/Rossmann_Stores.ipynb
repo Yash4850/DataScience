{
 "cells": [
  {
   "cell_type": "markdown",
   "metadata": {
    "_cell_guid": "79c7e3d0-c299-4dcb-8224-4455121ee9b0",
    "_uuid": "d629ff2d2480ee46fbb7e2d37f6b5fab8052498a"
   },
   "source": [
    "# Data Description:\n",
    "We are provided with historical sales data for 1,115 Rossmann stores. The task is to forecast the \"Sales\" column for the test set. Note that some stores in the dataset were temporarily closed for refurbishment."
   ]
  },
  {
   "cell_type": "markdown",
   "metadata": {},
   "source": [
    "## Files\n",
    "train.csv - historical data including Sales,\n",
    "test.csv - historical data excluding Sales,\n",
    "sample_submission.csv - a sample submission file in the correct format,\n",
    "store.csv - supplemental information about the stores."
   ]
  },
  {
   "cell_type": "markdown",
   "metadata": {},
   "source": [
    "## Problem Statement:\n",
    "Rossmann operates over 3,000 drug stores in 7 European countries. Currently, Rossmann store managers are tasked with predicting their daily sales for up to six weeks in advance. Store sales are influenced by many factors, including promotions, competition, school and state holidays, seasonality, and locality. We need to predict sales based on their unique circumstances."
   ]
  },
  {
   "cell_type": "markdown",
   "metadata": {},
   "source": [
    "## Data fields:"
   ]
  },
  {
   "cell_type": "raw",
   "metadata": {},
   "source": [
    "Most of the fields are self-explanatory. The following are descriptions for those that aren't.\n",
    "Id - an Id that represents a (Store, Date) duple within the test set\n",
    "Store - a unique Id for each store\n",
    "Sales - the turnover for any given day (this is what you are predicting)\n",
    "Customers - the number of customers on a given day\n",
    "Open - an indicator for whether the store was open: 0 = closed, 1 = open\n",
    "StateHoliday - indicates a state holiday. Normally all stores, with few exceptions, are closed on state holidays. Note that all schools are closed on public holidays and weekends. a = public holiday, b = Easter holiday, c = Christmas, 0 = None\n",
    "SchoolHoliday - indicates if the (Store, Date) was affected by the closure of public schools\n",
    "StoreType - differentiates between 4 different store models: a, b, c, d\n",
    "Assortment - describes an assortment level: a = basic, b = extra, c = extended\n",
    "CompetitionDistance - distance in meters to the nearest competitor store\n",
    "CompetitionOpenSince[Month/Year] - gives the approximate year and month of the time the nearest competitor was opened\n",
    "Promo - indicates whether a store is running a promo on that day\n",
    "Promo2 - Promo2 is a continuing and consecutive promotion for some stores: 0 = store is not participating, 1 = store is participating\n",
    "Promo2Since[Year/Week] - describes the year and calendar week when the store started participating in Promo2\n",
    "PromoInterval - describes the consecutive intervals Promo2 is started, naming the months the promotion is started anew. E.g. \"Feb,May,Aug,Nov\" means each round starts in February, May, August, November of any given year for that store"
   ]
  },
  {
   "cell_type": "code",
   "execution_count": 1,
   "metadata": {},
   "outputs": [],
   "source": [
    "import numpy as np # linear algebra\n",
    "import pandas as pd # data processing\n",
    "import math\n",
    "import seaborn as sns\n",
    "from pandasql import sqldf\n",
    "import matplotlib.pyplot as plt\n",
    "#for removing warnings\n",
    "import warnings\n",
    "warnings.filterwarnings('ignore')\n",
    "from keras import backend as K\n",
    "from sklearn.preprocessing import StandardScaler\n",
    "from sklearn.model_selection import train_test_split\n",
    "from keras.models import Model, Sequential\n",
    "from keras.layers import Dense, Dropout\n",
    "from keras.optimizers import Adam\n",
    "from keras.callbacks import ModelCheckpoint, EarlyStopping"
   ]
  },
  {
   "cell_type": "code",
   "execution_count": 2,
   "metadata": {
    "scrolled": true
   },
   "outputs": [
    {
     "name": "stdout",
     "output_type": "stream",
     "text": [
      "(1017209, 9)\n"
     ]
    },
    {
     "data": {
      "text/html": [
       "<div>\n",
       "<style scoped>\n",
       "    .dataframe tbody tr th:only-of-type {\n",
       "        vertical-align: middle;\n",
       "    }\n",
       "\n",
       "    .dataframe tbody tr th {\n",
       "        vertical-align: top;\n",
       "    }\n",
       "\n",
       "    .dataframe thead th {\n",
       "        text-align: right;\n",
       "    }\n",
       "</style>\n",
       "<table border=\"1\" class=\"dataframe\">\n",
       "  <thead>\n",
       "    <tr style=\"text-align: right;\">\n",
       "      <th></th>\n",
       "      <th>Store</th>\n",
       "      <th>DayOfWeek</th>\n",
       "      <th>Date</th>\n",
       "      <th>Sales</th>\n",
       "      <th>Customers</th>\n",
       "      <th>Open</th>\n",
       "      <th>Promo</th>\n",
       "      <th>StateHoliday</th>\n",
       "      <th>SchoolHoliday</th>\n",
       "    </tr>\n",
       "  </thead>\n",
       "  <tbody>\n",
       "    <tr>\n",
       "      <th>0</th>\n",
       "      <td>1</td>\n",
       "      <td>5</td>\n",
       "      <td>2015-07-31</td>\n",
       "      <td>5263</td>\n",
       "      <td>555</td>\n",
       "      <td>1</td>\n",
       "      <td>1</td>\n",
       "      <td>0</td>\n",
       "      <td>1</td>\n",
       "    </tr>\n",
       "    <tr>\n",
       "      <th>1</th>\n",
       "      <td>2</td>\n",
       "      <td>5</td>\n",
       "      <td>2015-07-31</td>\n",
       "      <td>6064</td>\n",
       "      <td>625</td>\n",
       "      <td>1</td>\n",
       "      <td>1</td>\n",
       "      <td>0</td>\n",
       "      <td>1</td>\n",
       "    </tr>\n",
       "    <tr>\n",
       "      <th>2</th>\n",
       "      <td>3</td>\n",
       "      <td>5</td>\n",
       "      <td>2015-07-31</td>\n",
       "      <td>8314</td>\n",
       "      <td>821</td>\n",
       "      <td>1</td>\n",
       "      <td>1</td>\n",
       "      <td>0</td>\n",
       "      <td>1</td>\n",
       "    </tr>\n",
       "    <tr>\n",
       "      <th>3</th>\n",
       "      <td>4</td>\n",
       "      <td>5</td>\n",
       "      <td>2015-07-31</td>\n",
       "      <td>13995</td>\n",
       "      <td>1498</td>\n",
       "      <td>1</td>\n",
       "      <td>1</td>\n",
       "      <td>0</td>\n",
       "      <td>1</td>\n",
       "    </tr>\n",
       "    <tr>\n",
       "      <th>4</th>\n",
       "      <td>5</td>\n",
       "      <td>5</td>\n",
       "      <td>2015-07-31</td>\n",
       "      <td>4822</td>\n",
       "      <td>559</td>\n",
       "      <td>1</td>\n",
       "      <td>1</td>\n",
       "      <td>0</td>\n",
       "      <td>1</td>\n",
       "    </tr>\n",
       "  </tbody>\n",
       "</table>\n",
       "</div>"
      ],
      "text/plain": [
       "   Store  DayOfWeek        Date  Sales  Customers  Open  Promo StateHoliday  \\\n",
       "0      1          5  2015-07-31   5263        555     1      1            0   \n",
       "1      2          5  2015-07-31   6064        625     1      1            0   \n",
       "2      3          5  2015-07-31   8314        821     1      1            0   \n",
       "3      4          5  2015-07-31  13995       1498     1      1            0   \n",
       "4      5          5  2015-07-31   4822        559     1      1            0   \n",
       "\n",
       "   SchoolHoliday  \n",
       "0              1  \n",
       "1              1  \n",
       "2              1  \n",
       "3              1  \n",
       "4              1  "
      ]
     },
     "execution_count": 2,
     "metadata": {},
     "output_type": "execute_result"
    }
   ],
   "source": [
    "# Reading files\n",
    "train=pd.read_csv(\"train.csv\")\n",
    "print(train.shape)\n",
    "train.head()"
   ]
  },
  {
   "cell_type": "code",
   "execution_count": 3,
   "metadata": {},
   "outputs": [
    {
     "name": "stdout",
     "output_type": "stream",
     "text": [
      "(41088, 8)\n"
     ]
    },
    {
     "data": {
      "text/html": [
       "<div>\n",
       "<style scoped>\n",
       "    .dataframe tbody tr th:only-of-type {\n",
       "        vertical-align: middle;\n",
       "    }\n",
       "\n",
       "    .dataframe tbody tr th {\n",
       "        vertical-align: top;\n",
       "    }\n",
       "\n",
       "    .dataframe thead th {\n",
       "        text-align: right;\n",
       "    }\n",
       "</style>\n",
       "<table border=\"1\" class=\"dataframe\">\n",
       "  <thead>\n",
       "    <tr style=\"text-align: right;\">\n",
       "      <th></th>\n",
       "      <th>Id</th>\n",
       "      <th>Store</th>\n",
       "      <th>DayOfWeek</th>\n",
       "      <th>Date</th>\n",
       "      <th>Open</th>\n",
       "      <th>Promo</th>\n",
       "      <th>StateHoliday</th>\n",
       "      <th>SchoolHoliday</th>\n",
       "    </tr>\n",
       "  </thead>\n",
       "  <tbody>\n",
       "    <tr>\n",
       "      <th>0</th>\n",
       "      <td>1</td>\n",
       "      <td>1</td>\n",
       "      <td>4</td>\n",
       "      <td>2015-09-17</td>\n",
       "      <td>1.0</td>\n",
       "      <td>1</td>\n",
       "      <td>0</td>\n",
       "      <td>0</td>\n",
       "    </tr>\n",
       "    <tr>\n",
       "      <th>1</th>\n",
       "      <td>2</td>\n",
       "      <td>3</td>\n",
       "      <td>4</td>\n",
       "      <td>2015-09-17</td>\n",
       "      <td>1.0</td>\n",
       "      <td>1</td>\n",
       "      <td>0</td>\n",
       "      <td>0</td>\n",
       "    </tr>\n",
       "    <tr>\n",
       "      <th>2</th>\n",
       "      <td>3</td>\n",
       "      <td>7</td>\n",
       "      <td>4</td>\n",
       "      <td>2015-09-17</td>\n",
       "      <td>1.0</td>\n",
       "      <td>1</td>\n",
       "      <td>0</td>\n",
       "      <td>0</td>\n",
       "    </tr>\n",
       "    <tr>\n",
       "      <th>3</th>\n",
       "      <td>4</td>\n",
       "      <td>8</td>\n",
       "      <td>4</td>\n",
       "      <td>2015-09-17</td>\n",
       "      <td>1.0</td>\n",
       "      <td>1</td>\n",
       "      <td>0</td>\n",
       "      <td>0</td>\n",
       "    </tr>\n",
       "    <tr>\n",
       "      <th>4</th>\n",
       "      <td>5</td>\n",
       "      <td>9</td>\n",
       "      <td>4</td>\n",
       "      <td>2015-09-17</td>\n",
       "      <td>1.0</td>\n",
       "      <td>1</td>\n",
       "      <td>0</td>\n",
       "      <td>0</td>\n",
       "    </tr>\n",
       "  </tbody>\n",
       "</table>\n",
       "</div>"
      ],
      "text/plain": [
       "   Id  Store  DayOfWeek        Date  Open  Promo StateHoliday  SchoolHoliday\n",
       "0   1      1          4  2015-09-17   1.0      1            0              0\n",
       "1   2      3          4  2015-09-17   1.0      1            0              0\n",
       "2   3      7          4  2015-09-17   1.0      1            0              0\n",
       "3   4      8          4  2015-09-17   1.0      1            0              0\n",
       "4   5      9          4  2015-09-17   1.0      1            0              0"
      ]
     },
     "execution_count": 3,
     "metadata": {},
     "output_type": "execute_result"
    }
   ],
   "source": [
    "test=pd.read_csv(\"test.csv\")\n",
    "print(test.shape)\n",
    "test.head()"
   ]
  },
  {
   "cell_type": "code",
   "execution_count": 4,
   "metadata": {},
   "outputs": [
    {
     "name": "stdout",
     "output_type": "stream",
     "text": [
      "(1115, 10)\n"
     ]
    },
    {
     "data": {
      "text/html": [
       "<div>\n",
       "<style scoped>\n",
       "    .dataframe tbody tr th:only-of-type {\n",
       "        vertical-align: middle;\n",
       "    }\n",
       "\n",
       "    .dataframe tbody tr th {\n",
       "        vertical-align: top;\n",
       "    }\n",
       "\n",
       "    .dataframe thead th {\n",
       "        text-align: right;\n",
       "    }\n",
       "</style>\n",
       "<table border=\"1\" class=\"dataframe\">\n",
       "  <thead>\n",
       "    <tr style=\"text-align: right;\">\n",
       "      <th></th>\n",
       "      <th>Store</th>\n",
       "      <th>StoreType</th>\n",
       "      <th>Assortment</th>\n",
       "      <th>CompetitionDistance</th>\n",
       "      <th>CompetitionOpenSinceMonth</th>\n",
       "      <th>CompetitionOpenSinceYear</th>\n",
       "      <th>Promo2</th>\n",
       "      <th>Promo2SinceWeek</th>\n",
       "      <th>Promo2SinceYear</th>\n",
       "      <th>PromoInterval</th>\n",
       "    </tr>\n",
       "  </thead>\n",
       "  <tbody>\n",
       "    <tr>\n",
       "      <th>0</th>\n",
       "      <td>1</td>\n",
       "      <td>c</td>\n",
       "      <td>a</td>\n",
       "      <td>1270.0</td>\n",
       "      <td>9.0</td>\n",
       "      <td>2008.0</td>\n",
       "      <td>0</td>\n",
       "      <td>NaN</td>\n",
       "      <td>NaN</td>\n",
       "      <td>NaN</td>\n",
       "    </tr>\n",
       "    <tr>\n",
       "      <th>1</th>\n",
       "      <td>2</td>\n",
       "      <td>a</td>\n",
       "      <td>a</td>\n",
       "      <td>570.0</td>\n",
       "      <td>11.0</td>\n",
       "      <td>2007.0</td>\n",
       "      <td>1</td>\n",
       "      <td>13.0</td>\n",
       "      <td>2010.0</td>\n",
       "      <td>Jan,Apr,Jul,Oct</td>\n",
       "    </tr>\n",
       "    <tr>\n",
       "      <th>2</th>\n",
       "      <td>3</td>\n",
       "      <td>a</td>\n",
       "      <td>a</td>\n",
       "      <td>14130.0</td>\n",
       "      <td>12.0</td>\n",
       "      <td>2006.0</td>\n",
       "      <td>1</td>\n",
       "      <td>14.0</td>\n",
       "      <td>2011.0</td>\n",
       "      <td>Jan,Apr,Jul,Oct</td>\n",
       "    </tr>\n",
       "    <tr>\n",
       "      <th>3</th>\n",
       "      <td>4</td>\n",
       "      <td>c</td>\n",
       "      <td>c</td>\n",
       "      <td>620.0</td>\n",
       "      <td>9.0</td>\n",
       "      <td>2009.0</td>\n",
       "      <td>0</td>\n",
       "      <td>NaN</td>\n",
       "      <td>NaN</td>\n",
       "      <td>NaN</td>\n",
       "    </tr>\n",
       "    <tr>\n",
       "      <th>4</th>\n",
       "      <td>5</td>\n",
       "      <td>a</td>\n",
       "      <td>a</td>\n",
       "      <td>29910.0</td>\n",
       "      <td>4.0</td>\n",
       "      <td>2015.0</td>\n",
       "      <td>0</td>\n",
       "      <td>NaN</td>\n",
       "      <td>NaN</td>\n",
       "      <td>NaN</td>\n",
       "    </tr>\n",
       "  </tbody>\n",
       "</table>\n",
       "</div>"
      ],
      "text/plain": [
       "   Store StoreType Assortment  CompetitionDistance  CompetitionOpenSinceMonth  \\\n",
       "0      1         c          a               1270.0                        9.0   \n",
       "1      2         a          a                570.0                       11.0   \n",
       "2      3         a          a              14130.0                       12.0   \n",
       "3      4         c          c                620.0                        9.0   \n",
       "4      5         a          a              29910.0                        4.0   \n",
       "\n",
       "   CompetitionOpenSinceYear  Promo2  Promo2SinceWeek  Promo2SinceYear  \\\n",
       "0                    2008.0       0              NaN              NaN   \n",
       "1                    2007.0       1             13.0           2010.0   \n",
       "2                    2006.0       1             14.0           2011.0   \n",
       "3                    2009.0       0              NaN              NaN   \n",
       "4                    2015.0       0              NaN              NaN   \n",
       "\n",
       "     PromoInterval  \n",
       "0              NaN  \n",
       "1  Jan,Apr,Jul,Oct  \n",
       "2  Jan,Apr,Jul,Oct  \n",
       "3              NaN  \n",
       "4              NaN  "
      ]
     },
     "execution_count": 4,
     "metadata": {},
     "output_type": "execute_result"
    }
   ],
   "source": [
    "store_df=pd.read_csv(\"store.csv\")\n",
    "print(store_df.shape)\n",
    "store_df.head()"
   ]
  },
  {
   "cell_type": "markdown",
   "metadata": {},
   "source": [
    "Checking for null values"
   ]
  },
  {
   "cell_type": "code",
   "execution_count": 5,
   "metadata": {},
   "outputs": [
    {
     "name": "stdout",
     "output_type": "stream",
     "text": [
      "<class 'pandas.core.frame.DataFrame'>\n",
      "RangeIndex: 1017209 entries, 0 to 1017208\n",
      "Data columns (total 9 columns):\n",
      " #   Column         Non-Null Count    Dtype \n",
      "---  ------         --------------    ----- \n",
      " 0   Store          1017209 non-null  int64 \n",
      " 1   DayOfWeek      1017209 non-null  int64 \n",
      " 2   Date           1017209 non-null  object\n",
      " 3   Sales          1017209 non-null  int64 \n",
      " 4   Customers      1017209 non-null  int64 \n",
      " 5   Open           1017209 non-null  int64 \n",
      " 6   Promo          1017209 non-null  int64 \n",
      " 7   StateHoliday   1017209 non-null  object\n",
      " 8   SchoolHoliday  1017209 non-null  int64 \n",
      "dtypes: int64(7), object(2)\n",
      "memory usage: 69.8+ MB\n",
      "----------------------------------------------\n",
      "<class 'pandas.core.frame.DataFrame'>\n",
      "RangeIndex: 41088 entries, 0 to 41087\n",
      "Data columns (total 8 columns):\n",
      " #   Column         Non-Null Count  Dtype  \n",
      "---  ------         --------------  -----  \n",
      " 0   Id             41088 non-null  int64  \n",
      " 1   Store          41088 non-null  int64  \n",
      " 2   DayOfWeek      41088 non-null  int64  \n",
      " 3   Date           41088 non-null  object \n",
      " 4   Open           41077 non-null  float64\n",
      " 5   Promo          41088 non-null  int64  \n",
      " 6   StateHoliday   41088 non-null  object \n",
      " 7   SchoolHoliday  41088 non-null  int64  \n",
      "dtypes: float64(1), int64(5), object(2)\n",
      "memory usage: 2.5+ MB\n"
     ]
    }
   ],
   "source": [
    "train.info() # no null values in train data\n",
    "print(\"----------------------------------------------\")\n",
    "test.info() #few null values in open"
   ]
  },
  {
   "cell_type": "markdown",
   "metadata": {},
   "source": [
    "#### Train Data Analysis"
   ]
  },
  {
   "cell_type": "code",
   "execution_count": 6,
   "metadata": {},
   "outputs": [
    {
     "data": {
      "text/html": [
       "<div>\n",
       "<style scoped>\n",
       "    .dataframe tbody tr th:only-of-type {\n",
       "        vertical-align: middle;\n",
       "    }\n",
       "\n",
       "    .dataframe tbody tr th {\n",
       "        vertical-align: top;\n",
       "    }\n",
       "\n",
       "    .dataframe thead th {\n",
       "        text-align: right;\n",
       "    }\n",
       "</style>\n",
       "<table border=\"1\" class=\"dataframe\">\n",
       "  <thead>\n",
       "    <tr style=\"text-align: right;\">\n",
       "      <th></th>\n",
       "      <th>Store</th>\n",
       "      <th>DayOfWeek</th>\n",
       "      <th>Sales</th>\n",
       "      <th>Customers</th>\n",
       "      <th>Open</th>\n",
       "      <th>Promo</th>\n",
       "      <th>SchoolHoliday</th>\n",
       "    </tr>\n",
       "  </thead>\n",
       "  <tbody>\n",
       "    <tr>\n",
       "      <th>count</th>\n",
       "      <td>1.017209e+06</td>\n",
       "      <td>1.017209e+06</td>\n",
       "      <td>1.017209e+06</td>\n",
       "      <td>1.017209e+06</td>\n",
       "      <td>1.017209e+06</td>\n",
       "      <td>1.017209e+06</td>\n",
       "      <td>1.017209e+06</td>\n",
       "    </tr>\n",
       "    <tr>\n",
       "      <th>mean</th>\n",
       "      <td>5.584297e+02</td>\n",
       "      <td>3.998341e+00</td>\n",
       "      <td>5.773819e+03</td>\n",
       "      <td>6.331459e+02</td>\n",
       "      <td>8.301067e-01</td>\n",
       "      <td>3.815145e-01</td>\n",
       "      <td>1.786467e-01</td>\n",
       "    </tr>\n",
       "    <tr>\n",
       "      <th>std</th>\n",
       "      <td>3.219087e+02</td>\n",
       "      <td>1.997391e+00</td>\n",
       "      <td>3.849926e+03</td>\n",
       "      <td>4.644117e+02</td>\n",
       "      <td>3.755392e-01</td>\n",
       "      <td>4.857586e-01</td>\n",
       "      <td>3.830564e-01</td>\n",
       "    </tr>\n",
       "    <tr>\n",
       "      <th>min</th>\n",
       "      <td>1.000000e+00</td>\n",
       "      <td>1.000000e+00</td>\n",
       "      <td>0.000000e+00</td>\n",
       "      <td>0.000000e+00</td>\n",
       "      <td>0.000000e+00</td>\n",
       "      <td>0.000000e+00</td>\n",
       "      <td>0.000000e+00</td>\n",
       "    </tr>\n",
       "    <tr>\n",
       "      <th>25%</th>\n",
       "      <td>2.800000e+02</td>\n",
       "      <td>2.000000e+00</td>\n",
       "      <td>3.727000e+03</td>\n",
       "      <td>4.050000e+02</td>\n",
       "      <td>1.000000e+00</td>\n",
       "      <td>0.000000e+00</td>\n",
       "      <td>0.000000e+00</td>\n",
       "    </tr>\n",
       "    <tr>\n",
       "      <th>50%</th>\n",
       "      <td>5.580000e+02</td>\n",
       "      <td>4.000000e+00</td>\n",
       "      <td>5.744000e+03</td>\n",
       "      <td>6.090000e+02</td>\n",
       "      <td>1.000000e+00</td>\n",
       "      <td>0.000000e+00</td>\n",
       "      <td>0.000000e+00</td>\n",
       "    </tr>\n",
       "    <tr>\n",
       "      <th>75%</th>\n",
       "      <td>8.380000e+02</td>\n",
       "      <td>6.000000e+00</td>\n",
       "      <td>7.856000e+03</td>\n",
       "      <td>8.370000e+02</td>\n",
       "      <td>1.000000e+00</td>\n",
       "      <td>1.000000e+00</td>\n",
       "      <td>0.000000e+00</td>\n",
       "    </tr>\n",
       "    <tr>\n",
       "      <th>max</th>\n",
       "      <td>1.115000e+03</td>\n",
       "      <td>7.000000e+00</td>\n",
       "      <td>4.155100e+04</td>\n",
       "      <td>7.388000e+03</td>\n",
       "      <td>1.000000e+00</td>\n",
       "      <td>1.000000e+00</td>\n",
       "      <td>1.000000e+00</td>\n",
       "    </tr>\n",
       "  </tbody>\n",
       "</table>\n",
       "</div>"
      ],
      "text/plain": [
       "              Store     DayOfWeek         Sales     Customers          Open  \\\n",
       "count  1.017209e+06  1.017209e+06  1.017209e+06  1.017209e+06  1.017209e+06   \n",
       "mean   5.584297e+02  3.998341e+00  5.773819e+03  6.331459e+02  8.301067e-01   \n",
       "std    3.219087e+02  1.997391e+00  3.849926e+03  4.644117e+02  3.755392e-01   \n",
       "min    1.000000e+00  1.000000e+00  0.000000e+00  0.000000e+00  0.000000e+00   \n",
       "25%    2.800000e+02  2.000000e+00  3.727000e+03  4.050000e+02  1.000000e+00   \n",
       "50%    5.580000e+02  4.000000e+00  5.744000e+03  6.090000e+02  1.000000e+00   \n",
       "75%    8.380000e+02  6.000000e+00  7.856000e+03  8.370000e+02  1.000000e+00   \n",
       "max    1.115000e+03  7.000000e+00  4.155100e+04  7.388000e+03  1.000000e+00   \n",
       "\n",
       "              Promo  SchoolHoliday  \n",
       "count  1.017209e+06   1.017209e+06  \n",
       "mean   3.815145e-01   1.786467e-01  \n",
       "std    4.857586e-01   3.830564e-01  \n",
       "min    0.000000e+00   0.000000e+00  \n",
       "25%    0.000000e+00   0.000000e+00  \n",
       "50%    0.000000e+00   0.000000e+00  \n",
       "75%    1.000000e+00   0.000000e+00  \n",
       "max    1.000000e+00   1.000000e+00  "
      ]
     },
     "execution_count": 6,
     "metadata": {},
     "output_type": "execute_result"
    }
   ],
   "source": [
    "train.describe()"
   ]
  },
  {
   "cell_type": "code",
   "execution_count": 7,
   "metadata": {},
   "outputs": [],
   "source": [
    "train['Date'] = pd.to_datetime(train['Date'])"
   ]
  },
  {
   "cell_type": "code",
   "execution_count": 8,
   "metadata": {},
   "outputs": [
    {
     "data": {
      "text/plain": [
       "<AxesSubplot:xlabel='Open', ylabel='count'>"
      ]
     },
     "execution_count": 8,
     "metadata": {},
     "output_type": "execute_result"
    },
    {
     "data": {
      "image/png": "[encoded data removed]",
      "text/plain": [
       "<Figure size 1080x288 with 1 Axes>"
      ]
     },
     "metadata": {
      "needs_background": "light"
     },
     "output_type": "display_data"
    }
   ],
   "source": [
    "fig, ax1 = plt.subplots(figsize=(15,4))\n",
    "sns.countplot(x='Open',hue='DayOfWeek', data=train,palette=\"husl\", ax=ax1)"
   ]
  },
  {
   "cell_type": "markdown",
   "metadata": {},
   "source": [
    "Many stores are closed on Sundays "
   ]
  },
  {
   "cell_type": "code",
   "execution_count": 9,
   "metadata": {},
   "outputs": [
    {
     "data": {
      "image/png": "[encoded data removed]",
      "text/plain": [
       "<Figure size 1080x576 with 2 Axes>"
      ]
     },
     "metadata": {
      "needs_background": "light"
     },
     "output_type": "display_data"
    }
   ],
   "source": [
    "# Date\n",
    "\n",
    "# Create Year and Month columns\n",
    "train['Year']  = train['Date'].apply(lambda x: int(str(x)[:4]))\n",
    "train['Month'] = train['Date'].apply(lambda x: int(str(x)[5:7]))\n",
    "\n",
    "test['Year']  = test['Date'].apply(lambda x: int(str(x)[:4]))\n",
    "test['Month'] = test['Date'].apply(lambda x: int(str(x)[5:7]))\n",
    "\n",
    "# Assign Date column to Date(Year-Month) instead of (Year-Month-Day)\n",
    "train['Date'] = train['Date'].apply(lambda x: (str(x)[:7]))\n",
    "test['Date']  = test['Date'].apply(lambda x: (str(x)[:7]))\n",
    "\n",
    "# group by date and get average sales, and percent change\n",
    "avg_sales   = train.groupby('Date')[\"Sales\"].mean()\n",
    "pct_change_sales = train.groupby('Date')[\"Sales\"].sum().pct_change()\n",
    "\n",
    "fig, (axis1,axis2) = plt.subplots(2,1,sharex=True,figsize=(15,8))\n",
    "\n",
    "# plot average sales over time(year-month)\n",
    "ax1 = avg_sales.plot(legend=True,ax=axis1,marker='o',title=\"Average Sales\")\n",
    "ax1.set_xticks(range(len(avg_sales)))\n",
    "ax1.set_xticklabels(avg_sales.index.tolist(), rotation=90)\n",
    "\n",
    "# plot precent change for sales over time(year-month)\n",
    "ax2 = pct_change_sales.plot(legend=True,ax=axis2,marker='o',rot=90,colormap=\"summer\",title=\"Sales Percent Change\")"
   ]
  },
  {
   "cell_type": "markdown",
   "metadata": {},
   "source": [
    "We can see that sales during december are at peak"
   ]
  },
  {
   "cell_type": "code",
   "execution_count": 10,
   "metadata": {},
   "outputs": [
    {
     "data": {
      "text/plain": [
       "<AxesSubplot:xlabel='Year', ylabel='Customers'>"
      ]
     },
     "execution_count": 10,
     "metadata": {},
     "output_type": "execute_result"
    },
    {
     "data": {
      "image/png": "[encoded data removed]",
      "text/plain": [
       "<Figure size 1080x288 with 2 Axes>"
      ]
     },
     "metadata": {
      "needs_background": "light"
     },
     "output_type": "display_data"
    }
   ],
   "source": [
    "# Plot average sales and customers over years\n",
    "fig, (axis1,axis2) = plt.subplots(1,2,figsize=(15,4))\n",
    "\n",
    "sns.barplot(x='Year', y='Sales', data=train, ax=axis1)\n",
    "sns.barplot(x='Year', y='Customers', data=train, ax=axis2)"
   ]
  },
  {
   "cell_type": "code",
   "execution_count": 11,
   "metadata": {},
   "outputs": [
    {
     "data": {
      "text/plain": [
       "<AxesSubplot:xlabel='DayOfWeek', ylabel='Customers'>"
      ]
     },
     "execution_count": 11,
     "metadata": {},
     "output_type": "execute_result"
    },
    {
     "data": {
      "image/png": "[encoded data removed]",
      "text/plain": [
       "<Figure size 1080x288 with 2 Axes>"
      ]
     },
     "metadata": {
      "needs_background": "light"
     },
     "output_type": "display_data"
    }
   ],
   "source": [
    "# Plot average sales and customers over days of week\n",
    "fig, (axis1,axis2) = plt.subplots(1,2,figsize=(15,4))\n",
    "\n",
    "sns.barplot(x='DayOfWeek', y='Sales', data=train, ax=axis1)\n",
    "sns.barplot(x='DayOfWeek', y='Customers', data=train, ax=axis2) "
   ]
  },
  {
   "cell_type": "markdown",
   "metadata": {},
   "source": [
    "Sales and Customers on Sunday are lowest as many stores are closed "
   ]
  },
  {
   "cell_type": "code",
   "execution_count": 12,
   "metadata": {
    "scrolled": true
   },
   "outputs": [
    {
     "data": {
      "text/plain": [
       "<AxesSubplot:xlabel='Month', ylabel='Customers'>"
      ]
     },
     "execution_count": 12,
     "metadata": {},
     "output_type": "execute_result"
    },
    {
     "data": {
      "image/png": "[encoded data removed]",
      "text/plain": [
       "<Figure size 1080x288 with 2 Axes>"
      ]
     },
     "metadata": {
      "needs_background": "light"
     },
     "output_type": "display_data"
    }
   ],
   "source": [
    "# Plot average sales and customers over months\n",
    "fig, (axis1,axis2) = plt.subplots(1,2,figsize=(15,4))\n",
    "\n",
    "sns.barplot(x='Month', y='Sales', data=train, ax=axis1)\n",
    "sns.barplot(x='Month', y='Customers', data=train, ax=axis2)"
   ]
  },
  {
   "cell_type": "markdown",
   "metadata": {},
   "source": [
    "Sales and Customers are comparatively higher in December as compared to other months"
   ]
  },
  {
   "cell_type": "code",
   "execution_count": 13,
   "metadata": {
    "scrolled": true
   },
   "outputs": [
    {
     "data": {
      "text/plain": [
       "<AxesSubplot:xlabel='Promo', ylabel='Customers'>"
      ]
     },
     "execution_count": 13,
     "metadata": {},
     "output_type": "execute_result"
    },
    {
     "data": {
      "image/png": "[encoded data removed]",
      "text/plain": [
       "<Figure size 1080x288 with 2 Axes>"
      ]
     },
     "metadata": {
      "needs_background": "light"
     },
     "output_type": "display_data"
    }
   ],
   "source": [
    "# Plot average sales and customers with/without promo\n",
    "fig, (axis1,axis2) = plt.subplots(1,2,figsize=(15,4))\n",
    "\n",
    "sns.barplot(x='Promo', y='Sales', data=train, ax=axis1)\n",
    "sns.barplot(x='Promo', y='Customers', data=train, ax=axis2)"
   ]
  },
  {
   "cell_type": "markdown",
   "metadata": {},
   "source": [
    "We can clearly see without promo the store doesn't stand a chance against stores with promo"
   ]
  },
  {
   "cell_type": "code",
   "execution_count": 14,
   "metadata": {
    "scrolled": true
   },
   "outputs": [
    {
     "data": {
      "image/png": "[encoded data removed]",
      "text/plain": [
       "<Figure size 432x288 with 1 Axes>"
      ]
     },
     "metadata": {
      "needs_background": "light"
     },
     "output_type": "display_data"
    },
    {
     "data": {
      "image/png": "[encoded data removed]",
      "text/plain": [
       "<Figure size 1080x288 with 2 Axes>"
      ]
     },
     "metadata": {
      "needs_background": "light"
     },
     "output_type": "display_data"
    }
   ],
   "source": [
    "# StateHoliday has values 0 & \"0\", So, we need to merge values with 0 to \"0\"\n",
    "train[\"StateHoliday\"]= train[\"StateHoliday\"].replace(0, \"0\")\n",
    "\n",
    "sns.countplot(x='StateHoliday',data=train)\n",
    "\n",
    "# Plot average sales on StateHoliday\n",
    "fig, (axis1,axis2) = plt.subplots(1,2,figsize=(15,4))\n",
    "\n",
    "sns.barplot(x='StateHoliday', y='Sales', data=train, ax=axis1)\n",
    "filt = (train[\"StateHoliday\"] != \"0\") & (train[\"Sales\"] > 0) # we are taking sales which are more than 0\n",
    "sns.barplot(x='StateHoliday', y='Sales', data=train[filt], ax=axis2)\n",
    "plt.show()"
   ]
  },
  {
   "cell_type": "code",
   "execution_count": 15,
   "metadata": {
    "scrolled": true
   },
   "outputs": [
    {
     "data": {
      "text/plain": [
       "Text(0.5, 1.0, 'Average Sales of stores which are open')"
      ]
     },
     "execution_count": 15,
     "metadata": {},
     "output_type": "execute_result"
    },
    {
     "data": {
      "image/png": "[encoded data removed]",
      "text/plain": [
       "<Figure size 1080x288 with 2 Axes>"
      ]
     },
     "metadata": {
      "needs_background": "light"
     },
     "output_type": "display_data"
    }
   ],
   "source": [
    "# Combining a,b and c type stores so as to reduce the bias\n",
    "train[\"StateHoliday\"] = train[\"StateHoliday\"].map({0: 0, \"0\": 0, \"a\": 1, \"b\": 1, \"c\": 1})\n",
    "test[\"StateHoliday\"] = test[\"StateHoliday\"].map({0: 0, \"0\": 0, \"a\": 1, \"b\": 1, \"c\": 1})\n",
    "\n",
    "fig, (axis1,axis2) = plt.subplots(1,2,figsize=(15,4))\n",
    "plt.title('All Sales of stores')\n",
    "sns.barplot(x='StateHoliday', y='Sales', data=train, ax=axis1)\n",
    "filt = (train[\"Sales\"] > 0) # we are taking sales which are more than 0\n",
    "sns.barplot(x='StateHoliday', y='Sales', data=train[filt], ax=axis2)\n",
    "plt.title('Average Sales of stores which are open')"
   ]
  },
  {
   "cell_type": "markdown",
   "metadata": {},
   "source": [
    "From the above graphs we can clearly see that the stores which are 'OPEN' during stateholidays have high sales"
   ]
  },
  {
   "cell_type": "code",
   "execution_count": 16,
   "metadata": {},
   "outputs": [
    {
     "data": {
      "text/plain": [
       "<AxesSubplot:xlabel='SchoolHoliday', ylabel='Customers'>"
      ]
     },
     "execution_count": 16,
     "metadata": {},
     "output_type": "execute_result"
    },
    {
     "data": {
      "image/png": "[encoded data removed]",
      "text/plain": [
       "<Figure size 432x288 with 1 Axes>"
      ]
     },
     "metadata": {
      "needs_background": "light"
     },
     "output_type": "display_data"
    },
    {
     "data": {
      "image/png": "[encoded data removed]",
      "text/plain": [
       "<Figure size 1080x288 with 2 Axes>"
      ]
     },
     "metadata": {
      "needs_background": "light"
     },
     "output_type": "display_data"
    }
   ],
   "source": [
    "# Visualizing Sales over SchoolHoliday\n",
    "sns.countplot(x='SchoolHoliday',data=train)\n",
    "\n",
    "# Plot average sales on StateHoliday\n",
    "fig, (axis1,axis2) = plt.subplots(1,2,figsize=(15,4))\n",
    "\n",
    "sns.barplot(x='SchoolHoliday', y='Sales', data=train, ax=axis1)\n",
    "\n",
    "sns.barplot(x='SchoolHoliday', y='Customers', data=train, ax=axis2)"
   ]
  },
  {
   "cell_type": "markdown",
   "metadata": {},
   "source": [
    "We can clearly see that the sales & customers during School Holiday are more compared to normal days"
   ]
  },
  {
   "cell_type": "code",
   "execution_count": 17,
   "metadata": {},
   "outputs": [
    {
     "data": {
      "text/plain": [
       "<AxesSubplot:ylabel='Frequency'>"
      ]
     },
     "execution_count": 17,
     "metadata": {},
     "output_type": "execute_result"
    },
    {
     "data": {
      "image/png": "[encoded data removed]",
      "text/plain": [
       "<Figure size 432x288 with 1 Axes>"
      ]
     },
     "metadata": {
      "needs_background": "light"
     },
     "output_type": "display_data"
    }
   ],
   "source": [
    "train[\"Sales\"].plot(kind='hist',bins=70,xlim=(0,15000))"
   ]
  },
  {
   "cell_type": "markdown",
   "metadata": {},
   "source": [
    "There are mostly 0's in this plot because the stores were closed"
   ]
  },
  {
   "cell_type": "markdown",
   "metadata": {},
   "source": [
    "STORE DATA"
   ]
  },
  {
   "cell_type": "code",
   "execution_count": 18,
   "metadata": {},
   "outputs": [
    {
     "data": {
      "text/html": [
       "<div>\n",
       "<style scoped>\n",
       "    .dataframe tbody tr th:only-of-type {\n",
       "        vertical-align: middle;\n",
       "    }\n",
       "\n",
       "    .dataframe tbody tr th {\n",
       "        vertical-align: top;\n",
       "    }\n",
       "\n",
       "    .dataframe thead th {\n",
       "        text-align: right;\n",
       "    }\n",
       "</style>\n",
       "<table border=\"1\" class=\"dataframe\">\n",
       "  <thead>\n",
       "    <tr style=\"text-align: right;\">\n",
       "      <th></th>\n",
       "      <th>Store</th>\n",
       "      <th>StoreType</th>\n",
       "      <th>Assortment</th>\n",
       "      <th>CompetitionDistance</th>\n",
       "      <th>CompetitionOpenSinceMonth</th>\n",
       "      <th>CompetitionOpenSinceYear</th>\n",
       "      <th>Promo2</th>\n",
       "      <th>Promo2SinceWeek</th>\n",
       "      <th>Promo2SinceYear</th>\n",
       "      <th>PromoInterval</th>\n",
       "    </tr>\n",
       "  </thead>\n",
       "  <tbody>\n",
       "    <tr>\n",
       "      <th>0</th>\n",
       "      <td>1</td>\n",
       "      <td>c</td>\n",
       "      <td>a</td>\n",
       "      <td>1270.0</td>\n",
       "      <td>9.0</td>\n",
       "      <td>2008.0</td>\n",
       "      <td>0</td>\n",
       "      <td>NaN</td>\n",
       "      <td>NaN</td>\n",
       "      <td>NaN</td>\n",
       "    </tr>\n",
       "    <tr>\n",
       "      <th>1</th>\n",
       "      <td>2</td>\n",
       "      <td>a</td>\n",
       "      <td>a</td>\n",
       "      <td>570.0</td>\n",
       "      <td>11.0</td>\n",
       "      <td>2007.0</td>\n",
       "      <td>1</td>\n",
       "      <td>13.0</td>\n",
       "      <td>2010.0</td>\n",
       "      <td>Jan,Apr,Jul,Oct</td>\n",
       "    </tr>\n",
       "    <tr>\n",
       "      <th>2</th>\n",
       "      <td>3</td>\n",
       "      <td>a</td>\n",
       "      <td>a</td>\n",
       "      <td>14130.0</td>\n",
       "      <td>12.0</td>\n",
       "      <td>2006.0</td>\n",
       "      <td>1</td>\n",
       "      <td>14.0</td>\n",
       "      <td>2011.0</td>\n",
       "      <td>Jan,Apr,Jul,Oct</td>\n",
       "    </tr>\n",
       "    <tr>\n",
       "      <th>3</th>\n",
       "      <td>4</td>\n",
       "      <td>c</td>\n",
       "      <td>c</td>\n",
       "      <td>620.0</td>\n",
       "      <td>9.0</td>\n",
       "      <td>2009.0</td>\n",
       "      <td>0</td>\n",
       "      <td>NaN</td>\n",
       "      <td>NaN</td>\n",
       "      <td>NaN</td>\n",
       "    </tr>\n",
       "    <tr>\n",
       "      <th>4</th>\n",
       "      <td>5</td>\n",
       "      <td>a</td>\n",
       "      <td>a</td>\n",
       "      <td>29910.0</td>\n",
       "      <td>4.0</td>\n",
       "      <td>2015.0</td>\n",
       "      <td>0</td>\n",
       "      <td>NaN</td>\n",
       "      <td>NaN</td>\n",
       "      <td>NaN</td>\n",
       "    </tr>\n",
       "  </tbody>\n",
       "</table>\n",
       "</div>"
      ],
      "text/plain": [
       "   Store StoreType Assortment  CompetitionDistance  CompetitionOpenSinceMonth  \\\n",
       "0      1         c          a               1270.0                        9.0   \n",
       "1      2         a          a                570.0                       11.0   \n",
       "2      3         a          a              14130.0                       12.0   \n",
       "3      4         c          c                620.0                        9.0   \n",
       "4      5         a          a              29910.0                        4.0   \n",
       "\n",
       "   CompetitionOpenSinceYear  Promo2  Promo2SinceWeek  Promo2SinceYear  \\\n",
       "0                    2008.0       0              NaN              NaN   \n",
       "1                    2007.0       1             13.0           2010.0   \n",
       "2                    2006.0       1             14.0           2011.0   \n",
       "3                    2009.0       0              NaN              NaN   \n",
       "4                    2015.0       0              NaN              NaN   \n",
       "\n",
       "     PromoInterval  \n",
       "0              NaN  \n",
       "1  Jan,Apr,Jul,Oct  \n",
       "2  Jan,Apr,Jul,Oct  \n",
       "3              NaN  \n",
       "4              NaN  "
      ]
     },
     "execution_count": 18,
     "metadata": {},
     "output_type": "execute_result"
    }
   ],
   "source": [
    "store_df.head()"
   ]
  },
  {
   "cell_type": "code",
   "execution_count": 19,
   "metadata": {},
   "outputs": [
    {
     "name": "stdout",
     "output_type": "stream",
     "text": [
      "<class 'pandas.core.frame.DataFrame'>\n",
      "RangeIndex: 1115 entries, 0 to 1114\n",
      "Data columns (total 10 columns):\n",
      " #   Column                     Non-Null Count  Dtype  \n",
      "---  ------                     --------------  -----  \n",
      " 0   Store                      1115 non-null   int64  \n",
      " 1   StoreType                  1115 non-null   object \n",
      " 2   Assortment                 1115 non-null   object \n",
      " 3   CompetitionDistance        1112 non-null   float64\n",
      " 4   CompetitionOpenSinceMonth  761 non-null    float64\n",
      " 5   CompetitionOpenSinceYear   761 non-null    float64\n",
      " 6   Promo2                     1115 non-null   int64  \n",
      " 7   Promo2SinceWeek            571 non-null    float64\n",
      " 8   Promo2SinceYear            571 non-null    float64\n",
      " 9   PromoInterval              571 non-null    object \n",
      "dtypes: float64(5), int64(2), object(3)\n",
      "memory usage: 87.2+ KB\n",
      "----------------------------------------------\n"
     ]
    }
   ],
   "source": [
    "store_df.info() # many null values\n",
    "print(\"----------------------------------------------\")"
   ]
  },
  {
   "cell_type": "code",
   "execution_count": 20,
   "metadata": {},
   "outputs": [
    {
     "data": {
      "text/plain": [
       "Jan,Apr,Jul,Oct     335\n",
       "Feb,May,Aug,Nov     130\n",
       "Mar,Jun,Sept,Dec    106\n",
       "Name: PromoInterval, dtype: int64"
      ]
     },
     "execution_count": 20,
     "metadata": {},
     "output_type": "execute_result"
    }
   ],
   "source": [
    "store_df['PromoInterval'].value_counts()"
   ]
  },
  {
   "cell_type": "markdown",
   "metadata": {},
   "source": [
    "### Data Preprocessing"
   ]
  },
  {
   "cell_type": "code",
   "execution_count": 21,
   "metadata": {},
   "outputs": [
    {
     "name": "stdout",
     "output_type": "stream",
     "text": [
      "(1017209, 20)\n"
     ]
    },
    {
     "data": {
      "text/html": [
       "<div>\n",
       "<style scoped>\n",
       "    .dataframe tbody tr th:only-of-type {\n",
       "        vertical-align: middle;\n",
       "    }\n",
       "\n",
       "    .dataframe tbody tr th {\n",
       "        vertical-align: top;\n",
       "    }\n",
       "\n",
       "    .dataframe thead th {\n",
       "        text-align: right;\n",
       "    }\n",
       "</style>\n",
       "<table border=\"1\" class=\"dataframe\">\n",
       "  <thead>\n",
       "    <tr style=\"text-align: right;\">\n",
       "      <th></th>\n",
       "      <th>Store</th>\n",
       "      <th>DayOfWeek</th>\n",
       "      <th>Date</th>\n",
       "      <th>Sales</th>\n",
       "      <th>Customers</th>\n",
       "      <th>Open</th>\n",
       "      <th>Promo</th>\n",
       "      <th>StateHoliday</th>\n",
       "      <th>SchoolHoliday</th>\n",
       "      <th>Year</th>\n",
       "      <th>Month</th>\n",
       "      <th>StoreType</th>\n",
       "      <th>Assortment</th>\n",
       "      <th>CompetitionDistance</th>\n",
       "      <th>CompetitionOpenSinceMonth</th>\n",
       "      <th>CompetitionOpenSinceYear</th>\n",
       "      <th>Promo2</th>\n",
       "      <th>Promo2SinceWeek</th>\n",
       "      <th>Promo2SinceYear</th>\n",
       "      <th>PromoInterval</th>\n",
       "    </tr>\n",
       "  </thead>\n",
       "  <tbody>\n",
       "    <tr>\n",
       "      <th>0</th>\n",
       "      <td>1</td>\n",
       "      <td>5</td>\n",
       "      <td>2015-07</td>\n",
       "      <td>5263</td>\n",
       "      <td>555</td>\n",
       "      <td>1</td>\n",
       "      <td>1</td>\n",
       "      <td>0</td>\n",
       "      <td>1</td>\n",
       "      <td>2015</td>\n",
       "      <td>7</td>\n",
       "      <td>c</td>\n",
       "      <td>a</td>\n",
       "      <td>1270.0</td>\n",
       "      <td>9.0</td>\n",
       "      <td>2008.0</td>\n",
       "      <td>0</td>\n",
       "      <td>NaN</td>\n",
       "      <td>NaN</td>\n",
       "      <td>NaN</td>\n",
       "    </tr>\n",
       "    <tr>\n",
       "      <th>1</th>\n",
       "      <td>2</td>\n",
       "      <td>5</td>\n",
       "      <td>2015-07</td>\n",
       "      <td>6064</td>\n",
       "      <td>625</td>\n",
       "      <td>1</td>\n",
       "      <td>1</td>\n",
       "      <td>0</td>\n",
       "      <td>1</td>\n",
       "      <td>2015</td>\n",
       "      <td>7</td>\n",
       "      <td>a</td>\n",
       "      <td>a</td>\n",
       "      <td>570.0</td>\n",
       "      <td>11.0</td>\n",
       "      <td>2007.0</td>\n",
       "      <td>1</td>\n",
       "      <td>13.0</td>\n",
       "      <td>2010.0</td>\n",
       "      <td>Jan,Apr,Jul,Oct</td>\n",
       "    </tr>\n",
       "    <tr>\n",
       "      <th>2</th>\n",
       "      <td>3</td>\n",
       "      <td>5</td>\n",
       "      <td>2015-07</td>\n",
       "      <td>8314</td>\n",
       "      <td>821</td>\n",
       "      <td>1</td>\n",
       "      <td>1</td>\n",
       "      <td>0</td>\n",
       "      <td>1</td>\n",
       "      <td>2015</td>\n",
       "      <td>7</td>\n",
       "      <td>a</td>\n",
       "      <td>a</td>\n",
       "      <td>14130.0</td>\n",
       "      <td>12.0</td>\n",
       "      <td>2006.0</td>\n",
       "      <td>1</td>\n",
       "      <td>14.0</td>\n",
       "      <td>2011.0</td>\n",
       "      <td>Jan,Apr,Jul,Oct</td>\n",
       "    </tr>\n",
       "    <tr>\n",
       "      <th>3</th>\n",
       "      <td>4</td>\n",
       "      <td>5</td>\n",
       "      <td>2015-07</td>\n",
       "      <td>13995</td>\n",
       "      <td>1498</td>\n",
       "      <td>1</td>\n",
       "      <td>1</td>\n",
       "      <td>0</td>\n",
       "      <td>1</td>\n",
       "      <td>2015</td>\n",
       "      <td>7</td>\n",
       "      <td>c</td>\n",
       "      <td>c</td>\n",
       "      <td>620.0</td>\n",
       "      <td>9.0</td>\n",
       "      <td>2009.0</td>\n",
       "      <td>0</td>\n",
       "      <td>NaN</td>\n",
       "      <td>NaN</td>\n",
       "      <td>NaN</td>\n",
       "    </tr>\n",
       "    <tr>\n",
       "      <th>4</th>\n",
       "      <td>5</td>\n",
       "      <td>5</td>\n",
       "      <td>2015-07</td>\n",
       "      <td>4822</td>\n",
       "      <td>559</td>\n",
       "      <td>1</td>\n",
       "      <td>1</td>\n",
       "      <td>0</td>\n",
       "      <td>1</td>\n",
       "      <td>2015</td>\n",
       "      <td>7</td>\n",
       "      <td>a</td>\n",
       "      <td>a</td>\n",
       "      <td>29910.0</td>\n",
       "      <td>4.0</td>\n",
       "      <td>2015.0</td>\n",
       "      <td>0</td>\n",
       "      <td>NaN</td>\n",
       "      <td>NaN</td>\n",
       "      <td>NaN</td>\n",
       "    </tr>\n",
       "  </tbody>\n",
       "</table>\n",
       "</div>"
      ],
      "text/plain": [
       "   Store  DayOfWeek     Date  Sales  Customers  Open  Promo  StateHoliday  \\\n",
       "0      1          5  2015-07   5263        555     1      1             0   \n",
       "1      2          5  2015-07   6064        625     1      1             0   \n",
       "2      3          5  2015-07   8314        821     1      1             0   \n",
       "3      4          5  2015-07  13995       1498     1      1             0   \n",
       "4      5          5  2015-07   4822        559     1      1             0   \n",
       "\n",
       "   SchoolHoliday  Year  Month StoreType Assortment  CompetitionDistance  \\\n",
       "0              1  2015      7         c          a               1270.0   \n",
       "1              1  2015      7         a          a                570.0   \n",
       "2              1  2015      7         a          a              14130.0   \n",
       "3              1  2015      7         c          c                620.0   \n",
       "4              1  2015      7         a          a              29910.0   \n",
       "\n",
       "   CompetitionOpenSinceMonth  CompetitionOpenSinceYear  Promo2  \\\n",
       "0                        9.0                    2008.0       0   \n",
       "1                       11.0                    2007.0       1   \n",
       "2                       12.0                    2006.0       1   \n",
       "3                        9.0                    2009.0       0   \n",
       "4                        4.0                    2015.0       0   \n",
       "\n",
       "   Promo2SinceWeek  Promo2SinceYear    PromoInterval  \n",
       "0              NaN              NaN              NaN  \n",
       "1             13.0           2010.0  Jan,Apr,Jul,Oct  \n",
       "2             14.0           2011.0  Jan,Apr,Jul,Oct  \n",
       "3              NaN              NaN              NaN  \n",
       "4              NaN              NaN              NaN  "
      ]
     },
     "execution_count": 21,
     "metadata": {},
     "output_type": "execute_result"
    }
   ],
   "source": [
    "# Merging train and store_df\n",
    "train_store = train.merge(store_df,left_on=['Store'], right_on=['Store'],how='left')\n",
    "print(train_store.shape)\n",
    "train_store.head()"
   ]
  },
  {
   "cell_type": "code",
   "execution_count": 22,
   "metadata": {},
   "outputs": [
    {
     "name": "stdout",
     "output_type": "stream",
     "text": [
      "(41088, 19)\n"
     ]
    },
    {
     "data": {
      "text/html": [
       "<div>\n",
       "<style scoped>\n",
       "    .dataframe tbody tr th:only-of-type {\n",
       "        vertical-align: middle;\n",
       "    }\n",
       "\n",
       "    .dataframe tbody tr th {\n",
       "        vertical-align: top;\n",
       "    }\n",
       "\n",
       "    .dataframe thead th {\n",
       "        text-align: right;\n",
       "    }\n",
       "</style>\n",
       "<table border=\"1\" class=\"dataframe\">\n",
       "  <thead>\n",
       "    <tr style=\"text-align: right;\">\n",
       "      <th></th>\n",
       "      <th>Id</th>\n",
       "      <th>Store</th>\n",
       "      <th>DayOfWeek</th>\n",
       "      <th>Date</th>\n",
       "      <th>Open</th>\n",
       "      <th>Promo</th>\n",
       "      <th>StateHoliday</th>\n",
       "      <th>SchoolHoliday</th>\n",
       "      <th>Year</th>\n",
       "      <th>Month</th>\n",
       "      <th>StoreType</th>\n",
       "      <th>Assortment</th>\n",
       "      <th>CompetitionDistance</th>\n",
       "      <th>CompetitionOpenSinceMonth</th>\n",
       "      <th>CompetitionOpenSinceYear</th>\n",
       "      <th>Promo2</th>\n",
       "      <th>Promo2SinceWeek</th>\n",
       "      <th>Promo2SinceYear</th>\n",
       "      <th>PromoInterval</th>\n",
       "    </tr>\n",
       "  </thead>\n",
       "  <tbody>\n",
       "    <tr>\n",
       "      <th>0</th>\n",
       "      <td>1</td>\n",
       "      <td>1</td>\n",
       "      <td>4</td>\n",
       "      <td>2015-09</td>\n",
       "      <td>1.0</td>\n",
       "      <td>1</td>\n",
       "      <td>0</td>\n",
       "      <td>0</td>\n",
       "      <td>2015</td>\n",
       "      <td>9</td>\n",
       "      <td>c</td>\n",
       "      <td>a</td>\n",
       "      <td>1270.0</td>\n",
       "      <td>9.0</td>\n",
       "      <td>2008.0</td>\n",
       "      <td>0</td>\n",
       "      <td>NaN</td>\n",
       "      <td>NaN</td>\n",
       "      <td>NaN</td>\n",
       "    </tr>\n",
       "    <tr>\n",
       "      <th>1</th>\n",
       "      <td>2</td>\n",
       "      <td>3</td>\n",
       "      <td>4</td>\n",
       "      <td>2015-09</td>\n",
       "      <td>1.0</td>\n",
       "      <td>1</td>\n",
       "      <td>0</td>\n",
       "      <td>0</td>\n",
       "      <td>2015</td>\n",
       "      <td>9</td>\n",
       "      <td>a</td>\n",
       "      <td>a</td>\n",
       "      <td>14130.0</td>\n",
       "      <td>12.0</td>\n",
       "      <td>2006.0</td>\n",
       "      <td>1</td>\n",
       "      <td>14.0</td>\n",
       "      <td>2011.0</td>\n",
       "      <td>Jan,Apr,Jul,Oct</td>\n",
       "    </tr>\n",
       "    <tr>\n",
       "      <th>2</th>\n",
       "      <td>3</td>\n",
       "      <td>7</td>\n",
       "      <td>4</td>\n",
       "      <td>2015-09</td>\n",
       "      <td>1.0</td>\n",
       "      <td>1</td>\n",
       "      <td>0</td>\n",
       "      <td>0</td>\n",
       "      <td>2015</td>\n",
       "      <td>9</td>\n",
       "      <td>a</td>\n",
       "      <td>c</td>\n",
       "      <td>24000.0</td>\n",
       "      <td>4.0</td>\n",
       "      <td>2013.0</td>\n",
       "      <td>0</td>\n",
       "      <td>NaN</td>\n",
       "      <td>NaN</td>\n",
       "      <td>NaN</td>\n",
       "    </tr>\n",
       "    <tr>\n",
       "      <th>3</th>\n",
       "      <td>4</td>\n",
       "      <td>8</td>\n",
       "      <td>4</td>\n",
       "      <td>2015-09</td>\n",
       "      <td>1.0</td>\n",
       "      <td>1</td>\n",
       "      <td>0</td>\n",
       "      <td>0</td>\n",
       "      <td>2015</td>\n",
       "      <td>9</td>\n",
       "      <td>a</td>\n",
       "      <td>a</td>\n",
       "      <td>7520.0</td>\n",
       "      <td>10.0</td>\n",
       "      <td>2014.0</td>\n",
       "      <td>0</td>\n",
       "      <td>NaN</td>\n",
       "      <td>NaN</td>\n",
       "      <td>NaN</td>\n",
       "    </tr>\n",
       "    <tr>\n",
       "      <th>4</th>\n",
       "      <td>5</td>\n",
       "      <td>9</td>\n",
       "      <td>4</td>\n",
       "      <td>2015-09</td>\n",
       "      <td>1.0</td>\n",
       "      <td>1</td>\n",
       "      <td>0</td>\n",
       "      <td>0</td>\n",
       "      <td>2015</td>\n",
       "      <td>9</td>\n",
       "      <td>a</td>\n",
       "      <td>c</td>\n",
       "      <td>2030.0</td>\n",
       "      <td>8.0</td>\n",
       "      <td>2000.0</td>\n",
       "      <td>0</td>\n",
       "      <td>NaN</td>\n",
       "      <td>NaN</td>\n",
       "      <td>NaN</td>\n",
       "    </tr>\n",
       "  </tbody>\n",
       "</table>\n",
       "</div>"
      ],
      "text/plain": [
       "   Id  Store  DayOfWeek     Date  Open  Promo  StateHoliday  SchoolHoliday  \\\n",
       "0   1      1          4  2015-09   1.0      1             0              0   \n",
       "1   2      3          4  2015-09   1.0      1             0              0   \n",
       "2   3      7          4  2015-09   1.0      1             0              0   \n",
       "3   4      8          4  2015-09   1.0      1             0              0   \n",
       "4   5      9          4  2015-09   1.0      1             0              0   \n",
       "\n",
       "   Year  Month StoreType Assortment  CompetitionDistance  \\\n",
       "0  2015      9         c          a               1270.0   \n",
       "1  2015      9         a          a              14130.0   \n",
       "2  2015      9         a          c              24000.0   \n",
       "3  2015      9         a          a               7520.0   \n",
       "4  2015      9         a          c               2030.0   \n",
       "\n",
       "   CompetitionOpenSinceMonth  CompetitionOpenSinceYear  Promo2  \\\n",
       "0                        9.0                    2008.0       0   \n",
       "1                       12.0                    2006.0       1   \n",
       "2                        4.0                    2013.0       0   \n",
       "3                       10.0                    2014.0       0   \n",
       "4                        8.0                    2000.0       0   \n",
       "\n",
       "   Promo2SinceWeek  Promo2SinceYear    PromoInterval  \n",
       "0              NaN              NaN              NaN  \n",
       "1             14.0           2011.0  Jan,Apr,Jul,Oct  \n",
       "2              NaN              NaN              NaN  \n",
       "3              NaN              NaN              NaN  \n",
       "4              NaN              NaN              NaN  "
      ]
     },
     "execution_count": 22,
     "metadata": {},
     "output_type": "execute_result"
    }
   ],
   "source": [
    "test_store = test.merge(store_df,left_on=['Store'], right_on=['Store'],how='left')\n",
    "print(test_store.shape)\n",
    "test_store.head()"
   ]
  },
  {
   "cell_type": "code",
   "execution_count": 23,
   "metadata": {},
   "outputs": [
    {
     "name": "stdout",
     "output_type": "stream",
     "text": [
      "<class 'pandas.core.frame.DataFrame'>\n",
      "Int64Index: 1017209 entries, 0 to 1017208\n",
      "Data columns (total 20 columns):\n",
      " #   Column                     Non-Null Count    Dtype  \n",
      "---  ------                     --------------    -----  \n",
      " 0   Store                      1017209 non-null  int64  \n",
      " 1   DayOfWeek                  1017209 non-null  int64  \n",
      " 2   Date                       1017209 non-null  object \n",
      " 3   Sales                      1017209 non-null  int64  \n",
      " 4   Customers                  1017209 non-null  int64  \n",
      " 5   Open                       1017209 non-null  int64  \n",
      " 6   Promo                      1017209 non-null  int64  \n",
      " 7   StateHoliday               1017209 non-null  int64  \n",
      " 8   SchoolHoliday              1017209 non-null  int64  \n",
      " 9   Year                       1017209 non-null  int64  \n",
      " 10  Month                      1017209 non-null  int64  \n",
      " 11  StoreType                  1017209 non-null  object \n",
      " 12  Assortment                 1017209 non-null  object \n",
      " 13  CompetitionDistance        1014567 non-null  float64\n",
      " 14  CompetitionOpenSinceMonth  693861 non-null   float64\n",
      " 15  CompetitionOpenSinceYear   693861 non-null   float64\n",
      " 16  Promo2                     1017209 non-null  int64  \n",
      " 17  Promo2SinceWeek            509178 non-null   float64\n",
      " 18  Promo2SinceYear            509178 non-null   float64\n",
      " 19  PromoInterval              509178 non-null   object \n",
      "dtypes: float64(5), int64(11), object(4)\n",
      "memory usage: 163.0+ MB\n"
     ]
    }
   ],
   "source": [
    "train_store.info()"
   ]
  },
  {
   "cell_type": "code",
   "execution_count": 24,
   "metadata": {},
   "outputs": [
    {
     "name": "stdout",
     "output_type": "stream",
     "text": [
      "<class 'pandas.core.frame.DataFrame'>\n",
      "Int64Index: 41088 entries, 0 to 41087\n",
      "Data columns (total 19 columns):\n",
      " #   Column                     Non-Null Count  Dtype  \n",
      "---  ------                     --------------  -----  \n",
      " 0   Id                         41088 non-null  int64  \n",
      " 1   Store                      41088 non-null  int64  \n",
      " 2   DayOfWeek                  41088 non-null  int64  \n",
      " 3   Date                       41088 non-null  object \n",
      " 4   Open                       41077 non-null  float64\n",
      " 5   Promo                      41088 non-null  int64  \n",
      " 6   StateHoliday               41088 non-null  int64  \n",
      " 7   SchoolHoliday              41088 non-null  int64  \n",
      " 8   Year                       41088 non-null  int64  \n",
      " 9   Month                      41088 non-null  int64  \n",
      " 10  StoreType                  41088 non-null  object \n",
      " 11  Assortment                 41088 non-null  object \n",
      " 12  CompetitionDistance        40992 non-null  float64\n",
      " 13  CompetitionOpenSinceMonth  25872 non-null  float64\n",
      " 14  CompetitionOpenSinceYear   25872 non-null  float64\n",
      " 15  Promo2                     41088 non-null  int64  \n",
      " 16  Promo2SinceWeek            23856 non-null  float64\n",
      " 17  Promo2SinceYear            23856 non-null  float64\n",
      " 18  PromoInterval              23856 non-null  object \n",
      "dtypes: float64(6), int64(9), object(4)\n",
      "memory usage: 6.3+ MB\n"
     ]
    }
   ],
   "source": [
    "test_store.info()"
   ]
  },
  {
   "cell_type": "code",
   "execution_count": 25,
   "metadata": {},
   "outputs": [
    {
     "data": {
      "text/plain": [
       "<AxesSubplot:>"
      ]
     },
     "execution_count": 25,
     "metadata": {},
     "output_type": "execute_result"
    },
    {
     "data": {
      "image/png": "[encoded data removed]",
      "text/plain": [
       "<Figure size 1800x1800 with 2 Axes>"
      ]
     },
     "metadata": {
      "needs_background": "light"
     },
     "output_type": "display_data"
    }
   ],
   "source": [
    "# Checking correlation bw different variables\n",
    "plt.figure(figsize=(25,25))\n",
    "sns.heatmap(train_store.corr(),vmax=.7,cbar=True,annot=True)"
   ]
  },
  {
   "cell_type": "markdown",
   "metadata": {},
   "source": [
    "The highly correlated features with the target variable(Sales) are :- Promo, Open, Customers, DayOfWeek"
   ]
  },
  {
   "cell_type": "markdown",
   "metadata": {},
   "source": [
    "**Treating Missing Values**"
   ]
  },
  {
   "cell_type": "code",
   "execution_count": 26,
   "metadata": {},
   "outputs": [
    {
     "data": {
      "text/plain": [
       "Store                             0\n",
       "DayOfWeek                         0\n",
       "Date                              0\n",
       "Sales                             0\n",
       "Customers                         0\n",
       "Open                              0\n",
       "Promo                             0\n",
       "StateHoliday                      0\n",
       "SchoolHoliday                     0\n",
       "Year                              0\n",
       "Month                             0\n",
       "StoreType                         0\n",
       "Assortment                        0\n",
       "CompetitionDistance            2642\n",
       "CompetitionOpenSinceMonth    323348\n",
       "CompetitionOpenSinceYear     323348\n",
       "Promo2                            0\n",
       "Promo2SinceWeek              508031\n",
       "Promo2SinceYear              508031\n",
       "PromoInterval                508031\n",
       "dtype: int64"
      ]
     },
     "execution_count": 26,
     "metadata": {},
     "output_type": "execute_result"
    }
   ],
   "source": [
    "train_store.isnull().sum()"
   ]
  },
  {
   "cell_type": "code",
   "execution_count": 27,
   "metadata": {},
   "outputs": [
    {
     "data": {
      "text/plain": [
       "<AxesSubplot:title={'center':'Promo2SinceYear'}, xlabel='Promo2SinceYear'>"
      ]
     },
     "execution_count": 27,
     "metadata": {},
     "output_type": "execute_result"
    },
    {
     "data": {
      "image/png": "[encoded data removed]",
      "text/plain": [
       "<Figure size 1440x288 with 6 Axes>"
      ]
     },
     "metadata": {
      "needs_background": "light"
     },
     "output_type": "display_data"
    }
   ],
   "source": [
    "# Plot average sales on StateHoliday\n",
    "fig, (axis1,axis2,axis3,axis4,axis5,axis6) = plt.subplots(1,6,figsize=(20,4))\n",
    "plt.title('CompetitionDistance')\n",
    "sns.boxplot( train_store['CompetitionDistance'],ax=axis2)\n",
    "plt.title('CompetitionOpenSinceMonth')\n",
    "sns.boxplot( train_store['CompetitionOpenSinceMonth'], ax=axis3)\n",
    "plt.title('CompetitionOpenSinceYear')\n",
    "sns.boxplot( train_store['CompetitionOpenSinceYear'], ax=axis4)\n",
    "plt.title('Promo2SinceWeek')\n",
    "sns.boxplot( train_store['Promo2SinceWeek'], ax=axis5)\n",
    "plt.title('Promo2SinceYear')\n",
    "sns.boxplot( train_store['Promo2SinceYear'], ax=axis6)"
   ]
  },
  {
   "cell_type": "markdown",
   "metadata": {},
   "source": [
    "You can see there are lot of outliers"
   ]
  },
  {
   "cell_type": "code",
   "execution_count": 28,
   "metadata": {},
   "outputs": [],
   "source": [
    "# Week of year and calculating promo\n",
    "train_store['WeekOfYear'] = pd.DatetimeIndex(train_store['Date']).weekofyear\n",
    "train_store['PromoOpen'] = 12 * (train_store.Year - train_store.Promo2SinceYear) + \\\n",
    "        (train_store.WeekOfYear - train_store.Promo2SinceWeek) / 4.0\n",
    "train_store['PromoOpen'] = train_store.PromoOpen.apply(lambda x: x if x > 0 else 0)\n",
    "train_store.loc[train_store.Promo2SinceYear == 0, 'PromoOpen'] = 0"
   ]
  },
  {
   "cell_type": "code",
   "execution_count": 29,
   "metadata": {},
   "outputs": [],
   "source": [
    "test_store['WeekOfYear'] = pd.DatetimeIndex(test_store['Date']).weekofyear\n",
    "test_store['PromoOpen'] = 12 * (test_store.Year - test_store.Promo2SinceYear) + \\\n",
    "        (train_store.WeekOfYear - test_store.Promo2SinceWeek) / 4.0\n",
    "test_store['PromoOpen'] = test_store.PromoOpen.apply(lambda x: x if x > 0 else 0)\n",
    "test_store.loc[test_store.Promo2SinceYear == 0, 'PromoOpen'] = 0"
   ]
  },
  {
   "cell_type": "code",
   "execution_count": 30,
   "metadata": {},
   "outputs": [],
   "source": [
    "train_store['CompetitionOpen'] = 12 * (train_store.Year - train_store.CompetitionOpenSinceYear) + (train_store.Month - train_store.CompetitionOpenSinceMonth)\n",
    "test_store['CompetitionOpen'] = 12 * (test_store.Year - train_store.CompetitionOpenSinceYear) + (test_store.Month - test_store.CompetitionOpenSinceMonth)"
   ]
  },
  {
   "cell_type": "code",
   "execution_count": 31,
   "metadata": {},
   "outputs": [],
   "source": [
    "#Replacing null values with median\n",
    "med_comp_month = train_store['PromoOpen'].astype('float').median(axis=0)\n",
    "train_store['PromoOpen'].replace(np.nan,math.floor(med_comp_month),inplace=True)\n",
    "\n",
    "med_comp_month = train_store['PromoOpen'].astype('float').median(axis=0)\n",
    "test_store['PromoOpen'].replace(np.nan,math.floor(med_comp_month),inplace=True)\n",
    "\n",
    "med_comp_month = train_store['CompetitionOpen'].astype('float').median(axis=0)\n",
    "train_store['CompetitionOpen'].replace(np.nan,math.floor(med_comp_month),inplace=True)\n",
    "\n",
    "med_comp_month = train_store['CompetitionOpen'].astype('float').median(axis=0)\n",
    "test_store['CompetitionOpen'].replace(np.nan,math.floor(med_comp_month),inplace=True)"
   ]
  },
  {
   "cell_type": "markdown",
   "metadata": {},
   "source": [
    "I am replacing with Median (instead of mean due to outliers) as they are not highly correlated to the dependent variable"
   ]
  },
  {
   "cell_type": "code",
   "execution_count": 32,
   "metadata": {},
   "outputs": [
    {
     "data": {
      "text/plain": [
       "Store                             0\n",
       "DayOfWeek                         0\n",
       "Date                              0\n",
       "Sales                             0\n",
       "Customers                         0\n",
       "Open                              0\n",
       "Promo                             0\n",
       "StateHoliday                      0\n",
       "SchoolHoliday                     0\n",
       "Year                              0\n",
       "Month                             0\n",
       "StoreType                         0\n",
       "Assortment                        0\n",
       "CompetitionDistance            2642\n",
       "CompetitionOpenSinceMonth    323348\n",
       "CompetitionOpenSinceYear     323348\n",
       "Promo2                            0\n",
       "Promo2SinceWeek              508031\n",
       "Promo2SinceYear              508031\n",
       "PromoInterval                508031\n",
       "WeekOfYear                        0\n",
       "PromoOpen                         0\n",
       "CompetitionOpen                   0\n",
       "dtype: int64"
      ]
     },
     "execution_count": 32,
     "metadata": {},
     "output_type": "execute_result"
    }
   ],
   "source": [
    "train_store.isnull().sum() # no null values"
   ]
  },
  {
   "cell_type": "markdown",
   "metadata": {},
   "source": [
    "#### Train and Store data Analysis"
   ]
  },
  {
   "cell_type": "code",
   "execution_count": 33,
   "metadata": {},
   "outputs": [
    {
     "data": {
      "text/plain": [
       "<AxesSubplot:xlabel='StoreType', ylabel='count'>"
      ]
     },
     "execution_count": 33,
     "metadata": {},
     "output_type": "execute_result"
    },
    {
     "data": {
      "image/png": "[encoded data removed]",
      "text/plain": [
       "<Figure size 1080x360 with 2 Axes>"
      ]
     },
     "metadata": {
      "needs_background": "light"
     },
     "output_type": "display_data"
    }
   ],
   "source": [
    "fig, (axis1,axis2) = plt.subplots(1,2,figsize=(15,5))\n",
    "\n",
    "#plt.title('StoreType vs Sales')\n",
    "sns.barplot(x='StoreType', y='Sales', data=train_store, order=['a','b','c', 'd'],ax=axis2)\n",
    "sns.countplot(x='StoreType',data=train_store, order=['a','b','c', 'd'],ax=axis1)\n",
    "#plt.title('StoreType vs Customers')\n",
    "#sns.barplot(x='StoreType', y='Customers', data=train_store, order=['a','b','c', 'd'], ax=axis2)"
   ]
  },
  {
   "cell_type": "markdown",
   "metadata": {},
   "source": [
    "You can see that the 'b-type' stores are less but have high sales and volume, while 'a-type' stores are high in number but have relatively low sales and volume "
   ]
  },
  {
   "cell_type": "code",
   "execution_count": 34,
   "metadata": {},
   "outputs": [
    {
     "data": {
      "text/plain": [
       "<AxesSubplot:xlabel='Assortment', ylabel='Sales'>"
      ]
     },
     "execution_count": 34,
     "metadata": {},
     "output_type": "execute_result"
    },
    {
     "data": {
      "image/png": "[encoded data removed]",
      "text/plain": [
       "<Figure size 1080x360 with 2 Axes>"
      ]
     },
     "metadata": {
      "needs_background": "light"
     },
     "output_type": "display_data"
    }
   ],
   "source": [
    "#plt.title('Assortment')\n",
    "#sns.countplot(x='Assortment', data=train_store, order=['a','b','c'], ax=axis1)\n",
    "fig, (axis1,axis2) = plt.subplots(1,2,figsize=(15,5))\n",
    "#plt.title('Assortment vs Sales')\n",
    "sns.countplot(x='Assortment', data=train_store, order=['a','b','c'], ax=axis1)\n",
    "sns.barplot(x='Assortment', y='Sales', data=train_store, order=['a','b','c'], ax=axis2)\n",
    "#plt.title('Assortment vs Customers')\n",
    "#sns.barplot(x='Assortment', y='Customers', data=train_store, order=['a','b','c'], ax=axis2)"
   ]
  },
  {
   "cell_type": "code",
   "execution_count": 35,
   "metadata": {},
   "outputs": [
    {
     "data": {
      "text/plain": [
       "<AxesSubplot:title={'center':'Promo2 vs Customers'}, xlabel='Promo2', ylabel='Customers'>"
      ]
     },
     "execution_count": 35,
     "metadata": {},
     "output_type": "execute_result"
    },
    {
     "data": {
      "image/png": "[encoded data removed]",
      "text/plain": [
       "<Figure size 432x288 with 1 Axes>"
      ]
     },
     "metadata": {
      "needs_background": "light"
     },
     "output_type": "display_data"
    },
    {
     "data": {
      "image/png": "[encoded data removed]",
      "text/plain": [
       "<Figure size 720x288 with 2 Axes>"
      ]
     },
     "metadata": {
      "needs_background": "light"
     },
     "output_type": "display_data"
    }
   ],
   "source": [
    "plt.title('Promo2')\n",
    "sns.countplot(x='Promo2', data=train_store)\n",
    "\n",
    "fig, (axis1,axis2) = plt.subplots(1,2,figsize=(10,4))\n",
    "\n",
    "plt.title('Promo2 vs Sales')\n",
    "sns.barplot(x='Promo2', y='Sales', data=train_store, ax=axis1)\n",
    "plt.title('Promo2 vs Customers')\n",
    "sns.barplot(x='Promo2', y='Customers', data=train_store, ax=axis2)"
   ]
  },
  {
   "cell_type": "code",
   "execution_count": 36,
   "metadata": {},
   "outputs": [
    {
     "data": {
      "text/plain": [
       "1.5986502899508919"
      ]
     },
     "execution_count": 36,
     "metadata": {},
     "output_type": "execute_result"
    },
    {
     "data": {
      "image/png": "[encoded data removed]",
      "text/plain": [
       "<Figure size 432x288 with 1 Axes>"
      ]
     },
     "metadata": {
      "needs_background": "light"
     },
     "output_type": "display_data"
    }
   ],
   "source": [
    "sns.distplot(train_store['Customers'],color='Black')\n",
    "train_store['Customers'].skew()"
   ]
  },
  {
   "cell_type": "code",
   "execution_count": 37,
   "metadata": {},
   "outputs": [
    {
     "data": {
      "text/plain": [
       "0.6414596158103787"
      ]
     },
     "execution_count": 37,
     "metadata": {},
     "output_type": "execute_result"
    },
    {
     "data": {
      "image/png": "[encoded data removed]",
      "text/plain": [
       "<Figure size 432x288 with 1 Axes>"
      ]
     },
     "metadata": {
      "needs_background": "light"
     },
     "output_type": "display_data"
    }
   ],
   "source": [
    "sns.distplot(train_store['Sales'],color='Black')\n",
    "train_store['Sales'].skew()"
   ]
  },
  {
   "cell_type": "code",
   "execution_count": 38,
   "metadata": {},
   "outputs": [
    {
     "data": {
      "text/plain": [
       "Text(0.5, 1.0, 'Correlation Coefficients w.r.t Sales')"
      ]
     },
     "execution_count": 38,
     "metadata": {},
     "output_type": "execute_result"
    },
    {
     "data": {
      "image/png": "[encoded data removed]",
      "text/plain": [
       "<Figure size 720x360 with 1 Axes>"
      ]
     },
     "metadata": {
      "needs_background": "light"
     },
     "output_type": "display_data"
    }
   ],
   "source": [
    "# Plotting correlations\n",
    "num_feat=train_store.columns[train_store.dtypes!=object]\n",
    "num_feat=num_feat[1:-1] \n",
    "labels = []\n",
    "values = []\n",
    "for col in num_feat:\n",
    "    labels.append(col)\n",
    "    values.append(np.corrcoef(train_store[col].values, train_store['Sales'].values)[0,1])\n",
    "ind = np.arange(len(labels))\n",
    "width = 0.9\n",
    "fig, ax = plt.subplots(figsize=(10,5))\n",
    "rects = ax.barh(ind, np.array(values), color='red')\n",
    "ax.set_yticks(ind+((width)/2.))\n",
    "ax.set_yticklabels(labels, rotation='horizontal')\n",
    "ax.set_xlabel(\"Correlation coefficient\")\n",
    "ax.set_title(\"Correlation Coefficients w.r.t Sales\")"
   ]
  },
  {
   "cell_type": "markdown",
   "metadata": {},
   "source": [
    "### Feature Engineering & Selection of Train and Test Data"
   ]
  },
  {
   "cell_type": "code",
   "execution_count": 39,
   "metadata": {},
   "outputs": [
    {
     "data": {
      "text/html": [
       "<div>\n",
       "<style scoped>\n",
       "    .dataframe tbody tr th:only-of-type {\n",
       "        vertical-align: middle;\n",
       "    }\n",
       "\n",
       "    .dataframe tbody tr th {\n",
       "        vertical-align: top;\n",
       "    }\n",
       "\n",
       "    .dataframe thead th {\n",
       "        text-align: right;\n",
       "    }\n",
       "</style>\n",
       "<table border=\"1\" class=\"dataframe\">\n",
       "  <thead>\n",
       "    <tr style=\"text-align: right;\">\n",
       "      <th></th>\n",
       "      <th>Store</th>\n",
       "      <th>DayOfWeek</th>\n",
       "      <th>Date</th>\n",
       "      <th>Sales</th>\n",
       "      <th>Customers</th>\n",
       "      <th>Open</th>\n",
       "      <th>Promo</th>\n",
       "      <th>StateHoliday</th>\n",
       "      <th>SchoolHoliday</th>\n",
       "      <th>Year</th>\n",
       "      <th>...</th>\n",
       "      <th>CompetitionDistance</th>\n",
       "      <th>CompetitionOpenSinceMonth</th>\n",
       "      <th>CompetitionOpenSinceYear</th>\n",
       "      <th>Promo2</th>\n",
       "      <th>Promo2SinceWeek</th>\n",
       "      <th>Promo2SinceYear</th>\n",
       "      <th>PromoInterval</th>\n",
       "      <th>WeekOfYear</th>\n",
       "      <th>PromoOpen</th>\n",
       "      <th>CompetitionOpen</th>\n",
       "    </tr>\n",
       "  </thead>\n",
       "  <tbody>\n",
       "    <tr>\n",
       "      <th>0</th>\n",
       "      <td>1</td>\n",
       "      <td>5</td>\n",
       "      <td>2015-07</td>\n",
       "      <td>5263</td>\n",
       "      <td>555</td>\n",
       "      <td>1</td>\n",
       "      <td>1</td>\n",
       "      <td>0</td>\n",
       "      <td>1</td>\n",
       "      <td>2015</td>\n",
       "      <td>...</td>\n",
       "      <td>1270.0</td>\n",
       "      <td>9.0</td>\n",
       "      <td>2008.0</td>\n",
       "      <td>0</td>\n",
       "      <td>NaN</td>\n",
       "      <td>NaN</td>\n",
       "      <td>NaN</td>\n",
       "      <td>27</td>\n",
       "      <td>0.00</td>\n",
       "      <td>82.0</td>\n",
       "    </tr>\n",
       "    <tr>\n",
       "      <th>1</th>\n",
       "      <td>2</td>\n",
       "      <td>5</td>\n",
       "      <td>2015-07</td>\n",
       "      <td>6064</td>\n",
       "      <td>625</td>\n",
       "      <td>1</td>\n",
       "      <td>1</td>\n",
       "      <td>0</td>\n",
       "      <td>1</td>\n",
       "      <td>2015</td>\n",
       "      <td>...</td>\n",
       "      <td>570.0</td>\n",
       "      <td>11.0</td>\n",
       "      <td>2007.0</td>\n",
       "      <td>1</td>\n",
       "      <td>13.0</td>\n",
       "      <td>2010.0</td>\n",
       "      <td>Jan,Apr,Jul,Oct</td>\n",
       "      <td>27</td>\n",
       "      <td>63.50</td>\n",
       "      <td>92.0</td>\n",
       "    </tr>\n",
       "    <tr>\n",
       "      <th>2</th>\n",
       "      <td>3</td>\n",
       "      <td>5</td>\n",
       "      <td>2015-07</td>\n",
       "      <td>8314</td>\n",
       "      <td>821</td>\n",
       "      <td>1</td>\n",
       "      <td>1</td>\n",
       "      <td>0</td>\n",
       "      <td>1</td>\n",
       "      <td>2015</td>\n",
       "      <td>...</td>\n",
       "      <td>14130.0</td>\n",
       "      <td>12.0</td>\n",
       "      <td>2006.0</td>\n",
       "      <td>1</td>\n",
       "      <td>14.0</td>\n",
       "      <td>2011.0</td>\n",
       "      <td>Jan,Apr,Jul,Oct</td>\n",
       "      <td>27</td>\n",
       "      <td>51.25</td>\n",
       "      <td>103.0</td>\n",
       "    </tr>\n",
       "    <tr>\n",
       "      <th>3</th>\n",
       "      <td>4</td>\n",
       "      <td>5</td>\n",
       "      <td>2015-07</td>\n",
       "      <td>13995</td>\n",
       "      <td>1498</td>\n",
       "      <td>1</td>\n",
       "      <td>1</td>\n",
       "      <td>0</td>\n",
       "      <td>1</td>\n",
       "      <td>2015</td>\n",
       "      <td>...</td>\n",
       "      <td>620.0</td>\n",
       "      <td>9.0</td>\n",
       "      <td>2009.0</td>\n",
       "      <td>0</td>\n",
       "      <td>NaN</td>\n",
       "      <td>NaN</td>\n",
       "      <td>NaN</td>\n",
       "      <td>27</td>\n",
       "      <td>0.00</td>\n",
       "      <td>70.0</td>\n",
       "    </tr>\n",
       "    <tr>\n",
       "      <th>4</th>\n",
       "      <td>5</td>\n",
       "      <td>5</td>\n",
       "      <td>2015-07</td>\n",
       "      <td>4822</td>\n",
       "      <td>559</td>\n",
       "      <td>1</td>\n",
       "      <td>1</td>\n",
       "      <td>0</td>\n",
       "      <td>1</td>\n",
       "      <td>2015</td>\n",
       "      <td>...</td>\n",
       "      <td>29910.0</td>\n",
       "      <td>4.0</td>\n",
       "      <td>2015.0</td>\n",
       "      <td>0</td>\n",
       "      <td>NaN</td>\n",
       "      <td>NaN</td>\n",
       "      <td>NaN</td>\n",
       "      <td>27</td>\n",
       "      <td>0.00</td>\n",
       "      <td>3.0</td>\n",
       "    </tr>\n",
       "  </tbody>\n",
       "</table>\n",
       "<p>5 rows × 23 columns</p>\n",
       "</div>"
      ],
      "text/plain": [
       "   Store  DayOfWeek     Date  Sales  Customers  Open  Promo  StateHoliday  \\\n",
       "0      1          5  2015-07   5263        555     1      1             0   \n",
       "1      2          5  2015-07   6064        625     1      1             0   \n",
       "2      3          5  2015-07   8314        821     1      1             0   \n",
       "3      4          5  2015-07  13995       1498     1      1             0   \n",
       "4      5          5  2015-07   4822        559     1      1             0   \n",
       "\n",
       "   SchoolHoliday  Year  ...  CompetitionDistance CompetitionOpenSinceMonth  \\\n",
       "0              1  2015  ...               1270.0                       9.0   \n",
       "1              1  2015  ...                570.0                      11.0   \n",
       "2              1  2015  ...              14130.0                      12.0   \n",
       "3              1  2015  ...                620.0                       9.0   \n",
       "4              1  2015  ...              29910.0                       4.0   \n",
       "\n",
       "  CompetitionOpenSinceYear  Promo2  Promo2SinceWeek  Promo2SinceYear  \\\n",
       "0                   2008.0       0              NaN              NaN   \n",
       "1                   2007.0       1             13.0           2010.0   \n",
       "2                   2006.0       1             14.0           2011.0   \n",
       "3                   2009.0       0              NaN              NaN   \n",
       "4                   2015.0       0              NaN              NaN   \n",
       "\n",
       "     PromoInterval  WeekOfYear  PromoOpen CompetitionOpen  \n",
       "0              NaN          27       0.00            82.0  \n",
       "1  Jan,Apr,Jul,Oct          27      63.50            92.0  \n",
       "2  Jan,Apr,Jul,Oct          27      51.25           103.0  \n",
       "3              NaN          27       0.00            70.0  \n",
       "4              NaN          27       0.00             3.0  \n",
       "\n",
       "[5 rows x 23 columns]"
      ]
     },
     "execution_count": 39,
     "metadata": {},
     "output_type": "execute_result"
    }
   ],
   "source": [
    "train_store.head()"
   ]
  },
  {
   "cell_type": "code",
   "execution_count": 40,
   "metadata": {},
   "outputs": [],
   "source": [
    "# Creating new columns Average Customers and Sales Per Customerfrom pandasql import sqldf\n",
    "avg_customer = sqldf(\n",
    "      \"\"\"\n",
    "      SELECT\n",
    "      Store,\n",
    "      DayOfWeek,\n",
    "      sum(case when Customers is not null then Sales/Customers else 0 end) as SpC,\n",
    "      round(avg(Customers)) Avg_Customers\n",
    "      from train_store\n",
    "      group by Store,DayOfWeek\n",
    "      \"\"\"\n",
    "    )\n",
    "    \n",
    "test_store = sqldf(\n",
    "      \"\"\"\n",
    "      SELECT\n",
    "      t.*,\n",
    "      ac.SpC,\n",
    "      ac.Avg_Customers\n",
    "      from test_store t\n",
    "      left join avg_customer ac on t.Store = ac.Store and t.DayOfWeek = ac.DayOfWeek\n",
    "      \"\"\"\n",
    "    )\n",
    "train_store = sqldf(\n",
    "      \"\"\"\n",
    "      SELECT\n",
    "      t.*,\n",
    "      ac.SpC,\n",
    "      ac.Avg_Customers\n",
    "      from train_store t\n",
    "      left join avg_customer ac on t.Store = ac.Store and t.DayOfWeek = ac.DayOfWeek\n",
    "      \"\"\"\n",
    "    )"
   ]
  },
  {
   "cell_type": "code",
   "execution_count": 41,
   "metadata": {},
   "outputs": [
    {
     "data": {
      "text/html": [
       "<div>\n",
       "<style scoped>\n",
       "    .dataframe tbody tr th:only-of-type {\n",
       "        vertical-align: middle;\n",
       "    }\n",
       "\n",
       "    .dataframe tbody tr th {\n",
       "        vertical-align: top;\n",
       "    }\n",
       "\n",
       "    .dataframe thead th {\n",
       "        text-align: right;\n",
       "    }\n",
       "</style>\n",
       "<table border=\"1\" class=\"dataframe\">\n",
       "  <thead>\n",
       "    <tr style=\"text-align: right;\">\n",
       "      <th></th>\n",
       "      <th>Id</th>\n",
       "      <th>Store</th>\n",
       "      <th>DayOfWeek</th>\n",
       "      <th>Date</th>\n",
       "      <th>Open</th>\n",
       "      <th>Promo</th>\n",
       "      <th>StateHoliday</th>\n",
       "      <th>SchoolHoliday</th>\n",
       "      <th>Year</th>\n",
       "      <th>Month</th>\n",
       "      <th>...</th>\n",
       "      <th>CompetitionOpenSinceYear</th>\n",
       "      <th>Promo2</th>\n",
       "      <th>Promo2SinceWeek</th>\n",
       "      <th>Promo2SinceYear</th>\n",
       "      <th>PromoInterval</th>\n",
       "      <th>WeekOfYear</th>\n",
       "      <th>PromoOpen</th>\n",
       "      <th>CompetitionOpen</th>\n",
       "      <th>SpC</th>\n",
       "      <th>Avg_Customers</th>\n",
       "    </tr>\n",
       "  </thead>\n",
       "  <tbody>\n",
       "    <tr>\n",
       "      <th>0</th>\n",
       "      <td>1</td>\n",
       "      <td>1</td>\n",
       "      <td>4</td>\n",
       "      <td>2015-09</td>\n",
       "      <td>1.0</td>\n",
       "      <td>1</td>\n",
       "      <td>0</td>\n",
       "      <td>0</td>\n",
       "      <td>2015</td>\n",
       "      <td>9</td>\n",
       "      <td>...</td>\n",
       "      <td>2008.0</td>\n",
       "      <td>0</td>\n",
       "      <td>NaN</td>\n",
       "      <td>NaN</td>\n",
       "      <td>None</td>\n",
       "      <td>36</td>\n",
       "      <td>0.00</td>\n",
       "      <td>84.0</td>\n",
       "      <td>965.0</td>\n",
       "      <td>493.0</td>\n",
       "    </tr>\n",
       "    <tr>\n",
       "      <th>1</th>\n",
       "      <td>2</td>\n",
       "      <td>3</td>\n",
       "      <td>4</td>\n",
       "      <td>2015-09</td>\n",
       "      <td>1.0</td>\n",
       "      <td>1</td>\n",
       "      <td>0</td>\n",
       "      <td>0</td>\n",
       "      <td>2015</td>\n",
       "      <td>9</td>\n",
       "      <td>...</td>\n",
       "      <td>2006.0</td>\n",
       "      <td>1</td>\n",
       "      <td>14.0</td>\n",
       "      <td>2011.0</td>\n",
       "      <td>Jan,Apr,Jul,Oct</td>\n",
       "      <td>36</td>\n",
       "      <td>51.25</td>\n",
       "      <td>93.0</td>\n",
       "      <td>1044.0</td>\n",
       "      <td>708.0</td>\n",
       "    </tr>\n",
       "    <tr>\n",
       "      <th>2</th>\n",
       "      <td>3</td>\n",
       "      <td>7</td>\n",
       "      <td>4</td>\n",
       "      <td>2015-09</td>\n",
       "      <td>1.0</td>\n",
       "      <td>1</td>\n",
       "      <td>0</td>\n",
       "      <td>0</td>\n",
       "      <td>2015</td>\n",
       "      <td>9</td>\n",
       "      <td>...</td>\n",
       "      <td>2013.0</td>\n",
       "      <td>0</td>\n",
       "      <td>NaN</td>\n",
       "      <td>NaN</td>\n",
       "      <td>None</td>\n",
       "      <td>36</td>\n",
       "      <td>0.00</td>\n",
       "      <td>113.0</td>\n",
       "      <td>1095.0</td>\n",
       "      <td>886.0</td>\n",
       "    </tr>\n",
       "    <tr>\n",
       "      <th>3</th>\n",
       "      <td>4</td>\n",
       "      <td>8</td>\n",
       "      <td>4</td>\n",
       "      <td>2015-09</td>\n",
       "      <td>1.0</td>\n",
       "      <td>1</td>\n",
       "      <td>0</td>\n",
       "      <td>0</td>\n",
       "      <td>2015</td>\n",
       "      <td>9</td>\n",
       "      <td>...</td>\n",
       "      <td>2014.0</td>\n",
       "      <td>0</td>\n",
       "      <td>NaN</td>\n",
       "      <td>NaN</td>\n",
       "      <td>None</td>\n",
       "      <td>36</td>\n",
       "      <td>0.00</td>\n",
       "      <td>71.0</td>\n",
       "      <td>940.0</td>\n",
       "      <td>751.0</td>\n",
       "    </tr>\n",
       "    <tr>\n",
       "      <th>4</th>\n",
       "      <td>5</td>\n",
       "      <td>9</td>\n",
       "      <td>4</td>\n",
       "      <td>2015-09</td>\n",
       "      <td>1.0</td>\n",
       "      <td>1</td>\n",
       "      <td>0</td>\n",
       "      <td>0</td>\n",
       "      <td>2015</td>\n",
       "      <td>9</td>\n",
       "      <td>...</td>\n",
       "      <td>2000.0</td>\n",
       "      <td>0</td>\n",
       "      <td>NaN</td>\n",
       "      <td>NaN</td>\n",
       "      <td>None</td>\n",
       "      <td>36</td>\n",
       "      <td>0.00</td>\n",
       "      <td>1.0</td>\n",
       "      <td>1307.0</td>\n",
       "      <td>508.0</td>\n",
       "    </tr>\n",
       "  </tbody>\n",
       "</table>\n",
       "<p>5 rows × 24 columns</p>\n",
       "</div>"
      ],
      "text/plain": [
       "   Id  Store  DayOfWeek     Date  Open  Promo  StateHoliday  SchoolHoliday  \\\n",
       "0   1      1          4  2015-09   1.0      1             0              0   \n",
       "1   2      3          4  2015-09   1.0      1             0              0   \n",
       "2   3      7          4  2015-09   1.0      1             0              0   \n",
       "3   4      8          4  2015-09   1.0      1             0              0   \n",
       "4   5      9          4  2015-09   1.0      1             0              0   \n",
       "\n",
       "   Year  Month  ... CompetitionOpenSinceYear Promo2  Promo2SinceWeek  \\\n",
       "0  2015      9  ...                   2008.0      0              NaN   \n",
       "1  2015      9  ...                   2006.0      1             14.0   \n",
       "2  2015      9  ...                   2013.0      0              NaN   \n",
       "3  2015      9  ...                   2014.0      0              NaN   \n",
       "4  2015      9  ...                   2000.0      0              NaN   \n",
       "\n",
       "   Promo2SinceYear    PromoInterval  WeekOfYear  PromoOpen  CompetitionOpen  \\\n",
       "0              NaN             None          36       0.00             84.0   \n",
       "1           2011.0  Jan,Apr,Jul,Oct          36      51.25             93.0   \n",
       "2              NaN             None          36       0.00            113.0   \n",
       "3              NaN             None          36       0.00             71.0   \n",
       "4              NaN             None          36       0.00              1.0   \n",
       "\n",
       "      SpC  Avg_Customers  \n",
       "0   965.0          493.0  \n",
       "1  1044.0          708.0  \n",
       "2  1095.0          886.0  \n",
       "3   940.0          751.0  \n",
       "4  1307.0          508.0  \n",
       "\n",
       "[5 rows x 24 columns]"
      ]
     },
     "execution_count": 41,
     "metadata": {},
     "output_type": "execute_result"
    }
   ],
   "source": [
    "test_store.head()"
   ]
  },
  {
   "cell_type": "code",
   "execution_count": 42,
   "metadata": {},
   "outputs": [
    {
     "data": {
      "text/plain": [
       "Store                             0\n",
       "DayOfWeek                         0\n",
       "Date                              0\n",
       "Sales                             0\n",
       "Customers                         0\n",
       "Open                              0\n",
       "Promo                             0\n",
       "StateHoliday                      0\n",
       "SchoolHoliday                     0\n",
       "Year                              0\n",
       "Month                             0\n",
       "StoreType                         0\n",
       "Assortment                        0\n",
       "CompetitionDistance            2642\n",
       "CompetitionOpenSinceMonth    323348\n",
       "CompetitionOpenSinceYear     323348\n",
       "Promo2                            0\n",
       "Promo2SinceWeek              508031\n",
       "Promo2SinceYear              508031\n",
       "PromoInterval                508031\n",
       "WeekOfYear                        0\n",
       "PromoOpen                         0\n",
       "CompetitionOpen                   0\n",
       "SpC                          140334\n",
       "Avg_Customers                     0\n",
       "dtype: int64"
      ]
     },
     "execution_count": 42,
     "metadata": {},
     "output_type": "execute_result"
    }
   ],
   "source": [
    "train_store.isnull().sum()"
   ]
  },
  {
   "cell_type": "code",
   "execution_count": 43,
   "metadata": {},
   "outputs": [],
   "source": [
    "# Create dummy varibales for DayOfWeek\n",
    "train_dummies  = pd.get_dummies(train_store['DayOfWeek'], prefix='Day')\n",
    "train_dummies.drop(['Day_7'], axis=1, inplace=True)\n",
    "\n",
    "test_dummies = pd.get_dummies(test_store['DayOfWeek'],prefix='Day')\n",
    "test_dummies.drop(['Day_7'], axis=1, inplace=True)\n",
    "\n",
    "train_store = train_store.join(train_dummies)\n",
    "test_store = test_store.join(test_dummies)"
   ]
  },
  {
   "cell_type": "code",
   "execution_count": 44,
   "metadata": {},
   "outputs": [],
   "source": [
    "# Create dummy varibales for Assortment\n",
    "train_store_dummies  = pd.get_dummies(train_store['Assortment'], prefix='Assortment')\n",
    "train_store_dummies.drop(['Assortment_c'], axis=1, inplace=True)\n",
    "\n",
    "test_store_dummies = pd.get_dummies(test_store['Assortment'],prefix='Assortment')\n",
    "test_store_dummies.drop(['Assortment_c'], axis=1, inplace=True)\n",
    "\n",
    "train_store = train_store.join(train_store_dummies)\n",
    "test_store = test_store.join(test_store_dummies)"
   ]
  },
  {
   "cell_type": "code",
   "execution_count": 45,
   "metadata": {},
   "outputs": [],
   "source": [
    "# Create dummy varibales for Storetype\n",
    "train_store_dummies  = pd.get_dummies(train_store['StoreType'], prefix='StoreType')\n",
    "train_store_dummies.drop(['StoreType_d'], axis=1, inplace=True)\n",
    "\n",
    "test_store_dummies = pd.get_dummies(test_store['StoreType'],prefix='StoreType')\n",
    "test_store_dummies.drop(['StoreType_d'], axis=1, inplace=True)\n",
    "\n",
    "train_store = train_store.join(train_store_dummies)\n",
    "test_store = test_store.join(test_store_dummies)"
   ]
  },
  {
   "cell_type": "code",
   "execution_count": 46,
   "metadata": {},
   "outputs": [],
   "source": [
    "#Dropping unnecessary columns from train and test set\n",
    "train_store.drop(['Customers','CompetitionOpenSinceYear','CompetitionOpenSinceMonth','CompetitionDistance','Promo2SinceWeek','Promo2SinceYear','PromoInterval','WeekOfYear','Year','StoreType','Assortment','Date'],axis=1,inplace=True)\n",
    "train_store['Open'] = train_store['Open'].astype(float)\n",
    "test_store.drop(['Year','CompetitionOpenSinceYear','CompetitionOpenSinceMonth','CompetitionDistance','Promo2SinceWeek','Promo2SinceYear','PromoInterval','Promo2SinceWeek','Promo2SinceYear','PromoInterval','WeekOfYear','WeekOfYear','StoreType','Assortment','Date'],axis=1,inplace=True)"
   ]
  },
  {
   "cell_type": "code",
   "execution_count": 47,
   "metadata": {},
   "outputs": [
    {
     "name": "stdout",
     "output_type": "stream",
     "text": [
      "<class 'pandas.core.frame.DataFrame'>\n",
      "RangeIndex: 1017209 entries, 0 to 1017208\n",
      "Data columns (total 24 columns):\n",
      " #   Column           Non-Null Count    Dtype  \n",
      "---  ------           --------------    -----  \n",
      " 0   Store            1017209 non-null  int64  \n",
      " 1   DayOfWeek        1017209 non-null  int64  \n",
      " 2   Sales            1017209 non-null  int64  \n",
      " 3   Open             1017209 non-null  float64\n",
      " 4   Promo            1017209 non-null  int64  \n",
      " 5   StateHoliday     1017209 non-null  int64  \n",
      " 6   SchoolHoliday    1017209 non-null  int64  \n",
      " 7   Month            1017209 non-null  int64  \n",
      " 8   Promo2           1017209 non-null  int64  \n",
      " 9   PromoOpen        1017209 non-null  float64\n",
      " 10  CompetitionOpen  1017209 non-null  float64\n",
      " 11  SpC              876875 non-null   float64\n",
      " 12  Avg_Customers    1017209 non-null  float64\n",
      " 13  Day_1            1017209 non-null  uint8  \n",
      " 14  Day_2            1017209 non-null  uint8  \n",
      " 15  Day_3            1017209 non-null  uint8  \n",
      " 16  Day_4            1017209 non-null  uint8  \n",
      " 17  Day_5            1017209 non-null  uint8  \n",
      " 18  Day_6            1017209 non-null  uint8  \n",
      " 19  Assortment_a     1017209 non-null  uint8  \n",
      " 20  Assortment_b     1017209 non-null  uint8  \n",
      " 21  StoreType_a      1017209 non-null  uint8  \n",
      " 22  StoreType_b      1017209 non-null  uint8  \n",
      " 23  StoreType_c      1017209 non-null  uint8  \n",
      "dtypes: float64(5), int64(8), uint8(11)\n",
      "memory usage: 111.6 MB\n",
      "None\n",
      "<class 'pandas.core.frame.DataFrame'>\n",
      "RangeIndex: 41088 entries, 0 to 41087\n",
      "Data columns (total 24 columns):\n",
      " #   Column           Non-Null Count  Dtype  \n",
      "---  ------           --------------  -----  \n",
      " 0   Id               41088 non-null  int64  \n",
      " 1   Store            41088 non-null  int64  \n",
      " 2   DayOfWeek        41088 non-null  int64  \n",
      " 3   Open             41077 non-null  float64\n",
      " 4   Promo            41088 non-null  int64  \n",
      " 5   StateHoliday     41088 non-null  int64  \n",
      " 6   SchoolHoliday    41088 non-null  int64  \n",
      " 7   Month            41088 non-null  int64  \n",
      " 8   Promo2           41088 non-null  int64  \n",
      " 9   PromoOpen        41088 non-null  float64\n",
      " 10  CompetitionOpen  41088 non-null  float64\n",
      " 11  SpC              35292 non-null  float64\n",
      " 12  Avg_Customers    41088 non-null  float64\n",
      " 13  Day_1            41088 non-null  uint8  \n",
      " 14  Day_2            41088 non-null  uint8  \n",
      " 15  Day_3            41088 non-null  uint8  \n",
      " 16  Day_4            41088 non-null  uint8  \n",
      " 17  Day_5            41088 non-null  uint8  \n",
      " 18  Day_6            41088 non-null  uint8  \n",
      " 19  Assortment_a     41088 non-null  uint8  \n",
      " 20  Assortment_b     41088 non-null  uint8  \n",
      " 21  StoreType_a      41088 non-null  uint8  \n",
      " 22  StoreType_b      41088 non-null  uint8  \n",
      " 23  StoreType_c      41088 non-null  uint8  \n",
      "dtypes: float64(5), int64(8), uint8(11)\n",
      "memory usage: 4.5 MB\n",
      "None\n"
     ]
    }
   ],
   "source": [
    "print(train_store.info())\n",
    "print(test_store.info())"
   ]
  },
  {
   "cell_type": "code",
   "execution_count": 48,
   "metadata": {},
   "outputs": [
    {
     "data": {
      "text/html": [
       "<div>\n",
       "<style scoped>\n",
       "    .dataframe tbody tr th:only-of-type {\n",
       "        vertical-align: middle;\n",
       "    }\n",
       "\n",
       "    .dataframe tbody tr th {\n",
       "        vertical-align: top;\n",
       "    }\n",
       "\n",
       "    .dataframe thead th {\n",
       "        text-align: right;\n",
       "    }\n",
       "</style>\n",
       "<table border=\"1\" class=\"dataframe\">\n",
       "  <thead>\n",
       "    <tr style=\"text-align: right;\">\n",
       "      <th></th>\n",
       "      <th>Id</th>\n",
       "      <th>Store</th>\n",
       "      <th>DayOfWeek</th>\n",
       "      <th>Open</th>\n",
       "      <th>Promo</th>\n",
       "      <th>StateHoliday</th>\n",
       "      <th>SchoolHoliday</th>\n",
       "      <th>Month</th>\n",
       "      <th>Promo2</th>\n",
       "      <th>PromoOpen</th>\n",
       "      <th>...</th>\n",
       "      <th>Day_2</th>\n",
       "      <th>Day_3</th>\n",
       "      <th>Day_4</th>\n",
       "      <th>Day_5</th>\n",
       "      <th>Day_6</th>\n",
       "      <th>Assortment_a</th>\n",
       "      <th>Assortment_b</th>\n",
       "      <th>StoreType_a</th>\n",
       "      <th>StoreType_b</th>\n",
       "      <th>StoreType_c</th>\n",
       "    </tr>\n",
       "  </thead>\n",
       "  <tbody>\n",
       "    <tr>\n",
       "      <th>479</th>\n",
       "      <td>480</td>\n",
       "      <td>622</td>\n",
       "      <td>4</td>\n",
       "      <td>NaN</td>\n",
       "      <td>1</td>\n",
       "      <td>0</td>\n",
       "      <td>0</td>\n",
       "      <td>9</td>\n",
       "      <td>0</td>\n",
       "      <td>0.0</td>\n",
       "      <td>...</td>\n",
       "      <td>0</td>\n",
       "      <td>0</td>\n",
       "      <td>1</td>\n",
       "      <td>0</td>\n",
       "      <td>0</td>\n",
       "      <td>0</td>\n",
       "      <td>0</td>\n",
       "      <td>1</td>\n",
       "      <td>0</td>\n",
       "      <td>0</td>\n",
       "    </tr>\n",
       "    <tr>\n",
       "      <th>1335</th>\n",
       "      <td>1336</td>\n",
       "      <td>622</td>\n",
       "      <td>3</td>\n",
       "      <td>NaN</td>\n",
       "      <td>1</td>\n",
       "      <td>0</td>\n",
       "      <td>0</td>\n",
       "      <td>9</td>\n",
       "      <td>0</td>\n",
       "      <td>0.0</td>\n",
       "      <td>...</td>\n",
       "      <td>0</td>\n",
       "      <td>1</td>\n",
       "      <td>0</td>\n",
       "      <td>0</td>\n",
       "      <td>0</td>\n",
       "      <td>0</td>\n",
       "      <td>0</td>\n",
       "      <td>1</td>\n",
       "      <td>0</td>\n",
       "      <td>0</td>\n",
       "    </tr>\n",
       "    <tr>\n",
       "      <th>2191</th>\n",
       "      <td>2192</td>\n",
       "      <td>622</td>\n",
       "      <td>2</td>\n",
       "      <td>NaN</td>\n",
       "      <td>1</td>\n",
       "      <td>0</td>\n",
       "      <td>0</td>\n",
       "      <td>9</td>\n",
       "      <td>0</td>\n",
       "      <td>0.0</td>\n",
       "      <td>...</td>\n",
       "      <td>1</td>\n",
       "      <td>0</td>\n",
       "      <td>0</td>\n",
       "      <td>0</td>\n",
       "      <td>0</td>\n",
       "      <td>0</td>\n",
       "      <td>0</td>\n",
       "      <td>1</td>\n",
       "      <td>0</td>\n",
       "      <td>0</td>\n",
       "    </tr>\n",
       "    <tr>\n",
       "      <th>3047</th>\n",
       "      <td>3048</td>\n",
       "      <td>622</td>\n",
       "      <td>1</td>\n",
       "      <td>NaN</td>\n",
       "      <td>1</td>\n",
       "      <td>0</td>\n",
       "      <td>0</td>\n",
       "      <td>9</td>\n",
       "      <td>0</td>\n",
       "      <td>0.0</td>\n",
       "      <td>...</td>\n",
       "      <td>0</td>\n",
       "      <td>0</td>\n",
       "      <td>0</td>\n",
       "      <td>0</td>\n",
       "      <td>0</td>\n",
       "      <td>0</td>\n",
       "      <td>0</td>\n",
       "      <td>1</td>\n",
       "      <td>0</td>\n",
       "      <td>0</td>\n",
       "    </tr>\n",
       "    <tr>\n",
       "      <th>4759</th>\n",
       "      <td>4760</td>\n",
       "      <td>622</td>\n",
       "      <td>6</td>\n",
       "      <td>NaN</td>\n",
       "      <td>0</td>\n",
       "      <td>0</td>\n",
       "      <td>0</td>\n",
       "      <td>9</td>\n",
       "      <td>0</td>\n",
       "      <td>0.0</td>\n",
       "      <td>...</td>\n",
       "      <td>0</td>\n",
       "      <td>0</td>\n",
       "      <td>0</td>\n",
       "      <td>0</td>\n",
       "      <td>1</td>\n",
       "      <td>0</td>\n",
       "      <td>0</td>\n",
       "      <td>1</td>\n",
       "      <td>0</td>\n",
       "      <td>0</td>\n",
       "    </tr>\n",
       "    <tr>\n",
       "      <th>5615</th>\n",
       "      <td>5616</td>\n",
       "      <td>622</td>\n",
       "      <td>5</td>\n",
       "      <td>NaN</td>\n",
       "      <td>0</td>\n",
       "      <td>0</td>\n",
       "      <td>0</td>\n",
       "      <td>9</td>\n",
       "      <td>0</td>\n",
       "      <td>0.0</td>\n",
       "      <td>...</td>\n",
       "      <td>0</td>\n",
       "      <td>0</td>\n",
       "      <td>0</td>\n",
       "      <td>1</td>\n",
       "      <td>0</td>\n",
       "      <td>0</td>\n",
       "      <td>0</td>\n",
       "      <td>1</td>\n",
       "      <td>0</td>\n",
       "      <td>0</td>\n",
       "    </tr>\n",
       "    <tr>\n",
       "      <th>6471</th>\n",
       "      <td>6472</td>\n",
       "      <td>622</td>\n",
       "      <td>4</td>\n",
       "      <td>NaN</td>\n",
       "      <td>0</td>\n",
       "      <td>0</td>\n",
       "      <td>0</td>\n",
       "      <td>9</td>\n",
       "      <td>0</td>\n",
       "      <td>0.0</td>\n",
       "      <td>...</td>\n",
       "      <td>0</td>\n",
       "      <td>0</td>\n",
       "      <td>1</td>\n",
       "      <td>0</td>\n",
       "      <td>0</td>\n",
       "      <td>0</td>\n",
       "      <td>0</td>\n",
       "      <td>1</td>\n",
       "      <td>0</td>\n",
       "      <td>0</td>\n",
       "    </tr>\n",
       "    <tr>\n",
       "      <th>7327</th>\n",
       "      <td>7328</td>\n",
       "      <td>622</td>\n",
       "      <td>3</td>\n",
       "      <td>NaN</td>\n",
       "      <td>0</td>\n",
       "      <td>0</td>\n",
       "      <td>0</td>\n",
       "      <td>9</td>\n",
       "      <td>0</td>\n",
       "      <td>0.0</td>\n",
       "      <td>...</td>\n",
       "      <td>0</td>\n",
       "      <td>1</td>\n",
       "      <td>0</td>\n",
       "      <td>0</td>\n",
       "      <td>0</td>\n",
       "      <td>0</td>\n",
       "      <td>0</td>\n",
       "      <td>1</td>\n",
       "      <td>0</td>\n",
       "      <td>0</td>\n",
       "    </tr>\n",
       "    <tr>\n",
       "      <th>8183</th>\n",
       "      <td>8184</td>\n",
       "      <td>622</td>\n",
       "      <td>2</td>\n",
       "      <td>NaN</td>\n",
       "      <td>0</td>\n",
       "      <td>0</td>\n",
       "      <td>0</td>\n",
       "      <td>9</td>\n",
       "      <td>0</td>\n",
       "      <td>0.0</td>\n",
       "      <td>...</td>\n",
       "      <td>1</td>\n",
       "      <td>0</td>\n",
       "      <td>0</td>\n",
       "      <td>0</td>\n",
       "      <td>0</td>\n",
       "      <td>0</td>\n",
       "      <td>0</td>\n",
       "      <td>1</td>\n",
       "      <td>0</td>\n",
       "      <td>0</td>\n",
       "    </tr>\n",
       "    <tr>\n",
       "      <th>9039</th>\n",
       "      <td>9040</td>\n",
       "      <td>622</td>\n",
       "      <td>1</td>\n",
       "      <td>NaN</td>\n",
       "      <td>0</td>\n",
       "      <td>0</td>\n",
       "      <td>0</td>\n",
       "      <td>9</td>\n",
       "      <td>0</td>\n",
       "      <td>0.0</td>\n",
       "      <td>...</td>\n",
       "      <td>0</td>\n",
       "      <td>0</td>\n",
       "      <td>0</td>\n",
       "      <td>0</td>\n",
       "      <td>0</td>\n",
       "      <td>0</td>\n",
       "      <td>0</td>\n",
       "      <td>1</td>\n",
       "      <td>0</td>\n",
       "      <td>0</td>\n",
       "    </tr>\n",
       "    <tr>\n",
       "      <th>10751</th>\n",
       "      <td>10752</td>\n",
       "      <td>622</td>\n",
       "      <td>6</td>\n",
       "      <td>NaN</td>\n",
       "      <td>0</td>\n",
       "      <td>0</td>\n",
       "      <td>0</td>\n",
       "      <td>9</td>\n",
       "      <td>0</td>\n",
       "      <td>0.0</td>\n",
       "      <td>...</td>\n",
       "      <td>0</td>\n",
       "      <td>0</td>\n",
       "      <td>0</td>\n",
       "      <td>0</td>\n",
       "      <td>1</td>\n",
       "      <td>0</td>\n",
       "      <td>0</td>\n",
       "      <td>1</td>\n",
       "      <td>0</td>\n",
       "      <td>0</td>\n",
       "    </tr>\n",
       "  </tbody>\n",
       "</table>\n",
       "<p>11 rows × 24 columns</p>\n",
       "</div>"
      ],
      "text/plain": [
       "          Id  Store  DayOfWeek  Open  Promo  StateHoliday  SchoolHoliday  \\\n",
       "479      480    622          4   NaN      1             0              0   \n",
       "1335    1336    622          3   NaN      1             0              0   \n",
       "2191    2192    622          2   NaN      1             0              0   \n",
       "3047    3048    622          1   NaN      1             0              0   \n",
       "4759    4760    622          6   NaN      0             0              0   \n",
       "5615    5616    622          5   NaN      0             0              0   \n",
       "6471    6472    622          4   NaN      0             0              0   \n",
       "7327    7328    622          3   NaN      0             0              0   \n",
       "8183    8184    622          2   NaN      0             0              0   \n",
       "9039    9040    622          1   NaN      0             0              0   \n",
       "10751  10752    622          6   NaN      0             0              0   \n",
       "\n",
       "       Month  Promo2  PromoOpen  ...  Day_2  Day_3  Day_4  Day_5  Day_6  \\\n",
       "479        9       0        0.0  ...      0      0      1      0      0   \n",
       "1335       9       0        0.0  ...      0      1      0      0      0   \n",
       "2191       9       0        0.0  ...      1      0      0      0      0   \n",
       "3047       9       0        0.0  ...      0      0      0      0      0   \n",
       "4759       9       0        0.0  ...      0      0      0      0      1   \n",
       "5615       9       0        0.0  ...      0      0      0      1      0   \n",
       "6471       9       0        0.0  ...      0      0      1      0      0   \n",
       "7327       9       0        0.0  ...      0      1      0      0      0   \n",
       "8183       9       0        0.0  ...      1      0      0      0      0   \n",
       "9039       9       0        0.0  ...      0      0      0      0      0   \n",
       "10751      9       0        0.0  ...      0      0      0      0      1   \n",
       "\n",
       "       Assortment_a  Assortment_b  StoreType_a  StoreType_b  StoreType_c  \n",
       "479               0             0            1            0            0  \n",
       "1335              0             0            1            0            0  \n",
       "2191              0             0            1            0            0  \n",
       "3047              0             0            1            0            0  \n",
       "4759              0             0            1            0            0  \n",
       "5615              0             0            1            0            0  \n",
       "6471              0             0            1            0            0  \n",
       "7327              0             0            1            0            0  \n",
       "8183              0             0            1            0            0  \n",
       "9039              0             0            1            0            0  \n",
       "10751             0             0            1            0            0  \n",
       "\n",
       "[11 rows x 24 columns]"
      ]
     },
     "execution_count": 48,
     "metadata": {},
     "output_type": "execute_result"
    }
   ],
   "source": [
    "test_store[test_store['Open'].isnull()]"
   ]
  },
  {
   "cell_type": "markdown",
   "metadata": {},
   "source": [
    "As you can see all the null values of open are when week is not 7 and StateHoliday and SchoolHoliday are 0's. So replacing them with 1's"
   ]
  },
  {
   "cell_type": "code",
   "execution_count": 49,
   "metadata": {},
   "outputs": [],
   "source": [
    "# fill NaN values in test with Open=1\n",
    "test_store[\"Open\"].fillna(1, inplace = True) "
   ]
  },
  {
   "cell_type": "code",
   "execution_count": 50,
   "metadata": {},
   "outputs": [],
   "source": [
    "# Dropping DayOfWeek\n",
    "train_store.drop(['DayOfWeek'], axis=1,inplace=True)\n",
    "test_store.drop(['DayOfWeek'], axis=1,inplace=True)"
   ]
  },
  {
   "cell_type": "markdown",
   "metadata": {},
   "source": [
    "removing all rows(stores) that were closed as the sales are 0 when store is closed and it tend to make the model unstable"
   ]
  },
  {
   "cell_type": "code",
   "execution_count": 51,
   "metadata": {},
   "outputs": [],
   "source": [
    "# remove all rows(store,date) that were closed\n",
    "train_store= train_store[train_store[\"Open\"] != 0]"
   ]
  },
  {
   "cell_type": "markdown",
   "metadata": {},
   "source": [
    "Saving id's of those stores which were closed so we can put 0 in their respective sales column"
   ]
  },
  {
   "cell_type": "code",
   "execution_count": 52,
   "metadata": {},
   "outputs": [
    {
     "name": "stdout",
     "output_type": "stream",
     "text": [
      "(5984,)\n"
     ]
    },
    {
     "data": {
      "text/plain": [
       "array([  544,   677,   841, ..., 40230, 40231, 40232], dtype=int64)"
      ]
     },
     "execution_count": 52,
     "metadata": {},
     "output_type": "execute_result"
    }
   ],
   "source": [
    "# Saving id's of those stores which were closed so we can put 0 in their respective sales column\n",
    "closed_ids = test_store[\"Id\"][test[\"Open\"] == 0].values\n",
    "print(closed_ids.shape)\n",
    "closed_ids"
   ]
  },
  {
   "cell_type": "code",
   "execution_count": 53,
   "metadata": {},
   "outputs": [],
   "source": [
    "# remove all rows(store,date) that were closed\n",
    "test_store = test_store[test_store[\"Open\"] != 0]"
   ]
  },
  {
   "cell_type": "code",
   "execution_count": 54,
   "metadata": {},
   "outputs": [],
   "source": [
    "test_store = test_store.reset_index()"
   ]
  },
  {
   "cell_type": "code",
   "execution_count": 55,
   "metadata": {},
   "outputs": [],
   "source": [
    "test_store.drop([\"index\"],axis =1, inplace= True)"
   ]
  },
  {
   "cell_type": "code",
   "execution_count": 56,
   "metadata": {},
   "outputs": [],
   "source": [
    "# define training and testing sets\n",
    "train = train_store.drop([\"Store\",\"Open\"],axis=1)"
   ]
  },
  {
   "cell_type": "code",
   "execution_count": 57,
   "metadata": {},
   "outputs": [],
   "source": [
    "test = test_store.drop([\"Id\",\"Store\",\"Open\"],axis=1)"
   ]
  },
  {
   "cell_type": "code",
   "execution_count": 58,
   "metadata": {},
   "outputs": [],
   "source": [
    "def load_train_data(scaler_x, scaler_y):\n",
    "    '''\n",
    "    Transform train data set and separate a test dataset to validate the model in the end of training and normalize data\n",
    "    '''\n",
    "    X_train = train.drop([\"Sales\"], axis=1) # Features\n",
    "    y_train = np.array(train[\"Sales\"]).reshape((len(X_train), 1)) # Targets\n",
    "    X_train = scaler_x.fit_transform(X_train)\n",
    "    y_train = scaler_y.fit_transform(y_train)\n",
    "\n",
    "    X_train, X_test, y_train, y_test = train_test_split(X_train, y_train, test_size=0.20, random_state=42)\n",
    "\n",
    "    return (X_train, y_train), (X_test, y_test)"
   ]
  },
  {
   "cell_type": "code",
   "execution_count": 59,
   "metadata": {},
   "outputs": [],
   "source": [
    "def load_test_data():\n",
    "    '''\n",
    "    Remove column of predictions and normalize data of submission test data set.\n",
    "    '''\n",
    "    X_test = test # Features\n",
    "    X_test = StandardScaler().fit_transform(X_test)\n",
    "\n",
    "    return X_test"
   ]
  },
  {
   "cell_type": "markdown",
   "metadata": {},
   "source": [
    "WOW! That took a lot of time, but we finally have clean and perfect data that we want. Now to the model building part."
   ]
  },
  {
   "cell_type": "markdown",
   "metadata": {},
   "source": [
    "### Model Building"
   ]
  },
  {
   "cell_type": "markdown",
   "metadata": {},
   "source": [
    "### Neural Network"
   ]
  },
  {
   "cell_type": "code",
   "execution_count": 60,
   "metadata": {},
   "outputs": [],
   "source": [
    "def rmspe_val(y_true, y_pred):\n",
    "    '''\n",
    "    RMSPE calculus to validate evaluation metric about the model\n",
    "    '''\n",
    "    return np.sqrt(np.mean(np.square((y_true - y_pred) / y_true), axis=0))[0]\n",
    "def rmse(y_true, y_pred):\n",
    "    '''\n",
    "    RMSE calculus to use during training phase\n",
    "    '''\n",
    "    return K.sqrt(K.mean(K.square(y_pred - y_true)))"
   ]
  },
  {
   "cell_type": "code",
   "execution_count": 61,
   "metadata": {},
   "outputs": [],
   "source": [
    "def rmspe(y_true, y_pred):\n",
    "    '''\n",
    "    RMSPE calculus to use during training phase\n",
    "    '''\n",
    "    return K.sqrt(K.mean(K.square((y_true - y_pred) / y_true), axis=-1))"
   ]
  },
  {
   "cell_type": "code",
   "execution_count": 62,
   "metadata": {},
   "outputs": [],
   "source": [
    "# We took Relu activation function as it is from 0 to infinity\n",
    "def create_model():\n",
    "    '''\n",
    "    Create a neural network\n",
    "    '''\n",
    "    model = Sequential()\n",
    "    model.add(Dense(32, input_dim=X_train.shape[1], activation=\"relu\", kernel_initializer='normal'))\n",
    "    model.add(Dropout(0.2)) # We are dropping a few neurons for generalizing the model\n",
    "    model.add(Dense(32, input_dim=X_train.shape[1], activation=\"relu\", kernel_initializer='normal'))\n",
    "    model.add(Dropout(0.2))\n",
    "    model.add(Dense(32, input_dim=X_train.shape[1], activation=\"relu\", kernel_initializer='normal'))\n",
    "    model.add(Dropout(0.2)) \n",
    "    model.add(Dense(1, activation=\"linear\", kernel_initializer='normal'))\n",
    "    adam = Adam(lr=1e-3, decay=1e-3)\n",
    "\n",
    "    # Compile model\n",
    "    model.compile(loss=\"mean_squared_error\", optimizer=adam, metrics=[rmse, rmspe])\n",
    "\n",
    "    return model"
   ]
  },
  {
   "cell_type": "code",
   "execution_count": 63,
   "metadata": {},
   "outputs": [
    {
     "name": "stdout",
     "output_type": "stream",
     "text": [
      "Loading data...\n",
      "Build model...\n",
      "Model: \"sequential\"\n",
      "_________________________________________________________________\n",
      "Layer (type)                 Output Shape              Param #   \n",
      "=================================================================\n",
      "dense (Dense)                (None, 32)                672       \n",
      "_________________________________________________________________\n",
      "dropout (Dropout)            (None, 32)                0         \n",
      "_________________________________________________________________\n",
      "dense_1 (Dense)              (None, 32)                1056      \n",
      "_________________________________________________________________\n",
      "dropout_1 (Dropout)          (None, 32)                0         \n",
      "_________________________________________________________________\n",
      "dense_2 (Dense)              (None, 32)                1056      \n",
      "_________________________________________________________________\n",
      "dropout_2 (Dropout)          (None, 32)                0         \n",
      "_________________________________________________________________\n",
      "dense_3 (Dense)              (None, 1)                 33        \n",
      "=================================================================\n",
      "Total params: 2,817\n",
      "Trainable params: 2,817\n",
      "Non-trainable params: 0\n",
      "_________________________________________________________________\n"
     ]
    }
   ],
   "source": [
    "# Hyperparameters and load data to train the model\n",
    "batch_size = 32\n",
    "nb_epoch = 100\n",
    "\n",
    "scaler_x = StandardScaler()\n",
    "scaler_y = StandardScaler()\n",
    "\n",
    "print('Loading data...')\n",
    "(X_train, y_train), (X_test, y_test) = load_train_data(scaler_x, scaler_y)\n",
    "\n",
    "print('Build model...')\n",
    "model = create_model()\n",
    "model.summary()"
   ]
  },
  {
   "cell_type": "code",
   "execution_count": 64,
   "metadata": {
    "scrolled": false
   },
   "outputs": [
    {
     "name": "stdout",
     "output_type": "stream",
     "text": [
      "Fit model...\n",
      "Epoch 1/100\n",
      "16872/16888 [============================>.] - ETA: 0s - loss: 0.2317 - rmse: 0.4648 - rmspe: 2.5011\n",
      "Epoch 00001: val_loss improved from inf to 0.17986, saving model to weights_rossmann.best.hdf5\n",
      "16888/16888 [==============================] - 21s 1ms/step - loss: 0.2317 - rmse: 0.4648 - rmspe: 2.5003 - val_loss: 0.1799 - val_rmse: 0.4099 - val_rmspe: 2.2664\n",
      "Epoch 2/100\n",
      "16876/16888 [============================>.] - ETA: 0s - loss: 0.2160 - rmse: 0.4502 - rmspe: 2.4485\n",
      "Epoch 00002: val_loss improved from 0.17986 to 0.17691, saving model to weights_rossmann.best.hdf5\n",
      "16888/16888 [==============================] - 27s 2ms/step - loss: 0.2159 - rmse: 0.4501 - rmspe: 2.4475 - val_loss: 0.1769 - val_rmse: 0.4065 - val_rmspe: 2.2578\n",
      "Epoch 3/100\n",
      "16864/16888 [============================>.] - ETA: 0s - loss: 0.2122 - rmse: 0.4462 - rmspe: 2.4390\n",
      "Epoch 00003: val_loss improved from 0.17691 to 0.17509, saving model to weights_rossmann.best.hdf5\n",
      "16888/16888 [==============================] - 22s 1ms/step - loss: 0.2122 - rmse: 0.4461 - rmspe: 2.4455 - val_loss: 0.1751 - val_rmse: 0.4044 - val_rmspe: 2.2405\n",
      "Epoch 4/100\n",
      "16857/16888 [============================>.] - ETA: 0s - loss: 0.2120 - rmse: 0.4459 - rmspe: 2.4370\n",
      "Epoch 00004: val_loss improved from 0.17509 to 0.17338, saving model to weights_rossmann.best.hdf5\n",
      "16888/16888 [==============================] - 25s 1ms/step - loss: 0.2120 - rmse: 0.4459 - rmspe: 2.4439 - val_loss: 0.1734 - val_rmse: 0.4024 - val_rmspe: 2.2371\n",
      "Epoch 5/100\n",
      "16888/16888 [==============================] - ETA: 0s - loss: 0.2094 - rmse: 0.4434 - rmspe: 2.4467\n",
      "Epoch 00005: val_loss improved from 0.17338 to 0.17177, saving model to weights_rossmann.best.hdf5\n",
      "16888/16888 [==============================] - 23s 1ms/step - loss: 0.2094 - rmse: 0.4434 - rmspe: 2.4467 - val_loss: 0.1718 - val_rmse: 0.4005 - val_rmspe: 2.2475\n",
      "Epoch 6/100\n",
      "16854/16888 [============================>.] - ETA: 0s - loss: 0.2089 - rmse: 0.4425 - rmspe: 2.4328\n",
      "Epoch 00006: val_loss improved from 0.17177 to 0.17166, saving model to weights_rossmann.best.hdf5\n",
      "16888/16888 [==============================] - 29s 2ms/step - loss: 0.2089 - rmse: 0.4425 - rmspe: 2.4353 - val_loss: 0.1717 - val_rmse: 0.4004 - val_rmspe: 2.2273\n",
      "Epoch 7/100\n",
      "16882/16888 [============================>.] - ETA: 0s - loss: 0.2077 - rmse: 0.4413 - rmspe: 2.4310\n",
      "Epoch 00007: val_loss improved from 0.17166 to 0.17105, saving model to weights_rossmann.best.hdf5\n",
      "16888/16888 [==============================] - 25s 1ms/step - loss: 0.2077 - rmse: 0.4413 - rmspe: 2.4306 - val_loss: 0.1710 - val_rmse: 0.3996 - val_rmspe: 2.2095\n",
      "Epoch 8/100\n",
      "16848/16888 [============================>.] - ETA: 0s - loss: 0.2078 - rmse: 0.4414 - rmspe: 2.4338\n",
      "Epoch 00008: val_loss improved from 0.17105 to 0.16995, saving model to weights_rossmann.best.hdf5\n",
      "16888/16888 [==============================] - 24s 1ms/step - loss: 0.2078 - rmse: 0.4414 - rmspe: 2.4354 - val_loss: 0.1700 - val_rmse: 0.3984 - val_rmspe: 2.2240\n",
      "Epoch 9/100\n",
      "16860/16888 [============================>.] - ETA: 0s - loss: 0.2078 - rmse: 0.4413 - rmspe: 2.4123\n",
      "Epoch 00009: val_loss improved from 0.16995 to 0.16966, saving model to weights_rossmann.best.hdf5\n",
      "16888/16888 [==============================] - 25s 1ms/step - loss: 0.2077 - rmse: 0.4412 - rmspe: 2.4130 - val_loss: 0.1697 - val_rmse: 0.3980 - val_rmspe: 2.2216\n",
      "Epoch 10/100\n",
      "16865/16888 [============================>.] - ETA: 0s - loss: 0.2062 - rmse: 0.4398 - rmspe: 2.4463\n",
      "Epoch 00010: val_loss improved from 0.16966 to 0.16883, saving model to weights_rossmann.best.hdf5\n",
      "16888/16888 [==============================] - 26s 2ms/step - loss: 0.2062 - rmse: 0.4399 - rmspe: 2.4447 - val_loss: 0.1688 - val_rmse: 0.3971 - val_rmspe: 2.2307\n",
      "Epoch 11/100\n",
      "16854/16888 [============================>.] - ETA: 0s - loss: 0.2061 - rmse: 0.4399 - rmspe: 2.4263\n",
      "Epoch 00011: val_loss improved from 0.16883 to 0.16863, saving model to weights_rossmann.best.hdf5\n",
      "16888/16888 [==============================] - 29s 2ms/step - loss: 0.2061 - rmse: 0.4398 - rmspe: 2.4260 - val_loss: 0.1686 - val_rmse: 0.3969 - val_rmspe: 2.2193\n",
      "Epoch 12/100\n",
      "16842/16888 [============================>.] - ETA: 0s - loss: 0.2059 - rmse: 0.4398 - rmspe: 2.4003\n",
      "Epoch 00012: val_loss improved from 0.16863 to 0.16853, saving model to weights_rossmann.best.hdf5\n",
      "16888/16888 [==============================] - 23s 1ms/step - loss: 0.2058 - rmse: 0.4397 - rmspe: 2.3979 - val_loss: 0.1685 - val_rmse: 0.3967 - val_rmspe: 2.2117\n",
      "Epoch 13/100\n",
      "16869/16888 [============================>.] - ETA: 0s - loss: 0.2050 - rmse: 0.4384 - rmspe: 2.4510\n",
      "Epoch 00013: val_loss improved from 0.16853 to 0.16798, saving model to weights_rossmann.best.hdf5\n",
      "16888/16888 [==============================] - 21s 1ms/step - loss: 0.2050 - rmse: 0.4384 - rmspe: 2.4499 - val_loss: 0.1680 - val_rmse: 0.3961 - val_rmspe: 2.2112\n",
      "Epoch 14/100\n",
      "16883/16888 [============================>.] - ETA: 0s - loss: 0.2056 - rmse: 0.4390 - rmspe: 2.4615\n",
      "Epoch 00014: val_loss improved from 0.16798 to 0.16793, saving model to weights_rossmann.best.hdf5\n",
      "16888/16888 [==============================] - 21s 1ms/step - loss: 0.2056 - rmse: 0.4390 - rmspe: 2.4612 - val_loss: 0.1679 - val_rmse: 0.3960 - val_rmspe: 2.2070\n",
      "Epoch 15/100\n",
      "16876/16888 [============================>.] - ETA: 0s - loss: 0.2046 - rmse: 0.4382 - rmspe: 2.4446\n",
      "Epoch 00015: val_loss improved from 0.16793 to 0.16733, saving model to weights_rossmann.best.hdf5\n",
      "16888/16888 [==============================] - 20s 1ms/step - loss: 0.2046 - rmse: 0.4382 - rmspe: 2.4444 - val_loss: 0.1673 - val_rmse: 0.3953 - val_rmspe: 2.2108\n",
      "Epoch 16/100\n",
      "16879/16888 [============================>.] - ETA: 0s - loss: 0.2045 - rmse: 0.4381 - rmspe: 2.4162\n",
      "Epoch 00016: val_loss improved from 0.16733 to 0.16714, saving model to weights_rossmann.best.hdf5\n",
      "16888/16888 [==============================] - 21s 1ms/step - loss: 0.2045 - rmse: 0.4381 - rmspe: 2.4168 - val_loss: 0.1671 - val_rmse: 0.3951 - val_rmspe: 2.2061\n",
      "Epoch 17/100\n",
      "16884/16888 [============================>.] - ETA: 0s - loss: 0.2050 - rmse: 0.4385 - rmspe: 2.4104\n",
      "Epoch 00017: val_loss improved from 0.16714 to 0.16685, saving model to weights_rossmann.best.hdf5\n",
      "16888/16888 [==============================] - 22s 1ms/step - loss: 0.2050 - rmse: 0.4385 - rmspe: 2.4112 - val_loss: 0.1668 - val_rmse: 0.3949 - val_rmspe: 2.2196\n",
      "Epoch 18/100\n",
      "16860/16888 [============================>.] - ETA: 0s - loss: 0.2045 - rmse: 0.4384 - rmspe: 2.4245\n",
      "Epoch 00018: val_loss did not improve from 0.16685\n",
      "16888/16888 [==============================] - 21s 1ms/step - loss: 0.2045 - rmse: 0.4384 - rmspe: 2.4242 - val_loss: 0.1670 - val_rmse: 0.3949 - val_rmspe: 2.2048\n",
      "Epoch 19/100\n",
      "16879/16888 [============================>.] - ETA: 0s - loss: 0.2040 - rmse: 0.4374 - rmspe: 2.4167\n",
      "Epoch 00019: val_loss did not improve from 0.16685\n",
      "16888/16888 [==============================] - 20s 1ms/step - loss: 0.2040 - rmse: 0.4374 - rmspe: 2.4171 - val_loss: 0.1669 - val_rmse: 0.3947 - val_rmspe: 2.1914\n",
      "Epoch 20/100\n",
      "16869/16888 [============================>.] - ETA: 0s - loss: 0.2035 - rmse: 0.4372 - rmspe: 2.4273\n",
      "Epoch 00020: val_loss improved from 0.16685 to 0.16632, saving model to weights_rossmann.best.hdf5\n",
      "16888/16888 [==============================] - 20s 1ms/step - loss: 0.2034 - rmse: 0.4371 - rmspe: 2.4260 - val_loss: 0.1663 - val_rmse: 0.3942 - val_rmspe: 2.2112\n",
      "Epoch 21/100\n",
      "16867/16888 [============================>.] - ETA: 0s - loss: 0.2036 - rmse: 0.4371 - rmspe: 2.4245\n",
      "Epoch 00021: val_loss improved from 0.16632 to 0.16600, saving model to weights_rossmann.best.hdf5\n",
      "16888/16888 [==============================] - 19s 1ms/step - loss: 0.2036 - rmse: 0.4371 - rmspe: 2.4245 - val_loss: 0.1660 - val_rmse: 0.3939 - val_rmspe: 2.2167\n",
      "Epoch 22/100\n",
      "16845/16888 [============================>.] - ETA: 0s - loss: 0.2036 - rmse: 0.4372 - rmspe: 2.4491\n",
      "Epoch 00022: val_loss did not improve from 0.16600\n",
      "16888/16888 [==============================] - 20s 1ms/step - loss: 0.2036 - rmse: 0.4372 - rmspe: 2.4469 - val_loss: 0.1662 - val_rmse: 0.3940 - val_rmspe: 2.2005\n",
      "Epoch 23/100\n"
     ]
    },
    {
     "name": "stdout",
     "output_type": "stream",
     "text": [
      "16851/16888 [============================>.] - ETA: 0s - loss: 0.2034 - rmse: 0.4369 - rmspe: 2.4297\n",
      "Epoch 00023: val_loss did not improve from 0.16600\n",
      "16888/16888 [==============================] - 27s 2ms/step - loss: 0.2033 - rmse: 0.4369 - rmspe: 2.4374 - val_loss: 0.1660 - val_rmse: 0.3939 - val_rmspe: 2.2068\n",
      "Epoch 24/100\n",
      "16881/16888 [============================>.] - ETA: 0s - loss: 0.2036 - rmse: 0.4372 - rmspe: 2.4280\n",
      "Epoch 00024: val_loss did not improve from 0.16600\n",
      "16888/16888 [==============================] - 28s 2ms/step - loss: 0.2036 - rmse: 0.4372 - rmspe: 2.4277 - val_loss: 0.1660 - val_rmse: 0.3938 - val_rmspe: 2.1982\n",
      "Epoch 25/100\n",
      "16876/16888 [============================>.] - ETA: 0s - loss: 0.2036 - rmse: 0.4372 - rmspe: 2.4376\n",
      "Epoch 00025: val_loss improved from 0.16600 to 0.16570, saving model to weights_rossmann.best.hdf5\n",
      "16888/16888 [==============================] - 27s 2ms/step - loss: 0.2036 - rmse: 0.4372 - rmspe: 2.4374 - val_loss: 0.1657 - val_rmse: 0.3934 - val_rmspe: 2.2037\n",
      "Epoch 26/100\n",
      "16847/16888 [============================>.] - ETA: 0s - loss: 0.2030 - rmse: 0.4365 - rmspe: 2.4351\n",
      "Epoch 00026: val_loss improved from 0.16570 to 0.16555, saving model to weights_rossmann.best.hdf5\n",
      "16888/16888 [==============================] - 21s 1ms/step - loss: 0.2030 - rmse: 0.4364 - rmspe: 2.4329 - val_loss: 0.1655 - val_rmse: 0.3933 - val_rmspe: 2.2081\n",
      "Epoch 27/100\n",
      "16886/16888 [============================>.] - ETA: 0s - loss: 0.2026 - rmse: 0.4362 - rmspe: 2.4386\n",
      "Epoch 00027: val_loss improved from 0.16555 to 0.16554, saving model to weights_rossmann.best.hdf5\n",
      "16888/16888 [==============================] - 21s 1ms/step - loss: 0.2026 - rmse: 0.4362 - rmspe: 2.4385 - val_loss: 0.1655 - val_rmse: 0.3933 - val_rmspe: 2.2050\n",
      "Epoch 28/100\n",
      "16874/16888 [============================>.] - ETA: 0s - loss: 0.2031 - rmse: 0.4364 - rmspe: 2.4391\n",
      "Epoch 00028: val_loss improved from 0.16554 to 0.16547, saving model to weights_rossmann.best.hdf5\n",
      "16888/16888 [==============================] - 21s 1ms/step - loss: 0.2032 - rmse: 0.4365 - rmspe: 2.4405 - val_loss: 0.1655 - val_rmse: 0.3932 - val_rmspe: 2.2029\n",
      "Epoch 29/100\n",
      "16867/16888 [============================>.] - ETA: 0s - loss: 0.2023 - rmse: 0.4358 - rmspe: 2.3846\n",
      "Epoch 00029: val_loss improved from 0.16547 to 0.16546, saving model to weights_rossmann.best.hdf5\n",
      "16888/16888 [==============================] - 21s 1ms/step - loss: 0.2023 - rmse: 0.4358 - rmspe: 2.3837 - val_loss: 0.1655 - val_rmse: 0.3931 - val_rmspe: 2.1993\n",
      "Epoch 30/100\n",
      "16845/16888 [============================>.] - ETA: 0s - loss: 0.2030 - rmse: 0.4367 - rmspe: 2.4364\n",
      "Epoch 00030: val_loss improved from 0.16546 to 0.16526, saving model to weights_rossmann.best.hdf5\n",
      "16888/16888 [==============================] - 21s 1ms/step - loss: 0.2030 - rmse: 0.4367 - rmspe: 2.4370 - val_loss: 0.1653 - val_rmse: 0.3929 - val_rmspe: 2.2048\n",
      "Epoch 31/100\n",
      "16855/16888 [============================>.] - ETA: 0s - loss: 0.2029 - rmse: 0.4361 - rmspe: 2.4380\n",
      "Epoch 00031: val_loss improved from 0.16526 to 0.16519, saving model to weights_rossmann.best.hdf5\n",
      "16888/16888 [==============================] - 22s 1ms/step - loss: 0.2028 - rmse: 0.4360 - rmspe: 2.4360 - val_loss: 0.1652 - val_rmse: 0.3929 - val_rmspe: 2.2046\n",
      "Epoch 32/100\n",
      "16864/16888 [============================>.] - ETA: 0s - loss: 0.2030 - rmse: 0.4365 - rmspe: 2.4317\n",
      "Epoch 00032: val_loss did not improve from 0.16519\n",
      "16888/16888 [==============================] - 22s 1ms/step - loss: 0.2029 - rmse: 0.4365 - rmspe: 2.4311 - val_loss: 0.1652 - val_rmse: 0.3929 - val_rmspe: 2.2058\n",
      "Epoch 33/100\n",
      "16867/16888 [============================>.] - ETA: 0s - loss: 0.2023 - rmse: 0.4358 - rmspe: 2.4177\n",
      "Epoch 00033: val_loss improved from 0.16519 to 0.16516, saving model to weights_rossmann.best.hdf5\n",
      "16888/16888 [==============================] - 22s 1ms/step - loss: 0.2022 - rmse: 0.4358 - rmspe: 2.4168 - val_loss: 0.1652 - val_rmse: 0.3928 - val_rmspe: 2.2013\n",
      "Epoch 34/100\n",
      "16852/16888 [============================>.] - ETA: 0s - loss: 0.2027 - rmse: 0.4361 - rmspe: 2.4118\n",
      "Epoch 00034: val_loss improved from 0.16516 to 0.16515, saving model to weights_rossmann.best.hdf5\n",
      "16888/16888 [==============================] - 21s 1ms/step - loss: 0.2027 - rmse: 0.4361 - rmspe: 2.4132 - val_loss: 0.1652 - val_rmse: 0.3928 - val_rmspe: 2.2006\n",
      "Epoch 35/100\n",
      "16843/16888 [============================>.] - ETA: 0s - loss: 0.2021 - rmse: 0.4357 - rmspe: 2.4570\n",
      "Epoch 00035: val_loss improved from 0.16515 to 0.16469, saving model to weights_rossmann.best.hdf5\n",
      "16888/16888 [==============================] - 20s 1ms/step - loss: 0.2021 - rmse: 0.4357 - rmspe: 2.4559 - val_loss: 0.1647 - val_rmse: 0.3923 - val_rmspe: 2.2100\n",
      "Epoch 36/100\n",
      "16887/16888 [============================>.] - ETA: 0s - loss: 0.2022 - rmse: 0.4355 - rmspe: 2.3844\n",
      "Epoch 00036: val_loss did not improve from 0.16469\n",
      "16888/16888 [==============================] - 23s 1ms/step - loss: 0.2022 - rmse: 0.4355 - rmspe: 2.3843 - val_loss: 0.1647 - val_rmse: 0.3923 - val_rmspe: 2.1986\n",
      "Epoch 37/100\n",
      "16844/16888 [============================>.] - ETA: 0s - loss: 0.2020 - rmse: 0.4355 - rmspe: 2.4457\n",
      "Epoch 00037: val_loss improved from 0.16469 to 0.16465, saving model to weights_rossmann.best.hdf5\n",
      "16888/16888 [==============================] - 20s 1ms/step - loss: 0.2020 - rmse: 0.4355 - rmspe: 2.4432 - val_loss: 0.1646 - val_rmse: 0.3923 - val_rmspe: 2.1997\n",
      "Epoch 38/100\n",
      "16885/16888 [============================>.] - ETA: 0s - loss: 0.2025 - rmse: 0.4359 - rmspe: 2.4179\n",
      "Epoch 00038: val_loss improved from 0.16465 to 0.16458, saving model to weights_rossmann.best.hdf5\n",
      "16888/16888 [==============================] - 20s 1ms/step - loss: 0.2025 - rmse: 0.4359 - rmspe: 2.4177 - val_loss: 0.1646 - val_rmse: 0.3922 - val_rmspe: 2.2029\n",
      "Epoch 39/100\n",
      "16852/16888 [============================>.] - ETA: 0s - loss: 0.2015 - rmse: 0.4352 - rmspe: 2.3967\n",
      "Epoch 00039: val_loss improved from 0.16458 to 0.16453, saving model to weights_rossmann.best.hdf5\n",
      "16888/16888 [==============================] - 21s 1ms/step - loss: 0.2015 - rmse: 0.4352 - rmspe: 2.3958 - val_loss: 0.1645 - val_rmse: 0.3921 - val_rmspe: 2.2002\n",
      "Epoch 40/100\n",
      "16876/16888 [============================>.] - ETA: 0s - loss: 0.2020 - rmse: 0.4356 - rmspe: 2.4443\n",
      "Epoch 00040: val_loss improved from 0.16453 to 0.16435, saving model to weights_rossmann.best.hdf5\n",
      "16888/16888 [==============================] - 20s 1ms/step - loss: 0.2019 - rmse: 0.4356 - rmspe: 2.4437 - val_loss: 0.1643 - val_rmse: 0.3920 - val_rmspe: 2.2030\n",
      "Epoch 41/100\n",
      "16842/16888 [============================>.] - ETA: 0s - loss: 0.2024 - rmse: 0.4359 - rmspe: 2.4234\n",
      "Epoch 00041: val_loss did not improve from 0.16435\n",
      "16888/16888 [==============================] - 21s 1ms/step - loss: 0.2023 - rmse: 0.4359 - rmspe: 2.4287 - val_loss: 0.1646 - val_rmse: 0.3922 - val_rmspe: 2.1937\n",
      "Epoch 42/100\n",
      "16853/16888 [============================>.] - ETA: 0s - loss: 0.2022 - rmse: 0.4358 - rmspe: 2.4295\n",
      "Epoch 00042: val_loss did not improve from 0.16435\n",
      "16888/16888 [==============================] - 20s 1ms/step - loss: 0.2021 - rmse: 0.4357 - rmspe: 2.4274 - val_loss: 0.1645 - val_rmse: 0.3921 - val_rmspe: 2.1921\n",
      "Epoch 43/100\n",
      "16847/16888 [============================>.] - ETA: 0s - loss: 0.2015 - rmse: 0.4349 - rmspe: 2.3952 E\n",
      "Epoch 00043: val_loss did not improve from 0.16435\n",
      "16888/16888 [==============================] - 21s 1ms/step - loss: 0.2015 - rmse: 0.4349 - rmspe: 2.3942 - val_loss: 0.1645 - val_rmse: 0.3921 - val_rmspe: 2.1926\n",
      "Epoch 44/100\n",
      "16843/16888 [============================>.] - ETA: 0s - loss: 0.2022 - rmse: 0.4357 - rmspe: 2.4449\n",
      "Epoch 00044: val_loss did not improve from 0.16435\n",
      "16888/16888 [==============================] - 21s 1ms/step - loss: 0.2022 - rmse: 0.4358 - rmspe: 2.4450 - val_loss: 0.1644 - val_rmse: 0.3919 - val_rmspe: 2.1965\n",
      "Epoch 45/100\n",
      "16861/16888 [============================>.] - ETA: 0s - loss: 0.2019 - rmse: 0.4353 - rmspe: 2.4046\n",
      "Epoch 00045: val_loss improved from 0.16435 to 0.16433, saving model to weights_rossmann.best.hdf5\n",
      "16888/16888 [==============================] - 22s 1ms/step - loss: 0.2019 - rmse: 0.4353 - rmspe: 2.4036 - val_loss: 0.1643 - val_rmse: 0.3918 - val_rmspe: 2.1959\n"
     ]
    },
    {
     "name": "stdout",
     "output_type": "stream",
     "text": [
      "Epoch 46/100\n",
      "16857/16888 [============================>.] - ETA: 0s - loss: 0.2021 - rmse: 0.4355 - rmspe: 2.4255 ETA: 0s - loss: 0.2022 - rmse: 0.43\n",
      "Epoch 00046: val_loss improved from 0.16433 to 0.16427, saving model to weights_rossmann.best.hdf5\n",
      "16888/16888 [==============================] - 22s 1ms/step - loss: 0.2021 - rmse: 0.4355 - rmspe: 2.4254 - val_loss: 0.1643 - val_rmse: 0.3918 - val_rmspe: 2.1942\n",
      "Epoch 47/100\n",
      "16854/16888 [============================>.] - ETA: 0s - loss: 0.2023 - rmse: 0.4355 - rmspe: 2.4112\n",
      "Epoch 00047: val_loss did not improve from 0.16427\n",
      "16888/16888 [==============================] - 22s 1ms/step - loss: 0.2023 - rmse: 0.4355 - rmspe: 2.4107 - val_loss: 0.1643 - val_rmse: 0.3918 - val_rmspe: 2.1926\n",
      "Epoch 48/100\n",
      "16880/16888 [============================>.] - ETA: 0s - loss: 0.2016 - rmse: 0.4350 - rmspe: 2.4240\n",
      "Epoch 00048: val_loss improved from 0.16427 to 0.16410, saving model to weights_rossmann.best.hdf5\n",
      "16888/16888 [==============================] - 21s 1ms/step - loss: 0.2017 - rmse: 0.4351 - rmspe: 2.4239 - val_loss: 0.1641 - val_rmse: 0.3916 - val_rmspe: 2.2007\n",
      "Epoch 49/100\n",
      "16887/16888 [============================>.] - ETA: 0s - loss: 0.2014 - rmse: 0.4350 - rmspe: 2.4422\n",
      "Epoch 00049: val_loss did not improve from 0.16410\n",
      "16888/16888 [==============================] - 21s 1ms/step - loss: 0.2014 - rmse: 0.4350 - rmspe: 2.4422 - val_loss: 0.1642 - val_rmse: 0.3917 - val_rmspe: 2.1915\n",
      "Epoch 50/100\n",
      "16869/16888 [============================>.] - ETA: 0s - loss: 0.2019 - rmse: 0.4354 - rmspe: 2.4110\n",
      "Epoch 00050: val_loss improved from 0.16410 to 0.16406, saving model to weights_rossmann.best.hdf5\n",
      "16888/16888 [==============================] - 21s 1ms/step - loss: 0.2019 - rmse: 0.4354 - rmspe: 2.4110 - val_loss: 0.1641 - val_rmse: 0.3916 - val_rmspe: 2.1966\n",
      "Epoch 51/100\n",
      "16851/16888 [============================>.] - ETA: 0s - loss: 0.2014 - rmse: 0.4347 - rmspe: 2.4184\n",
      "Epoch 00051: val_loss did not improve from 0.16406\n",
      "16888/16888 [==============================] - 21s 1ms/step - loss: 0.2014 - rmse: 0.4347 - rmspe: 2.4208 - val_loss: 0.1641 - val_rmse: 0.3916 - val_rmspe: 2.1927\n",
      "Epoch 52/100\n",
      "16860/16888 [============================>.] - ETA: 0s - loss: 0.2007 - rmse: 0.4340 - rmspe: 2.4301\n",
      "Epoch 00052: val_loss did not improve from 0.16406\n",
      "16888/16888 [==============================] - 21s 1ms/step - loss: 0.2007 - rmse: 0.4341 - rmspe: 2.4281 - val_loss: 0.1641 - val_rmse: 0.3916 - val_rmspe: 2.1904\n",
      "Epoch 53/100\n",
      "16888/16888 [==============================] - ETA: 0s - loss: 0.2017 - rmse: 0.4348 - rmspe: 2.4236 ETA: 0s - loss: 0.2017 - rmse\n",
      "Epoch 00053: val_loss improved from 0.16406 to 0.16397, saving model to weights_rossmann.best.hdf5\n",
      "16888/16888 [==============================] - 21s 1ms/step - loss: 0.2017 - rmse: 0.4348 - rmspe: 2.4236 - val_loss: 0.1640 - val_rmse: 0.3915 - val_rmspe: 2.1913\n",
      "Epoch 54/100\n",
      "16856/16888 [============================>.] - ETA: 0s - loss: 0.2016 - rmse: 0.4352 - rmspe: 2.4441\n",
      "Epoch 00054: val_loss did not improve from 0.16397\n",
      "16888/16888 [==============================] - 21s 1ms/step - loss: 0.2016 - rmse: 0.4352 - rmspe: 2.4465 - val_loss: 0.1640 - val_rmse: 0.3915 - val_rmspe: 2.1887\n",
      "Epoch 55/100\n",
      "16851/16888 [============================>.] - ETA: 0s - loss: 0.2020 - rmse: 0.4354 - rmspe: 2.4460\n",
      "Epoch 00055: val_loss improved from 0.16397 to 0.16388, saving model to weights_rossmann.best.hdf5\n",
      "16888/16888 [==============================] - 21s 1ms/step - loss: 0.2020 - rmse: 0.4354 - rmspe: 2.4446 - val_loss: 0.1639 - val_rmse: 0.3914 - val_rmspe: 2.1932\n",
      "Epoch 56/100\n",
      "16885/16888 [============================>.] - ETA: 0s - loss: 0.2011 - rmse: 0.4345 - rmspe: 2.4592\n",
      "Epoch 00056: val_loss improved from 0.16388 to 0.16381, saving model to weights_rossmann.best.hdf5\n",
      "16888/16888 [==============================] - 22s 1ms/step - loss: 0.2011 - rmse: 0.4345 - rmspe: 2.4590 - val_loss: 0.1638 - val_rmse: 0.3913 - val_rmspe: 2.1970\n",
      "Epoch 57/100\n",
      "16847/16888 [============================>.] - ETA: 0s - loss: 0.2015 - rmse: 0.4351 - rmspe: 2.4314\n",
      "Epoch 00057: val_loss did not improve from 0.16381\n",
      "16888/16888 [==============================] - 22s 1ms/step - loss: 0.2015 - rmse: 0.4351 - rmspe: 2.4311 - val_loss: 0.1640 - val_rmse: 0.3915 - val_rmspe: 2.1894\n",
      "Epoch 58/100\n",
      "16875/16888 [============================>.] - ETA: 0s - loss: 0.2014 - rmse: 0.4348 - rmspe: 2.4579\n",
      "Epoch 00058: val_loss did not improve from 0.16381\n",
      "16888/16888 [==============================] - 21s 1ms/step - loss: 0.2014 - rmse: 0.4348 - rmspe: 2.4578 - val_loss: 0.1638 - val_rmse: 0.3913 - val_rmspe: 2.1967\n",
      "Epoch 59/100\n",
      "16868/16888 [============================>.] - ETA: 0s - loss: 0.2009 - rmse: 0.4344 - rmspe: 2.4018\n",
      "Epoch 00059: val_loss improved from 0.16381 to 0.16380, saving model to weights_rossmann.best.hdf5\n",
      "16888/16888 [==============================] - 20s 1ms/step - loss: 0.2008 - rmse: 0.4344 - rmspe: 2.4006 - val_loss: 0.1638 - val_rmse: 0.3913 - val_rmspe: 2.1912\n",
      "Epoch 60/100\n",
      "16873/16888 [============================>.] - ETA: 0s - loss: 0.2007 - rmse: 0.4341 - rmspe: 2.4749\n",
      "Epoch 00060: val_loss improved from 0.16380 to 0.16373, saving model to weights_rossmann.best.hdf5\n",
      "16888/16888 [==============================] - 20s 1ms/step - loss: 0.2009 - rmse: 0.4342 - rmspe: 2.4739 - val_loss: 0.1637 - val_rmse: 0.3912 - val_rmspe: 2.1907\n",
      "Epoch 61/100\n",
      "16877/16888 [============================>.] - ETA: 0s - loss: 0.2012 - rmse: 0.4345 - rmspe: 2.3703\n",
      "Epoch 00061: val_loss did not improve from 0.16373\n",
      "16888/16888 [==============================] - 22s 1ms/step - loss: 0.2012 - rmse: 0.4345 - rmspe: 2.3701 - val_loss: 0.1638 - val_rmse: 0.3912 - val_rmspe: 2.1900\n",
      "Epoch 62/100\n",
      "16853/16888 [============================>.] - ETA: 0s - loss: 0.2010 - rmse: 0.4345 - rmspe: 2.4298 ETA: 0s - loss: 0.2010 - rmse: 0.4345 - r\n",
      "Epoch 00062: val_loss improved from 0.16373 to 0.16359, saving model to weights_rossmann.best.hdf5\n",
      "16888/16888 [==============================] - 22s 1ms/step - loss: 0.2010 - rmse: 0.4345 - rmspe: 2.4282 - val_loss: 0.1636 - val_rmse: 0.3910 - val_rmspe: 2.1926\n",
      "Epoch 63/100\n",
      "16881/16888 [============================>.] - ETA: 0s - loss: 0.2009 - rmse: 0.4342 - rmspe: 2.4251\n",
      "Epoch 00063: val_loss did not improve from 0.16359\n",
      "16888/16888 [==============================] - 21s 1ms/step - loss: 0.2009 - rmse: 0.4342 - rmspe: 2.4248 - val_loss: 0.1637 - val_rmse: 0.3912 - val_rmspe: 2.1880\n",
      "Epoch 64/100\n",
      "16837/16888 [============================>.] - ETA: 0s - loss: 0.2010 - rmse: 0.4345 - rmspe: 2.4106\n",
      "Epoch 00064: val_loss did not improve from 0.16359\n",
      "16888/16888 [==============================] - 22s 1ms/step - loss: 0.2010 - rmse: 0.4345 - rmspe: 2.4078 - val_loss: 0.1636 - val_rmse: 0.3911 - val_rmspe: 2.1866\n",
      "Epoch 65/100\n",
      "16850/16888 [============================>.] - ETA: 0s - loss: 0.2006 - rmse: 0.4341 - rmspe: 2.4067\n",
      "Epoch 00065: val_loss improved from 0.16359 to 0.16344, saving model to weights_rossmann.best.hdf5\n",
      "16888/16888 [==============================] - 21s 1ms/step - loss: 0.2006 - rmse: 0.4340 - rmspe: 2.4055 - val_loss: 0.1634 - val_rmse: 0.3909 - val_rmspe: 2.1964\n",
      "Epoch 66/100\n",
      "16878/16888 [============================>.] - ETA: 0s - loss: 0.2009 - rmse: 0.4345 - rmspe: 2.4224\n",
      "Epoch 00066: val_loss did not improve from 0.16344\n",
      "16888/16888 [==============================] - 21s 1ms/step - loss: 0.2009 - rmse: 0.4344 - rmspe: 2.4225 - val_loss: 0.1635 - val_rmse: 0.3909 - val_rmspe: 2.1914\n",
      "Epoch 67/100\n",
      "16864/16888 [============================>.] - ETA: 0s - loss: 0.2010 - rmse: 0.4345 - rmspe: 2.4304\n",
      "Epoch 00067: val_loss improved from 0.16344 to 0.16342, saving model to weights_rossmann.best.hdf5\n",
      "16888/16888 [==============================] - 21s 1ms/step - loss: 0.2010 - rmse: 0.4345 - rmspe: 2.4298 - val_loss: 0.1634 - val_rmse: 0.3908 - val_rmspe: 2.1932\n",
      "Epoch 68/100\n",
      "16854/16888 [============================>.] - ETA: 0s - loss: 0.2008 - rmse: 0.4342 - rmspe: 2.4399\n",
      "Epoch 00068: val_loss improved from 0.16342 to 0.16338, saving model to weights_rossmann.best.hdf5\n",
      "16888/16888 [==============================] - 21s 1ms/step - loss: 0.2008 - rmse: 0.4342 - rmspe: 2.4385 - val_loss: 0.1634 - val_rmse: 0.3908 - val_rmspe: 2.1903\n"
     ]
    },
    {
     "name": "stdout",
     "output_type": "stream",
     "text": [
      "Epoch 69/100\n",
      "16873/16888 [============================>.] - ETA: 0s - loss: 0.2004 - rmse: 0.4338 - rmspe: 2.4578\n",
      "Epoch 00069: val_loss improved from 0.16338 to 0.16335, saving model to weights_rossmann.best.hdf5\n",
      "16888/16888 [==============================] - 22s 1ms/step - loss: 0.2004 - rmse: 0.4338 - rmspe: 2.4567 - val_loss: 0.1634 - val_rmse: 0.3908 - val_rmspe: 2.1897\n",
      "Epoch 70/100\n",
      "16867/16888 [============================>.] - ETA: 0s - loss: 0.2007 - rmse: 0.4340 - rmspe: 2.4647\n",
      "Epoch 00070: val_loss did not improve from 0.16335\n",
      "16888/16888 [==============================] - 22s 1ms/step - loss: 0.2008 - rmse: 0.4340 - rmspe: 2.4711 - val_loss: 0.1634 - val_rmse: 0.3908 - val_rmspe: 2.1880\n",
      "Epoch 71/100\n",
      "16846/16888 [============================>.] - ETA: 0s - loss: 0.2020 - rmse: 0.4353 - rmspe: 2.4121\n",
      "Epoch 00071: val_loss did not improve from 0.16335\n",
      "16888/16888 [==============================] - 21s 1ms/step - loss: 0.2019 - rmse: 0.4352 - rmspe: 2.4097 - val_loss: 0.1634 - val_rmse: 0.3908 - val_rmspe: 2.1893\n",
      "Epoch 72/100\n",
      "16842/16888 [============================>.] - ETA: 0s - loss: 0.2019 - rmse: 0.4353 - rmspe: 2.4752\n",
      "Epoch 00072: val_loss did not improve from 0.16335\n",
      "16888/16888 [==============================] - 21s 1ms/step - loss: 0.2020 - rmse: 0.4353 - rmspe: 2.4776 - val_loss: 0.1634 - val_rmse: 0.3908 - val_rmspe: 2.1892\n",
      "Epoch 73/100\n",
      "16871/16888 [============================>.] - ETA: 0s - loss: 0.2011 - rmse: 0.4344 - rmspe: 2.4225\n",
      "Epoch 00073: val_loss improved from 0.16335 to 0.16334, saving model to weights_rossmann.best.hdf5\n",
      "16888/16888 [==============================] - 21s 1ms/step - loss: 0.2011 - rmse: 0.4344 - rmspe: 2.4211 - val_loss: 0.1633 - val_rmse: 0.3907 - val_rmspe: 2.1892\n",
      "Epoch 74/100\n",
      "16840/16888 [============================>.] - ETA: 0s - loss: 0.2004 - rmse: 0.4339 - rmspe: 2.4260\n",
      "Epoch 00074: val_loss did not improve from 0.16334\n",
      "16888/16888 [==============================] - 21s 1ms/step - loss: 0.2005 - rmse: 0.4339 - rmspe: 2.4243 - val_loss: 0.1634 - val_rmse: 0.3908 - val_rmspe: 2.1907\n",
      "Epoch 75/100\n",
      "16881/16888 [============================>.] - ETA: 0s - loss: 0.2017 - rmse: 0.4350 - rmspe: 2.4260\n",
      "Epoch 00075: val_loss improved from 0.16334 to 0.16332, saving model to weights_rossmann.best.hdf5\n",
      "16888/16888 [==============================] - 21s 1ms/step - loss: 0.2017 - rmse: 0.4350 - rmspe: 2.4266 - val_loss: 0.1633 - val_rmse: 0.3907 - val_rmspe: 2.1886\n",
      "Epoch 76/100\n",
      "16866/16888 [============================>.] - ETA: 0s - loss: 0.2013 - rmse: 0.4347 - rmspe: 2.4459\n",
      "Epoch 00076: val_loss improved from 0.16332 to 0.16327, saving model to weights_rossmann.best.hdf5\n",
      "16888/16888 [==============================] - 21s 1ms/step - loss: 0.2012 - rmse: 0.4346 - rmspe: 2.4454 - val_loss: 0.1633 - val_rmse: 0.3907 - val_rmspe: 2.1895\n",
      "Epoch 77/100\n",
      "16887/16888 [============================>.] - ETA: 0s - loss: 0.2005 - rmse: 0.4341 - rmspe: 2.4258\n",
      "Epoch 00077: val_loss improved from 0.16327 to 0.16323, saving model to weights_rossmann.best.hdf5\n",
      "16888/16888 [==============================] - 22s 1ms/step - loss: 0.2005 - rmse: 0.4341 - rmspe: 2.4258 - val_loss: 0.1632 - val_rmse: 0.3906 - val_rmspe: 2.1894\n",
      "Epoch 78/100\n",
      "16867/16888 [============================>.] - ETA: 0s - loss: 0.2005 - rmse: 0.4340 - rmspe: 2.3915\n",
      "Epoch 00078: val_loss did not improve from 0.16323\n",
      "16888/16888 [==============================] - 20s 1ms/step - loss: 0.2005 - rmse: 0.4340 - rmspe: 2.3906 - val_loss: 0.1633 - val_rmse: 0.3906 - val_rmspe: 2.1852\n",
      "Epoch 79/100\n",
      "16885/16888 [============================>.] - ETA: 0s - loss: 0.2008 - rmse: 0.4342 - rmspe: 2.4179\n",
      "Epoch 00079: val_loss improved from 0.16323 to 0.16323, saving model to weights_rossmann.best.hdf5\n",
      "16888/16888 [==============================] - 20s 1ms/step - loss: 0.2008 - rmse: 0.4342 - rmspe: 2.4182 - val_loss: 0.1632 - val_rmse: 0.3906 - val_rmspe: 2.1866\n",
      "Epoch 80/100\n",
      "16845/16888 [============================>.] - ETA: 0s - loss: 0.1998 - rmse: 0.4332 - rmspe: 2.4347\n",
      "Epoch 00080: val_loss improved from 0.16323 to 0.16312, saving model to weights_rossmann.best.hdf5\n",
      "16888/16888 [==============================] - 20s 1ms/step - loss: 0.1998 - rmse: 0.4333 - rmspe: 2.4348 - val_loss: 0.1631 - val_rmse: 0.3905 - val_rmspe: 2.1886\n",
      "Epoch 81/100\n",
      "16888/16888 [==============================] - ETA: 0s - loss: 0.2004 - rmse: 0.4338 - rmspe: 2.4368\n",
      "Epoch 00081: val_loss did not improve from 0.16312\n",
      "16888/16888 [==============================] - 20s 1ms/step - loss: 0.2004 - rmse: 0.4338 - rmspe: 2.4368 - val_loss: 0.1631 - val_rmse: 0.3905 - val_rmspe: 2.1872\n",
      "Epoch 82/100\n",
      "16868/16888 [============================>.] - ETA: 0s - loss: 0.2004 - rmse: 0.4338 - rmspe: 2.4317\n",
      "Epoch 00082: val_loss improved from 0.16312 to 0.16306, saving model to weights_rossmann.best.hdf5\n",
      "16888/16888 [==============================] - 20s 1ms/step - loss: 0.2004 - rmse: 0.4338 - rmspe: 2.4303 - val_loss: 0.1631 - val_rmse: 0.3904 - val_rmspe: 2.1869\n",
      "Epoch 83/100\n",
      "16838/16888 [============================>.] - ETA: 0s - loss: 0.2002 - rmse: 0.4336 - rmspe: 2.4617\n",
      "Epoch 00083: val_loss improved from 0.16306 to 0.16305, saving model to weights_rossmann.best.hdf5\n",
      "16888/16888 [==============================] - 21s 1ms/step - loss: 0.2002 - rmse: 0.4336 - rmspe: 2.4597 - val_loss: 0.1630 - val_rmse: 0.3904 - val_rmspe: 2.1879\n",
      "Epoch 84/100\n",
      "16870/16888 [============================>.] - ETA: 0s - loss: 0.2009 - rmse: 0.4341 - rmspe: 2.4536\n",
      "Epoch 00084: val_loss did not improve from 0.16305\n",
      "16888/16888 [==============================] - 20s 1ms/step - loss: 0.2009 - rmse: 0.4342 - rmspe: 2.4527 - val_loss: 0.1632 - val_rmse: 0.3905 - val_rmspe: 2.1878\n",
      "Epoch 85/100\n",
      "16860/16888 [============================>.] - ETA: 0s - loss: 0.2005 - rmse: 0.4340 - rmspe: 2.3994\n",
      "Epoch 00085: val_loss did not improve from 0.16305\n",
      "16888/16888 [==============================] - 20s 1ms/step - loss: 0.2006 - rmse: 0.4341 - rmspe: 2.4002 - val_loss: 0.1631 - val_rmse: 0.3904 - val_rmspe: 2.1857\n",
      "Epoch 86/100\n",
      "16870/16888 [============================>.] - ETA: 0s - loss: 0.2002 - rmse: 0.4338 - rmspe: 2.4510\n",
      "Epoch 00086: val_loss improved from 0.16305 to 0.16304, saving model to weights_rossmann.best.hdf5\n",
      "16888/16888 [==============================] - 20s 1ms/step - loss: 0.2003 - rmse: 0.4339 - rmspe: 2.4501 - val_loss: 0.1630 - val_rmse: 0.3904 - val_rmspe: 2.1875\n",
      "Epoch 87/100\n",
      "16845/16888 [============================>.] - ETA: 0s - loss: 0.2010 - rmse: 0.4343 - rmspe: 2.4287\n",
      "Epoch 00087: val_loss did not improve from 0.16304\n",
      "16888/16888 [==============================] - 20s 1ms/step - loss: 0.2010 - rmse: 0.4343 - rmspe: 2.4306 - val_loss: 0.1631 - val_rmse: 0.3904 - val_rmspe: 2.1855\n",
      "Epoch 88/100\n",
      "16850/16888 [============================>.] - ETA: 0s - loss: 0.2000 - rmse: 0.4335 - rmspe: 2.4550\n",
      "Epoch 00088: val_loss improved from 0.16304 to 0.16300, saving model to weights_rossmann.best.hdf5\n",
      "16888/16888 [==============================] - 21s 1ms/step - loss: 0.2000 - rmse: 0.4335 - rmspe: 2.4579 - val_loss: 0.1630 - val_rmse: 0.3903 - val_rmspe: 2.1875\n",
      "Epoch 89/100\n",
      "16871/16888 [============================>.] - ETA: 0s - loss: 0.2011 - rmse: 0.4343 - rmspe: 2.4052\n",
      "Epoch 00089: val_loss improved from 0.16300 to 0.16293, saving model to weights_rossmann.best.hdf5\n",
      "16888/16888 [==============================] - 21s 1ms/step - loss: 0.2011 - rmse: 0.4343 - rmspe: 2.4046 - val_loss: 0.1629 - val_rmse: 0.3903 - val_rmspe: 2.1887\n",
      "Epoch 90/100\n",
      "16874/16888 [============================>.] - ETA: 0s - loss: 0.2003 - rmse: 0.4336 - rmspe: 2.4048\n",
      "Epoch 00090: val_loss improved from 0.16293 to 0.16289, saving model to weights_rossmann.best.hdf5\n",
      "16888/16888 [==============================] - 22s 1ms/step - loss: 0.2003 - rmse: 0.4336 - rmspe: 2.4042 - val_loss: 0.1629 - val_rmse: 0.3902 - val_rmspe: 2.1888\n",
      "Epoch 91/100\n",
      "16882/16888 [============================>.] - ETA: 0s - loss: 0.2004 - rmse: 0.4338 - rmspe: 2.4379\n",
      "Epoch 00091: val_loss did not improve from 0.16289\n",
      "16888/16888 [==============================] - 21s 1ms/step - loss: 0.2004 - rmse: 0.4338 - rmspe: 2.4375 - val_loss: 0.1629 - val_rmse: 0.3902 - val_rmspe: 2.1846\n",
      "Epoch 92/100\n"
     ]
    },
    {
     "name": "stdout",
     "output_type": "stream",
     "text": [
      "16857/16888 [============================>.] - ETA: 0s - loss: 0.2001 - rmse: 0.4333 - rmspe: 2.4584\n",
      "Epoch 00092: val_loss did not improve from 0.16289\n",
      "16888/16888 [==============================] - 21s 1ms/step - loss: 0.2001 - rmse: 0.4332 - rmspe: 2.4576 - val_loss: 0.1629 - val_rmse: 0.3902 - val_rmspe: 2.1847\n",
      "Epoch 93/100\n",
      "16866/16888 [============================>.] - ETA: 0s - loss: 0.2004 - rmse: 0.4337 - rmspe: 2.4477 ETA: 0s - loss: 0.2004 - rmse: \n",
      "Epoch 00093: val_loss did not improve from 0.16289\n",
      "16888/16888 [==============================] - 21s 1ms/step - loss: 0.2003 - rmse: 0.4337 - rmspe: 2.4461 - val_loss: 0.1630 - val_rmse: 0.3903 - val_rmspe: 2.1828\n",
      "Epoch 94/100\n",
      "16888/16888 [==============================] - ETA: 0s - loss: 0.2003 - rmse: 0.4336 - rmspe: 2.3924\n",
      "Epoch 00094: val_loss improved from 0.16289 to 0.16289, saving model to weights_rossmann.best.hdf5\n",
      "16888/16888 [==============================] - 20s 1ms/step - loss: 0.2003 - rmse: 0.4336 - rmspe: 2.3924 - val_loss: 0.1629 - val_rmse: 0.3902 - val_rmspe: 2.1857\n",
      "Epoch 95/100\n",
      "16851/16888 [============================>.] - ETA: 0s - loss: 0.2002 - rmse: 0.4337 - rmspe: 2.4135\n",
      "Epoch 00095: val_loss improved from 0.16289 to 0.16288, saving model to weights_rossmann.best.hdf5\n",
      "16888/16888 [==============================] - 20s 1ms/step - loss: 0.2001 - rmse: 0.4337 - rmspe: 2.4121 - val_loss: 0.1629 - val_rmse: 0.3902 - val_rmspe: 2.1852\n",
      "Epoch 96/100\n",
      "16858/16888 [============================>.] - ETA: 0s - loss: 0.2006 - rmse: 0.4341 - rmspe: 2.4246\n",
      "Epoch 00096: val_loss did not improve from 0.16288\n",
      "16888/16888 [==============================] - 21s 1ms/step - loss: 0.2006 - rmse: 0.4341 - rmspe: 2.4268 - val_loss: 0.1629 - val_rmse: 0.3902 - val_rmspe: 2.1824\n",
      "Epoch 97/100\n",
      "16877/16888 [============================>.] - ETA: 0s - loss: 0.2004 - rmse: 0.4335 - rmspe: 2.4462\n",
      "Epoch 00097: val_loss improved from 0.16288 to 0.16286, saving model to weights_rossmann.best.hdf5\n",
      "16888/16888 [==============================] - 21s 1ms/step - loss: 0.2003 - rmse: 0.4335 - rmspe: 2.4480 - val_loss: 0.1629 - val_rmse: 0.3902 - val_rmspe: 2.1831\n",
      "Epoch 98/100\n",
      "16887/16888 [============================>.] - ETA: 0s - loss: 0.2006 - rmse: 0.4337 - rmspe: 2.4099\n",
      "Epoch 00098: val_loss did not improve from 0.16286\n",
      "16888/16888 [==============================] - 23s 1ms/step - loss: 0.2006 - rmse: 0.4337 - rmspe: 2.4098 - val_loss: 0.1629 - val_rmse: 0.3902 - val_rmspe: 2.1834\n",
      "Epoch 99/100\n",
      "16863/16888 [============================>.] - ETA: 0s - loss: 0.2004 - rmse: 0.4338 - rmspe: 2.4530\n",
      "Epoch 00099: val_loss did not improve from 0.16286\n",
      "16888/16888 [==============================] - 23s 1ms/step - loss: 0.2005 - rmse: 0.4338 - rmspe: 2.4510 - val_loss: 0.1629 - val_rmse: 0.3902 - val_rmspe: 2.1846\n",
      "Epoch 100/100\n",
      "16861/16888 [============================>.] - ETA: 0s - loss: 0.2004 - rmse: 0.4338 - rmspe: 2.4180\n",
      "Epoch 00100: val_loss improved from 0.16286 to 0.16279, saving model to weights_rossmann.best.hdf5\n",
      "16888/16888 [==============================] - 20s 1ms/step - loss: 0.2004 - rmse: 0.4338 - rmspe: 2.4162 - val_loss: 0.1628 - val_rmse: 0.3901 - val_rmspe: 2.1847\n"
     ]
    }
   ],
   "source": [
    "print('Fit model...')\n",
    "filepath=\"weights_rossmann.best.hdf5\"\n",
    "checkpoint = ModelCheckpoint(filepath, monitor='val_loss', verbose=1, save_best_only=True, mode='min')\n",
    "early_stopping = EarlyStopping(monitor='val_loss', patience=5, verbose=1, mode='min')\n",
    "callbacks_list = [checkpoint, early_stopping]\n",
    "\n",
    "log = model.fit(X_train, y_train,\n",
    "          validation_split=0.20, batch_size=batch_size, epochs=nb_epoch, shuffle=True, callbacks=callbacks_list)"
   ]
  },
  {
   "cell_type": "code",
   "execution_count": 65,
   "metadata": {},
   "outputs": [],
   "source": [
    "from sklearn.metrics import mean_squared_error\n",
    "from math import sqrt\n",
    "\n",
    "def show_info(model, X, y, log, weights = None):\n",
    "    '''\n",
    "    Show metrics about the evaluation model and plots about loss, rmse and rmspe\n",
    "    '''\n",
    "    if (log != None):\n",
    "        # summarize history for loss\n",
    "        plt.figure(figsize=(14,10))\n",
    "        plt.plot(log.history['loss'])\n",
    "        plt.plot(log.history['val_loss'])\n",
    "        plt.title('Model Loss')\n",
    "        plt.ylabel('loss')\n",
    "        plt.xlabel('epoch')\n",
    "        plt.legend(['train', 'test'], loc='upper left')\n",
    "        plt.show()\n",
    "        print('\\n')\n",
    "        \n",
    "        # summarize history for rmse\n",
    "        plt.figure(figsize=(14,10))\n",
    "        plt.plot(log.history['rmse'])\n",
    "        plt.plot(log.history['val_rmse'])\n",
    "        plt.title('Model RMSE')\n",
    "        plt.ylabel('rmse')\n",
    "        plt.xlabel('epoch')\n",
    "        plt.legend(['train', 'test'], loc='upper left')\n",
    "        plt.show()\n",
    "        print('\\n')\n",
    "        \n",
    "        # summarize history for rmspe\n",
    "        plt.figure(figsize=(14,10))\n",
    "        plt.plot(log.history['rmspe'])\n",
    "        plt.plot(log.history['val_rmspe'])\n",
    "        plt.title('Model RMSPE')\n",
    "        plt.ylabel('rmspe')\n",
    "        plt.xlabel('epoch')\n",
    "        plt.legend(['train', 'test'], loc='upper left')\n",
    "        plt.show()\n",
    "\n",
    "    if (weights != None):\n",
    "        model.load_weights(weights)\n",
    "\n",
    "    predictions = model.predict(X, verbose=1)\n",
    "\n",
    "    mse = mean_squared_error(y, predictions)\n",
    "    rmse = sqrt(mse)\n",
    "    rmspe = rmspe_val(y, predictions)\n",
    "\n",
    "    print('MSE: %.3f' % mse)\n",
    "    print('RMSE: %.3f' % rmse)\n",
    "    print('RMSPE: %.3f' % rmspe)"
   ]
  },
  {
   "cell_type": "code",
   "execution_count": 66,
   "metadata": {},
   "outputs": [
    {
     "data": {
      "image/png": "[encoded data removed]",
      "text/plain": [
       "<Figure size 1008x720 with 1 Axes>"
      ]
     },
     "metadata": {
      "needs_background": "light"
     },
     "output_type": "display_data"
    },
    {
     "name": "stdout",
     "output_type": "stream",
     "text": [
      "\n",
      "\n"
     ]
    },
    {
     "data": {
      "image/png": "[encoded data removed]",
      "text/plain": [
       "<Figure size 1008x720 with 1 Axes>"
      ]
     },
     "metadata": {
      "needs_background": "light"
     },
     "output_type": "display_data"
    },
    {
     "name": "stdout",
     "output_type": "stream",
     "text": [
      "\n",
      "\n"
     ]
    },
    {
     "data": {
      "image/png": "[encoded data removed]",
      "text/plain": [
       "<Figure size 1008x720 with 1 Axes>"
      ]
     },
     "metadata": {
      "needs_background": "light"
     },
     "output_type": "display_data"
    },
    {
     "name": "stdout",
     "output_type": "stream",
     "text": [
      "5278/5278 [==============================] - 3s 486us/step\n",
      "MSE: 0.164\n",
      "RMSE: 0.404\n",
      "RMSPE: 35.731\n"
     ]
    }
   ],
   "source": [
    "show_info(model, X_test, y_test, log, weights='weights_rossmann.best.hdf5')"
   ]
  },
  {
   "cell_type": "code",
   "execution_count": 67,
   "metadata": {},
   "outputs": [],
   "source": [
    "test_data = load_test_data()\n",
    "predict = model.predict(test_data)\n",
    "predict = scaler_y.inverse_transform(predict)"
   ]
  },
  {
   "cell_type": "code",
   "execution_count": 68,
   "metadata": {},
   "outputs": [
    {
     "name": "stdout",
     "output_type": "stream",
     "text": [
      "(5984, 1)\n"
     ]
    }
   ],
   "source": [
    "pred=pd.DataFrame(predict,columns = ['Sales'])\n",
    "submission = pd.concat([test_store['Id'],pred],axis=1)\n",
    "# Creating closed stores dataframe\n",
    "Closed_Stores = pd.DataFrame(closed_ids,columns = ['Id'])\n",
    "print(Closed_Stores.shape)\n",
    "Closed_Stores['Sales'] = 0\n",
    "submission = submission.append(Closed_Stores)\n",
    "# Converting it to csv\n",
    "submission.to_csv('submission.csv', index=False)"
   ]
  },
  {
   "cell_type": "markdown",
   "metadata": {},
   "source": [
    "#### We submitted and got an error of 0.18"
   ]
  }
 ],
 "metadata": {
  "kernelspec": {
   "display_name": "Python 3",
   "language": "python",
   "name": "python3"
  },
  "language_info": {
   "codemirror_mode": {
    "name": "ipython",
    "version": 3
   },
   "file_extension": ".py",
   "mimetype": "text/x-python",
   "name": "python",
   "nbconvert_exporter": "python",
   "pygments_lexer": "ipython3",
   "version": "3.8.5"
  }
 },
 "nbformat": 4,
 "nbformat_minor": 4
}
