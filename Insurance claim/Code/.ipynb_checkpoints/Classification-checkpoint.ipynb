{
 "cells": [
  {
   "cell_type": "code",
   "execution_count": 1,
   "metadata": {},
   "outputs": [],
   "source": [
    "# Importing Libraries\n",
    "import numpy as np # linear algebra\n",
    "import pandas as pd # data processing, CSV file I/O\n",
    "import warnings # To ignore the warnings\n",
    "warnings.filterwarnings(\"ignore\")\n",
    "from sklearn.neighbors import KNeighborsClassifier\n",
    "from sklearn.tree import DecisionTreeClassifier\n",
    "from sklearn.ensemble import RandomForestClassifier\n",
    "from sklearn.svm import SVC\n",
    "import xgboost\n",
    "from sklearn.metrics import confusion_matrix\n",
    "from sklearn.model_selection import KFold\n",
    "from sklearn.model_selection import cross_val_score\n",
    "from sklearn.model_selection import cross_val_predict\n",
    "from sklearn.model_selection import GridSearchCV,RandomizedSearchCV\n",
    "from sklearn.preprocessing import MinMaxScaler\n",
    "import matplotlib.pyplot as plt\n",
    "import seaborn as sns\n",
    "from sklearn.metrics import confusion_matrix,accuracy_score,roc_curve, auc\n",
    "from sklearn.metrics import precision_score,recall_score,f1_score"
   ]
  },
  {
   "cell_type": "code",
   "execution_count": 2,
   "metadata": {},
   "outputs": [],
   "source": [
    "# reading the data\n",
    "train=pd.read_csv(\"CE802_P2_Data.csv\")\n",
    "test=pd.read_csv(\"CE802_P2_Test.csv\")"
   ]
  },
  {
   "cell_type": "code",
   "execution_count": 3,
   "metadata": {},
   "outputs": [
    {
     "data": {
      "text/html": [
       "<div>\n",
       "<style scoped>\n",
       "    .dataframe tbody tr th:only-of-type {\n",
       "        vertical-align: middle;\n",
       "    }\n",
       "\n",
       "    .dataframe tbody tr th {\n",
       "        vertical-align: top;\n",
       "    }\n",
       "\n",
       "    .dataframe thead th {\n",
       "        text-align: right;\n",
       "    }\n",
       "</style>\n",
       "<table border=\"1\" class=\"dataframe\">\n",
       "  <thead>\n",
       "    <tr style=\"text-align: right;\">\n",
       "      <th></th>\n",
       "      <th>F1</th>\n",
       "      <th>F2</th>\n",
       "      <th>F3</th>\n",
       "      <th>F4</th>\n",
       "      <th>F5</th>\n",
       "      <th>F6</th>\n",
       "      <th>F7</th>\n",
       "      <th>F8</th>\n",
       "      <th>F9</th>\n",
       "      <th>F10</th>\n",
       "      <th>F11</th>\n",
       "      <th>F12</th>\n",
       "      <th>F13</th>\n",
       "      <th>F14</th>\n",
       "      <th>F15</th>\n",
       "      <th>Class</th>\n",
       "    </tr>\n",
       "  </thead>\n",
       "  <tbody>\n",
       "    <tr>\n",
       "      <th>0</th>\n",
       "      <td>20</td>\n",
       "      <td>-21.42</td>\n",
       "      <td>13.1</td>\n",
       "      <td>464.04</td>\n",
       "      <td>-6.10</td>\n",
       "      <td>-4.50</td>\n",
       "      <td>-18.66</td>\n",
       "      <td>27.54</td>\n",
       "      <td>20.1</td>\n",
       "      <td>-7.08</td>\n",
       "      <td>-16.32</td>\n",
       "      <td>365</td>\n",
       "      <td>0.47</td>\n",
       "      <td>3.40</td>\n",
       "      <td>-3.90</td>\n",
       "      <td>False</td>\n",
       "    </tr>\n",
       "    <tr>\n",
       "      <th>1</th>\n",
       "      <td>20</td>\n",
       "      <td>-27.12</td>\n",
       "      <td>13.5</td>\n",
       "      <td>299.04</td>\n",
       "      <td>-6.18</td>\n",
       "      <td>-4.91</td>\n",
       "      <td>-18.66</td>\n",
       "      <td>27.44</td>\n",
       "      <td>18.2</td>\n",
       "      <td>-12.84</td>\n",
       "      <td>-11.07</td>\n",
       "      <td>205</td>\n",
       "      <td>-129.53</td>\n",
       "      <td>7.12</td>\n",
       "      <td>NaN</td>\n",
       "      <td>False</td>\n",
       "    </tr>\n",
       "    <tr>\n",
       "      <th>2</th>\n",
       "      <td>20</td>\n",
       "      <td>-33.87</td>\n",
       "      <td>10.5</td>\n",
       "      <td>854.04</td>\n",
       "      <td>-9.32</td>\n",
       "      <td>-7.16</td>\n",
       "      <td>-18.66</td>\n",
       "      <td>25.44</td>\n",
       "      <td>11.9</td>\n",
       "      <td>-5.46</td>\n",
       "      <td>-11.01</td>\n",
       "      <td>330</td>\n",
       "      <td>-44.53</td>\n",
       "      <td>4.62</td>\n",
       "      <td>-3.84</td>\n",
       "      <td>False</td>\n",
       "    </tr>\n",
       "    <tr>\n",
       "      <th>3</th>\n",
       "      <td>20</td>\n",
       "      <td>-25.38</td>\n",
       "      <td>19.4</td>\n",
       "      <td>809.04</td>\n",
       "      <td>-12.69</td>\n",
       "      <td>-4.95</td>\n",
       "      <td>-23.66</td>\n",
       "      <td>25.54</td>\n",
       "      <td>19.6</td>\n",
       "      <td>-11.31</td>\n",
       "      <td>-7.53</td>\n",
       "      <td>215</td>\n",
       "      <td>-54.53</td>\n",
       "      <td>2.26</td>\n",
       "      <td>NaN</td>\n",
       "      <td>False</td>\n",
       "    </tr>\n",
       "    <tr>\n",
       "      <th>4</th>\n",
       "      <td>20</td>\n",
       "      <td>-23.22</td>\n",
       "      <td>16.0</td>\n",
       "      <td>359.04</td>\n",
       "      <td>-7.70</td>\n",
       "      <td>-4.36</td>\n",
       "      <td>-8.66</td>\n",
       "      <td>26.64</td>\n",
       "      <td>25.8</td>\n",
       "      <td>-12.69</td>\n",
       "      <td>-10.20</td>\n",
       "      <td>85</td>\n",
       "      <td>-134.53</td>\n",
       "      <td>-0.20</td>\n",
       "      <td>-7.76</td>\n",
       "      <td>True</td>\n",
       "    </tr>\n",
       "  </tbody>\n",
       "</table>\n",
       "</div>"
      ],
      "text/plain": [
       "   F1     F2    F3      F4     F5    F6     F7     F8    F9    F10    F11  \\\n",
       "0  20 -21.42  13.1  464.04  -6.10 -4.50 -18.66  27.54  20.1  -7.08 -16.32   \n",
       "1  20 -27.12  13.5  299.04  -6.18 -4.91 -18.66  27.44  18.2 -12.84 -11.07   \n",
       "2  20 -33.87  10.5  854.04  -9.32 -7.16 -18.66  25.44  11.9  -5.46 -11.01   \n",
       "3  20 -25.38  19.4  809.04 -12.69 -4.95 -23.66  25.54  19.6 -11.31  -7.53   \n",
       "4  20 -23.22  16.0  359.04  -7.70 -4.36  -8.66  26.64  25.8 -12.69 -10.20   \n",
       "\n",
       "   F12     F13   F14   F15  Class  \n",
       "0  365    0.47  3.40 -3.90  False  \n",
       "1  205 -129.53  7.12   NaN  False  \n",
       "2  330  -44.53  4.62 -3.84  False  \n",
       "3  215  -54.53  2.26   NaN  False  \n",
       "4   85 -134.53 -0.20 -7.76   True  "
      ]
     },
     "execution_count": 3,
     "metadata": {},
     "output_type": "execute_result"
    }
   ],
   "source": [
    "train.head()"
   ]
  },
  {
   "cell_type": "markdown",
   "metadata": {},
   "source": [
    "### Data Preprocessing & Feature Engineering"
   ]
  },
  {
   "cell_type": "code",
   "execution_count": 4,
   "metadata": {},
   "outputs": [
    {
     "name": "stdout",
     "output_type": "stream",
     "text": [
      "<class 'pandas.core.frame.DataFrame'>\n",
      "RangeIndex: 1500 entries, 0 to 1499\n",
      "Data columns (total 16 columns):\n",
      " #   Column  Non-Null Count  Dtype  \n",
      "---  ------  --------------  -----  \n",
      " 0   F1      1500 non-null   int64  \n",
      " 1   F2      1500 non-null   float64\n",
      " 2   F3      1500 non-null   float64\n",
      " 3   F4      1500 non-null   float64\n",
      " 4   F5      1500 non-null   float64\n",
      " 5   F6      1500 non-null   float64\n",
      " 6   F7      1500 non-null   float64\n",
      " 7   F8      1500 non-null   float64\n",
      " 8   F9      1500 non-null   float64\n",
      " 9   F10     1500 non-null   float64\n",
      " 10  F11     1500 non-null   float64\n",
      " 11  F12     1500 non-null   int64  \n",
      " 12  F13     1500 non-null   float64\n",
      " 13  F14     1500 non-null   float64\n",
      " 14  F15     750 non-null    float64\n",
      " 15  Class   1500 non-null   bool   \n",
      "dtypes: bool(1), float64(13), int64(2)\n",
      "memory usage: 177.4 KB\n",
      "----------------------------------------------\n",
      "<class 'pandas.core.frame.DataFrame'>\n",
      "RangeIndex: 1500 entries, 0 to 1499\n",
      "Data columns (total 16 columns):\n",
      " #   Column  Non-Null Count  Dtype  \n",
      "---  ------  --------------  -----  \n",
      " 0   F1      1500 non-null   int64  \n",
      " 1   F2      1500 non-null   float64\n",
      " 2   F3      1500 non-null   float64\n",
      " 3   F4      1500 non-null   float64\n",
      " 4   F5      1500 non-null   float64\n",
      " 5   F6      1500 non-null   float64\n",
      " 6   F7      1500 non-null   float64\n",
      " 7   F8      1500 non-null   float64\n",
      " 8   F9      1500 non-null   float64\n",
      " 9   F10     1500 non-null   float64\n",
      " 10  F11     1500 non-null   float64\n",
      " 11  F12     1500 non-null   int64  \n",
      " 12  F13     1500 non-null   float64\n",
      " 13  F14     1500 non-null   float64\n",
      " 14  F15     750 non-null    float64\n",
      " 15  Class   0 non-null      float64\n",
      "dtypes: float64(14), int64(2)\n",
      "memory usage: 187.6 KB\n"
     ]
    }
   ],
   "source": [
    "# null values in F15 column in train data\n",
    "train.info() \n",
    "print(\"----------------------------------------------\")\n",
    "# null values in F15 column in test data\n",
    "test.info() "
   ]
  },
  {
   "cell_type": "code",
   "execution_count": 5,
   "metadata": {},
   "outputs": [
    {
     "data": {
      "text/html": [
       "<div>\n",
       "<style scoped>\n",
       "    .dataframe tbody tr th:only-of-type {\n",
       "        vertical-align: middle;\n",
       "    }\n",
       "\n",
       "    .dataframe tbody tr th {\n",
       "        vertical-align: top;\n",
       "    }\n",
       "\n",
       "    .dataframe thead th {\n",
       "        text-align: right;\n",
       "    }\n",
       "</style>\n",
       "<table border=\"1\" class=\"dataframe\">\n",
       "  <thead>\n",
       "    <tr style=\"text-align: right;\">\n",
       "      <th></th>\n",
       "      <th>F1</th>\n",
       "      <th>F2</th>\n",
       "      <th>F3</th>\n",
       "      <th>F4</th>\n",
       "      <th>F5</th>\n",
       "      <th>F6</th>\n",
       "      <th>F7</th>\n",
       "      <th>F8</th>\n",
       "      <th>F9</th>\n",
       "      <th>F10</th>\n",
       "      <th>F11</th>\n",
       "      <th>F12</th>\n",
       "      <th>F13</th>\n",
       "      <th>F14</th>\n",
       "      <th>F15</th>\n",
       "    </tr>\n",
       "  </thead>\n",
       "  <tbody>\n",
       "    <tr>\n",
       "      <th>count</th>\n",
       "      <td>1500.000000</td>\n",
       "      <td>1500.000000</td>\n",
       "      <td>1500.000000</td>\n",
       "      <td>1500.000000</td>\n",
       "      <td>1500.000000</td>\n",
       "      <td>1500.000000</td>\n",
       "      <td>1500.000000</td>\n",
       "      <td>1500.000000</td>\n",
       "      <td>1500.00000</td>\n",
       "      <td>1500.000000</td>\n",
       "      <td>1500.000000</td>\n",
       "      <td>1500.000000</td>\n",
       "      <td>1500.000000</td>\n",
       "      <td>1500.000000</td>\n",
       "      <td>750.000000</td>\n",
       "    </tr>\n",
       "    <tr>\n",
       "      <th>mean</th>\n",
       "      <td>10.806667</td>\n",
       "      <td>-31.029780</td>\n",
       "      <td>7.708560</td>\n",
       "      <td>387.376000</td>\n",
       "      <td>-9.067533</td>\n",
       "      <td>-7.674867</td>\n",
       "      <td>-11.298000</td>\n",
       "      <td>22.015627</td>\n",
       "      <td>9.93752</td>\n",
       "      <td>-4.958840</td>\n",
       "      <td>-12.037060</td>\n",
       "      <td>109.024667</td>\n",
       "      <td>-63.944000</td>\n",
       "      <td>4.917573</td>\n",
       "      <td>-5.843013</td>\n",
       "    </tr>\n",
       "    <tr>\n",
       "      <th>std</th>\n",
       "      <td>9.009814</td>\n",
       "      <td>7.662813</td>\n",
       "      <td>6.930553</td>\n",
       "      <td>214.250623</td>\n",
       "      <td>2.491236</td>\n",
       "      <td>2.545172</td>\n",
       "      <td>7.159315</td>\n",
       "      <td>6.333818</td>\n",
       "      <td>8.65042</td>\n",
       "      <td>7.541549</td>\n",
       "      <td>3.326893</td>\n",
       "      <td>117.334580</td>\n",
       "      <td>40.188448</td>\n",
       "      <td>5.081288</td>\n",
       "      <td>1.005117</td>\n",
       "    </tr>\n",
       "    <tr>\n",
       "      <th>min</th>\n",
       "      <td>0.000000</td>\n",
       "      <td>-56.220000</td>\n",
       "      <td>0.000000</td>\n",
       "      <td>149.040000</td>\n",
       "      <td>-16.800000</td>\n",
       "      <td>-16.040000</td>\n",
       "      <td>-28.660000</td>\n",
       "      <td>14.640000</td>\n",
       "      <td>0.00000</td>\n",
       "      <td>-18.390000</td>\n",
       "      <td>-24.750000</td>\n",
       "      <td>0.000000</td>\n",
       "      <td>-164.530000</td>\n",
       "      <td>-4.400000</td>\n",
       "      <td>-8.200000</td>\n",
       "    </tr>\n",
       "    <tr>\n",
       "      <th>25%</th>\n",
       "      <td>2.000000</td>\n",
       "      <td>-36.720000</td>\n",
       "      <td>1.200000</td>\n",
       "      <td>221.040000</td>\n",
       "      <td>-10.902500</td>\n",
       "      <td>-9.560000</td>\n",
       "      <td>-18.660000</td>\n",
       "      <td>16.080000</td>\n",
       "      <td>2.48000</td>\n",
       "      <td>-12.180000</td>\n",
       "      <td>-13.770000</td>\n",
       "      <td>15.000000</td>\n",
       "      <td>-79.530000</td>\n",
       "      <td>-0.040000</td>\n",
       "      <td>-6.590000</td>\n",
       "    </tr>\n",
       "    <tr>\n",
       "      <th>50%</th>\n",
       "      <td>2.000000</td>\n",
       "      <td>-34.020000</td>\n",
       "      <td>2.040000</td>\n",
       "      <td>281.040000</td>\n",
       "      <td>-10.020000</td>\n",
       "      <td>-8.665000</td>\n",
       "      <td>-7.660000</td>\n",
       "      <td>16.800000</td>\n",
       "      <td>4.14000</td>\n",
       "      <td>-2.010000</td>\n",
       "      <td>-11.580000</td>\n",
       "      <td>50.000000</td>\n",
       "      <td>-58.530000</td>\n",
       "      <td>6.880000</td>\n",
       "      <td>-5.850000</td>\n",
       "    </tr>\n",
       "    <tr>\n",
       "      <th>75%</th>\n",
       "      <td>20.000000</td>\n",
       "      <td>-23.542500</td>\n",
       "      <td>14.100000</td>\n",
       "      <td>569.040000</td>\n",
       "      <td>-6.690000</td>\n",
       "      <td>-5.220000</td>\n",
       "      <td>-5.660000</td>\n",
       "      <td>27.540000</td>\n",
       "      <td>16.40000</td>\n",
       "      <td>0.870000</td>\n",
       "      <td>-10.080000</td>\n",
       "      <td>195.000000</td>\n",
       "      <td>-45.530000</td>\n",
       "      <td>8.680000</td>\n",
       "      <td>-5.122500</td>\n",
       "    </tr>\n",
       "    <tr>\n",
       "      <th>max</th>\n",
       "      <td>20.000000</td>\n",
       "      <td>-17.610000</td>\n",
       "      <td>20.700000</td>\n",
       "      <td>884.040000</td>\n",
       "      <td>-4.560000</td>\n",
       "      <td>-3.110000</td>\n",
       "      <td>-2.660000</td>\n",
       "      <td>34.940000</td>\n",
       "      <td>31.40000</td>\n",
       "      <td>18.030000</td>\n",
       "      <td>-4.950000</td>\n",
       "      <td>390.000000</td>\n",
       "      <td>50.470000</td>\n",
       "      <td>22.980000</td>\n",
       "      <td>-3.120000</td>\n",
       "    </tr>\n",
       "  </tbody>\n",
       "</table>\n",
       "</div>"
      ],
      "text/plain": [
       "                F1           F2           F3           F4           F5  \\\n",
       "count  1500.000000  1500.000000  1500.000000  1500.000000  1500.000000   \n",
       "mean     10.806667   -31.029780     7.708560   387.376000    -9.067533   \n",
       "std       9.009814     7.662813     6.930553   214.250623     2.491236   \n",
       "min       0.000000   -56.220000     0.000000   149.040000   -16.800000   \n",
       "25%       2.000000   -36.720000     1.200000   221.040000   -10.902500   \n",
       "50%       2.000000   -34.020000     2.040000   281.040000   -10.020000   \n",
       "75%      20.000000   -23.542500    14.100000   569.040000    -6.690000   \n",
       "max      20.000000   -17.610000    20.700000   884.040000    -4.560000   \n",
       "\n",
       "                F6           F7           F8          F9          F10  \\\n",
       "count  1500.000000  1500.000000  1500.000000  1500.00000  1500.000000   \n",
       "mean     -7.674867   -11.298000    22.015627     9.93752    -4.958840   \n",
       "std       2.545172     7.159315     6.333818     8.65042     7.541549   \n",
       "min     -16.040000   -28.660000    14.640000     0.00000   -18.390000   \n",
       "25%      -9.560000   -18.660000    16.080000     2.48000   -12.180000   \n",
       "50%      -8.665000    -7.660000    16.800000     4.14000    -2.010000   \n",
       "75%      -5.220000    -5.660000    27.540000    16.40000     0.870000   \n",
       "max      -3.110000    -2.660000    34.940000    31.40000    18.030000   \n",
       "\n",
       "               F11          F12          F13          F14         F15  \n",
       "count  1500.000000  1500.000000  1500.000000  1500.000000  750.000000  \n",
       "mean    -12.037060   109.024667   -63.944000     4.917573   -5.843013  \n",
       "std       3.326893   117.334580    40.188448     5.081288    1.005117  \n",
       "min     -24.750000     0.000000  -164.530000    -4.400000   -8.200000  \n",
       "25%     -13.770000    15.000000   -79.530000    -0.040000   -6.590000  \n",
       "50%     -11.580000    50.000000   -58.530000     6.880000   -5.850000  \n",
       "75%     -10.080000   195.000000   -45.530000     8.680000   -5.122500  \n",
       "max      -4.950000   390.000000    50.470000    22.980000   -3.120000  "
      ]
     },
     "execution_count": 5,
     "metadata": {},
     "output_type": "execute_result"
    }
   ],
   "source": [
    "# To get an initial understanding of data\n",
    "train.describe()"
   ]
  },
  {
   "cell_type": "code",
   "execution_count": 6,
   "metadata": {},
   "outputs": [
    {
     "data": {
      "text/plain": [
       "Text(0.5, 1.0, 'Box Plot')"
      ]
     },
     "execution_count": 6,
     "metadata": {},
     "output_type": "execute_result"
    },
    {
     "data": {
      "image/png": "[encoded data removed]",
      "text/plain": [
       "<Figure size 432x288 with 1 Axes>"
      ]
     },
     "metadata": {
      "needs_background": "light"
     },
     "output_type": "display_data"
    }
   ],
   "source": [
    "# Checking for outliers\n",
    "train.boxplot(['F15'])\n",
    "plt.title('Box Plot')"
   ]
  },
  {
   "cell_type": "code",
   "execution_count": 7,
   "metadata": {},
   "outputs": [],
   "source": [
    "# If you see below graphs you can clearly see that there is a high correlation between F15 and Class. So, we cannot remove this feature.\n",
    "# Replacing null values with mean as there are no outliers, else replace with median\n",
    "train['F15']=train['F15'].fillna(train['F15'].mean())\n",
    "test['F15']=test['F15'].fillna(test['F15'].mean())"
   ]
  },
  {
   "cell_type": "code",
   "execution_count": 8,
   "metadata": {},
   "outputs": [
    {
     "data": {
      "text/plain": [
       "<AxesSubplot:>"
      ]
     },
     "execution_count": 8,
     "metadata": {},
     "output_type": "execute_result"
    },
    {
     "data": {
      "image/png": "[encoded data removed]",
      "text/plain": [
       "<Figure size 720x504 with 2 Axes>"
      ]
     },
     "metadata": {
      "needs_background": "light"
     },
     "output_type": "display_data"
    }
   ],
   "source": [
    "# Checking correlation b/w different variables\n",
    "plt.figure(figsize=(10,7))\n",
    "sns.heatmap(train.corr(),vmax=.7,cbar=True,annot=True)"
   ]
  },
  {
   "cell_type": "code",
   "execution_count": 9,
   "metadata": {},
   "outputs": [
    {
     "data": {
      "text/plain": [
       "Text(0.5, 1.0, 'Correlation Coefficients w.r.t Class')"
      ]
     },
     "execution_count": 9,
     "metadata": {},
     "output_type": "execute_result"
    },
    {
     "data": {
      "image/png": "[encoded data removed]",
      "text/plain": [
       "<Figure size 720x360 with 1 Axes>"
      ]
     },
     "metadata": {
      "needs_background": "light"
     },
     "output_type": "display_data"
    }
   ],
   "source": [
    "# Plotting correlations\n",
    "num_feat=train.columns[train.dtypes!=object]\n",
    "num_feat=num_feat[0:-1] \n",
    "labels = []\n",
    "values = []\n",
    "for col in num_feat:\n",
    "    labels.append(col)\n",
    "    values.append(np.corrcoef(train[col].values, train['Class'].values)[0,1])\n",
    "ind = np.arange(len(labels))\n",
    "width = 1\n",
    "fig, ax = plt.subplots(figsize=(10,5))\n",
    "rects = ax.barh(ind, np.array(values), color='red')\n",
    "ax.set_yticks(ind+((width)/2))\n",
    "ax.set_yticklabels(labels, rotation='horizontal')\n",
    "ax.set_xlabel(\"Correlation coefficient\")\n",
    "ax.set_title(\"Correlation Coefficients w.r.t Class\")"
   ]
  },
  {
   "cell_type": "markdown",
   "metadata": {},
   "source": [
    "If you see the above graph there's a high correlation between almost all the columns"
   ]
  },
  {
   "cell_type": "code",
   "execution_count": 10,
   "metadata": {},
   "outputs": [],
   "source": [
    "# seperating train output variable\n",
    "X_train = train.drop('Class',axis=1)\n",
    "Y_train = train['Class']\n",
    "# normalizing the train data\n",
    "scaler = MinMaxScaler()\n",
    "X_train_scaled = scaler.fit_transform(X_train.values)\n",
    "X_train = pd.DataFrame(X_train_scaled, columns = ['F1','F2','F3','F4','F5','F6','F7','F8','F9','F10','F11','F12','F13','F14','F15'])\n",
    "# seperating train output variable\n",
    "X_test = test.drop('Class',axis=1)\n",
    "Y_test= test['Class']\n",
    "# normalizing the test data\n",
    "X_test_scaled = scaler.fit_transform(X_test.values)\n",
    "# seperating test output variable\n",
    "X_test = pd.DataFrame(X_test_scaled, columns = ['F1','F2','F3','F4','F5','F6','F7','F8','F9','F10','F11','F12','F13','F14','F15'])"
   ]
  },
  {
   "cell_type": "code",
   "execution_count": 11,
   "metadata": {},
   "outputs": [
    {
     "data": {
      "text/plain": [
       "False    809\n",
       "True     691\n",
       "Name: Class, dtype: int64"
      ]
     },
     "execution_count": 11,
     "metadata": {},
     "output_type": "execute_result"
    }
   ],
   "source": [
    "# Checking if the data is unbalanced \n",
    "Y_train.value_counts()"
   ]
  },
  {
   "cell_type": "markdown",
   "metadata": {},
   "source": [
    "As you can see the data is not un-balanced"
   ]
  },
  {
   "cell_type": "markdown",
   "metadata": {},
   "source": [
    "### Model Building & Hyper-parameter Tuning"
   ]
  },
  {
   "cell_type": "markdown",
   "metadata": {},
   "source": [
    "#### Decision Tree"
   ]
  },
  {
   "cell_type": "code",
   "execution_count": 12,
   "metadata": {},
   "outputs": [
    {
     "name": "stdout",
     "output_type": "stream",
     "text": [
      "K-Fold scores : [0.82666667 0.77666667 0.82666667 0.79333333 0.81666667]\n",
      "Cross validation Accuracy: 80.8\n",
      "F1 score: 0.792\n",
      "precision score: 0.792\n",
      "recall score: 0.792\n",
      "ROC Area under Curve: 0.789\n"
     ]
    }
   ],
   "source": [
    "classifier1 = DecisionTreeClassifier()\n",
    "# Taking the Hyper parameters\n",
    "parameters = {'max_depth': range(10,30,1),'min_samples_split' : range(10,50,2),'min_samples_leaf' : range(10, 30,2)}\n",
    "# Applying Grid Search to find the best model and the best parameters\n",
    "grid_search1 = GridSearchCV(estimator = classifier1,\n",
    "                           param_grid = parameters,\n",
    "                           scoring = 'accuracy',\n",
    "                           cv = 5,\n",
    "                           n_jobs = -1)# n_jobs = -1, for all core processors to run\n",
    "# Cross Validation\n",
    "k_fold = KFold(n_splits=5, shuffle=True, random_state=0)\n",
    "# predicting output\n",
    "score = cross_val_score(grid_search1, X_train, Y_train, cv=k_fold, n_jobs=1,scoring = 'accuracy')\n",
    "# K-Fold scores\n",
    "print(\"K-Fold scores :\", score)\n",
    "# Accuracy\n",
    "print(\"Cross validation Accuracy:\",round(np.mean(score)*100, ndigits = 3))\n",
    "# predicting Y_train \n",
    "y_pred = cross_val_predict(grid_search1, X_train, Y_train, cv=5)\n",
    "# F1 score\n",
    "print(\"F1 score:\",round(f1_score(Y_train,y_pred,average='weighted'), ndigits = 3))\n",
    "# Precision\n",
    "print(\"precision score:\",round(precision_score(Y_train,y_pred,average='weighted'), ndigits = 3))\n",
    "# Recall\n",
    "print(\"recall score:\",round(recall_score(Y_train, y_pred,average='weighted'), ndigits = 3))\n",
    "# AUC\n",
    "tn, fp, fn, tp = confusion_matrix(Y_train, y_pred).ravel()\n",
    "fp, tp, thresold = roc_curve(Y_train, y_pred)\n",
    "AUC = auc(fp, tp)\n",
    "print(\"ROC Area under Curve:\",round(AUC, ndigits = 3))"
   ]
  },
  {
   "cell_type": "markdown",
   "metadata": {},
   "source": [
    "#### KNN "
   ]
  },
  {
   "cell_type": "code",
   "execution_count": 13,
   "metadata": {},
   "outputs": [],
   "source": [
    "# Choosing K value\n",
    "score1 = []\n",
    "for i in range(1,10):\n",
    "    knn = KNeighborsClassifier(n_neighbors=i)\n",
    "    score = cross_val_score(knn, X_train, Y_train, cv = k_fold)\n",
    "    score1.append(round(np.mean(score)*100, 2))"
   ]
  },
  {
   "cell_type": "code",
   "execution_count": 14,
   "metadata": {},
   "outputs": [
    {
     "data": {
      "text/plain": [
       "Text(0, 0.5, 'Score')"
      ]
     },
     "execution_count": 14,
     "metadata": {},
     "output_type": "execute_result"
    },
    {
     "data": {
      "image/png": "[encoded data removed]",
      "text/plain": [
       "<Figure size 1080x288 with 1 Axes>"
      ]
     },
     "metadata": {
      "needs_background": "light"
     },
     "output_type": "display_data"
    }
   ],
   "source": [
    "# Plotting Score vs K value \n",
    "plt.figure(figsize=(15,4))\n",
    "plt.plot(range(1,10),score1,color='blue', linestyle='dashed', marker='o',\n",
    "         markerfacecolor='red', markersize=10)\n",
    "plt.title('Score vs. K Value')\n",
    "plt.xlabel('K')\n",
    "plt.ylabel('Score')"
   ]
  },
  {
   "cell_type": "markdown",
   "metadata": {},
   "source": [
    "As you can see above when K is 5 the score is high"
   ]
  },
  {
   "cell_type": "code",
   "execution_count": 15,
   "metadata": {},
   "outputs": [
    {
     "name": "stdout",
     "output_type": "stream",
     "text": [
      "K-Fold scores : [0.79       0.75333333 0.79666667 0.75666667 0.75333333]\n",
      "Cross validation Accuracy: 77.0\n",
      "F1 score: 0.757\n",
      "precision score: 0.76\n",
      "recall score: 0.759\n",
      "ROC Area under Curve: 0.753\n"
     ]
    }
   ],
   "source": [
    "classifier2 = KNeighborsClassifier(n_neighbors = 5)\n",
    "# predicting output\n",
    "score = cross_val_score(classifier2, X_train, Y_train, cv=k_fold, n_jobs=1,scoring = 'accuracy')\n",
    "# K-Fold scores\n",
    "print(\"K-Fold scores :\", score)\n",
    "# Accuracy\n",
    "print(\"Cross validation Accuracy:\",round(np.mean(score)*100, ndigits = 3))\n",
    "# predicting Y_train \n",
    "y_pred = cross_val_predict(classifier2, X_train, Y_train, cv=5)\n",
    "# F1 score\n",
    "print(\"F1 score:\",round(f1_score(Y_train,y_pred,average='weighted'), ndigits = 3))\n",
    "# Precision\n",
    "print(\"precision score:\",round(precision_score(Y_train,y_pred,average='weighted'), ndigits = 3))\n",
    "# Recall\n",
    "print(\"recall score:\",round(recall_score(Y_train, y_pred,average='weighted'), ndigits = 3))\n",
    "# AUC\n",
    "tn, fp, fn, tp = confusion_matrix(Y_train, y_pred).ravel()\n",
    "fp, tp, thresold = roc_curve(Y_train, y_pred)\n",
    "AUC = auc(fp, tp)\n",
    "print(\"ROC Area under Curve:\",round(AUC, ndigits = 3))"
   ]
  },
  {
   "cell_type": "markdown",
   "metadata": {},
   "source": [
    "#### SVM"
   ]
  },
  {
   "cell_type": "code",
   "execution_count": 16,
   "metadata": {},
   "outputs": [
    {
     "name": "stdout",
     "output_type": "stream",
     "text": [
      "K-Fold scores : [0.9        0.91       0.91       0.91333333 0.88666667]\n",
      "Cross validation Accuracy: 90.4\n",
      "F1 score: 0.901\n",
      "precision score: 0.901\n",
      "recall score: 0.901\n",
      "ROC Area under Curve: 0.9\n"
     ]
    }
   ],
   "source": [
    "classifier3 = SVC()\n",
    "# Taking the Hyper parameters\n",
    "parameters = [{'C': [10, 100, 1000,1500], 'kernel': ['rbf'],'gamma': [0.1, 0.2, 0.3, 0.4, 0.5, 0.6, 0.7, 0.8, 0.9]}]\n",
    "# Applying Grid Search to find the best model and the best parameters\n",
    "grid_search2 = GridSearchCV(estimator = classifier3,\n",
    "                           param_grid = parameters,\n",
    "                           scoring = 'accuracy',\n",
    "                           cv = 5,\n",
    "                           n_jobs = -1)# n_jobs = -1, for all core processors to run\n",
    "# predicting output\n",
    "score = cross_val_score(grid_search2, X_train, Y_train, cv=k_fold, n_jobs=1,scoring = 'accuracy')\n",
    "# K-Fold scores\n",
    "print(\"K-Fold scores :\", score)\n",
    "# Accuracy\n",
    "print(\"Cross validation Accuracy:\",round(np.mean(score)*100, ndigits = 3))\n",
    "# predicting Y_train \n",
    "y_pred = cross_val_predict(grid_search2, X_train, Y_train, cv=5)\n",
    "# F1 score\n",
    "print(\"F1 score:\",round(f1_score(Y_train,y_pred,average='weighted'), ndigits = 3))\n",
    "# Precision\n",
    "print(\"precision score:\",round(precision_score(Y_train,y_pred,average='weighted'), ndigits = 3))\n",
    "# Recall\n",
    "print(\"recall score:\",round(recall_score(Y_train, y_pred,average='weighted'), ndigits = 3))\n",
    "# AUC\n",
    "tn, fp, fn, tp = confusion_matrix(Y_train, y_pred).ravel()\n",
    "fp, tp, thresold = roc_curve(Y_train, y_pred)\n",
    "AUC = auc(fp, tp)\n",
    "print(\"ROC Area under Curve:\",round(AUC, ndigits = 3))"
   ]
  },
  {
   "cell_type": "markdown",
   "metadata": {},
   "source": [
    "####  Random Forest"
   ]
  },
  {
   "cell_type": "code",
   "execution_count": 17,
   "metadata": {},
   "outputs": [
    {
     "name": "stdout",
     "output_type": "stream",
     "text": [
      "K-Fold scores : [0.87       0.85       0.89       0.84       0.85666667]\n",
      "Cross validation Accuracy: 86.133\n",
      "F1 score: 0.86\n",
      "precision score: 0.861\n",
      "recall score: 0.861\n",
      "ROC Area under Curve: 0.858\n"
     ]
    }
   ],
   "source": [
    "classifier4 = RandomForestClassifier()\n",
    "# Taking the Hyper parameters\n",
    "parameters = {#\"n_estimaters\": [int(x) for x in np.linspace(start = 10, stop = 80, num = 10)],\n",
    " \"max_depth\": [5, 10],\n",
    " \"max_features\": [3,5,10],\n",
    " \"min_samples_split\": [2, 5, 7],\n",
    " \"bootstrap\": [True, False],\n",
    " \"criterion\": [\"gini\", \"entropy\"]}\n",
    "# Applying Grid Search to find the best model and the best parameters\n",
    "grid_search3 = GridSearchCV(estimator = classifier4,\n",
    "                           param_grid = parameters,\n",
    "                           scoring = 'accuracy',\n",
    "                           cv = 5,\n",
    "                           n_jobs = -1)# n_jobs = -1, for all core processors to run\n",
    "# predicting output\n",
    "score = cross_val_score(grid_search3, X_train, Y_train, cv=k_fold, n_jobs=1,scoring = 'accuracy')\n",
    "# K-Fold scores\n",
    "print(\"K-Fold scores :\", score)\n",
    "# Accuracy\n",
    "print(\"Cross validation Accuracy:\",round(np.mean(score)*100, ndigits = 3))\n",
    "# predicting Y_train \n",
    "y_pred = cross_val_predict(grid_search3, X_train, Y_train, cv=5)\n",
    "# F1 score\n",
    "print(\"F1 score:\",round(f1_score(Y_train,y_pred,average='weighted'), ndigits = 3))\n",
    "# Precision\n",
    "print(\"precision score:\",round(precision_score(Y_train,y_pred,average='weighted'), ndigits = 3))\n",
    "# Recall\n",
    "print(\"recall score:\",round(recall_score(Y_train, y_pred,average='weighted'), ndigits = 3))\n",
    "# AUC\n",
    "tn, fp, fn, tp = confusion_matrix(Y_train, y_pred).ravel()\n",
    "fp, tp, thresold = roc_curve(Y_train, y_pred)\n",
    "AUC = auc(fp, tp)\n",
    "print(\"ROC Area under Curve:\",round(AUC, ndigits = 3))"
   ]
  },
  {
   "cell_type": "markdown",
   "metadata": {},
   "source": [
    "#### XGBoost "
   ]
  },
  {
   "cell_type": "code",
   "execution_count": 18,
   "metadata": {},
   "outputs": [
    {
     "name": "stdout",
     "output_type": "stream",
     "text": [
      "[23:04:36] WARNING: C:/Users/Administrator/workspace/xgboost-win64_release_1.3.0/src/learner.cc:1061: Starting in XGBoost 1.3.0, the default evaluation metric used with the objective 'binary:logistic' was changed from 'error' to 'logloss'. Explicitly set eval_metric if you'd like to restore the old behavior.\n",
      "[23:21:53] WARNING: C:/Users/Administrator/workspace/xgboost-win64_release_1.3.0/src/learner.cc:1061: Starting in XGBoost 1.3.0, the default evaluation metric used with the objective 'binary:logistic' was changed from 'error' to 'logloss'. Explicitly set eval_metric if you'd like to restore the old behavior.\n",
      "[23:40:54] WARNING: C:/Users/Administrator/workspace/xgboost-win64_release_1.3.0/src/learner.cc:1061: Starting in XGBoost 1.3.0, the default evaluation metric used with the objective 'binary:logistic' was changed from 'error' to 'logloss'. Explicitly set eval_metric if you'd like to restore the old behavior.\n",
      "[23:59:33] WARNING: C:/Users/Administrator/workspace/xgboost-win64_release_1.3.0/src/learner.cc:1061: Starting in XGBoost 1.3.0, the default evaluation metric used with the objective 'binary:logistic' was changed from 'error' to 'logloss'. Explicitly set eval_metric if you'd like to restore the old behavior.\n",
      "[00:17:43] WARNING: C:/Users/Administrator/workspace/xgboost-win64_release_1.3.0/src/learner.cc:1061: Starting in XGBoost 1.3.0, the default evaluation metric used with the objective 'binary:logistic' was changed from 'error' to 'logloss'. Explicitly set eval_metric if you'd like to restore the old behavior.\n",
      "K-Fold scores : [0.88       0.89       0.89666667 0.89       0.89666667]\n",
      "Cross validation Accuracy: 89.067\n",
      "[00:35:11] WARNING: C:/Users/Administrator/workspace/xgboost-win64_release_1.3.0/src/learner.cc:1061: Starting in XGBoost 1.3.0, the default evaluation metric used with the objective 'binary:logistic' was changed from 'error' to 'logloss'. Explicitly set eval_metric if you'd like to restore the old behavior.\n",
      "[00:52:01] WARNING: C:/Users/Administrator/workspace/xgboost-win64_release_1.3.0/src/learner.cc:1061: Starting in XGBoost 1.3.0, the default evaluation metric used with the objective 'binary:logistic' was changed from 'error' to 'logloss'. Explicitly set eval_metric if you'd like to restore the old behavior.\n",
      "[01:09:41] WARNING: C:/Users/Administrator/workspace/xgboost-win64_release_1.3.0/src/learner.cc:1061: Starting in XGBoost 1.3.0, the default evaluation metric used with the objective 'binary:logistic' was changed from 'error' to 'logloss'. Explicitly set eval_metric if you'd like to restore the old behavior.\n",
      "[01:24:29] WARNING: C:/Users/Administrator/workspace/xgboost-win64_release_1.3.0/src/learner.cc:1061: Starting in XGBoost 1.3.0, the default evaluation metric used with the objective 'binary:logistic' was changed from 'error' to 'logloss'. Explicitly set eval_metric if you'd like to restore the old behavior.\n",
      "[01:37:47] WARNING: C:/Users/Administrator/workspace/xgboost-win64_release_1.3.0/src/learner.cc:1061: Starting in XGBoost 1.3.0, the default evaluation metric used with the objective 'binary:logistic' was changed from 'error' to 'logloss'. Explicitly set eval_metric if you'd like to restore the old behavior.\n",
      "F1 score: 0.895\n",
      "precision score: 0.895\n",
      "recall score: 0.895\n",
      "ROC Area under Curve: 0.894\n"
     ]
    }
   ],
   "source": [
    "classifier5 = xgboost.XGBClassifier()\n",
    "\n",
    "# Taking the Hyper parameters\n",
    "n_estimators = [100, 500, 900, 1200, 1500]\n",
    "max_depth = list(range(3,12,4))\n",
    "# I am only taking tree booster, as most of the times it outperforms linear booster\n",
    "booster=['gbtree'] \n",
    "learning_rate=[0.01,0.05,0.1]\n",
    "min_child_weight=list(range(1,10,5))\n",
    "base_score=[0.25,0.5,0.75,1]\n",
    "\n",
    "parameters = {\n",
    "    'n_estimators': n_estimators,\n",
    "    'max_depth':max_depth,\n",
    "    'learning_rate':learning_rate,\n",
    "    'min_child_weight':min_child_weight,\n",
    "    'booster':booster,\n",
    "    'base_score':base_score\n",
    "    }\n",
    "# Applying Grid Search to find the best model and the best parameters\n",
    "grid_search4 = GridSearchCV(estimator = classifier5,\n",
    "                           param_grid = parameters,\n",
    "                           scoring = 'accuracy',\n",
    "                           cv = 5,\n",
    "                           n_jobs = -1) # n_jobs = -1, for all core processors to run\n",
    "# predicting output\n",
    "score = cross_val_score(grid_search4, X_train, Y_train, cv=k_fold, n_jobs=1,scoring = 'accuracy')\n",
    "# K-Fold scores\n",
    "print(\"K-Fold scores :\", score)\n",
    "# Accuracy\n",
    "print(\"Cross validation Accuracy:\",round(np.mean(score)*100, ndigits = 3))\n",
    "# predicting Y_train \n",
    "y_pred = cross_val_predict(grid_search4, X_train, Y_train, cv=5)\n",
    "# F1 score\n",
    "print(\"F1 score:\",round(f1_score(Y_train,y_pred,average='weighted'), ndigits = 3))\n",
    "# Precision\n",
    "print(\"precision score:\",round(precision_score(Y_train,y_pred,average='weighted'), ndigits = 3))\n",
    "# Recall\n",
    "print(\"recall score:\",round(recall_score(Y_train, y_pred,average='weighted'), ndigits = 3))\n",
    "# AUC\n",
    "tn, fp, fn, tp = confusion_matrix(Y_train, y_pred).ravel()\n",
    "fp, tp, thresold = roc_curve(Y_train, y_pred)\n",
    "AUC = auc(fp, tp)\n",
    "print(\"ROC Area under Curve:\",round(AUC, ndigits = 3))"
   ]
  },
  {
   "cell_type": "markdown",
   "metadata": {},
   "source": [
    "As you can see from above results SVM is performing better than any other classifiers."
   ]
  },
  {
   "cell_type": "markdown",
   "metadata": {},
   "source": [
    "### Output "
   ]
  },
  {
   "cell_type": "code",
   "execution_count": 18,
   "metadata": {},
   "outputs": [],
   "source": [
    "# Fitting the data with the best classifier\n",
    "Best_classifier = grid_search2.fit(X_train, Y_train)"
   ]
  },
  {
   "cell_type": "markdown",
   "metadata": {},
   "source": [
    "I am using 'Pickle' file for storing the model so that we do need to train the model again and again during Model Deployment. You can ignore this if you do not want to save the model."
   ]
  },
  {
   "cell_type": "code",
   "execution_count": 19,
   "metadata": {},
   "outputs": [],
   "source": [
    "# Dumping the model in pickle document so that we can don't need to train and fit the model repeatedly \n",
    "import pickle\n",
    "with open('Best_Model_P2.pkl', 'wb') as f:\n",
    "        pickle.dump(Best_classifier, f)"
   ]
  },
  {
   "cell_type": "code",
   "execution_count": 20,
   "metadata": {},
   "outputs": [],
   "source": [
    "# Loading the model and predicting the output\n",
    "with open('Best_Model_P2.pkl', 'rb') as f:\n",
    "    Best_Classifier = pickle.load(f)\n",
    "Y_test = Best_Classifier.predict(X_test)"
   ]
  },
  {
   "cell_type": "code",
   "execution_count": 21,
   "metadata": {},
   "outputs": [],
   "source": [
    "# Loading the test data\n",
    "test=pd.read_csv(\"CE802_P2_Test.csv\")\n",
    "X_test_Final = test.drop('Class',axis=1)"
   ]
  },
  {
   "cell_type": "code",
   "execution_count": 22,
   "metadata": {},
   "outputs": [
    {
     "data": {
      "text/html": [
       "<div>\n",
       "<style scoped>\n",
       "    .dataframe tbody tr th:only-of-type {\n",
       "        vertical-align: middle;\n",
       "    }\n",
       "\n",
       "    .dataframe tbody tr th {\n",
       "        vertical-align: top;\n",
       "    }\n",
       "\n",
       "    .dataframe thead th {\n",
       "        text-align: right;\n",
       "    }\n",
       "</style>\n",
       "<table border=\"1\" class=\"dataframe\">\n",
       "  <thead>\n",
       "    <tr style=\"text-align: right;\">\n",
       "      <th></th>\n",
       "      <th>F1</th>\n",
       "      <th>F2</th>\n",
       "      <th>F3</th>\n",
       "      <th>F4</th>\n",
       "      <th>F5</th>\n",
       "      <th>F6</th>\n",
       "      <th>F7</th>\n",
       "      <th>F8</th>\n",
       "      <th>F9</th>\n",
       "      <th>F10</th>\n",
       "      <th>F11</th>\n",
       "      <th>F12</th>\n",
       "      <th>F13</th>\n",
       "      <th>F14</th>\n",
       "      <th>F15</th>\n",
       "      <th>Class</th>\n",
       "    </tr>\n",
       "  </thead>\n",
       "  <tbody>\n",
       "    <tr>\n",
       "      <th>0</th>\n",
       "      <td>2</td>\n",
       "      <td>-38.31</td>\n",
       "      <td>1.62</td>\n",
       "      <td>248.04</td>\n",
       "      <td>-11.74</td>\n",
       "      <td>-9.25</td>\n",
       "      <td>-5.66</td>\n",
       "      <td>16.40</td>\n",
       "      <td>2.92</td>\n",
       "      <td>1.17</td>\n",
       "      <td>-13.14</td>\n",
       "      <td>2</td>\n",
       "      <td>-74.53</td>\n",
       "      <td>9.18</td>\n",
       "      <td>NaN</td>\n",
       "      <td>True</td>\n",
       "    </tr>\n",
       "    <tr>\n",
       "      <th>1</th>\n",
       "      <td>20</td>\n",
       "      <td>-24.03</td>\n",
       "      <td>11.40</td>\n",
       "      <td>629.04</td>\n",
       "      <td>-8.02</td>\n",
       "      <td>-5.35</td>\n",
       "      <td>-28.66</td>\n",
       "      <td>27.14</td>\n",
       "      <td>16.70</td>\n",
       "      <td>-10.56</td>\n",
       "      <td>-8.67</td>\n",
       "      <td>15</td>\n",
       "      <td>-14.53</td>\n",
       "      <td>2.06</td>\n",
       "      <td>NaN</td>\n",
       "      <td>False</td>\n",
       "    </tr>\n",
       "    <tr>\n",
       "      <th>2</th>\n",
       "      <td>2</td>\n",
       "      <td>-45.06</td>\n",
       "      <td>1.84</td>\n",
       "      <td>206.04</td>\n",
       "      <td>-11.73</td>\n",
       "      <td>-9.28</td>\n",
       "      <td>-7.66</td>\n",
       "      <td>15.94</td>\n",
       "      <td>1.70</td>\n",
       "      <td>-1.77</td>\n",
       "      <td>-20.37</td>\n",
       "      <td>3</td>\n",
       "      <td>-40.53</td>\n",
       "      <td>7.12</td>\n",
       "      <td>NaN</td>\n",
       "      <td>True</td>\n",
       "    </tr>\n",
       "    <tr>\n",
       "      <th>3</th>\n",
       "      <td>20</td>\n",
       "      <td>-22.35</td>\n",
       "      <td>18.30</td>\n",
       "      <td>539.04</td>\n",
       "      <td>-7.14</td>\n",
       "      <td>-4.15</td>\n",
       "      <td>-28.66</td>\n",
       "      <td>27.14</td>\n",
       "      <td>11.70</td>\n",
       "      <td>-14.97</td>\n",
       "      <td>-8.55</td>\n",
       "      <td>195</td>\n",
       "      <td>-29.53</td>\n",
       "      <td>1.46</td>\n",
       "      <td>-6.93</td>\n",
       "      <td>True</td>\n",
       "    </tr>\n",
       "    <tr>\n",
       "      <th>4</th>\n",
       "      <td>20</td>\n",
       "      <td>-22.47</td>\n",
       "      <td>10.70</td>\n",
       "      <td>749.04</td>\n",
       "      <td>-7.13</td>\n",
       "      <td>-4.60</td>\n",
       "      <td>-8.66</td>\n",
       "      <td>35.14</td>\n",
       "      <td>28.70</td>\n",
       "      <td>-12.33</td>\n",
       "      <td>-10.47</td>\n",
       "      <td>285</td>\n",
       "      <td>-74.53</td>\n",
       "      <td>-1.74</td>\n",
       "      <td>NaN</td>\n",
       "      <td>True</td>\n",
       "    </tr>\n",
       "    <tr>\n",
       "      <th>...</th>\n",
       "      <td>...</td>\n",
       "      <td>...</td>\n",
       "      <td>...</td>\n",
       "      <td>...</td>\n",
       "      <td>...</td>\n",
       "      <td>...</td>\n",
       "      <td>...</td>\n",
       "      <td>...</td>\n",
       "      <td>...</td>\n",
       "      <td>...</td>\n",
       "      <td>...</td>\n",
       "      <td>...</td>\n",
       "      <td>...</td>\n",
       "      <td>...</td>\n",
       "      <td>...</td>\n",
       "      <td>...</td>\n",
       "    </tr>\n",
       "    <tr>\n",
       "      <th>1495</th>\n",
       "      <td>20</td>\n",
       "      <td>-22.80</td>\n",
       "      <td>14.80</td>\n",
       "      <td>329.04</td>\n",
       "      <td>-5.88</td>\n",
       "      <td>-4.92</td>\n",
       "      <td>-18.66</td>\n",
       "      <td>25.34</td>\n",
       "      <td>13.70</td>\n",
       "      <td>-14.28</td>\n",
       "      <td>-10.98</td>\n",
       "      <td>195</td>\n",
       "      <td>-29.53</td>\n",
       "      <td>3.28</td>\n",
       "      <td>NaN</td>\n",
       "      <td>False</td>\n",
       "    </tr>\n",
       "    <tr>\n",
       "      <th>1496</th>\n",
       "      <td>2</td>\n",
       "      <td>-37.11</td>\n",
       "      <td>1.48</td>\n",
       "      <td>239.04</td>\n",
       "      <td>-14.27</td>\n",
       "      <td>-10.03</td>\n",
       "      <td>-3.66</td>\n",
       "      <td>16.34</td>\n",
       "      <td>3.02</td>\n",
       "      <td>-1.08</td>\n",
       "      <td>-11.28</td>\n",
       "      <td>20</td>\n",
       "      <td>-75.53</td>\n",
       "      <td>10.10</td>\n",
       "      <td>NaN</td>\n",
       "      <td>True</td>\n",
       "    </tr>\n",
       "    <tr>\n",
       "      <th>1497</th>\n",
       "      <td>2</td>\n",
       "      <td>-35.67</td>\n",
       "      <td>0.20</td>\n",
       "      <td>200.04</td>\n",
       "      <td>-10.59</td>\n",
       "      <td>-12.15</td>\n",
       "      <td>-7.66</td>\n",
       "      <td>16.42</td>\n",
       "      <td>1.92</td>\n",
       "      <td>-1.08</td>\n",
       "      <td>-9.57</td>\n",
       "      <td>20</td>\n",
       "      <td>-46.53</td>\n",
       "      <td>10.46</td>\n",
       "      <td>NaN</td>\n",
       "      <td>False</td>\n",
       "    </tr>\n",
       "    <tr>\n",
       "      <th>1498</th>\n",
       "      <td>2</td>\n",
       "      <td>-36.21</td>\n",
       "      <td>1.62</td>\n",
       "      <td>275.04</td>\n",
       "      <td>-11.82</td>\n",
       "      <td>-8.89</td>\n",
       "      <td>-5.66</td>\n",
       "      <td>16.64</td>\n",
       "      <td>1.82</td>\n",
       "      <td>0.36</td>\n",
       "      <td>-11.22</td>\n",
       "      <td>6</td>\n",
       "      <td>-60.53</td>\n",
       "      <td>9.24</td>\n",
       "      <td>NaN</td>\n",
       "      <td>True</td>\n",
       "    </tr>\n",
       "    <tr>\n",
       "      <th>1499</th>\n",
       "      <td>20</td>\n",
       "      <td>-19.83</td>\n",
       "      <td>17.10</td>\n",
       "      <td>659.04</td>\n",
       "      <td>-6.62</td>\n",
       "      <td>-5.59</td>\n",
       "      <td>-18.66</td>\n",
       "      <td>28.94</td>\n",
       "      <td>20.70</td>\n",
       "      <td>-13.05</td>\n",
       "      <td>-18.54</td>\n",
       "      <td>130</td>\n",
       "      <td>-114.53</td>\n",
       "      <td>-2.22</td>\n",
       "      <td>-6.12</td>\n",
       "      <td>True</td>\n",
       "    </tr>\n",
       "  </tbody>\n",
       "</table>\n",
       "<p>1500 rows × 16 columns</p>\n",
       "</div>"
      ],
      "text/plain": [
       "      F1     F2     F3      F4     F5     F6     F7     F8     F9    F10  \\\n",
       "0      2 -38.31   1.62  248.04 -11.74  -9.25  -5.66  16.40   2.92   1.17   \n",
       "1     20 -24.03  11.40  629.04  -8.02  -5.35 -28.66  27.14  16.70 -10.56   \n",
       "2      2 -45.06   1.84  206.04 -11.73  -9.28  -7.66  15.94   1.70  -1.77   \n",
       "3     20 -22.35  18.30  539.04  -7.14  -4.15 -28.66  27.14  11.70 -14.97   \n",
       "4     20 -22.47  10.70  749.04  -7.13  -4.60  -8.66  35.14  28.70 -12.33   \n",
       "...   ..    ...    ...     ...    ...    ...    ...    ...    ...    ...   \n",
       "1495  20 -22.80  14.80  329.04  -5.88  -4.92 -18.66  25.34  13.70 -14.28   \n",
       "1496   2 -37.11   1.48  239.04 -14.27 -10.03  -3.66  16.34   3.02  -1.08   \n",
       "1497   2 -35.67   0.20  200.04 -10.59 -12.15  -7.66  16.42   1.92  -1.08   \n",
       "1498   2 -36.21   1.62  275.04 -11.82  -8.89  -5.66  16.64   1.82   0.36   \n",
       "1499  20 -19.83  17.10  659.04  -6.62  -5.59 -18.66  28.94  20.70 -13.05   \n",
       "\n",
       "        F11  F12     F13    F14   F15  Class  \n",
       "0    -13.14    2  -74.53   9.18   NaN   True  \n",
       "1     -8.67   15  -14.53   2.06   NaN  False  \n",
       "2    -20.37    3  -40.53   7.12   NaN   True  \n",
       "3     -8.55  195  -29.53   1.46 -6.93   True  \n",
       "4    -10.47  285  -74.53  -1.74   NaN   True  \n",
       "...     ...  ...     ...    ...   ...    ...  \n",
       "1495 -10.98  195  -29.53   3.28   NaN  False  \n",
       "1496 -11.28   20  -75.53  10.10   NaN   True  \n",
       "1497  -9.57   20  -46.53  10.46   NaN  False  \n",
       "1498 -11.22    6  -60.53   9.24   NaN   True  \n",
       "1499 -18.54  130 -114.53  -2.22 -6.12   True  \n",
       "\n",
       "[1500 rows x 16 columns]"
      ]
     },
     "execution_count": 22,
     "metadata": {},
     "output_type": "execute_result"
    }
   ],
   "source": [
    "# Final output\n",
    "X_test_Final[\"Class\"] = pd.DataFrame({\"Class\": Y_test})\n",
    "X_test_Final.to_csv('CE802_Test_P2.csv', index=False)\n",
    "X_test_Final"
   ]
  },
  {
   "cell_type": "code",
   "execution_count": 23,
   "metadata": {},
   "outputs": [
    {
     "data": {
      "text/plain": [
       "False    1015\n",
       "True      485\n",
       "Name: Class, dtype: int64"
      ]
     },
     "execution_count": 23,
     "metadata": {},
     "output_type": "execute_result"
    }
   ],
   "source": [
    "X_test_Final[\"Class\"].value_counts()"
   ]
  }
 ],
 "metadata": {
  "kernelspec": {
   "display_name": "Python 3",
   "language": "python",
   "name": "python3"
  },
  "language_info": {
   "codemirror_mode": {
    "name": "ipython",
    "version": 3
   },
   "file_extension": ".py",
   "mimetype": "text/x-python",
   "name": "python",
   "nbconvert_exporter": "python",
   "pygments_lexer": "ipython3",
   "version": "3.8.5"
  }
 },
 "nbformat": 4,
 "nbformat_minor": 4
}
